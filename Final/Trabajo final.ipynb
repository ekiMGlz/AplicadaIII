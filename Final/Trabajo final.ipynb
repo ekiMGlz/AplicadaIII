{
 "cells": [
  {
   "cell_type": "code",
   "execution_count": 1,
   "metadata": {},
   "outputs": [],
   "source": [
    "import numpy as np\n",
    "import pandas as pd\n",
    "import matplotlib.pyplot as plt\n",
    "import seaborn as sns\n",
    "from sklearn import preprocessing\n",
    "import latexStrings as ls\n",
    "import mca\n",
    "\n",
    "from sklearn.model_selection import train_test_split\n",
    "from sklearn.linear_model import LogisticRegression\n",
    "from sklearn.metrics import confusion_matrix\n",
    "from sklearn.decomposition import PCA\n",
    "from sklearn.discriminant_analysis import LinearDiscriminantAnalysis\n",
    "from sklearn.metrics import classification_report, confusion_matrix, precision_recall_fscore_support\n",
    "import statsmodels.api as sm"
   ]
  },
  {
   "cell_type": "markdown",
   "metadata": {},
   "source": [
    "%matplotlib qt5"
   ]
  },
  {
   "cell_type": "code",
   "execution_count": 2,
   "metadata": {},
   "outputs": [
    {
     "data": {
      "text/plain": [
       "<matplotlib.axes._subplots.AxesSubplot at 0x1c12afa9e8>"
      ]
     },
     "execution_count": 2,
     "metadata": {},
     "output_type": "execute_result"
    },
    {
     "data": {
      "image/png": "[encoded data removed]",
      "text/plain": [
       "<Figure size 432x288 with 2 Axes>"
      ]
     },
     "metadata": {},
     "output_type": "display_data"
    }
   ],
   "source": [
    "data = pd.read_csv(\"data/heart.data\")\n",
    "sns.heatmap(data=data.isnull(),yticklabels=False)"
   ]
  },
  {
   "cell_type": "code",
   "execution_count": 3,
   "metadata": {},
   "outputs": [
    {
     "data": {
      "text/plain": [
       "age           0.000000\n",
       "sex           0.000000\n",
       "chest_pain    0.000000\n",
       "rest_bp       0.000000\n",
       "chol          0.000000\n",
       "fbs           0.000000\n",
       "rest_ecg      0.000000\n",
       "thalach       0.000000\n",
       "exang         0.000000\n",
       "oldpeak       0.000000\n",
       "slope         0.000000\n",
       "ca            1.320132\n",
       "thal          0.660066\n",
       "diagnosis     0.000000\n",
       "dtype: float64"
      ]
     },
     "execution_count": 3,
     "metadata": {},
     "output_type": "execute_result"
    }
   ],
   "source": [
    "data.isnull().sum()/len(data) * 100"
   ]
  },
  {
   "cell_type": "code",
   "execution_count": 4,
   "metadata": {},
   "outputs": [
    {
     "data": {
      "text/plain": [
       "<matplotlib.axes._subplots.AxesSubplot at 0x1c1b887c88>"
      ]
     },
     "execution_count": 4,
     "metadata": {},
     "output_type": "execute_result"
    },
    {
     "data": {
      "image/png": "[encoded data removed]",
      "text/plain": [
       "<Figure size 432x288 with 1 Axes>"
      ]
     },
     "metadata": {},
     "output_type": "display_data"
    }
   ],
   "source": [
    "sns.countplot(x = \"ca\", data = data)"
   ]
  },
  {
   "cell_type": "code",
   "execution_count": 5,
   "metadata": {},
   "outputs": [
    {
     "data": {
      "text/plain": [
       "<matplotlib.axes._subplots.AxesSubplot at 0x1c1b982550>"
      ]
     },
     "execution_count": 5,
     "metadata": {},
     "output_type": "execute_result"
    },
    {
     "data": {
      "image/png": "[encoded data removed]",
      "text/plain": [
       "<Figure size 432x288 with 1 Axes>"
      ]
     },
     "metadata": {},
     "output_type": "display_data"
    }
   ],
   "source": [
    "sns.countplot(x = \"thal\", data = data)"
   ]
  },
  {
   "cell_type": "code",
   "execution_count": 6,
   "metadata": {},
   "outputs": [],
   "source": [
    "data['ca'] = data['ca'].fillna(0.0)\n",
    "data['thal'] = data['thal'].fillna(3.0)"
   ]
  },
  {
   "cell_type": "code",
   "execution_count": 7,
   "metadata": {},
   "outputs": [],
   "source": [
    "data.rename(columns = {\"target\":\"diagnosis\", \"cp\": \"chest_pain\", \"trestbps\": \"rest_bp\",\n",
    "                      \"restecg\":\"rest_ecg\"}, inplace = True)"
   ]
  },
  {
   "cell_type": "code",
   "execution_count": 8,
   "metadata": {},
   "outputs": [
    {
     "data": {
      "text/html": [
       "<div>\n",
       "<style scoped>\n",
       "    .dataframe tbody tr th:only-of-type {\n",
       "        vertical-align: middle;\n",
       "    }\n",
       "\n",
       "    .dataframe tbody tr th {\n",
       "        vertical-align: top;\n",
       "    }\n",
       "\n",
       "    .dataframe thead th {\n",
       "        text-align: right;\n",
       "    }\n",
       "</style>\n",
       "<table border=\"1\" class=\"dataframe\">\n",
       "  <thead>\n",
       "    <tr style=\"text-align: right;\">\n",
       "      <th></th>\n",
       "      <th>age</th>\n",
       "      <th>sex</th>\n",
       "      <th>chest_pain</th>\n",
       "      <th>rest_bp</th>\n",
       "      <th>chol</th>\n",
       "      <th>fbs</th>\n",
       "      <th>rest_ecg</th>\n",
       "      <th>thalach</th>\n",
       "      <th>exang</th>\n",
       "      <th>oldpeak</th>\n",
       "      <th>slope</th>\n",
       "      <th>ca</th>\n",
       "      <th>thal</th>\n",
       "      <th>diagnosis</th>\n",
       "    </tr>\n",
       "  </thead>\n",
       "  <tbody>\n",
       "    <tr>\n",
       "      <th>0</th>\n",
       "      <td>63.0</td>\n",
       "      <td>1.0</td>\n",
       "      <td>1.0</td>\n",
       "      <td>145.0</td>\n",
       "      <td>233.0</td>\n",
       "      <td>1.0</td>\n",
       "      <td>2.0</td>\n",
       "      <td>150.0</td>\n",
       "      <td>0.0</td>\n",
       "      <td>2.3</td>\n",
       "      <td>3.0</td>\n",
       "      <td>0.0</td>\n",
       "      <td>6.0</td>\n",
       "      <td>0</td>\n",
       "    </tr>\n",
       "    <tr>\n",
       "      <th>1</th>\n",
       "      <td>67.0</td>\n",
       "      <td>1.0</td>\n",
       "      <td>4.0</td>\n",
       "      <td>160.0</td>\n",
       "      <td>286.0</td>\n",
       "      <td>0.0</td>\n",
       "      <td>2.0</td>\n",
       "      <td>108.0</td>\n",
       "      <td>1.0</td>\n",
       "      <td>1.5</td>\n",
       "      <td>2.0</td>\n",
       "      <td>3.0</td>\n",
       "      <td>3.0</td>\n",
       "      <td>2</td>\n",
       "    </tr>\n",
       "    <tr>\n",
       "      <th>2</th>\n",
       "      <td>67.0</td>\n",
       "      <td>1.0</td>\n",
       "      <td>4.0</td>\n",
       "      <td>120.0</td>\n",
       "      <td>229.0</td>\n",
       "      <td>0.0</td>\n",
       "      <td>2.0</td>\n",
       "      <td>129.0</td>\n",
       "      <td>1.0</td>\n",
       "      <td>2.6</td>\n",
       "      <td>2.0</td>\n",
       "      <td>2.0</td>\n",
       "      <td>7.0</td>\n",
       "      <td>1</td>\n",
       "    </tr>\n",
       "    <tr>\n",
       "      <th>3</th>\n",
       "      <td>37.0</td>\n",
       "      <td>1.0</td>\n",
       "      <td>3.0</td>\n",
       "      <td>130.0</td>\n",
       "      <td>250.0</td>\n",
       "      <td>0.0</td>\n",
       "      <td>0.0</td>\n",
       "      <td>187.0</td>\n",
       "      <td>0.0</td>\n",
       "      <td>3.5</td>\n",
       "      <td>3.0</td>\n",
       "      <td>0.0</td>\n",
       "      <td>3.0</td>\n",
       "      <td>0</td>\n",
       "    </tr>\n",
       "    <tr>\n",
       "      <th>4</th>\n",
       "      <td>41.0</td>\n",
       "      <td>0.0</td>\n",
       "      <td>2.0</td>\n",
       "      <td>130.0</td>\n",
       "      <td>204.0</td>\n",
       "      <td>0.0</td>\n",
       "      <td>2.0</td>\n",
       "      <td>172.0</td>\n",
       "      <td>0.0</td>\n",
       "      <td>1.4</td>\n",
       "      <td>1.0</td>\n",
       "      <td>0.0</td>\n",
       "      <td>3.0</td>\n",
       "      <td>0</td>\n",
       "    </tr>\n",
       "  </tbody>\n",
       "</table>\n",
       "</div>"
      ],
      "text/plain": [
       "    age  sex  chest_pain  rest_bp   chol  fbs  rest_ecg  thalach  exang  \\\n",
       "0  63.0  1.0         1.0    145.0  233.0  1.0       2.0    150.0    0.0   \n",
       "1  67.0  1.0         4.0    160.0  286.0  0.0       2.0    108.0    1.0   \n",
       "2  67.0  1.0         4.0    120.0  229.0  0.0       2.0    129.0    1.0   \n",
       "3  37.0  1.0         3.0    130.0  250.0  0.0       0.0    187.0    0.0   \n",
       "4  41.0  0.0         2.0    130.0  204.0  0.0       2.0    172.0    0.0   \n",
       "\n",
       "   oldpeak  slope   ca  thal  diagnosis  \n",
       "0      2.3    3.0  0.0   6.0          0  \n",
       "1      1.5    2.0  3.0   3.0          2  \n",
       "2      2.6    2.0  2.0   7.0          1  \n",
       "3      3.5    3.0  0.0   3.0          0  \n",
       "4      1.4    1.0  0.0   3.0          0  "
      ]
     },
     "execution_count": 8,
     "metadata": {},
     "output_type": "execute_result"
    }
   ],
   "source": [
    "data.head()"
   ]
  },
  {
   "cell_type": "code",
   "execution_count": 9,
   "metadata": {},
   "outputs": [
    {
     "name": "stdout",
     "output_type": "stream",
     "text": [
      "<class 'pandas.core.frame.DataFrame'>\n",
      "RangeIndex: 303 entries, 0 to 302\n",
      "Data columns (total 14 columns):\n",
      "age           303 non-null float64\n",
      "sex           303 non-null float64\n",
      "chest_pain    303 non-null float64\n",
      "rest_bp       303 non-null float64\n",
      "chol          303 non-null float64\n",
      "fbs           303 non-null float64\n",
      "rest_ecg      303 non-null float64\n",
      "thalach       303 non-null float64\n",
      "exang         303 non-null float64\n",
      "oldpeak       303 non-null float64\n",
      "slope         303 non-null float64\n",
      "ca            303 non-null float64\n",
      "thal          303 non-null float64\n",
      "diagnosis     303 non-null int64\n",
      "dtypes: float64(13), int64(1)\n",
      "memory usage: 33.2 KB\n"
     ]
    }
   ],
   "source": [
    "data.info()"
   ]
  },
  {
   "cell_type": "code",
   "execution_count": 10,
   "metadata": {},
   "outputs": [],
   "source": [
    "labels = {\n",
    "    \"sex\" :[\"female\", \"male\"],\n",
    "    \"cp\" :[\"typical angina\",\"atypical angina\",\"non-anginal pain\",\"asymptomatic\"]\n",
    "}"
   ]
  },
  {
   "cell_type": "code",
   "execution_count": 11,
   "metadata": {},
   "outputs": [],
   "source": [
    "# Diccionarios con los nombres de categorias\n",
    "sex_cat = {0 : \"female\", \n",
    "           1 : \"male\"}\n",
    "\n",
    "chest_pain_cat = {1 : \"typical angina\", \n",
    "                  2 : \"atypical angina\",\n",
    "                  3 : \"non-anginal pain\",\n",
    "                  4 : \"asymptomatic\"}\n",
    "\n",
    "# Fasting blood sugar\n",
    "fbs_cat = {0 : \"<= 120mg/dl\",\n",
    "       1 : \"> 120mg/dl\"}\n",
    "\n",
    "# Rersting ECG\n",
    "rest_ecg = {0 : \"normal\",\n",
    "            1 : \"ST-T wave abnormality\",\n",
    "            2 : \"probable left ventricular hypertrophy\"}\n",
    "\n",
    "# Excercise induced angina\n",
    "exang = {0 : \"no\",\n",
    "         1 : \"yes\"}\n",
    "\n",
    "# slope of peak excersice ST segment\n",
    "slope = {1 : \"upsloping\",\n",
    "         2 : \"flat\",\n",
    "         3 : \"downsloping\"}\n",
    "\n",
    "# https://www.medilexicon.com/dictionary/72223\n",
    "thal = {3 : \"normal\",\n",
    "        6 : \"fixed defect\",\n",
    "        7 : \"reversable defect\"}"
   ]
  },
  {
   "cell_type": "code",
   "execution_count": 12,
   "metadata": {},
   "outputs": [
    {
     "data": {
      "text/html": [
       "<div>\n",
       "<style scoped>\n",
       "    .dataframe tbody tr th:only-of-type {\n",
       "        vertical-align: middle;\n",
       "    }\n",
       "\n",
       "    .dataframe tbody tr th {\n",
       "        vertical-align: top;\n",
       "    }\n",
       "\n",
       "    .dataframe thead th {\n",
       "        text-align: right;\n",
       "    }\n",
       "</style>\n",
       "<table border=\"1\" class=\"dataframe\">\n",
       "  <thead>\n",
       "    <tr style=\"text-align: right;\">\n",
       "      <th></th>\n",
       "      <th>age</th>\n",
       "      <th>sex</th>\n",
       "      <th>chest_pain</th>\n",
       "      <th>rest_bp</th>\n",
       "      <th>chol</th>\n",
       "      <th>fbs</th>\n",
       "      <th>rest_ecg</th>\n",
       "      <th>thalach</th>\n",
       "      <th>exang</th>\n",
       "      <th>oldpeak</th>\n",
       "      <th>slope</th>\n",
       "      <th>ca</th>\n",
       "      <th>thal</th>\n",
       "      <th>diagnosis</th>\n",
       "    </tr>\n",
       "  </thead>\n",
       "  <tbody>\n",
       "    <tr>\n",
       "      <th>0</th>\n",
       "      <td>63.0</td>\n",
       "      <td>1.0</td>\n",
       "      <td>1.0</td>\n",
       "      <td>145.0</td>\n",
       "      <td>233.0</td>\n",
       "      <td>1.0</td>\n",
       "      <td>2.0</td>\n",
       "      <td>150.0</td>\n",
       "      <td>0.0</td>\n",
       "      <td>2.3</td>\n",
       "      <td>3.0</td>\n",
       "      <td>0.0</td>\n",
       "      <td>6.0</td>\n",
       "      <td>0</td>\n",
       "    </tr>\n",
       "    <tr>\n",
       "      <th>1</th>\n",
       "      <td>67.0</td>\n",
       "      <td>1.0</td>\n",
       "      <td>4.0</td>\n",
       "      <td>160.0</td>\n",
       "      <td>286.0</td>\n",
       "      <td>0.0</td>\n",
       "      <td>2.0</td>\n",
       "      <td>108.0</td>\n",
       "      <td>1.0</td>\n",
       "      <td>1.5</td>\n",
       "      <td>2.0</td>\n",
       "      <td>3.0</td>\n",
       "      <td>3.0</td>\n",
       "      <td>1</td>\n",
       "    </tr>\n",
       "    <tr>\n",
       "      <th>2</th>\n",
       "      <td>67.0</td>\n",
       "      <td>1.0</td>\n",
       "      <td>4.0</td>\n",
       "      <td>120.0</td>\n",
       "      <td>229.0</td>\n",
       "      <td>0.0</td>\n",
       "      <td>2.0</td>\n",
       "      <td>129.0</td>\n",
       "      <td>1.0</td>\n",
       "      <td>2.6</td>\n",
       "      <td>2.0</td>\n",
       "      <td>2.0</td>\n",
       "      <td>7.0</td>\n",
       "      <td>1</td>\n",
       "    </tr>\n",
       "    <tr>\n",
       "      <th>3</th>\n",
       "      <td>37.0</td>\n",
       "      <td>1.0</td>\n",
       "      <td>3.0</td>\n",
       "      <td>130.0</td>\n",
       "      <td>250.0</td>\n",
       "      <td>0.0</td>\n",
       "      <td>0.0</td>\n",
       "      <td>187.0</td>\n",
       "      <td>0.0</td>\n",
       "      <td>3.5</td>\n",
       "      <td>3.0</td>\n",
       "      <td>0.0</td>\n",
       "      <td>3.0</td>\n",
       "      <td>0</td>\n",
       "    </tr>\n",
       "    <tr>\n",
       "      <th>4</th>\n",
       "      <td>41.0</td>\n",
       "      <td>0.0</td>\n",
       "      <td>2.0</td>\n",
       "      <td>130.0</td>\n",
       "      <td>204.0</td>\n",
       "      <td>0.0</td>\n",
       "      <td>2.0</td>\n",
       "      <td>172.0</td>\n",
       "      <td>0.0</td>\n",
       "      <td>1.4</td>\n",
       "      <td>1.0</td>\n",
       "      <td>0.0</td>\n",
       "      <td>3.0</td>\n",
       "      <td>0</td>\n",
       "    </tr>\n",
       "  </tbody>\n",
       "</table>\n",
       "</div>"
      ],
      "text/plain": [
       "    age  sex  chest_pain  rest_bp   chol  fbs  rest_ecg  thalach  exang  \\\n",
       "0  63.0  1.0         1.0    145.0  233.0  1.0       2.0    150.0    0.0   \n",
       "1  67.0  1.0         4.0    160.0  286.0  0.0       2.0    108.0    1.0   \n",
       "2  67.0  1.0         4.0    120.0  229.0  0.0       2.0    129.0    1.0   \n",
       "3  37.0  1.0         3.0    130.0  250.0  0.0       0.0    187.0    0.0   \n",
       "4  41.0  0.0         2.0    130.0  204.0  0.0       2.0    172.0    0.0   \n",
       "\n",
       "   oldpeak  slope   ca  thal  diagnosis  \n",
       "0      2.3    3.0  0.0   6.0          0  \n",
       "1      1.5    2.0  3.0   3.0          1  \n",
       "2      2.6    2.0  2.0   7.0          1  \n",
       "3      3.5    3.0  0.0   3.0          0  \n",
       "4      1.4    1.0  0.0   3.0          0  "
      ]
     },
     "execution_count": 12,
     "metadata": {},
     "output_type": "execute_result"
    }
   ],
   "source": [
    "# Juntar los valores 1, 2, 3, 4 de diagnosis al nuevo valor 1 (para q diagnosis sea v o f)\n",
    "og_diagnosis = data[\"diagnosis\"].copy()\n",
    "data[\"diagnosis\"] = np.where(data[\"diagnosis\"] > 0, 1, 0)\n",
    "data.head()"
   ]
  },
  {
   "cell_type": "code",
   "execution_count": 13,
   "metadata": {},
   "outputs": [
    {
     "data": {
      "text/plain": [
       "<matplotlib.axes._subplots.AxesSubplot at 0x1c1bae69e8>"
      ]
     },
     "execution_count": 13,
     "metadata": {},
     "output_type": "execute_result"
    },
    {
     "data": {
      "image/png": "[encoded data removed]",
      "text/plain": [
       "<Figure size 432x288 with 1 Axes>"
      ]
     },
     "metadata": {},
     "output_type": "display_data"
    }
   ],
   "source": [
    "sns.countplot(x = 'diagnosis', data = data)"
   ]
  },
  {
   "cell_type": "code",
   "execution_count": 14,
   "metadata": {},
   "outputs": [
    {
     "data": {
      "text/html": [
       "<div>\n",
       "<style scoped>\n",
       "    .dataframe tbody tr th:only-of-type {\n",
       "        vertical-align: middle;\n",
       "    }\n",
       "\n",
       "    .dataframe tbody tr th {\n",
       "        vertical-align: top;\n",
       "    }\n",
       "\n",
       "    .dataframe thead th {\n",
       "        text-align: right;\n",
       "    }\n",
       "</style>\n",
       "<table border=\"1\" class=\"dataframe\">\n",
       "  <thead>\n",
       "    <tr style=\"text-align: right;\">\n",
       "      <th></th>\n",
       "      <th>count</th>\n",
       "      <th>mean</th>\n",
       "      <th>std</th>\n",
       "      <th>min</th>\n",
       "      <th>25%</th>\n",
       "      <th>50%</th>\n",
       "      <th>75%</th>\n",
       "      <th>max</th>\n",
       "    </tr>\n",
       "    <tr>\n",
       "      <th>diagnosis</th>\n",
       "      <th></th>\n",
       "      <th></th>\n",
       "      <th></th>\n",
       "      <th></th>\n",
       "      <th></th>\n",
       "      <th></th>\n",
       "      <th></th>\n",
       "      <th></th>\n",
       "    </tr>\n",
       "  </thead>\n",
       "  <tbody>\n",
       "    <tr>\n",
       "      <th>0</th>\n",
       "      <td>164.0</td>\n",
       "      <td>0.586585</td>\n",
       "      <td>0.781734</td>\n",
       "      <td>0.0</td>\n",
       "      <td>0.00</td>\n",
       "      <td>0.2</td>\n",
       "      <td>1.025</td>\n",
       "      <td>4.2</td>\n",
       "    </tr>\n",
       "    <tr>\n",
       "      <th>1</th>\n",
       "      <td>139.0</td>\n",
       "      <td>1.574101</td>\n",
       "      <td>1.302580</td>\n",
       "      <td>0.0</td>\n",
       "      <td>0.55</td>\n",
       "      <td>1.4</td>\n",
       "      <td>2.500</td>\n",
       "      <td>6.2</td>\n",
       "    </tr>\n",
       "  </tbody>\n",
       "</table>\n",
       "</div>"
      ],
      "text/plain": [
       "           count      mean       std  min   25%  50%    75%  max\n",
       "diagnosis                                                       \n",
       "0          164.0  0.586585  0.781734  0.0  0.00  0.2  1.025  4.2\n",
       "1          139.0  1.574101  1.302580  0.0  0.55  1.4  2.500  6.2"
      ]
     },
     "execution_count": 14,
     "metadata": {},
     "output_type": "execute_result"
    }
   ],
   "source": [
    "data.groupby('diagnosis').describe()['oldpeak']"
   ]
  },
  {
   "cell_type": "code",
   "execution_count": 15,
   "metadata": {},
   "outputs": [
    {
     "data": {
      "text/html": [
       "<div>\n",
       "<style scoped>\n",
       "    .dataframe tbody tr th:only-of-type {\n",
       "        vertical-align: middle;\n",
       "    }\n",
       "\n",
       "    .dataframe tbody tr th {\n",
       "        vertical-align: top;\n",
       "    }\n",
       "\n",
       "    .dataframe thead th {\n",
       "        text-align: right;\n",
       "    }\n",
       "</style>\n",
       "<table border=\"1\" class=\"dataframe\">\n",
       "  <thead>\n",
       "    <tr style=\"text-align: right;\">\n",
       "      <th></th>\n",
       "      <th>count</th>\n",
       "      <th>mean</th>\n",
       "      <th>std</th>\n",
       "      <th>min</th>\n",
       "      <th>25%</th>\n",
       "      <th>50%</th>\n",
       "      <th>75%</th>\n",
       "      <th>max</th>\n",
       "    </tr>\n",
       "    <tr>\n",
       "      <th>sex</th>\n",
       "      <th></th>\n",
       "      <th></th>\n",
       "      <th></th>\n",
       "      <th></th>\n",
       "      <th></th>\n",
       "      <th></th>\n",
       "      <th></th>\n",
       "      <th></th>\n",
       "    </tr>\n",
       "  </thead>\n",
       "  <tbody>\n",
       "    <tr>\n",
       "      <th>0.0</th>\n",
       "      <td>97.0</td>\n",
       "      <td>0.257732</td>\n",
       "      <td>0.439658</td>\n",
       "      <td>0.0</td>\n",
       "      <td>0.0</td>\n",
       "      <td>0.0</td>\n",
       "      <td>1.0</td>\n",
       "      <td>1.0</td>\n",
       "    </tr>\n",
       "    <tr>\n",
       "      <th>1.0</th>\n",
       "      <td>206.0</td>\n",
       "      <td>0.553398</td>\n",
       "      <td>0.498352</td>\n",
       "      <td>0.0</td>\n",
       "      <td>0.0</td>\n",
       "      <td>1.0</td>\n",
       "      <td>1.0</td>\n",
       "      <td>1.0</td>\n",
       "    </tr>\n",
       "  </tbody>\n",
       "</table>\n",
       "</div>"
      ],
      "text/plain": [
       "     count      mean       std  min  25%  50%  75%  max\n",
       "sex                                                    \n",
       "0.0   97.0  0.257732  0.439658  0.0  0.0  0.0  1.0  1.0\n",
       "1.0  206.0  0.553398  0.498352  0.0  0.0  1.0  1.0  1.0"
      ]
     },
     "execution_count": 15,
     "metadata": {},
     "output_type": "execute_result"
    }
   ],
   "source": [
    "data.groupby('sex').describe()['diagnosis']"
   ]
  },
  {
   "cell_type": "code",
   "execution_count": 16,
   "metadata": {},
   "outputs": [
    {
     "data": {
      "text/html": [
       "<div>\n",
       "<style scoped>\n",
       "    .dataframe tbody tr th:only-of-type {\n",
       "        vertical-align: middle;\n",
       "    }\n",
       "\n",
       "    .dataframe tbody tr th {\n",
       "        vertical-align: top;\n",
       "    }\n",
       "\n",
       "    .dataframe thead th {\n",
       "        text-align: right;\n",
       "    }\n",
       "</style>\n",
       "<table border=\"1\" class=\"dataframe\">\n",
       "  <thead>\n",
       "    <tr style=\"text-align: right;\">\n",
       "      <th></th>\n",
       "      <th>sex</th>\n",
       "      <th>chest_pain</th>\n",
       "      <th>fbs</th>\n",
       "      <th>rest_ecg</th>\n",
       "      <th>exang</th>\n",
       "      <th>slope</th>\n",
       "      <th>ca</th>\n",
       "      <th>thal</th>\n",
       "    </tr>\n",
       "  </thead>\n",
       "  <tbody>\n",
       "    <tr>\n",
       "      <th>0</th>\n",
       "      <td>1.0</td>\n",
       "      <td>1.0</td>\n",
       "      <td>1.0</td>\n",
       "      <td>2.0</td>\n",
       "      <td>0.0</td>\n",
       "      <td>3.0</td>\n",
       "      <td>0.0</td>\n",
       "      <td>6.0</td>\n",
       "    </tr>\n",
       "    <tr>\n",
       "      <th>1</th>\n",
       "      <td>1.0</td>\n",
       "      <td>4.0</td>\n",
       "      <td>0.0</td>\n",
       "      <td>2.0</td>\n",
       "      <td>1.0</td>\n",
       "      <td>2.0</td>\n",
       "      <td>3.0</td>\n",
       "      <td>3.0</td>\n",
       "    </tr>\n",
       "    <tr>\n",
       "      <th>2</th>\n",
       "      <td>1.0</td>\n",
       "      <td>4.0</td>\n",
       "      <td>0.0</td>\n",
       "      <td>2.0</td>\n",
       "      <td>1.0</td>\n",
       "      <td>2.0</td>\n",
       "      <td>2.0</td>\n",
       "      <td>7.0</td>\n",
       "    </tr>\n",
       "    <tr>\n",
       "      <th>3</th>\n",
       "      <td>1.0</td>\n",
       "      <td>3.0</td>\n",
       "      <td>0.0</td>\n",
       "      <td>0.0</td>\n",
       "      <td>0.0</td>\n",
       "      <td>3.0</td>\n",
       "      <td>0.0</td>\n",
       "      <td>3.0</td>\n",
       "    </tr>\n",
       "    <tr>\n",
       "      <th>4</th>\n",
       "      <td>0.0</td>\n",
       "      <td>2.0</td>\n",
       "      <td>0.0</td>\n",
       "      <td>2.0</td>\n",
       "      <td>0.0</td>\n",
       "      <td>1.0</td>\n",
       "      <td>0.0</td>\n",
       "      <td>3.0</td>\n",
       "    </tr>\n",
       "  </tbody>\n",
       "</table>\n",
       "</div>"
      ],
      "text/plain": [
       "   sex  chest_pain  fbs  rest_ecg  exang  slope   ca  thal\n",
       "0  1.0         1.0  1.0       2.0    0.0    3.0  0.0   6.0\n",
       "1  1.0         4.0  0.0       2.0    1.0    2.0  3.0   3.0\n",
       "2  1.0         4.0  0.0       2.0    1.0    2.0  2.0   7.0\n",
       "3  1.0         3.0  0.0       0.0    0.0    3.0  0.0   3.0\n",
       "4  0.0         2.0  0.0       2.0    0.0    1.0  0.0   3.0"
      ]
     },
     "execution_count": 16,
     "metadata": {},
     "output_type": "execute_result"
    }
   ],
   "source": [
    "# Indices de vars categoricas y vars de razon\n",
    "# ca (11) es categorica? numero de vessels iluminados en fluroscopia\n",
    "cat_index = [1, 2, 5, 6, 8, 10, 11, 12]\n",
    "num_index = [0, 3, 4, 7, 9]\n",
    "data.iloc[:, cat_index].head()"
   ]
  },
  {
   "cell_type": "code",
   "execution_count": 17,
   "metadata": {},
   "outputs": [
    {
     "data": {
      "text/html": [
       "<div>\n",
       "<style scoped>\n",
       "    .dataframe tbody tr th:only-of-type {\n",
       "        vertical-align: middle;\n",
       "    }\n",
       "\n",
       "    .dataframe tbody tr th {\n",
       "        vertical-align: top;\n",
       "    }\n",
       "\n",
       "    .dataframe thead th {\n",
       "        text-align: right;\n",
       "    }\n",
       "</style>\n",
       "<table border=\"1\" class=\"dataframe\">\n",
       "  <thead>\n",
       "    <tr style=\"text-align: right;\">\n",
       "      <th></th>\n",
       "      <th>age</th>\n",
       "      <th>rest_bp</th>\n",
       "      <th>chol</th>\n",
       "      <th>thalach</th>\n",
       "      <th>oldpeak</th>\n",
       "    </tr>\n",
       "  </thead>\n",
       "  <tbody>\n",
       "    <tr>\n",
       "      <th>0</th>\n",
       "      <td>63.0</td>\n",
       "      <td>145.0</td>\n",
       "      <td>233.0</td>\n",
       "      <td>150.0</td>\n",
       "      <td>2.3</td>\n",
       "    </tr>\n",
       "    <tr>\n",
       "      <th>1</th>\n",
       "      <td>67.0</td>\n",
       "      <td>160.0</td>\n",
       "      <td>286.0</td>\n",
       "      <td>108.0</td>\n",
       "      <td>1.5</td>\n",
       "    </tr>\n",
       "    <tr>\n",
       "      <th>2</th>\n",
       "      <td>67.0</td>\n",
       "      <td>120.0</td>\n",
       "      <td>229.0</td>\n",
       "      <td>129.0</td>\n",
       "      <td>2.6</td>\n",
       "    </tr>\n",
       "    <tr>\n",
       "      <th>3</th>\n",
       "      <td>37.0</td>\n",
       "      <td>130.0</td>\n",
       "      <td>250.0</td>\n",
       "      <td>187.0</td>\n",
       "      <td>3.5</td>\n",
       "    </tr>\n",
       "    <tr>\n",
       "      <th>4</th>\n",
       "      <td>41.0</td>\n",
       "      <td>130.0</td>\n",
       "      <td>204.0</td>\n",
       "      <td>172.0</td>\n",
       "      <td>1.4</td>\n",
       "    </tr>\n",
       "  </tbody>\n",
       "</table>\n",
       "</div>"
      ],
      "text/plain": [
       "    age  rest_bp   chol  thalach  oldpeak\n",
       "0  63.0    145.0  233.0    150.0      2.3\n",
       "1  67.0    160.0  286.0    108.0      1.5\n",
       "2  67.0    120.0  229.0    129.0      2.6\n",
       "3  37.0    130.0  250.0    187.0      3.5\n",
       "4  41.0    130.0  204.0    172.0      1.4"
      ]
     },
     "execution_count": 17,
     "metadata": {},
     "output_type": "execute_result"
    }
   ],
   "source": [
    "data.iloc[:, num_index].head()"
   ]
  },
  {
   "cell_type": "code",
   "execution_count": 18,
   "metadata": {},
   "outputs": [
    {
     "data": {
      "text/plain": [
       "<matplotlib.axes._subplots.AxesSubplot at 0x1c1bbcde10>"
      ]
     },
     "execution_count": 18,
     "metadata": {},
     "output_type": "execute_result"
    },
    {
     "data": {
      "image/png": "[encoded data removed]",
      "text/plain": [
       "<Figure size 432x288 with 1 Axes>"
      ]
     },
     "metadata": {},
     "output_type": "display_data"
    }
   ],
   "source": [
    "sns.boxplot(x = 'rest_bp', data = data)"
   ]
  },
  {
   "cell_type": "code",
   "execution_count": 19,
   "metadata": {},
   "outputs": [
    {
     "data": {
      "text/plain": [
       "<matplotlib.axes._subplots.AxesSubplot at 0x1c1ba46ef0>"
      ]
     },
     "execution_count": 19,
     "metadata": {},
     "output_type": "execute_result"
    },
    {
     "data": {
      "image/png": "[encoded data removed]",
      "text/plain": [
       "<Figure size 432x288 with 1 Axes>"
      ]
     },
     "metadata": {},
     "output_type": "display_data"
    }
   ],
   "source": [
    "sns.boxplot(x = 'chol', data = data)"
   ]
  },
  {
   "cell_type": "code",
   "execution_count": 20,
   "metadata": {},
   "outputs": [
    {
     "data": {
      "text/plain": [
       "564.0"
      ]
     },
     "execution_count": 20,
     "metadata": {},
     "output_type": "execute_result"
    }
   ],
   "source": [
    "max(data['chol'])"
   ]
  },
  {
   "cell_type": "code",
   "execution_count": 21,
   "metadata": {},
   "outputs": [
    {
     "data": {
      "text/plain": [
       "<matplotlib.axes._subplots.AxesSubplot at 0x1c1bcc1e10>"
      ]
     },
     "execution_count": 21,
     "metadata": {},
     "output_type": "execute_result"
    },
    {
     "data": {
      "image/png": "[encoded data removed]",
      "text/plain": [
       "<Figure size 432x288 with 1 Axes>"
      ]
     },
     "metadata": {},
     "output_type": "display_data"
    }
   ],
   "source": [
    "sns.boxplot(x = 'thalach', data = data)"
   ]
  },
  {
   "cell_type": "code",
   "execution_count": 22,
   "metadata": {},
   "outputs": [
    {
     "data": {
      "text/plain": [
       "<matplotlib.axes._subplots.AxesSubplot at 0x1c1bd7af60>"
      ]
     },
     "execution_count": 22,
     "metadata": {},
     "output_type": "execute_result"
    },
    {
     "data": {
      "image/png": "[encoded data removed]",
      "text/plain": [
       "<Figure size 432x288 with 1 Axes>"
      ]
     },
     "metadata": {},
     "output_type": "display_data"
    }
   ],
   "source": [
    "sns.boxplot(x = 'oldpeak', data = data)"
   ]
  },
  {
   "cell_type": "code",
   "execution_count": 23,
   "metadata": {},
   "outputs": [
    {
     "data": {
      "text/plain": [
       "6.2"
      ]
     },
     "execution_count": 23,
     "metadata": {},
     "output_type": "execute_result"
    }
   ],
   "source": [
    "max(data['oldpeak'])"
   ]
  },
  {
   "cell_type": "code",
   "execution_count": 24,
   "metadata": {},
   "outputs": [
    {
     "data": {
      "image/png": "[encoded data removed]",
      "text/plain": [
       "<Figure size 432x288 with 1 Axes>"
      ]
     },
     "metadata": {},
     "output_type": "display_data"
    }
   ],
   "source": [
    "ax = data[\"age\"].hist(alpha=0.8)\n",
    "ax.set(xlabel='Age', ylabel='Count')\n",
    "plt.show()"
   ]
  },
  {
   "cell_type": "code",
   "execution_count": 25,
   "metadata": {},
   "outputs": [],
   "source": [
    "X_num = data.iloc[:, num_index]\n",
    "X_num_std = X_num.copy()"
   ]
  },
  {
   "cell_type": "code",
   "execution_count": 26,
   "metadata": {},
   "outputs": [],
   "source": [
    "std = preprocessing.scale(X_num.iloc[:,1:])\n",
    "X_num_std.iloc[:,1:] = std"
   ]
  },
  {
   "cell_type": "code",
   "execution_count": 27,
   "metadata": {},
   "outputs": [
    {
     "data": {
      "text/html": [
       "<div>\n",
       "<style scoped>\n",
       "    .dataframe tbody tr th:only-of-type {\n",
       "        vertical-align: middle;\n",
       "    }\n",
       "\n",
       "    .dataframe tbody tr th {\n",
       "        vertical-align: top;\n",
       "    }\n",
       "\n",
       "    .dataframe thead th {\n",
       "        text-align: right;\n",
       "    }\n",
       "</style>\n",
       "<table border=\"1\" class=\"dataframe\">\n",
       "  <thead>\n",
       "    <tr style=\"text-align: right;\">\n",
       "      <th></th>\n",
       "      <th>age</th>\n",
       "      <th>rest_bp</th>\n",
       "      <th>chol</th>\n",
       "      <th>thalach</th>\n",
       "      <th>oldpeak</th>\n",
       "    </tr>\n",
       "  </thead>\n",
       "  <tbody>\n",
       "    <tr>\n",
       "      <th>0</th>\n",
       "      <td>63.0</td>\n",
       "      <td>0.757525</td>\n",
       "      <td>-0.264900</td>\n",
       "      <td>0.017197</td>\n",
       "      <td>1.087338</td>\n",
       "    </tr>\n",
       "    <tr>\n",
       "      <th>1</th>\n",
       "      <td>67.0</td>\n",
       "      <td>1.611220</td>\n",
       "      <td>0.760415</td>\n",
       "      <td>-1.821905</td>\n",
       "      <td>0.397182</td>\n",
       "    </tr>\n",
       "    <tr>\n",
       "      <th>2</th>\n",
       "      <td>67.0</td>\n",
       "      <td>-0.665300</td>\n",
       "      <td>-0.342283</td>\n",
       "      <td>-0.902354</td>\n",
       "      <td>1.346147</td>\n",
       "    </tr>\n",
       "    <tr>\n",
       "      <th>3</th>\n",
       "      <td>37.0</td>\n",
       "      <td>-0.096170</td>\n",
       "      <td>0.063974</td>\n",
       "      <td>1.637359</td>\n",
       "      <td>2.122573</td>\n",
       "    </tr>\n",
       "    <tr>\n",
       "      <th>4</th>\n",
       "      <td>41.0</td>\n",
       "      <td>-0.096170</td>\n",
       "      <td>-0.825922</td>\n",
       "      <td>0.980537</td>\n",
       "      <td>0.310912</td>\n",
       "    </tr>\n",
       "  </tbody>\n",
       "</table>\n",
       "</div>"
      ],
      "text/plain": [
       "    age   rest_bp      chol   thalach   oldpeak\n",
       "0  63.0  0.757525 -0.264900  0.017197  1.087338\n",
       "1  67.0  1.611220  0.760415 -1.821905  0.397182\n",
       "2  67.0 -0.665300 -0.342283 -0.902354  1.346147\n",
       "3  37.0 -0.096170  0.063974  1.637359  2.122573\n",
       "4  41.0 -0.096170 -0.825922  0.980537  0.310912"
      ]
     },
     "execution_count": 27,
     "metadata": {},
     "output_type": "execute_result"
    }
   ],
   "source": [
    "X_num_std.head()"
   ]
  },
  {
   "cell_type": "code",
   "execution_count": 28,
   "metadata": {},
   "outputs": [],
   "source": [
    "processed_data = X_num_std.join(data.iloc[:, cat_index])"
   ]
  },
  {
   "cell_type": "markdown",
   "metadata": {},
   "source": [
    "### Analisis Exploratorio"
   ]
  },
  {
   "cell_type": "markdown",
   "metadata": {},
   "source": [
    "### Tablas de contingencia con pvals de relacion"
   ]
  },
  {
   "cell_type": "code",
   "execution_count": 29,
   "metadata": {
    "scrolled": true
   },
   "outputs": [
    {
     "name": "stdout",
     "output_type": "stream",
     "text": [
      "Var = sex\n",
      "Matriz de Contingencia: \n",
      "\\begin{blockarray}{ccc}\n",
      " & 0 & 1\\\\\n",
      "\\begin{block}{c(cc)}\n",
      "0 & 72 & 92 \\\\ \n",
      "1 & 25 & 114 \\\\ \n",
      "\\end{block}\n",
      "\\end{blockarray}\n",
      "p-val: 1.4463238972028947e-06\n",
      "\n",
      "Var = chest_pain\n",
      "Matriz de Contingencia: \n",
      "\\begin{blockarray}{ccccc}\n",
      " & 1 & 2 & 3 & 4\\\\\n",
      "\\begin{block}{c(cccc)}\n",
      "0 & 16 & 41 & 68 & 39 \\\\ \n",
      "1 & 7 & 9 & 18 & 105 \\\\ \n",
      "\\end{block}\n",
      "\\end{blockarray}\n",
      "p-val: 0.0\n",
      "\n",
      "Var = fbs\n",
      "Matriz de Contingencia: \n",
      "\\begin{blockarray}{ccc}\n",
      " & 0 & 1\\\\\n",
      "\\begin{block}{c(cc)}\n",
      "0 & 141 & 23 \\\\ \n",
      "1 & 117 & 22 \\\\ \n",
      "\\end{block}\n",
      "\\end{blockarray}\n",
      "p-val: 0.6601094903412961\n",
      "\n",
      "Var = rest_ecg\n",
      "Matriz de Contingencia: \n",
      "\\begin{blockarray}{cccc}\n",
      " & 0 & 1 & 2\\\\\n",
      "\\begin{block}{c(ccc)}\n",
      "0 & 95 & 1 & 68 \\\\ \n",
      "1 & 56 & 3 & 80 \\\\ \n",
      "\\end{block}\n",
      "\\end{blockarray}\n",
      "p-val: 0.0065665238142172955\n",
      "\n",
      "Var = exang\n",
      "Matriz de Contingencia: \n",
      "\\begin{blockarray}{ccc}\n",
      " & 0 & 1\\\\\n",
      "\\begin{block}{c(cc)}\n",
      "0 & 141 & 23 \\\\ \n",
      "1 & 63 & 76 \\\\ \n",
      "\\end{block}\n",
      "\\end{blockarray}\n",
      "p-val: 5.562217353372034e-14\n",
      "\n",
      "Var = slope\n",
      "Matriz de Contingencia: \n",
      "\\begin{blockarray}{cccc}\n",
      " & 1 & 2 & 3\\\\\n",
      "\\begin{block}{c(ccc)}\n",
      "0 & 106 & 49 & 9 \\\\ \n",
      "1 & 36 & 91 & 12 \\\\ \n",
      "\\end{block}\n",
      "\\end{blockarray}\n",
      "p-val: 1.142884675786604e-10\n",
      "\n",
      "Var = ca\n",
      "Matriz de Contingencia: \n",
      "\\begin{blockarray}{ccccc}\n",
      " & 0 & 1 & 2 & 3\\\\\n",
      "\\begin{block}{c(cccc)}\n",
      "0 & 133 & 21 & 7 & 3 \\\\ \n",
      "1 & 47 & 44 & 31 & 17 \\\\ \n",
      "\\end{block}\n",
      "\\end{blockarray}\n",
      "p-val: 1.2212453270876722e-15\n",
      "\n",
      "Var = thal\n",
      "Matriz de Contingencia: \n",
      "\\begin{blockarray}{cccc}\n",
      " & 3 & 6 & 7\\\\\n",
      "\\begin{block}{c(ccc)}\n",
      "0 & 130 & 6 & 28 \\\\ \n",
      "1 & 38 & 12 & 89 \\\\ \n",
      "\\end{block}\n",
      "\\end{blockarray}\n",
      "p-val: 0.0\n",
      "\n"
     ]
    }
   ],
   "source": [
    "# Tablas de contingencia de diagnosis vs vars categoricas\n",
    "for att in data.columns[cat_index]:\n",
    "    M = []\n",
    "    print(\"Var = \" + att )\n",
    "    vals = np.unique(data[att]).astype(int)\n",
    "    for val in vals:\n",
    "        M.append([data.query(att + \" == \" + str(val) + \" and diagnosis == 0\").shape[0], \n",
    "                  data.query(att + \" == \" + str(val) + \" and diagnosis == 1\").shape[0]])\n",
    "    M = np.array(M, dtype = int).T\n",
    "    print(\"Matriz de Contingencia: \")\n",
    "    print(ls.indexedMatrix(M, ['0', '1'], vals))\n",
    "    pval = sm.stats.Table(M).test_nominal_association().pvalue\n",
    "    print(\"p-val: \" + str(pval) + \"\\n\")"
   ]
  },
  {
   "cell_type": "code",
   "execution_count": 30,
   "metadata": {},
   "outputs": [],
   "source": [
    "# Pval de fbs salio 0.95, se quita de las vars de processed data\n",
    "processed_data = processed_data.drop(columns=[\"fbs\"])"
   ]
  },
  {
   "cell_type": "code",
   "execution_count": 31,
   "metadata": {},
   "outputs": [],
   "source": [
    "index = num_index.copy()\n",
    "index.append(0)"
   ]
  },
  {
   "cell_type": "code",
   "execution_count": 360,
   "metadata": {
    "scrolled": false
   },
   "outputs": [
    {
     "data": {
      "image/png": "[encoded data removed]",
      "text/plain": [
       "<Figure size 955.5x900 with 30 Axes>"
      ]
     },
     "metadata": {},
     "output_type": "display_data"
    }
   ],
   "source": [
    "# histogramas para vars \n",
    "sns.pairplot(data, vars = data.columns[num_index], hue = \"diagnosis\")\n",
    "plt.savefig('img/pairplot.png', dpi = 300)\n",
    "plt.show()"
   ]
  },
  {
   "cell_type": "code",
   "execution_count": 33,
   "metadata": {},
   "outputs": [],
   "source": [
    "processed_data['diagnosis'] = data['diagnosis']"
   ]
  },
  {
   "cell_type": "code",
   "execution_count": 34,
   "metadata": {},
   "outputs": [
    {
     "data": {
      "text/plain": [
       "<matplotlib.axes._subplots.AxesSubplot at 0x1c12a8a5c0>"
      ]
     },
     "execution_count": 34,
     "metadata": {},
     "output_type": "execute_result"
    },
    {
     "data": {
      "image/png": "[encoded data removed]",
      "text/plain": [
       "<Figure size 432x288 with 2 Axes>"
      ]
     },
     "metadata": {},
     "output_type": "display_data"
    }
   ],
   "source": [
    "sns.heatmap(data=data.isnull(),yticklabels=False)"
   ]
  },
  {
   "cell_type": "code",
   "execution_count": 35,
   "metadata": {},
   "outputs": [
    {
     "data": {
      "text/plain": [
       "<matplotlib.axes._subplots.AxesSubplot at 0x109d3f198>"
      ]
     },
     "execution_count": 35,
     "metadata": {},
     "output_type": "execute_result"
    },
    {
     "data": {
      "image/png": "[encoded data removed]",
      "text/plain": [
       "<Figure size 792x648 with 2 Axes>"
      ]
     },
     "metadata": {},
     "output_type": "display_data"
    }
   ],
   "source": [
    "# Correlaciones\n",
    "corr = processed_data.corr()\n",
    "\n",
    "# plot correlation matrix\n",
    "fig = plt.figure(figsize=(11, 9))\n",
    "mask = np.zeros_like(corr, dtype=np.bool) # create mask to cover the upper triangle\n",
    "mask[np.triu_indices_from(mask)] = True\n",
    "cmap = sns.diverging_palette(10, 240, as_cmap=True)\n",
    "sns.heatmap(corr, mask=mask, cmap=cmap, vmin = -1, vmax = 1, center=0,\n",
    "            square=True, linewidths=.5, cbar_kws={\"shrink\": .5}, annot=True)\n",
    "#plt.savefig('graphs/correlaciones.png', dpi = 300)"
   ]
  },
  {
   "cell_type": "code",
   "execution_count": 150,
   "metadata": {},
   "outputs": [],
   "source": [
    "plot_data = processed_data.copy()\n",
    "\n",
    "plot_data['sex'] = processed_data['sex'].map(sex_cat)\n",
    "plot_data['chest_pain'] = processed_data['chest_pain'].map(chest_pain_cat)\n",
    "plot_data['rest_ecg'] = processed_data['rest_ecg'].map(rest_ecg)\n",
    "#X['fbs'] = data['fbs'].map(fbs_cat)\n",
    "plot_data['exang'] = processed_data['exang'].map(exang)\n",
    "plot_data['slope'] = processed_data['slope'].map(slope)\n",
    "plot_data['thal'] = processed_data['thal'].map(thal)"
   ]
  },
  {
   "cell_type": "code",
   "execution_count": 212,
   "metadata": {},
   "outputs": [
    {
     "data": {
      "image/png": "[encoded data removed]",
      "text/plain": [
       "<Figure size 415.5x360 with 1 Axes>"
      ]
     },
     "metadata": {},
     "output_type": "display_data"
    }
   ],
   "source": [
    "g = sns.catplot(x=\"sex\", hue = 'diagnosis',data=plot_data, kind = 'count')\n",
    "(g.despine(left=True))\n",
    "plt.savefig('img/andrea/sex_count.png', dpi = 300)"
   ]
  },
  {
   "cell_type": "code",
   "execution_count": 213,
   "metadata": {},
   "outputs": [
    {
     "data": {
      "image/png": "[encoded data removed]",
      "text/plain": [
       "<Figure size 411.875x360 with 1 Axes>"
      ]
     },
     "metadata": {},
     "output_type": "display_data"
    }
   ],
   "source": [
    "g = sns.catplot(x=\"diagnosis\", hue = 'ca',data=plot_data, kind = 'count')\n",
    "(g.despine(left=True))\n",
    "plt.savefig('img/andrea/ca_count.png', dpi = 300)"
   ]
  },
  {
   "cell_type": "code",
   "execution_count": 216,
   "metadata": {},
   "outputs": [
    {
     "data": {
      "image/png": "[encoded data removed]",
      "text/plain": [
       "<Figure size 480.25x360 with 1 Axes>"
      ]
     },
     "metadata": {},
     "output_type": "display_data"
    }
   ],
   "source": [
    "g = sns.catplot(x=\"diagnosis\", hue = 'chest_pain',data=plot_data, kind = 'count')\n",
    "(g.despine(left=True))\n",
    "plt.savefig('img/andrea/cp_count_0.png', dpi = 300)"
   ]
  },
  {
   "cell_type": "code",
   "execution_count": 215,
   "metadata": {},
   "outputs": [
    {
     "data": {
      "image/png": "[encoded data removed]",
      "text/plain": [
       "<Figure size 840.25x360 with 2 Axes>"
      ]
     },
     "metadata": {},
     "output_type": "display_data"
    }
   ],
   "source": [
    "g = sns.catplot(x='diagnosis', col='sex',hue='chest_pain', data = plot_data,kind='count', legend = True)\n",
    "(g.despine(left=True))\n",
    "plt.savefig('img/andrea/cp_count.png', dpi = 300)"
   ]
  },
  {
   "cell_type": "code",
   "execution_count": 217,
   "metadata": {},
   "outputs": [
    {
     "data": {
      "image/png": "[encoded data removed]",
      "text/plain": [
       "<Figure size 411.75x360 with 1 Axes>"
      ]
     },
     "metadata": {},
     "output_type": "display_data"
    }
   ],
   "source": [
    "g = sns.catplot(x='diagnosis',hue='thal',data = plot_data,\n",
    "             kind = 'count',legend = True, height=5, aspect=.8)\n",
    "(g.despine(left=True))\n",
    "plt.savefig('img/andrea/thal_count.png', dpi = 300)"
   ]
  },
  {
   "cell_type": "code",
   "execution_count": 218,
   "metadata": {},
   "outputs": [
    {
     "data": {
      "image/png": "[encoded data removed]",
      "text/plain": [
       "<Figure size 509.375x360 with 1 Axes>"
      ]
     },
     "metadata": {},
     "output_type": "display_data"
    }
   ],
   "source": [
    "g = sns.catplot(x='diagnosis',hue='rest_ecg',data = plot_data,\n",
    "             kind = 'count',legend = True, height=5, aspect=.8)\n",
    "(g.despine(left=True))\n",
    "plt.savefig('img/andrea/rest_ecg_count.png', dpi = 300)"
   ]
  },
  {
   "cell_type": "code",
   "execution_count": 367,
   "metadata": {},
   "outputs": [
    {
     "data": {
      "text/plain": [
       "<seaborn.axisgrid.FacetGrid at 0x1c30781ef0>"
      ]
     },
     "execution_count": 367,
     "metadata": {},
     "output_type": "execute_result"
    },
    {
     "data": {
      "image/png": "[encoded data removed]",
      "text/plain": [
       "<Figure size 288x360 with 1 Axes>"
      ]
     },
     "metadata": {},
     "output_type": "display_data"
    }
   ],
   "source": [
    "g = sns.catplot(x='diagnosis', y = 'oldpeak',data = plot_data,\n",
    "             kind = 'strip',legend = True, height=5, aspect=.8, palette='Set2')\n",
    "(g.despine(left=True))\n",
    "#plt.savefig('img/andrea/sex_age.png', dpi = 300)"
   ]
  },
  {
   "cell_type": "markdown",
   "metadata": {},
   "source": [
    "### Dummy var"
   ]
  },
  {
   "cell_type": "code",
   "execution_count": 220,
   "metadata": {},
   "outputs": [],
   "source": [
    "X = processed_data.drop(columns = ['diagnosis'])\n",
    "y = processed_data['diagnosis']"
   ]
  },
  {
   "cell_type": "code",
   "execution_count": 221,
   "metadata": {},
   "outputs": [],
   "source": [
    "X['sex'] = processed_data['sex'].map(sex_cat)\n",
    "X['chest_pain'] = processed_data['chest_pain'].map(chest_pain_cat)\n",
    "X['rest_ecg'] = processed_data['rest_ecg'].map(rest_ecg)\n",
    "#X['fbs'] = data['fbs'].map(fbs_cat)\n",
    "X['exang'] = processed_data['exang'].map(exang)\n",
    "X['slope'] = processed_data['slope'].map(slope)\n",
    "X['thal'] = processed_data['thal'].map(thal)"
   ]
  },
  {
   "cell_type": "code",
   "execution_count": 222,
   "metadata": {},
   "outputs": [
    {
     "data": {
      "text/plain": [
       "age           0\n",
       "rest_bp       0\n",
       "chol          0\n",
       "thalach       0\n",
       "oldpeak       0\n",
       "sex           0\n",
       "chest_pain    0\n",
       "rest_ecg      0\n",
       "exang         0\n",
       "slope         0\n",
       "ca            0\n",
       "thal          0\n",
       "dtype: int64"
      ]
     },
     "execution_count": 222,
     "metadata": {},
     "output_type": "execute_result"
    }
   ],
   "source": [
    "X.isnull().sum()"
   ]
  },
  {
   "cell_type": "code",
   "execution_count": 223,
   "metadata": {},
   "outputs": [],
   "source": [
    "X['age'] = preprocessing.scale(processed_data['age'])"
   ]
  },
  {
   "cell_type": "code",
   "execution_count": 224,
   "metadata": {},
   "outputs": [],
   "source": [
    "X = pd.get_dummies(X, columns =['sex', 'chest_pain','rest_ecg','exang','slope','thal','ca'], \n",
    "                   prefix = ['is','has','ecg','exang','slope','thal','ca'],drop_first = True)"
   ]
  },
  {
   "cell_type": "code",
   "execution_count": 225,
   "metadata": {},
   "outputs": [
    {
     "data": {
      "text/html": [
       "<div>\n",
       "<style scoped>\n",
       "    .dataframe tbody tr th:only-of-type {\n",
       "        vertical-align: middle;\n",
       "    }\n",
       "\n",
       "    .dataframe tbody tr th {\n",
       "        vertical-align: top;\n",
       "    }\n",
       "\n",
       "    .dataframe thead th {\n",
       "        text-align: right;\n",
       "    }\n",
       "</style>\n",
       "<table border=\"1\" class=\"dataframe\">\n",
       "  <thead>\n",
       "    <tr style=\"text-align: right;\">\n",
       "      <th></th>\n",
       "      <th>age</th>\n",
       "      <th>rest_bp</th>\n",
       "      <th>chol</th>\n",
       "      <th>thalach</th>\n",
       "      <th>oldpeak</th>\n",
       "      <th>is_male</th>\n",
       "      <th>has_atypical angina</th>\n",
       "      <th>has_non-anginal pain</th>\n",
       "      <th>has_typical angina</th>\n",
       "      <th>ecg_normal</th>\n",
       "      <th>ecg_probable left ventricular hypertrophy</th>\n",
       "      <th>exang_yes</th>\n",
       "      <th>slope_flat</th>\n",
       "      <th>slope_upsloping</th>\n",
       "      <th>thal_normal</th>\n",
       "      <th>thal_reversable defect</th>\n",
       "      <th>ca_1.0</th>\n",
       "      <th>ca_2.0</th>\n",
       "      <th>ca_3.0</th>\n",
       "    </tr>\n",
       "  </thead>\n",
       "  <tbody>\n",
       "    <tr>\n",
       "      <th>0</th>\n",
       "      <td>0.948726</td>\n",
       "      <td>0.757525</td>\n",
       "      <td>-0.264900</td>\n",
       "      <td>0.017197</td>\n",
       "      <td>1.087338</td>\n",
       "      <td>1</td>\n",
       "      <td>0</td>\n",
       "      <td>0</td>\n",
       "      <td>1</td>\n",
       "      <td>0</td>\n",
       "      <td>1</td>\n",
       "      <td>0</td>\n",
       "      <td>0</td>\n",
       "      <td>0</td>\n",
       "      <td>0</td>\n",
       "      <td>0</td>\n",
       "      <td>0</td>\n",
       "      <td>0</td>\n",
       "      <td>0</td>\n",
       "    </tr>\n",
       "    <tr>\n",
       "      <th>1</th>\n",
       "      <td>1.392002</td>\n",
       "      <td>1.611220</td>\n",
       "      <td>0.760415</td>\n",
       "      <td>-1.821905</td>\n",
       "      <td>0.397182</td>\n",
       "      <td>1</td>\n",
       "      <td>0</td>\n",
       "      <td>0</td>\n",
       "      <td>0</td>\n",
       "      <td>0</td>\n",
       "      <td>1</td>\n",
       "      <td>1</td>\n",
       "      <td>1</td>\n",
       "      <td>0</td>\n",
       "      <td>1</td>\n",
       "      <td>0</td>\n",
       "      <td>0</td>\n",
       "      <td>0</td>\n",
       "      <td>1</td>\n",
       "    </tr>\n",
       "    <tr>\n",
       "      <th>2</th>\n",
       "      <td>1.392002</td>\n",
       "      <td>-0.665300</td>\n",
       "      <td>-0.342283</td>\n",
       "      <td>-0.902354</td>\n",
       "      <td>1.346147</td>\n",
       "      <td>1</td>\n",
       "      <td>0</td>\n",
       "      <td>0</td>\n",
       "      <td>0</td>\n",
       "      <td>0</td>\n",
       "      <td>1</td>\n",
       "      <td>1</td>\n",
       "      <td>1</td>\n",
       "      <td>0</td>\n",
       "      <td>0</td>\n",
       "      <td>1</td>\n",
       "      <td>0</td>\n",
       "      <td>1</td>\n",
       "      <td>0</td>\n",
       "    </tr>\n",
       "    <tr>\n",
       "      <th>3</th>\n",
       "      <td>-1.932564</td>\n",
       "      <td>-0.096170</td>\n",
       "      <td>0.063974</td>\n",
       "      <td>1.637359</td>\n",
       "      <td>2.122573</td>\n",
       "      <td>1</td>\n",
       "      <td>0</td>\n",
       "      <td>1</td>\n",
       "      <td>0</td>\n",
       "      <td>1</td>\n",
       "      <td>0</td>\n",
       "      <td>0</td>\n",
       "      <td>0</td>\n",
       "      <td>0</td>\n",
       "      <td>1</td>\n",
       "      <td>0</td>\n",
       "      <td>0</td>\n",
       "      <td>0</td>\n",
       "      <td>0</td>\n",
       "    </tr>\n",
       "    <tr>\n",
       "      <th>4</th>\n",
       "      <td>-1.489288</td>\n",
       "      <td>-0.096170</td>\n",
       "      <td>-0.825922</td>\n",
       "      <td>0.980537</td>\n",
       "      <td>0.310912</td>\n",
       "      <td>0</td>\n",
       "      <td>1</td>\n",
       "      <td>0</td>\n",
       "      <td>0</td>\n",
       "      <td>0</td>\n",
       "      <td>1</td>\n",
       "      <td>0</td>\n",
       "      <td>0</td>\n",
       "      <td>1</td>\n",
       "      <td>1</td>\n",
       "      <td>0</td>\n",
       "      <td>0</td>\n",
       "      <td>0</td>\n",
       "      <td>0</td>\n",
       "    </tr>\n",
       "  </tbody>\n",
       "</table>\n",
       "</div>"
      ],
      "text/plain": [
       "        age   rest_bp      chol   thalach   oldpeak  is_male  \\\n",
       "0  0.948726  0.757525 -0.264900  0.017197  1.087338        1   \n",
       "1  1.392002  1.611220  0.760415 -1.821905  0.397182        1   \n",
       "2  1.392002 -0.665300 -0.342283 -0.902354  1.346147        1   \n",
       "3 -1.932564 -0.096170  0.063974  1.637359  2.122573        1   \n",
       "4 -1.489288 -0.096170 -0.825922  0.980537  0.310912        0   \n",
       "\n",
       "   has_atypical angina  has_non-anginal pain  has_typical angina  ecg_normal  \\\n",
       "0                    0                     0                   1           0   \n",
       "1                    0                     0                   0           0   \n",
       "2                    0                     0                   0           0   \n",
       "3                    0                     1                   0           1   \n",
       "4                    1                     0                   0           0   \n",
       "\n",
       "   ecg_probable left ventricular hypertrophy  exang_yes  slope_flat  \\\n",
       "0                                          1          0           0   \n",
       "1                                          1          1           1   \n",
       "2                                          1          1           1   \n",
       "3                                          0          0           0   \n",
       "4                                          1          0           0   \n",
       "\n",
       "   slope_upsloping  thal_normal  thal_reversable defect  ca_1.0  ca_2.0  \\\n",
       "0                0            0                       0       0       0   \n",
       "1                0            1                       0       0       0   \n",
       "2                0            0                       1       0       1   \n",
       "3                0            1                       0       0       0   \n",
       "4                1            1                       0       0       0   \n",
       "\n",
       "   ca_3.0  \n",
       "0       0  \n",
       "1       1  \n",
       "2       0  \n",
       "3       0  \n",
       "4       0  "
      ]
     },
     "execution_count": 225,
     "metadata": {},
     "output_type": "execute_result"
    }
   ],
   "source": [
    "X.head()"
   ]
  },
  {
   "cell_type": "markdown",
   "metadata": {},
   "source": [
    "### Logit simple"
   ]
  },
  {
   "cell_type": "code",
   "execution_count": 226,
   "metadata": {},
   "outputs": [],
   "source": [
    "X_train, X_test, y_train, y_test = train_test_split(X, y, test_size = 0.2, random_state = 158999)"
   ]
  },
  {
   "cell_type": "code",
   "execution_count": 227,
   "metadata": {},
   "outputs": [
    {
     "data": {
      "text/plain": [
       "242"
      ]
     },
     "execution_count": 227,
     "metadata": {},
     "output_type": "execute_result"
    }
   ],
   "source": [
    "len(y_train)"
   ]
  },
  {
   "cell_type": "code",
   "execution_count": 228,
   "metadata": {},
   "outputs": [
    {
     "data": {
      "text/plain": [
       "61"
      ]
     },
     "execution_count": 228,
     "metadata": {},
     "output_type": "execute_result"
    }
   ],
   "source": [
    "len(y_test)"
   ]
  },
  {
   "cell_type": "code",
   "execution_count": 229,
   "metadata": {},
   "outputs": [
    {
     "name": "stdout",
     "output_type": "stream",
     "text": [
      "Optimization terminated successfully.\n",
      "         Current function value: 0.303696\n",
      "         Iterations 8\n"
     ]
    }
   ],
   "source": [
    "logit = sm.Logit(y_train,X_train)\n",
    "logit_model = logit.fit()"
   ]
  },
  {
   "cell_type": "code",
   "execution_count": 230,
   "metadata": {},
   "outputs": [
    {
     "data": {
      "text/html": [
       "<table class=\"simpletable\">\n",
       "<caption>Logit Regression Results</caption>\n",
       "<tr>\n",
       "  <th>Dep. Variable:</th>     <td>diagnosis</td>    <th>  No. Observations:  </th>  <td>   242</td>  \n",
       "</tr>\n",
       "<tr>\n",
       "  <th>Model:</th>               <td>Logit</td>      <th>  Df Residuals:      </th>  <td>   223</td>  \n",
       "</tr>\n",
       "<tr>\n",
       "  <th>Method:</th>               <td>MLE</td>       <th>  Df Model:          </th>  <td>    18</td>  \n",
       "</tr>\n",
       "<tr>\n",
       "  <th>Date:</th>          <td>Wed, 08 May 2019</td> <th>  Pseudo R-squ.:     </th>  <td>0.5547</td>  \n",
       "</tr>\n",
       "<tr>\n",
       "  <th>Time:</th>              <td>13:10:14</td>     <th>  Log-Likelihood:    </th> <td> -73.494</td> \n",
       "</tr>\n",
       "<tr>\n",
       "  <th>converged:</th>           <td>True</td>       <th>  LL-Null:           </th> <td> -165.05</td> \n",
       "</tr>\n",
       "<tr>\n",
       "  <th> </th>                      <td> </td>        <th>  LLR p-value:       </th> <td>2.310e-29</td>\n",
       "</tr>\n",
       "</table>\n",
       "<table class=\"simpletable\">\n",
       "<tr>\n",
       "                      <td></td>                         <th>coef</th>     <th>std err</th>      <th>z</th>      <th>P>|z|</th>  <th>[0.025</th>    <th>0.975]</th>  \n",
       "</tr>\n",
       "<tr>\n",
       "  <th>age</th>                                       <td>   -0.4173</td> <td>    0.269</td> <td>   -1.551</td> <td> 0.121</td> <td>   -0.945</td> <td>    0.110</td>\n",
       "</tr>\n",
       "<tr>\n",
       "  <th>rest_bp</th>                                   <td>    0.5633</td> <td>    0.249</td> <td>    2.258</td> <td> 0.024</td> <td>    0.074</td> <td>    1.052</td>\n",
       "</tr>\n",
       "<tr>\n",
       "  <th>chol</th>                                      <td>    0.2319</td> <td>    0.234</td> <td>    0.991</td> <td> 0.322</td> <td>   -0.227</td> <td>    0.691</td>\n",
       "</tr>\n",
       "<tr>\n",
       "  <th>thalach</th>                                   <td>   -0.3824</td> <td>    0.325</td> <td>   -1.178</td> <td> 0.239</td> <td>   -1.019</td> <td>    0.254</td>\n",
       "</tr>\n",
       "<tr>\n",
       "  <th>oldpeak</th>                                   <td>    0.5348</td> <td>    0.335</td> <td>    1.595</td> <td> 0.111</td> <td>   -0.122</td> <td>    1.192</td>\n",
       "</tr>\n",
       "<tr>\n",
       "  <th>is_male</th>                                   <td>    1.4695</td> <td>    0.633</td> <td>    2.322</td> <td> 0.020</td> <td>    0.229</td> <td>    2.710</td>\n",
       "</tr>\n",
       "<tr>\n",
       "  <th>has_atypical angina</th>                       <td>   -0.9482</td> <td>    0.659</td> <td>   -1.440</td> <td> 0.150</td> <td>   -2.239</td> <td>    0.343</td>\n",
       "</tr>\n",
       "<tr>\n",
       "  <th>has_non-anginal pain</th>                      <td>   -1.9322</td> <td>    0.572</td> <td>   -3.377</td> <td> 0.001</td> <td>   -3.054</td> <td>   -0.811</td>\n",
       "</tr>\n",
       "<tr>\n",
       "  <th>has_typical angina</th>                        <td>   -2.5229</td> <td>    0.789</td> <td>   -3.200</td> <td> 0.001</td> <td>   -4.068</td> <td>   -0.977</td>\n",
       "</tr>\n",
       "<tr>\n",
       "  <th>ecg_normal</th>                                <td>   -2.5225</td> <td>    1.228</td> <td>   -2.055</td> <td> 0.040</td> <td>   -4.929</td> <td>   -0.116</td>\n",
       "</tr>\n",
       "<tr>\n",
       "  <th>ecg_probable left ventricular hypertrophy</th> <td>   -1.6432</td> <td>    1.217</td> <td>   -1.350</td> <td> 0.177</td> <td>   -4.029</td> <td>    0.743</td>\n",
       "</tr>\n",
       "<tr>\n",
       "  <th>exang_yes</th>                                 <td>    0.6695</td> <td>    0.555</td> <td>    1.207</td> <td> 0.227</td> <td>   -0.417</td> <td>    1.757</td>\n",
       "</tr>\n",
       "<tr>\n",
       "  <th>slope_flat</th>                                <td>    0.8260</td> <td>    0.922</td> <td>    0.896</td> <td> 0.370</td> <td>   -0.980</td> <td>    2.632</td>\n",
       "</tr>\n",
       "<tr>\n",
       "  <th>slope_upsloping</th>                           <td>   -0.4519</td> <td>    0.995</td> <td>   -0.454</td> <td> 0.650</td> <td>   -2.402</td> <td>    1.498</td>\n",
       "</tr>\n",
       "<tr>\n",
       "  <th>thal_normal</th>                               <td>   -0.2398</td> <td>    0.881</td> <td>   -0.272</td> <td> 0.786</td> <td>   -1.967</td> <td>    1.487</td>\n",
       "</tr>\n",
       "<tr>\n",
       "  <th>thal_reversable defect</th>                    <td>    1.3303</td> <td>    0.866</td> <td>    1.535</td> <td> 0.125</td> <td>   -0.368</td> <td>    3.028</td>\n",
       "</tr>\n",
       "<tr>\n",
       "  <th>ca_1.0</th>                                    <td>    2.1417</td> <td>    0.563</td> <td>    3.803</td> <td> 0.000</td> <td>    1.038</td> <td>    3.245</td>\n",
       "</tr>\n",
       "<tr>\n",
       "  <th>ca_2.0</th>                                    <td>    3.2910</td> <td>    0.857</td> <td>    3.840</td> <td> 0.000</td> <td>    1.611</td> <td>    4.971</td>\n",
       "</tr>\n",
       "<tr>\n",
       "  <th>ca_3.0</th>                                    <td>    1.9952</td> <td>    1.055</td> <td>    1.891</td> <td> 0.059</td> <td>   -0.072</td> <td>    4.063</td>\n",
       "</tr>\n",
       "</table>"
      ],
      "text/plain": [
       "<class 'statsmodels.iolib.summary.Summary'>\n",
       "\"\"\"\n",
       "                           Logit Regression Results                           \n",
       "==============================================================================\n",
       "Dep. Variable:              diagnosis   No. Observations:                  242\n",
       "Model:                          Logit   Df Residuals:                      223\n",
       "Method:                           MLE   Df Model:                           18\n",
       "Date:                Wed, 08 May 2019   Pseudo R-squ.:                  0.5547\n",
       "Time:                        13:10:14   Log-Likelihood:                -73.494\n",
       "converged:                       True   LL-Null:                       -165.05\n",
       "                                        LLR p-value:                 2.310e-29\n",
       "=============================================================================================================\n",
       "                                                coef    std err          z      P>|z|      [0.025      0.975]\n",
       "-------------------------------------------------------------------------------------------------------------\n",
       "age                                          -0.4173      0.269     -1.551      0.121      -0.945       0.110\n",
       "rest_bp                                       0.5633      0.249      2.258      0.024       0.074       1.052\n",
       "chol                                          0.2319      0.234      0.991      0.322      -0.227       0.691\n",
       "thalach                                      -0.3824      0.325     -1.178      0.239      -1.019       0.254\n",
       "oldpeak                                       0.5348      0.335      1.595      0.111      -0.122       1.192\n",
       "is_male                                       1.4695      0.633      2.322      0.020       0.229       2.710\n",
       "has_atypical angina                          -0.9482      0.659     -1.440      0.150      -2.239       0.343\n",
       "has_non-anginal pain                         -1.9322      0.572     -3.377      0.001      -3.054      -0.811\n",
       "has_typical angina                           -2.5229      0.789     -3.200      0.001      -4.068      -0.977\n",
       "ecg_normal                                   -2.5225      1.228     -2.055      0.040      -4.929      -0.116\n",
       "ecg_probable left ventricular hypertrophy    -1.6432      1.217     -1.350      0.177      -4.029       0.743\n",
       "exang_yes                                     0.6695      0.555      1.207      0.227      -0.417       1.757\n",
       "slope_flat                                    0.8260      0.922      0.896      0.370      -0.980       2.632\n",
       "slope_upsloping                              -0.4519      0.995     -0.454      0.650      -2.402       1.498\n",
       "thal_normal                                  -0.2398      0.881     -0.272      0.786      -1.967       1.487\n",
       "thal_reversable defect                        1.3303      0.866      1.535      0.125      -0.368       3.028\n",
       "ca_1.0                                        2.1417      0.563      3.803      0.000       1.038       3.245\n",
       "ca_2.0                                        3.2910      0.857      3.840      0.000       1.611       4.971\n",
       "ca_3.0                                        1.9952      1.055      1.891      0.059      -0.072       4.063\n",
       "=============================================================================================================\n",
       "\"\"\""
      ]
     },
     "execution_count": 230,
     "metadata": {},
     "output_type": "execute_result"
    }
   ],
   "source": [
    "logit_model.summary()"
   ]
  },
  {
   "cell_type": "code",
   "execution_count": 231,
   "metadata": {},
   "outputs": [
    {
     "data": {
      "text/plain": [
       "LogisticRegression(C=1.0, class_weight='balanced', dual=False,\n",
       "          fit_intercept=True, intercept_scaling=1, max_iter=100,\n",
       "          multi_class='ovr', n_jobs=1, penalty='l2', random_state=None,\n",
       "          solver='liblinear', tol=0.0001, verbose=0, warm_start=False)"
      ]
     },
     "execution_count": 231,
     "metadata": {},
     "output_type": "execute_result"
    }
   ],
   "source": [
    "logmodel_1 = LogisticRegression(class_weight = \"balanced\", solver = \"liblinear\")\n",
    "logmodel_1.fit(X_train,y_train)"
   ]
  },
  {
   "cell_type": "code",
   "execution_count": 232,
   "metadata": {},
   "outputs": [
    {
     "name": "stdout",
     "output_type": "stream",
     "text": [
      "0.8677685950413223\n"
     ]
    },
    {
     "data": {
      "text/plain": [
       "array([[125,  14],\n",
       "       [ 18,  85]])"
      ]
     },
     "execution_count": 232,
     "metadata": {},
     "output_type": "execute_result"
    }
   ],
   "source": [
    "train_pred_1 = logmodel_1.predict(X_train)\n",
    "print(logmodel_1.score(X_train,y_train))\n",
    "confusion_matrix(y_train,train_pred_1)"
   ]
  },
  {
   "cell_type": "code",
   "execution_count": 233,
   "metadata": {},
   "outputs": [
    {
     "name": "stdout",
     "output_type": "stream",
     "text": [
      "0.8688524590163934\n"
     ]
    },
    {
     "data": {
      "text/plain": [
       "array([[24,  1],\n",
       "       [ 7, 29]])"
      ]
     },
     "execution_count": 233,
     "metadata": {},
     "output_type": "execute_result"
    }
   ],
   "source": [
    "test_pred_1 = logmodel_1.predict(X_test)\n",
    "print(logmodel_1.score(X_test,y_test))\n",
    "confusion_matrix(y_test,test_pred_1)"
   ]
  },
  {
   "cell_type": "markdown",
   "metadata": {},
   "source": [
    "Segundo dataframe sin variables con p > 0.05"
   ]
  },
  {
   "cell_type": "code",
   "execution_count": 234,
   "metadata": {
    "scrolled": false
   },
   "outputs": [],
   "source": [
    "X_train2 = X_train.drop(columns = ['thalach','thal_normal','thal_reversable defect',\n",
    "                                  'slope_flat','slope_upsloping','age','chol'])\n",
    "X_test2 = X_test.drop(columns = ['thalach','thal_normal','thal_reversable defect',\n",
    "                                  'slope_flat','slope_upsloping','age','chol'])\n",
    "#,  ,'oldpeak'"
   ]
  },
  {
   "cell_type": "code",
   "execution_count": 235,
   "metadata": {},
   "outputs": [
    {
     "name": "stdout",
     "output_type": "stream",
     "text": [
      "Optimization terminated successfully.\n",
      "         Current function value: 0.358223\n",
      "         Iterations 7\n"
     ]
    }
   ],
   "source": [
    "logit2 = sm.Logit(y_train,X_train2)\n",
    "logit_model2 = logit2.fit()"
   ]
  },
  {
   "cell_type": "code",
   "execution_count": 236,
   "metadata": {},
   "outputs": [
    {
     "data": {
      "text/html": [
       "<table class=\"simpletable\">\n",
       "<caption>Logit Regression Results</caption>\n",
       "<tr>\n",
       "  <th>Dep. Variable:</th>     <td>diagnosis</td>    <th>  No. Observations:  </th>  <td>   242</td>  \n",
       "</tr>\n",
       "<tr>\n",
       "  <th>Model:</th>               <td>Logit</td>      <th>  Df Residuals:      </th>  <td>   230</td>  \n",
       "</tr>\n",
       "<tr>\n",
       "  <th>Method:</th>               <td>MLE</td>       <th>  Df Model:          </th>  <td>    11</td>  \n",
       "</tr>\n",
       "<tr>\n",
       "  <th>Date:</th>          <td>Wed, 08 May 2019</td> <th>  Pseudo R-squ.:     </th>  <td>0.4748</td>  \n",
       "</tr>\n",
       "<tr>\n",
       "  <th>Time:</th>              <td>13:10:17</td>     <th>  Log-Likelihood:    </th> <td> -86.690</td> \n",
       "</tr>\n",
       "<tr>\n",
       "  <th>converged:</th>           <td>True</td>       <th>  LL-Null:           </th> <td> -165.05</td> \n",
       "</tr>\n",
       "<tr>\n",
       "  <th> </th>                      <td> </td>        <th>  LLR p-value:       </th> <td>6.266e-28</td>\n",
       "</tr>\n",
       "</table>\n",
       "<table class=\"simpletable\">\n",
       "<tr>\n",
       "                      <td></td>                         <th>coef</th>     <th>std err</th>      <th>z</th>      <th>P>|z|</th>  <th>[0.025</th>    <th>0.975]</th>  \n",
       "</tr>\n",
       "<tr>\n",
       "  <th>rest_bp</th>                                   <td>    0.4157</td> <td>    0.216</td> <td>    1.926</td> <td> 0.054</td> <td>   -0.007</td> <td>    0.839</td>\n",
       "</tr>\n",
       "<tr>\n",
       "  <th>oldpeak</th>                                   <td>    0.8279</td> <td>    0.257</td> <td>    3.224</td> <td> 0.001</td> <td>    0.325</td> <td>    1.331</td>\n",
       "</tr>\n",
       "<tr>\n",
       "  <th>is_male</th>                                   <td>    1.6332</td> <td>    0.472</td> <td>    3.461</td> <td> 0.001</td> <td>    0.708</td> <td>    2.558</td>\n",
       "</tr>\n",
       "<tr>\n",
       "  <th>has_atypical angina</th>                       <td>   -1.4495</td> <td>    0.601</td> <td>   -2.410</td> <td> 0.016</td> <td>   -2.628</td> <td>   -0.271</td>\n",
       "</tr>\n",
       "<tr>\n",
       "  <th>has_non-anginal pain</th>                      <td>   -1.9303</td> <td>    0.493</td> <td>   -3.914</td> <td> 0.000</td> <td>   -2.897</td> <td>   -0.964</td>\n",
       "</tr>\n",
       "<tr>\n",
       "  <th>has_typical angina</th>                        <td>   -2.5035</td> <td>    0.725</td> <td>   -3.455</td> <td> 0.001</td> <td>   -3.924</td> <td>   -1.083</td>\n",
       "</tr>\n",
       "<tr>\n",
       "  <th>ecg_normal</th>                                <td>   -2.0118</td> <td>    0.560</td> <td>   -3.591</td> <td> 0.000</td> <td>   -3.110</td> <td>   -0.914</td>\n",
       "</tr>\n",
       "<tr>\n",
       "  <th>ecg_probable left ventricular hypertrophy</th> <td>   -1.1928</td> <td>    0.555</td> <td>   -2.151</td> <td> 0.031</td> <td>   -2.280</td> <td>   -0.106</td>\n",
       "</tr>\n",
       "<tr>\n",
       "  <th>exang_yes</th>                                 <td>    1.1518</td> <td>    0.460</td> <td>    2.501</td> <td> 0.012</td> <td>    0.249</td> <td>    2.054</td>\n",
       "</tr>\n",
       "<tr>\n",
       "  <th>ca_1.0</th>                                    <td>    1.8811</td> <td>    0.482</td> <td>    3.899</td> <td> 0.000</td> <td>    0.936</td> <td>    2.827</td>\n",
       "</tr>\n",
       "<tr>\n",
       "  <th>ca_2.0</th>                                    <td>    2.3382</td> <td>    0.696</td> <td>    3.358</td> <td> 0.001</td> <td>    0.973</td> <td>    3.703</td>\n",
       "</tr>\n",
       "<tr>\n",
       "  <th>ca_3.0</th>                                    <td>    2.4543</td> <td>    0.907</td> <td>    2.707</td> <td> 0.007</td> <td>    0.677</td> <td>    4.231</td>\n",
       "</tr>\n",
       "</table>"
      ],
      "text/plain": [
       "<class 'statsmodels.iolib.summary.Summary'>\n",
       "\"\"\"\n",
       "                           Logit Regression Results                           \n",
       "==============================================================================\n",
       "Dep. Variable:              diagnosis   No. Observations:                  242\n",
       "Model:                          Logit   Df Residuals:                      230\n",
       "Method:                           MLE   Df Model:                           11\n",
       "Date:                Wed, 08 May 2019   Pseudo R-squ.:                  0.4748\n",
       "Time:                        13:10:17   Log-Likelihood:                -86.690\n",
       "converged:                       True   LL-Null:                       -165.05\n",
       "                                        LLR p-value:                 6.266e-28\n",
       "=============================================================================================================\n",
       "                                                coef    std err          z      P>|z|      [0.025      0.975]\n",
       "-------------------------------------------------------------------------------------------------------------\n",
       "rest_bp                                       0.4157      0.216      1.926      0.054      -0.007       0.839\n",
       "oldpeak                                       0.8279      0.257      3.224      0.001       0.325       1.331\n",
       "is_male                                       1.6332      0.472      3.461      0.001       0.708       2.558\n",
       "has_atypical angina                          -1.4495      0.601     -2.410      0.016      -2.628      -0.271\n",
       "has_non-anginal pain                         -1.9303      0.493     -3.914      0.000      -2.897      -0.964\n",
       "has_typical angina                           -2.5035      0.725     -3.455      0.001      -3.924      -1.083\n",
       "ecg_normal                                   -2.0118      0.560     -3.591      0.000      -3.110      -0.914\n",
       "ecg_probable left ventricular hypertrophy    -1.1928      0.555     -2.151      0.031      -2.280      -0.106\n",
       "exang_yes                                     1.1518      0.460      2.501      0.012       0.249       2.054\n",
       "ca_1.0                                        1.8811      0.482      3.899      0.000       0.936       2.827\n",
       "ca_2.0                                        2.3382      0.696      3.358      0.001       0.973       3.703\n",
       "ca_3.0                                        2.4543      0.907      2.707      0.007       0.677       4.231\n",
       "=============================================================================================================\n",
       "\"\"\""
      ]
     },
     "execution_count": 236,
     "metadata": {},
     "output_type": "execute_result"
    }
   ],
   "source": [
    "logit_model2.summary()"
   ]
  },
  {
   "cell_type": "code",
   "execution_count": 237,
   "metadata": {},
   "outputs": [
    {
     "data": {
      "text/plain": [
       "LogisticRegression(C=1.0, class_weight='balanced', dual=False,\n",
       "          fit_intercept=True, intercept_scaling=1, max_iter=100,\n",
       "          multi_class='ovr', n_jobs=1, penalty='l2', random_state=None,\n",
       "          solver='liblinear', tol=0.0001, verbose=0, warm_start=False)"
      ]
     },
     "execution_count": 237,
     "metadata": {},
     "output_type": "execute_result"
    }
   ],
   "source": [
    "logmodel = LogisticRegression(class_weight = \"balanced\", solver = \"liblinear\")\n",
    "logmodel.fit(X_train2,y_train)"
   ]
  },
  {
   "cell_type": "code",
   "execution_count": 238,
   "metadata": {},
   "outputs": [
    {
     "name": "stdout",
     "output_type": "stream",
     "text": [
      "0.8429752066115702\n"
     ]
    },
    {
     "data": {
      "text/plain": [
       "array([[120,  19],\n",
       "       [ 19,  84]])"
      ]
     },
     "execution_count": 238,
     "metadata": {},
     "output_type": "execute_result"
    }
   ],
   "source": [
    "train_pred = logmodel.predict(X_train2)\n",
    "print(logmodel.score(X_train2,y_train))\n",
    "confusion_matrix(y_train,train_pred)"
   ]
  },
  {
   "cell_type": "code",
   "execution_count": 239,
   "metadata": {},
   "outputs": [
    {
     "name": "stdout",
     "output_type": "stream",
     "text": [
      "0.8524590163934426\n"
     ]
    },
    {
     "data": {
      "text/plain": [
       "array([[23,  2],\n",
       "       [ 7, 29]])"
      ]
     },
     "execution_count": 239,
     "metadata": {},
     "output_type": "execute_result"
    }
   ],
   "source": [
    "test_pred = logmodel.predict(X_test2)\n",
    "print(logmodel.score(X_test2,y_test))\n",
    "confusion_matrix(y_test,test_pred)"
   ]
  },
  {
   "cell_type": "markdown",
   "metadata": {},
   "source": [
    "### LDA"
   ]
  },
  {
   "cell_type": "code",
   "execution_count": 240,
   "metadata": {},
   "outputs": [
    {
     "data": {
      "text/html": [
       "<div>\n",
       "<style scoped>\n",
       "    .dataframe tbody tr th:only-of-type {\n",
       "        vertical-align: middle;\n",
       "    }\n",
       "\n",
       "    .dataframe tbody tr th {\n",
       "        vertical-align: top;\n",
       "    }\n",
       "\n",
       "    .dataframe thead th {\n",
       "        text-align: right;\n",
       "    }\n",
       "</style>\n",
       "<table border=\"1\" class=\"dataframe\">\n",
       "  <thead>\n",
       "    <tr style=\"text-align: right;\">\n",
       "      <th></th>\n",
       "      <th>age</th>\n",
       "      <th>rest_bp</th>\n",
       "      <th>chol</th>\n",
       "      <th>thalach</th>\n",
       "      <th>oldpeak</th>\n",
       "    </tr>\n",
       "  </thead>\n",
       "  <tbody>\n",
       "    <tr>\n",
       "      <th>44</th>\n",
       "      <td>0.727089</td>\n",
       "      <td>-0.096170</td>\n",
       "      <td>1.611621</td>\n",
       "      <td>0.849172</td>\n",
       "      <td>-0.896862</td>\n",
       "    </tr>\n",
       "    <tr>\n",
       "      <th>91</th>\n",
       "      <td>0.837908</td>\n",
       "      <td>1.611220</td>\n",
       "      <td>-1.599745</td>\n",
       "      <td>-0.201743</td>\n",
       "      <td>4.451851</td>\n",
       "    </tr>\n",
       "    <tr>\n",
       "      <th>162</th>\n",
       "      <td>-0.048643</td>\n",
       "      <td>-1.234430</td>\n",
       "      <td>-0.632466</td>\n",
       "      <td>0.367503</td>\n",
       "      <td>0.483451</td>\n",
       "    </tr>\n",
       "    <tr>\n",
       "      <th>110</th>\n",
       "      <td>0.727089</td>\n",
       "      <td>0.757525</td>\n",
       "      <td>1.166672</td>\n",
       "      <td>-0.157955</td>\n",
       "      <td>-0.034166</td>\n",
       "    </tr>\n",
       "    <tr>\n",
       "      <th>21</th>\n",
       "      <td>0.394632</td>\n",
       "      <td>1.042090</td>\n",
       "      <td>0.702378</td>\n",
       "      <td>0.542655</td>\n",
       "      <td>-0.034166</td>\n",
       "    </tr>\n",
       "  </tbody>\n",
       "</table>\n",
       "</div>"
      ],
      "text/plain": [
       "          age   rest_bp      chol   thalach   oldpeak\n",
       "44   0.727089 -0.096170  1.611621  0.849172 -0.896862\n",
       "91   0.837908  1.611220 -1.599745 -0.201743  4.451851\n",
       "162 -0.048643 -1.234430 -0.632466  0.367503  0.483451\n",
       "110  0.727089  0.757525  1.166672 -0.157955 -0.034166\n",
       "21   0.394632  1.042090  0.702378  0.542655 -0.034166"
      ]
     },
     "execution_count": 240,
     "metadata": {},
     "output_type": "execute_result"
    }
   ],
   "source": [
    "X_numerical_train = X_train.iloc[:, 0:5]\n",
    "X_numerical_test = X_test.iloc[:, 0:5]\n",
    "X_numerical_train.head()"
   ]
  },
  {
   "cell_type": "code",
   "execution_count": 241,
   "metadata": {},
   "outputs": [],
   "source": [
    "lda = LinearDiscriminantAnalysis(n_components = None)"
   ]
  },
  {
   "cell_type": "code",
   "execution_count": 242,
   "metadata": {},
   "outputs": [],
   "source": [
    "lda_train = lda.fit_transform(X_numerical_train, y_train)\n",
    "lda_test = lda.transform(X_numerical_test)"
   ]
  },
  {
   "cell_type": "code",
   "execution_count": 243,
   "metadata": {},
   "outputs": [
    {
     "data": {
      "text/html": [
       "<div>\n",
       "<style scoped>\n",
       "    .dataframe tbody tr th:only-of-type {\n",
       "        vertical-align: middle;\n",
       "    }\n",
       "\n",
       "    .dataframe tbody tr th {\n",
       "        vertical-align: top;\n",
       "    }\n",
       "\n",
       "    .dataframe thead th {\n",
       "        text-align: right;\n",
       "    }\n",
       "</style>\n",
       "<table border=\"1\" class=\"dataframe\">\n",
       "  <thead>\n",
       "    <tr style=\"text-align: right;\">\n",
       "      <th></th>\n",
       "      <th>is_male</th>\n",
       "      <th>has_atypical angina</th>\n",
       "      <th>has_non-anginal pain</th>\n",
       "      <th>has_typical angina</th>\n",
       "      <th>ecg_normal</th>\n",
       "      <th>ecg_probable left ventricular hypertrophy</th>\n",
       "      <th>exang_yes</th>\n",
       "      <th>slope_flat</th>\n",
       "      <th>slope_upsloping</th>\n",
       "      <th>thal_normal</th>\n",
       "      <th>thal_reversable defect</th>\n",
       "      <th>ca_1.0</th>\n",
       "      <th>ca_2.0</th>\n",
       "      <th>ca_3.0</th>\n",
       "      <th>x_1</th>\n",
       "    </tr>\n",
       "  </thead>\n",
       "  <tbody>\n",
       "    <tr>\n",
       "      <th>44</th>\n",
       "      <td>0</td>\n",
       "      <td>0</td>\n",
       "      <td>0</td>\n",
       "      <td>0</td>\n",
       "      <td>0</td>\n",
       "      <td>1</td>\n",
       "      <td>0</td>\n",
       "      <td>0</td>\n",
       "      <td>1</td>\n",
       "      <td>1</td>\n",
       "      <td>0</td>\n",
       "      <td>0</td>\n",
       "      <td>0</td>\n",
       "      <td>0</td>\n",
       "      <td>-1.235772</td>\n",
       "    </tr>\n",
       "    <tr>\n",
       "      <th>91</th>\n",
       "      <td>0</td>\n",
       "      <td>0</td>\n",
       "      <td>0</td>\n",
       "      <td>0</td>\n",
       "      <td>0</td>\n",
       "      <td>1</td>\n",
       "      <td>0</td>\n",
       "      <td>0</td>\n",
       "      <td>0</td>\n",
       "      <td>0</td>\n",
       "      <td>1</td>\n",
       "      <td>0</td>\n",
       "      <td>0</td>\n",
       "      <td>1</td>\n",
       "      <td>3.201330</td>\n",
       "    </tr>\n",
       "    <tr>\n",
       "      <th>162</th>\n",
       "      <td>0</td>\n",
       "      <td>0</td>\n",
       "      <td>1</td>\n",
       "      <td>0</td>\n",
       "      <td>1</td>\n",
       "      <td>0</td>\n",
       "      <td>0</td>\n",
       "      <td>1</td>\n",
       "      <td>0</td>\n",
       "      <td>1</td>\n",
       "      <td>0</td>\n",
       "      <td>0</td>\n",
       "      <td>0</td>\n",
       "      <td>0</td>\n",
       "      <td>-0.299750</td>\n",
       "    </tr>\n",
       "    <tr>\n",
       "      <th>110</th>\n",
       "      <td>0</td>\n",
       "      <td>0</td>\n",
       "      <td>0</td>\n",
       "      <td>0</td>\n",
       "      <td>0</td>\n",
       "      <td>1</td>\n",
       "      <td>1</td>\n",
       "      <td>1</td>\n",
       "      <td>0</td>\n",
       "      <td>0</td>\n",
       "      <td>1</td>\n",
       "      <td>0</td>\n",
       "      <td>0</td>\n",
       "      <td>0</td>\n",
       "      <td>0.277229</td>\n",
       "    </tr>\n",
       "    <tr>\n",
       "      <th>21</th>\n",
       "      <td>0</td>\n",
       "      <td>0</td>\n",
       "      <td>0</td>\n",
       "      <td>1</td>\n",
       "      <td>0</td>\n",
       "      <td>1</td>\n",
       "      <td>0</td>\n",
       "      <td>0</td>\n",
       "      <td>1</td>\n",
       "      <td>1</td>\n",
       "      <td>0</td>\n",
       "      <td>0</td>\n",
       "      <td>0</td>\n",
       "      <td>0</td>\n",
       "      <td>-0.206058</td>\n",
       "    </tr>\n",
       "  </tbody>\n",
       "</table>\n",
       "</div>"
      ],
      "text/plain": [
       "     is_male  has_atypical angina  has_non-anginal pain  has_typical angina  \\\n",
       "44         0                    0                     0                   0   \n",
       "91         0                    0                     0                   0   \n",
       "162        0                    0                     1                   0   \n",
       "110        0                    0                     0                   0   \n",
       "21         0                    0                     0                   1   \n",
       "\n",
       "     ecg_normal  ecg_probable left ventricular hypertrophy  exang_yes  \\\n",
       "44            0                                          1          0   \n",
       "91            0                                          1          0   \n",
       "162           1                                          0          0   \n",
       "110           0                                          1          1   \n",
       "21            0                                          1          0   \n",
       "\n",
       "     slope_flat  slope_upsloping  thal_normal  thal_reversable defect  ca_1.0  \\\n",
       "44            0                1            1                       0       0   \n",
       "91            0                0            0                       1       0   \n",
       "162           1                0            1                       0       0   \n",
       "110           1                0            0                       1       0   \n",
       "21            0                1            1                       0       0   \n",
       "\n",
       "     ca_2.0  ca_3.0       x_1  \n",
       "44        0       0 -1.235772  \n",
       "91        0       1  3.201330  \n",
       "162       0       0 -0.299750  \n",
       "110       0       0  0.277229  \n",
       "21        0       0 -0.206058  "
      ]
     },
     "execution_count": 243,
     "metadata": {},
     "output_type": "execute_result"
    }
   ],
   "source": [
    "X_lda_train = X_train.iloc[:,5:]\n",
    "X_lda_train[\"x_1\"] = lda_train\n",
    "X_lda_train.head()"
   ]
  },
  {
   "cell_type": "code",
   "execution_count": 244,
   "metadata": {},
   "outputs": [
    {
     "data": {
      "text/html": [
       "<div>\n",
       "<style scoped>\n",
       "    .dataframe tbody tr th:only-of-type {\n",
       "        vertical-align: middle;\n",
       "    }\n",
       "\n",
       "    .dataframe tbody tr th {\n",
       "        vertical-align: top;\n",
       "    }\n",
       "\n",
       "    .dataframe thead th {\n",
       "        text-align: right;\n",
       "    }\n",
       "</style>\n",
       "<table border=\"1\" class=\"dataframe\">\n",
       "  <thead>\n",
       "    <tr style=\"text-align: right;\">\n",
       "      <th></th>\n",
       "      <th>is_male</th>\n",
       "      <th>has_atypical angina</th>\n",
       "      <th>has_non-anginal pain</th>\n",
       "      <th>has_typical angina</th>\n",
       "      <th>ecg_normal</th>\n",
       "      <th>ecg_probable left ventricular hypertrophy</th>\n",
       "      <th>exang_yes</th>\n",
       "      <th>slope_flat</th>\n",
       "      <th>slope_upsloping</th>\n",
       "      <th>thal_normal</th>\n",
       "      <th>thal_reversable defect</th>\n",
       "      <th>ca_1.0</th>\n",
       "      <th>ca_2.0</th>\n",
       "      <th>ca_3.0</th>\n",
       "      <th>x_1</th>\n",
       "    </tr>\n",
       "  </thead>\n",
       "  <tbody>\n",
       "    <tr>\n",
       "      <th>8</th>\n",
       "      <td>1</td>\n",
       "      <td>0</td>\n",
       "      <td>0</td>\n",
       "      <td>0</td>\n",
       "      <td>0</td>\n",
       "      <td>1</td>\n",
       "      <td>0</td>\n",
       "      <td>1</td>\n",
       "      <td>0</td>\n",
       "      <td>0</td>\n",
       "      <td>1</td>\n",
       "      <td>1</td>\n",
       "      <td>0</td>\n",
       "      <td>0</td>\n",
       "      <td>0.140092</td>\n",
       "    </tr>\n",
       "    <tr>\n",
       "      <th>81</th>\n",
       "      <td>0</td>\n",
       "      <td>0</td>\n",
       "      <td>0</td>\n",
       "      <td>0</td>\n",
       "      <td>0</td>\n",
       "      <td>1</td>\n",
       "      <td>0</td>\n",
       "      <td>1</td>\n",
       "      <td>0</td>\n",
       "      <td>1</td>\n",
       "      <td>0</td>\n",
       "      <td>0</td>\n",
       "      <td>0</td>\n",
       "      <td>0</td>\n",
       "      <td>-0.104690</td>\n",
       "    </tr>\n",
       "    <tr>\n",
       "      <th>157</th>\n",
       "      <td>1</td>\n",
       "      <td>0</td>\n",
       "      <td>0</td>\n",
       "      <td>0</td>\n",
       "      <td>0</td>\n",
       "      <td>1</td>\n",
       "      <td>0</td>\n",
       "      <td>0</td>\n",
       "      <td>1</td>\n",
       "      <td>0</td>\n",
       "      <td>1</td>\n",
       "      <td>0</td>\n",
       "      <td>1</td>\n",
       "      <td>0</td>\n",
       "      <td>-1.376758</td>\n",
       "    </tr>\n",
       "    <tr>\n",
       "      <th>205</th>\n",
       "      <td>1</td>\n",
       "      <td>0</td>\n",
       "      <td>0</td>\n",
       "      <td>0</td>\n",
       "      <td>0</td>\n",
       "      <td>1</td>\n",
       "      <td>1</td>\n",
       "      <td>1</td>\n",
       "      <td>0</td>\n",
       "      <td>0</td>\n",
       "      <td>1</td>\n",
       "      <td>0</td>\n",
       "      <td>0</td>\n",
       "      <td>1</td>\n",
       "      <td>-0.088324</td>\n",
       "    </tr>\n",
       "    <tr>\n",
       "      <th>18</th>\n",
       "      <td>0</td>\n",
       "      <td>0</td>\n",
       "      <td>1</td>\n",
       "      <td>0</td>\n",
       "      <td>1</td>\n",
       "      <td>0</td>\n",
       "      <td>0</td>\n",
       "      <td>0</td>\n",
       "      <td>1</td>\n",
       "      <td>1</td>\n",
       "      <td>0</td>\n",
       "      <td>0</td>\n",
       "      <td>0</td>\n",
       "      <td>0</td>\n",
       "      <td>0.027721</td>\n",
       "    </tr>\n",
       "  </tbody>\n",
       "</table>\n",
       "</div>"
      ],
      "text/plain": [
       "     is_male  has_atypical angina  has_non-anginal pain  has_typical angina  \\\n",
       "8          1                    0                     0                   0   \n",
       "81         0                    0                     0                   0   \n",
       "157        1                    0                     0                   0   \n",
       "205        1                    0                     0                   0   \n",
       "18         0                    0                     1                   0   \n",
       "\n",
       "     ecg_normal  ecg_probable left ventricular hypertrophy  exang_yes  \\\n",
       "8             0                                          1          0   \n",
       "81            0                                          1          0   \n",
       "157           0                                          1          0   \n",
       "205           0                                          1          1   \n",
       "18            1                                          0          0   \n",
       "\n",
       "     slope_flat  slope_upsloping  thal_normal  thal_reversable defect  ca_1.0  \\\n",
       "8             1                0            0                       1       1   \n",
       "81            1                0            1                       0       0   \n",
       "157           0                1            0                       1       0   \n",
       "205           1                0            0                       1       0   \n",
       "18            0                1            1                       0       0   \n",
       "\n",
       "     ca_2.0  ca_3.0       x_1  \n",
       "8         0       0  0.140092  \n",
       "81        0       0 -0.104690  \n",
       "157       1       0 -1.376758  \n",
       "205       0       1 -0.088324  \n",
       "18        0       0  0.027721  "
      ]
     },
     "execution_count": 244,
     "metadata": {},
     "output_type": "execute_result"
    }
   ],
   "source": [
    "X_lda_test = X_test.iloc[:,5:]\n",
    "X_lda_test[\"x_1\"] = lda_test\n",
    "X_lda_test.head()"
   ]
  },
  {
   "cell_type": "code",
   "execution_count": 245,
   "metadata": {},
   "outputs": [],
   "source": [
    "X_lda_train = X_lda_train.drop(columns = ['thal_normal','thal_reversable defect',\n",
    "                                  'slope_flat','slope_upsloping'])\n",
    "X_lda_test = X_lda_test.drop(columns = ['thal_normal','thal_reversable defect',\n",
    "                                  'slope_flat','slope_upsloping'])"
   ]
  },
  {
   "cell_type": "code",
   "execution_count": 246,
   "metadata": {},
   "outputs": [
    {
     "name": "stdout",
     "output_type": "stream",
     "text": [
      "Optimization terminated successfully.\n",
      "         Current function value: 0.351257\n",
      "         Iterations 7\n"
     ]
    },
    {
     "data": {
      "text/html": [
       "<table class=\"simpletable\">\n",
       "<caption>Logit Regression Results</caption>\n",
       "<tr>\n",
       "  <th>Dep. Variable:</th>     <td>diagnosis</td>    <th>  No. Observations:  </th>  <td>   242</td>  \n",
       "</tr>\n",
       "<tr>\n",
       "  <th>Model:</th>               <td>Logit</td>      <th>  Df Residuals:      </th>  <td>   231</td>  \n",
       "</tr>\n",
       "<tr>\n",
       "  <th>Method:</th>               <td>MLE</td>       <th>  Df Model:          </th>  <td>    10</td>  \n",
       "</tr>\n",
       "<tr>\n",
       "  <th>Date:</th>          <td>Wed, 08 May 2019</td> <th>  Pseudo R-squ.:     </th>  <td>0.4850</td>  \n",
       "</tr>\n",
       "<tr>\n",
       "  <th>Time:</th>              <td>13:10:21</td>     <th>  Log-Likelihood:    </th> <td> -85.004</td> \n",
       "</tr>\n",
       "<tr>\n",
       "  <th>converged:</th>           <td>True</td>       <th>  LL-Null:           </th> <td> -165.05</td> \n",
       "</tr>\n",
       "<tr>\n",
       "  <th> </th>                      <td> </td>        <th>  LLR p-value:       </th> <td>3.091e-29</td>\n",
       "</tr>\n",
       "</table>\n",
       "<table class=\"simpletable\">\n",
       "<tr>\n",
       "                      <td></td>                         <th>coef</th>     <th>std err</th>      <th>z</th>      <th>P>|z|</th>  <th>[0.025</th>    <th>0.975]</th>  \n",
       "</tr>\n",
       "<tr>\n",
       "  <th>is_male</th>                                   <td>    1.8351</td> <td>    0.476</td> <td>    3.854</td> <td> 0.000</td> <td>    0.902</td> <td>    2.768</td>\n",
       "</tr>\n",
       "<tr>\n",
       "  <th>has_atypical angina</th>                       <td>   -1.2179</td> <td>    0.612</td> <td>   -1.989</td> <td> 0.047</td> <td>   -2.418</td> <td>   -0.018</td>\n",
       "</tr>\n",
       "<tr>\n",
       "  <th>has_non-anginal pain</th>                      <td>   -1.6941</td> <td>    0.480</td> <td>   -3.532</td> <td> 0.000</td> <td>   -2.634</td> <td>   -0.754</td>\n",
       "</tr>\n",
       "<tr>\n",
       "  <th>has_typical angina</th>                        <td>   -2.2098</td> <td>    0.706</td> <td>   -3.129</td> <td> 0.002</td> <td>   -3.594</td> <td>   -0.826</td>\n",
       "</tr>\n",
       "<tr>\n",
       "  <th>ecg_normal</th>                                <td>   -2.0145</td> <td>    0.551</td> <td>   -3.659</td> <td> 0.000</td> <td>   -3.094</td> <td>   -0.935</td>\n",
       "</tr>\n",
       "<tr>\n",
       "  <th>ecg_probable left ventricular hypertrophy</th> <td>   -1.2529</td> <td>    0.534</td> <td>   -2.348</td> <td> 0.019</td> <td>   -2.299</td> <td>   -0.207</td>\n",
       "</tr>\n",
       "<tr>\n",
       "  <th>exang_yes</th>                                 <td>    0.8396</td> <td>    0.483</td> <td>    1.740</td> <td> 0.082</td> <td>   -0.106</td> <td>    1.786</td>\n",
       "</tr>\n",
       "<tr>\n",
       "  <th>ca_1.0</th>                                    <td>    1.5965</td> <td>    0.485</td> <td>    3.293</td> <td> 0.001</td> <td>    0.646</td> <td>    2.547</td>\n",
       "</tr>\n",
       "<tr>\n",
       "  <th>ca_2.0</th>                                    <td>    2.4923</td> <td>    0.686</td> <td>    3.633</td> <td> 0.000</td> <td>    1.148</td> <td>    3.837</td>\n",
       "</tr>\n",
       "<tr>\n",
       "  <th>ca_3.0</th>                                    <td>    1.7708</td> <td>    0.916</td> <td>    1.933</td> <td> 0.053</td> <td>   -0.025</td> <td>    3.566</td>\n",
       "</tr>\n",
       "<tr>\n",
       "  <th>x_1</th>                                       <td>    0.9564</td> <td>    0.231</td> <td>    4.134</td> <td> 0.000</td> <td>    0.503</td> <td>    1.410</td>\n",
       "</tr>\n",
       "</table>"
      ],
      "text/plain": [
       "<class 'statsmodels.iolib.summary.Summary'>\n",
       "\"\"\"\n",
       "                           Logit Regression Results                           \n",
       "==============================================================================\n",
       "Dep. Variable:              diagnosis   No. Observations:                  242\n",
       "Model:                          Logit   Df Residuals:                      231\n",
       "Method:                           MLE   Df Model:                           10\n",
       "Date:                Wed, 08 May 2019   Pseudo R-squ.:                  0.4850\n",
       "Time:                        13:10:21   Log-Likelihood:                -85.004\n",
       "converged:                       True   LL-Null:                       -165.05\n",
       "                                        LLR p-value:                 3.091e-29\n",
       "=============================================================================================================\n",
       "                                                coef    std err          z      P>|z|      [0.025      0.975]\n",
       "-------------------------------------------------------------------------------------------------------------\n",
       "is_male                                       1.8351      0.476      3.854      0.000       0.902       2.768\n",
       "has_atypical angina                          -1.2179      0.612     -1.989      0.047      -2.418      -0.018\n",
       "has_non-anginal pain                         -1.6941      0.480     -3.532      0.000      -2.634      -0.754\n",
       "has_typical angina                           -2.2098      0.706     -3.129      0.002      -3.594      -0.826\n",
       "ecg_normal                                   -2.0145      0.551     -3.659      0.000      -3.094      -0.935\n",
       "ecg_probable left ventricular hypertrophy    -1.2529      0.534     -2.348      0.019      -2.299      -0.207\n",
       "exang_yes                                     0.8396      0.483      1.740      0.082      -0.106       1.786\n",
       "ca_1.0                                        1.5965      0.485      3.293      0.001       0.646       2.547\n",
       "ca_2.0                                        2.4923      0.686      3.633      0.000       1.148       3.837\n",
       "ca_3.0                                        1.7708      0.916      1.933      0.053      -0.025       3.566\n",
       "x_1                                           0.9564      0.231      4.134      0.000       0.503       1.410\n",
       "=============================================================================================================\n",
       "\"\"\""
      ]
     },
     "execution_count": 246,
     "metadata": {},
     "output_type": "execute_result"
    }
   ],
   "source": [
    "lda_logit = sm.Logit(y_train, X_lda_train)\n",
    "lda_logit_model = lda_logit.fit()\n",
    "\n",
    "lda_logit_model.summary()"
   ]
  },
  {
   "cell_type": "code",
   "execution_count": 247,
   "metadata": {
    "scrolled": true
   },
   "outputs": [
    {
     "data": {
      "text/plain": [
       "LogisticRegression(C=1.0, class_weight='balanced', dual=False,\n",
       "          fit_intercept=True, intercept_scaling=1, max_iter=100,\n",
       "          multi_class='ovr', n_jobs=1, penalty='l2', random_state=None,\n",
       "          solver='liblinear', tol=0.0001, verbose=0, warm_start=False)"
      ]
     },
     "execution_count": 247,
     "metadata": {},
     "output_type": "execute_result"
    }
   ],
   "source": [
    "log_lda = LogisticRegression(class_weight = \"balanced\", solver = \"liblinear\")\n",
    "log_lda.fit(X_lda_train,y_train)"
   ]
  },
  {
   "cell_type": "code",
   "execution_count": 248,
   "metadata": {},
   "outputs": [
    {
     "name": "stdout",
     "output_type": "stream",
     "text": [
      "0.8512396694214877\n"
     ]
    },
    {
     "data": {
      "text/plain": [
       "array([[121,  18],\n",
       "       [ 18,  85]])"
      ]
     },
     "execution_count": 248,
     "metadata": {},
     "output_type": "execute_result"
    }
   ],
   "source": [
    "lda_train_pred = log_lda.predict(X_lda_train)\n",
    "print(log_lda.score(X_lda_train,y_train))\n",
    "confusion_matrix(y_train,lda_train_pred)"
   ]
  },
  {
   "cell_type": "code",
   "execution_count": 249,
   "metadata": {},
   "outputs": [
    {
     "name": "stdout",
     "output_type": "stream",
     "text": [
      "0.8688524590163934\n"
     ]
    },
    {
     "data": {
      "text/plain": [
       "array([[24,  1],\n",
       "       [ 7, 29]])"
      ]
     },
     "execution_count": 249,
     "metadata": {},
     "output_type": "execute_result"
    }
   ],
   "source": [
    "lda_test_pred = log_lda.predict(X_lda_test)\n",
    "print(log_lda.score(X_lda_test,y_test))\n",
    "confusion_matrix(y_test,lda_test_pred)"
   ]
  },
  {
   "cell_type": "markdown",
   "metadata": {},
   "source": [
    "## Sets de entrenamiento"
   ]
  },
  {
   "cell_type": "code",
   "execution_count": 250,
   "metadata": {
    "scrolled": true
   },
   "outputs": [
    {
     "data": {
      "text/html": [
       "<div>\n",
       "<style scoped>\n",
       "    .dataframe tbody tr th:only-of-type {\n",
       "        vertical-align: middle;\n",
       "    }\n",
       "\n",
       "    .dataframe tbody tr th {\n",
       "        vertical-align: top;\n",
       "    }\n",
       "\n",
       "    .dataframe thead th {\n",
       "        text-align: right;\n",
       "    }\n",
       "</style>\n",
       "<table border=\"1\" class=\"dataframe\">\n",
       "  <thead>\n",
       "    <tr style=\"text-align: right;\">\n",
       "      <th></th>\n",
       "      <th>age</th>\n",
       "      <th>rest_bp</th>\n",
       "      <th>chol</th>\n",
       "      <th>thalach</th>\n",
       "      <th>oldpeak</th>\n",
       "      <th>is_male</th>\n",
       "      <th>has_atypical angina</th>\n",
       "      <th>has_non-anginal pain</th>\n",
       "      <th>has_typical angina</th>\n",
       "      <th>ecg_normal</th>\n",
       "      <th>ecg_probable left ventricular hypertrophy</th>\n",
       "      <th>exang_yes</th>\n",
       "      <th>slope_flat</th>\n",
       "      <th>slope_upsloping</th>\n",
       "      <th>thal_normal</th>\n",
       "      <th>thal_reversable defect</th>\n",
       "      <th>ca_1.0</th>\n",
       "      <th>ca_2.0</th>\n",
       "      <th>ca_3.0</th>\n",
       "    </tr>\n",
       "  </thead>\n",
       "  <tbody>\n",
       "    <tr>\n",
       "      <th>44</th>\n",
       "      <td>0.727089</td>\n",
       "      <td>-0.096170</td>\n",
       "      <td>1.611621</td>\n",
       "      <td>0.849172</td>\n",
       "      <td>-0.896862</td>\n",
       "      <td>0</td>\n",
       "      <td>0</td>\n",
       "      <td>0</td>\n",
       "      <td>0</td>\n",
       "      <td>0</td>\n",
       "      <td>1</td>\n",
       "      <td>0</td>\n",
       "      <td>0</td>\n",
       "      <td>1</td>\n",
       "      <td>1</td>\n",
       "      <td>0</td>\n",
       "      <td>0</td>\n",
       "      <td>0</td>\n",
       "      <td>0</td>\n",
       "    </tr>\n",
       "    <tr>\n",
       "      <th>91</th>\n",
       "      <td>0.837908</td>\n",
       "      <td>1.611220</td>\n",
       "      <td>-1.599745</td>\n",
       "      <td>-0.201743</td>\n",
       "      <td>4.451851</td>\n",
       "      <td>0</td>\n",
       "      <td>0</td>\n",
       "      <td>0</td>\n",
       "      <td>0</td>\n",
       "      <td>0</td>\n",
       "      <td>1</td>\n",
       "      <td>0</td>\n",
       "      <td>0</td>\n",
       "      <td>0</td>\n",
       "      <td>0</td>\n",
       "      <td>1</td>\n",
       "      <td>0</td>\n",
       "      <td>0</td>\n",
       "      <td>1</td>\n",
       "    </tr>\n",
       "    <tr>\n",
       "      <th>162</th>\n",
       "      <td>-0.048643</td>\n",
       "      <td>-1.234430</td>\n",
       "      <td>-0.632466</td>\n",
       "      <td>0.367503</td>\n",
       "      <td>0.483451</td>\n",
       "      <td>0</td>\n",
       "      <td>0</td>\n",
       "      <td>1</td>\n",
       "      <td>0</td>\n",
       "      <td>1</td>\n",
       "      <td>0</td>\n",
       "      <td>0</td>\n",
       "      <td>1</td>\n",
       "      <td>0</td>\n",
       "      <td>1</td>\n",
       "      <td>0</td>\n",
       "      <td>0</td>\n",
       "      <td>0</td>\n",
       "      <td>0</td>\n",
       "    </tr>\n",
       "    <tr>\n",
       "      <th>110</th>\n",
       "      <td>0.727089</td>\n",
       "      <td>0.757525</td>\n",
       "      <td>1.166672</td>\n",
       "      <td>-0.157955</td>\n",
       "      <td>-0.034166</td>\n",
       "      <td>0</td>\n",
       "      <td>0</td>\n",
       "      <td>0</td>\n",
       "      <td>0</td>\n",
       "      <td>0</td>\n",
       "      <td>1</td>\n",
       "      <td>1</td>\n",
       "      <td>1</td>\n",
       "      <td>0</td>\n",
       "      <td>0</td>\n",
       "      <td>1</td>\n",
       "      <td>0</td>\n",
       "      <td>0</td>\n",
       "      <td>0</td>\n",
       "    </tr>\n",
       "    <tr>\n",
       "      <th>21</th>\n",
       "      <td>0.394632</td>\n",
       "      <td>1.042090</td>\n",
       "      <td>0.702378</td>\n",
       "      <td>0.542655</td>\n",
       "      <td>-0.034166</td>\n",
       "      <td>0</td>\n",
       "      <td>0</td>\n",
       "      <td>0</td>\n",
       "      <td>1</td>\n",
       "      <td>0</td>\n",
       "      <td>1</td>\n",
       "      <td>0</td>\n",
       "      <td>0</td>\n",
       "      <td>1</td>\n",
       "      <td>1</td>\n",
       "      <td>0</td>\n",
       "      <td>0</td>\n",
       "      <td>0</td>\n",
       "      <td>0</td>\n",
       "    </tr>\n",
       "  </tbody>\n",
       "</table>\n",
       "</div>"
      ],
      "text/plain": [
       "          age   rest_bp      chol   thalach   oldpeak  is_male  \\\n",
       "44   0.727089 -0.096170  1.611621  0.849172 -0.896862        0   \n",
       "91   0.837908  1.611220 -1.599745 -0.201743  4.451851        0   \n",
       "162 -0.048643 -1.234430 -0.632466  0.367503  0.483451        0   \n",
       "110  0.727089  0.757525  1.166672 -0.157955 -0.034166        0   \n",
       "21   0.394632  1.042090  0.702378  0.542655 -0.034166        0   \n",
       "\n",
       "     has_atypical angina  has_non-anginal pain  has_typical angina  \\\n",
       "44                     0                     0                   0   \n",
       "91                     0                     0                   0   \n",
       "162                    0                     1                   0   \n",
       "110                    0                     0                   0   \n",
       "21                     0                     0                   1   \n",
       "\n",
       "     ecg_normal  ecg_probable left ventricular hypertrophy  exang_yes  \\\n",
       "44            0                                          1          0   \n",
       "91            0                                          1          0   \n",
       "162           1                                          0          0   \n",
       "110           0                                          1          1   \n",
       "21            0                                          1          0   \n",
       "\n",
       "     slope_flat  slope_upsloping  thal_normal  thal_reversable defect  ca_1.0  \\\n",
       "44            0                1            1                       0       0   \n",
       "91            0                0            0                       1       0   \n",
       "162           1                0            1                       0       0   \n",
       "110           1                0            0                       1       0   \n",
       "21            0                1            1                       0       0   \n",
       "\n",
       "     ca_2.0  ca_3.0  \n",
       "44        0       0  \n",
       "91        0       1  \n",
       "162       0       0  \n",
       "110       0       0  \n",
       "21        0       0  "
      ]
     },
     "execution_count": 250,
     "metadata": {},
     "output_type": "execute_result"
    }
   ],
   "source": [
    "X_train.head()"
   ]
  },
  {
   "cell_type": "code",
   "execution_count": 251,
   "metadata": {
    "scrolled": true
   },
   "outputs": [
    {
     "data": {
      "text/html": [
       "<div>\n",
       "<style scoped>\n",
       "    .dataframe tbody tr th:only-of-type {\n",
       "        vertical-align: middle;\n",
       "    }\n",
       "\n",
       "    .dataframe tbody tr th {\n",
       "        vertical-align: top;\n",
       "    }\n",
       "\n",
       "    .dataframe thead th {\n",
       "        text-align: right;\n",
       "    }\n",
       "</style>\n",
       "<table border=\"1\" class=\"dataframe\">\n",
       "  <thead>\n",
       "    <tr style=\"text-align: right;\">\n",
       "      <th></th>\n",
       "      <th>age</th>\n",
       "      <th>rest_bp</th>\n",
       "      <th>chol</th>\n",
       "      <th>thalach</th>\n",
       "      <th>oldpeak</th>\n",
       "      <th>is_male</th>\n",
       "      <th>has_atypical angina</th>\n",
       "      <th>has_non-anginal pain</th>\n",
       "      <th>has_typical angina</th>\n",
       "      <th>ecg_normal</th>\n",
       "      <th>ecg_probable left ventricular hypertrophy</th>\n",
       "      <th>exang_yes</th>\n",
       "      <th>slope_flat</th>\n",
       "      <th>slope_upsloping</th>\n",
       "      <th>thal_normal</th>\n",
       "      <th>thal_reversable defect</th>\n",
       "      <th>ca_1.0</th>\n",
       "      <th>ca_2.0</th>\n",
       "      <th>ca_3.0</th>\n",
       "    </tr>\n",
       "  </thead>\n",
       "  <tbody>\n",
       "    <tr>\n",
       "      <th>8</th>\n",
       "      <td>0.948726</td>\n",
       "      <td>-0.096170</td>\n",
       "      <td>0.141357</td>\n",
       "      <td>-0.114167</td>\n",
       "      <td>0.310912</td>\n",
       "      <td>1</td>\n",
       "      <td>0</td>\n",
       "      <td>0</td>\n",
       "      <td>0</td>\n",
       "      <td>0</td>\n",
       "      <td>1</td>\n",
       "      <td>0</td>\n",
       "      <td>1</td>\n",
       "      <td>0</td>\n",
       "      <td>0</td>\n",
       "      <td>1</td>\n",
       "      <td>1</td>\n",
       "      <td>0</td>\n",
       "      <td>0</td>\n",
       "    </tr>\n",
       "    <tr>\n",
       "      <th>81</th>\n",
       "      <td>-0.159462</td>\n",
       "      <td>-0.096170</td>\n",
       "      <td>0.334813</td>\n",
       "      <td>-0.289320</td>\n",
       "      <td>-0.551783</td>\n",
       "      <td>0</td>\n",
       "      <td>0</td>\n",
       "      <td>0</td>\n",
       "      <td>0</td>\n",
       "      <td>0</td>\n",
       "      <td>1</td>\n",
       "      <td>0</td>\n",
       "      <td>1</td>\n",
       "      <td>0</td>\n",
       "      <td>1</td>\n",
       "      <td>0</td>\n",
       "      <td>0</td>\n",
       "      <td>0</td>\n",
       "      <td>0</td>\n",
       "    </tr>\n",
       "    <tr>\n",
       "      <th>157</th>\n",
       "      <td>0.394632</td>\n",
       "      <td>-0.380735</td>\n",
       "      <td>1.031253</td>\n",
       "      <td>0.936749</td>\n",
       "      <td>-0.896862</td>\n",
       "      <td>1</td>\n",
       "      <td>0</td>\n",
       "      <td>0</td>\n",
       "      <td>0</td>\n",
       "      <td>0</td>\n",
       "      <td>1</td>\n",
       "      <td>0</td>\n",
       "      <td>0</td>\n",
       "      <td>1</td>\n",
       "      <td>0</td>\n",
       "      <td>1</td>\n",
       "      <td>0</td>\n",
       "      <td>1</td>\n",
       "      <td>0</td>\n",
       "    </tr>\n",
       "    <tr>\n",
       "      <th>205</th>\n",
       "      <td>-1.046013</td>\n",
       "      <td>0.586786</td>\n",
       "      <td>1.205363</td>\n",
       "      <td>-0.114167</td>\n",
       "      <td>-0.896862</td>\n",
       "      <td>1</td>\n",
       "      <td>0</td>\n",
       "      <td>0</td>\n",
       "      <td>0</td>\n",
       "      <td>0</td>\n",
       "      <td>1</td>\n",
       "      <td>1</td>\n",
       "      <td>1</td>\n",
       "      <td>0</td>\n",
       "      <td>0</td>\n",
       "      <td>1</td>\n",
       "      <td>0</td>\n",
       "      <td>0</td>\n",
       "      <td>1</td>\n",
       "    </tr>\n",
       "    <tr>\n",
       "      <th>18</th>\n",
       "      <td>-0.713556</td>\n",
       "      <td>-0.096170</td>\n",
       "      <td>0.547614</td>\n",
       "      <td>-0.464472</td>\n",
       "      <td>-0.724323</td>\n",
       "      <td>0</td>\n",
       "      <td>0</td>\n",
       "      <td>1</td>\n",
       "      <td>0</td>\n",
       "      <td>1</td>\n",
       "      <td>0</td>\n",
       "      <td>0</td>\n",
       "      <td>0</td>\n",
       "      <td>1</td>\n",
       "      <td>1</td>\n",
       "      <td>0</td>\n",
       "      <td>0</td>\n",
       "      <td>0</td>\n",
       "      <td>0</td>\n",
       "    </tr>\n",
       "  </tbody>\n",
       "</table>\n",
       "</div>"
      ],
      "text/plain": [
       "          age   rest_bp      chol   thalach   oldpeak  is_male  \\\n",
       "8    0.948726 -0.096170  0.141357 -0.114167  0.310912        1   \n",
       "81  -0.159462 -0.096170  0.334813 -0.289320 -0.551783        0   \n",
       "157  0.394632 -0.380735  1.031253  0.936749 -0.896862        1   \n",
       "205 -1.046013  0.586786  1.205363 -0.114167 -0.896862        1   \n",
       "18  -0.713556 -0.096170  0.547614 -0.464472 -0.724323        0   \n",
       "\n",
       "     has_atypical angina  has_non-anginal pain  has_typical angina  \\\n",
       "8                      0                     0                   0   \n",
       "81                     0                     0                   0   \n",
       "157                    0                     0                   0   \n",
       "205                    0                     0                   0   \n",
       "18                     0                     1                   0   \n",
       "\n",
       "     ecg_normal  ecg_probable left ventricular hypertrophy  exang_yes  \\\n",
       "8             0                                          1          0   \n",
       "81            0                                          1          0   \n",
       "157           0                                          1          0   \n",
       "205           0                                          1          1   \n",
       "18            1                                          0          0   \n",
       "\n",
       "     slope_flat  slope_upsloping  thal_normal  thal_reversable defect  ca_1.0  \\\n",
       "8             1                0            0                       1       1   \n",
       "81            1                0            1                       0       0   \n",
       "157           0                1            0                       1       0   \n",
       "205           1                0            0                       1       0   \n",
       "18            0                1            1                       0       0   \n",
       "\n",
       "     ca_2.0  ca_3.0  \n",
       "8         0       0  \n",
       "81        0       0  \n",
       "157       1       0  \n",
       "205       0       1  \n",
       "18        0       0  "
      ]
     },
     "execution_count": 251,
     "metadata": {},
     "output_type": "execute_result"
    }
   ],
   "source": [
    "X_test.head()"
   ]
  },
  {
   "cell_type": "markdown",
   "metadata": {},
   "source": [
    "## PCA"
   ]
  },
  {
   "cell_type": "code",
   "execution_count": 252,
   "metadata": {
    "scrolled": true
   },
   "outputs": [
    {
     "data": {
      "text/html": [
       "<div>\n",
       "<style scoped>\n",
       "    .dataframe tbody tr th:only-of-type {\n",
       "        vertical-align: middle;\n",
       "    }\n",
       "\n",
       "    .dataframe tbody tr th {\n",
       "        vertical-align: top;\n",
       "    }\n",
       "\n",
       "    .dataframe thead th {\n",
       "        text-align: right;\n",
       "    }\n",
       "</style>\n",
       "<table border=\"1\" class=\"dataframe\">\n",
       "  <thead>\n",
       "    <tr style=\"text-align: right;\">\n",
       "      <th></th>\n",
       "      <th>age</th>\n",
       "      <th>rest_bp</th>\n",
       "      <th>chol</th>\n",
       "      <th>thalach</th>\n",
       "      <th>oldpeak</th>\n",
       "    </tr>\n",
       "  </thead>\n",
       "  <tbody>\n",
       "    <tr>\n",
       "      <th>44</th>\n",
       "      <td>0.727089</td>\n",
       "      <td>-0.096170</td>\n",
       "      <td>1.611621</td>\n",
       "      <td>0.849172</td>\n",
       "      <td>-0.896862</td>\n",
       "    </tr>\n",
       "    <tr>\n",
       "      <th>91</th>\n",
       "      <td>0.837908</td>\n",
       "      <td>1.611220</td>\n",
       "      <td>-1.599745</td>\n",
       "      <td>-0.201743</td>\n",
       "      <td>4.451851</td>\n",
       "    </tr>\n",
       "    <tr>\n",
       "      <th>162</th>\n",
       "      <td>-0.048643</td>\n",
       "      <td>-1.234430</td>\n",
       "      <td>-0.632466</td>\n",
       "      <td>0.367503</td>\n",
       "      <td>0.483451</td>\n",
       "    </tr>\n",
       "    <tr>\n",
       "      <th>110</th>\n",
       "      <td>0.727089</td>\n",
       "      <td>0.757525</td>\n",
       "      <td>1.166672</td>\n",
       "      <td>-0.157955</td>\n",
       "      <td>-0.034166</td>\n",
       "    </tr>\n",
       "    <tr>\n",
       "      <th>21</th>\n",
       "      <td>0.394632</td>\n",
       "      <td>1.042090</td>\n",
       "      <td>0.702378</td>\n",
       "      <td>0.542655</td>\n",
       "      <td>-0.034166</td>\n",
       "    </tr>\n",
       "  </tbody>\n",
       "</table>\n",
       "</div>"
      ],
      "text/plain": [
       "          age   rest_bp      chol   thalach   oldpeak\n",
       "44   0.727089 -0.096170  1.611621  0.849172 -0.896862\n",
       "91   0.837908  1.611220 -1.599745 -0.201743  4.451851\n",
       "162 -0.048643 -1.234430 -0.632466  0.367503  0.483451\n",
       "110  0.727089  0.757525  1.166672 -0.157955 -0.034166\n",
       "21   0.394632  1.042090  0.702378  0.542655 -0.034166"
      ]
     },
     "execution_count": 252,
     "metadata": {},
     "output_type": "execute_result"
    }
   ],
   "source": [
    "# Reducir el dataset a las columnas numericas\n",
    "X_numerical_train = X_train.iloc[:, 0:5]\n",
    "X_numerical_test = X_test.iloc[:, 0:5]\n",
    "X_numerical_train.head()"
   ]
  },
  {
   "cell_type": "code",
   "execution_count": 253,
   "metadata": {},
   "outputs": [
    {
     "data": {
      "text/html": [
       "<div>\n",
       "<style scoped>\n",
       "    .dataframe tbody tr th:only-of-type {\n",
       "        vertical-align: middle;\n",
       "    }\n",
       "\n",
       "    .dataframe tbody tr th {\n",
       "        vertical-align: top;\n",
       "    }\n",
       "\n",
       "    .dataframe thead th {\n",
       "        text-align: right;\n",
       "    }\n",
       "</style>\n",
       "<table border=\"1\" class=\"dataframe\">\n",
       "  <thead>\n",
       "    <tr style=\"text-align: right;\">\n",
       "      <th></th>\n",
       "      <th>age</th>\n",
       "      <th>rest_bp</th>\n",
       "      <th>chol</th>\n",
       "      <th>thalach</th>\n",
       "      <th>oldpeak</th>\n",
       "    </tr>\n",
       "  </thead>\n",
       "  <tbody>\n",
       "    <tr>\n",
       "      <th>8</th>\n",
       "      <td>0.948726</td>\n",
       "      <td>-0.096170</td>\n",
       "      <td>0.141357</td>\n",
       "      <td>-0.114167</td>\n",
       "      <td>0.310912</td>\n",
       "    </tr>\n",
       "    <tr>\n",
       "      <th>81</th>\n",
       "      <td>-0.159462</td>\n",
       "      <td>-0.096170</td>\n",
       "      <td>0.334813</td>\n",
       "      <td>-0.289320</td>\n",
       "      <td>-0.551783</td>\n",
       "    </tr>\n",
       "    <tr>\n",
       "      <th>157</th>\n",
       "      <td>0.394632</td>\n",
       "      <td>-0.380735</td>\n",
       "      <td>1.031253</td>\n",
       "      <td>0.936749</td>\n",
       "      <td>-0.896862</td>\n",
       "    </tr>\n",
       "    <tr>\n",
       "      <th>205</th>\n",
       "      <td>-1.046013</td>\n",
       "      <td>0.586786</td>\n",
       "      <td>1.205363</td>\n",
       "      <td>-0.114167</td>\n",
       "      <td>-0.896862</td>\n",
       "    </tr>\n",
       "    <tr>\n",
       "      <th>18</th>\n",
       "      <td>-0.713556</td>\n",
       "      <td>-0.096170</td>\n",
       "      <td>0.547614</td>\n",
       "      <td>-0.464472</td>\n",
       "      <td>-0.724323</td>\n",
       "    </tr>\n",
       "  </tbody>\n",
       "</table>\n",
       "</div>"
      ],
      "text/plain": [
       "          age   rest_bp      chol   thalach   oldpeak\n",
       "8    0.948726 -0.096170  0.141357 -0.114167  0.310912\n",
       "81  -0.159462 -0.096170  0.334813 -0.289320 -0.551783\n",
       "157  0.394632 -0.380735  1.031253  0.936749 -0.896862\n",
       "205 -1.046013  0.586786  1.205363 -0.114167 -0.896862\n",
       "18  -0.713556 -0.096170  0.547614 -0.464472 -0.724323"
      ]
     },
     "execution_count": 253,
     "metadata": {},
     "output_type": "execute_result"
    }
   ],
   "source": [
    "X_numerical_test.head()"
   ]
  },
  {
   "cell_type": "code",
   "execution_count": 254,
   "metadata": {},
   "outputs": [],
   "source": [
    "# PCA\n",
    "pca = PCA(n_components=5, random_state=155766)\n",
    "pca.fit(X_numerical_train)\n",
    "cols = [\"c1\", \"c2\", \"c3\", \"c4\", \"c5\"]\n",
    "\n",
    "pca_df_train = pd.DataFrame(pca.transform(X_numerical_train), columns = cols, index = X_numerical_train.index)\n",
    "pca_df_train[\"diagnosis\"] = y_train\n",
    "\n",
    "pca_df_test = pd.DataFrame(pca.transform(X_numerical_test), columns = cols, index = X_numerical_test.index)\n",
    "pca_df_test[\"diagnosis\"] = y_test"
   ]
  },
  {
   "cell_type": "code",
   "execution_count": 255,
   "metadata": {
    "scrolled": false
   },
   "outputs": [
    {
     "data": {
      "text/html": [
       "<div>\n",
       "<style scoped>\n",
       "    .dataframe tbody tr th:only-of-type {\n",
       "        vertical-align: middle;\n",
       "    }\n",
       "\n",
       "    .dataframe tbody tr th {\n",
       "        vertical-align: top;\n",
       "    }\n",
       "\n",
       "    .dataframe thead th {\n",
       "        text-align: right;\n",
       "    }\n",
       "</style>\n",
       "<table border=\"1\" class=\"dataframe\">\n",
       "  <thead>\n",
       "    <tr style=\"text-align: right;\">\n",
       "      <th></th>\n",
       "      <th>c1</th>\n",
       "      <th>c2</th>\n",
       "      <th>c3</th>\n",
       "      <th>c4</th>\n",
       "      <th>c5</th>\n",
       "      <th>diagnosis</th>\n",
       "    </tr>\n",
       "  </thead>\n",
       "  <tbody>\n",
       "    <tr>\n",
       "      <th>44</th>\n",
       "      <td>0.050722</td>\n",
       "      <td>2.025640</td>\n",
       "      <td>0.598633</td>\n",
       "      <td>-0.266100</td>\n",
       "      <td>-0.515623</td>\n",
       "      <td>1</td>\n",
       "    </tr>\n",
       "    <tr>\n",
       "      <th>91</th>\n",
       "      <td>-2.778952</td>\n",
       "      <td>-2.355824</td>\n",
       "      <td>-2.260099</td>\n",
       "      <td>2.380803</td>\n",
       "      <td>-1.271097</td>\n",
       "      <td>1</td>\n",
       "    </tr>\n",
       "    <tr>\n",
       "      <th>162</th>\n",
       "      <td>0.519381</td>\n",
       "      <td>-0.890033</td>\n",
       "      <td>0.519522</td>\n",
       "      <td>0.138508</td>\n",
       "      <td>-0.939691</td>\n",
       "      <td>0</td>\n",
       "    </tr>\n",
       "    <tr>\n",
       "      <th>110</th>\n",
       "      <td>-1.042003</td>\n",
       "      <td>1.229377</td>\n",
       "      <td>0.017819</td>\n",
       "      <td>0.040312</td>\n",
       "      <td>0.137070</td>\n",
       "      <td>1</td>\n",
       "    </tr>\n",
       "    <tr>\n",
       "      <th>21</th>\n",
       "      <td>-0.458262</td>\n",
       "      <td>1.175942</td>\n",
       "      <td>-0.678821</td>\n",
       "      <td>0.224961</td>\n",
       "      <td>-0.049794</td>\n",
       "      <td>0</td>\n",
       "    </tr>\n",
       "  </tbody>\n",
       "</table>\n",
       "</div>"
      ],
      "text/plain": [
       "           c1        c2        c3        c4        c5  diagnosis\n",
       "44   0.050722  2.025640  0.598633 -0.266100 -0.515623          1\n",
       "91  -2.778952 -2.355824 -2.260099  2.380803 -1.271097          1\n",
       "162  0.519381 -0.890033  0.519522  0.138508 -0.939691          0\n",
       "110 -1.042003  1.229377  0.017819  0.040312  0.137070          1\n",
       "21  -0.458262  1.175942 -0.678821  0.224961 -0.049794          0"
      ]
     },
     "execution_count": 255,
     "metadata": {},
     "output_type": "execute_result"
    }
   ],
   "source": [
    "pca_df_train.head()"
   ]
  },
  {
   "cell_type": "code",
   "execution_count": 256,
   "metadata": {
    "scrolled": true
   },
   "outputs": [
    {
     "data": {
      "text/html": [
       "<div>\n",
       "<style scoped>\n",
       "    .dataframe tbody tr th:only-of-type {\n",
       "        vertical-align: middle;\n",
       "    }\n",
       "\n",
       "    .dataframe tbody tr th {\n",
       "        vertical-align: top;\n",
       "    }\n",
       "\n",
       "    .dataframe thead th {\n",
       "        text-align: right;\n",
       "    }\n",
       "</style>\n",
       "<table border=\"1\" class=\"dataframe\">\n",
       "  <thead>\n",
       "    <tr style=\"text-align: right;\">\n",
       "      <th></th>\n",
       "      <th>c1</th>\n",
       "      <th>c2</th>\n",
       "      <th>c3</th>\n",
       "      <th>c4</th>\n",
       "      <th>c5</th>\n",
       "      <th>diagnosis</th>\n",
       "    </tr>\n",
       "  </thead>\n",
       "  <tbody>\n",
       "    <tr>\n",
       "      <th>8</th>\n",
       "      <td>-0.806422</td>\n",
       "      <td>0.113623</td>\n",
       "      <td>0.153834</td>\n",
       "      <td>-0.237795</td>\n",
       "      <td>-0.607200</td>\n",
       "      <td>1</td>\n",
       "    </tr>\n",
       "    <tr>\n",
       "      <th>81</th>\n",
       "      <td>0.114953</td>\n",
       "      <td>0.328775</td>\n",
       "      <td>0.389832</td>\n",
       "      <td>-0.299220</td>\n",
       "      <td>0.434788</td>\n",
       "      <td>0</td>\n",
       "    </tr>\n",
       "    <tr>\n",
       "      <th>157</th>\n",
       "      <td>0.518759</td>\n",
       "      <td>1.472777</td>\n",
       "      <td>0.518269</td>\n",
       "      <td>-0.310960</td>\n",
       "      <td>-0.568664</td>\n",
       "      <td>1</td>\n",
       "    </tr>\n",
       "    <tr>\n",
       "      <th>205</th>\n",
       "      <td>0.490705</td>\n",
       "      <td>1.236374</td>\n",
       "      <td>0.250914</td>\n",
       "      <td>0.294205</td>\n",
       "      <td>1.342335</td>\n",
       "      <td>1</td>\n",
       "    </tr>\n",
       "    <tr>\n",
       "      <th>18</th>\n",
       "      <td>0.390135</td>\n",
       "      <td>0.387805</td>\n",
       "      <td>0.580488</td>\n",
       "      <td>-0.115418</td>\n",
       "      <td>0.948023</td>\n",
       "      <td>0</td>\n",
       "    </tr>\n",
       "  </tbody>\n",
       "</table>\n",
       "</div>"
      ],
      "text/plain": [
       "           c1        c2        c3        c4        c5  diagnosis\n",
       "8   -0.806422  0.113623  0.153834 -0.237795 -0.607200          1\n",
       "81   0.114953  0.328775  0.389832 -0.299220  0.434788          0\n",
       "157  0.518759  1.472777  0.518269 -0.310960 -0.568664          1\n",
       "205  0.490705  1.236374  0.250914  0.294205  1.342335          1\n",
       "18   0.390135  0.387805  0.580488 -0.115418  0.948023          0"
      ]
     },
     "execution_count": 256,
     "metadata": {},
     "output_type": "execute_result"
    }
   ],
   "source": [
    "#Dataframe con vars de prueba, para uso futuro\n",
    "pca_df_test.head()"
   ]
  },
  {
   "cell_type": "code",
   "execution_count": 257,
   "metadata": {},
   "outputs": [
    {
     "data": {
      "image/png": "[encoded data removed]",
      "text/plain": [
       "<Figure size 432x288 with 1 Axes>"
      ]
     },
     "metadata": {},
     "output_type": "display_data"
    }
   ],
   "source": [
    "plt.hlines(0, -3.5, 3.5, zorder = -1)\n",
    "plt.vlines(0, -3, 4, zorder = -1)\n",
    "plt.axis([-3.5, 3.5, -3, 4])\n",
    "sns.scatterplot(x = \"c1\", y = \"c2\", data = pca_df_train, hue = \"diagnosis\")\n",
    "plt.savefig(\"img/componentes.png\", dpi = 700)\n",
    "#plt.show()"
   ]
  },
  {
   "cell_type": "code",
   "execution_count": 276,
   "metadata": {},
   "outputs": [],
   "source": [
    "C = pca.components_"
   ]
  },
  {
   "cell_type": "code",
   "execution_count": 285,
   "metadata": {},
   "outputs": [
    {
     "data": {
      "image/png": "[encoded data removed]",
      "text/plain": [
       "<Figure size 432x288 with 2 Axes>"
      ]
     },
     "metadata": {},
     "output_type": "display_data"
    }
   ],
   "source": [
    "cmap = sns.diverging_palette(10, 240, as_cmap=True)\n",
    "sns.heatmap(C, cmap=cmap, vmin=-1, vmax=1,\n",
    "            linewidths=.5, cbar_kws={\"shrink\": .6}, yticklabels=2,\n",
    "            square=True, annot = True)\n",
    "plt.yticks(range(1,6),range(1,6))\n",
    "plt.xticks(range(1,6),list(X_numerical_train.columns))\n",
    "plt.xlabel(\"Variables\")\n",
    "plt.ylabel(\"Componentes\")\n",
    "plt.savefig('img/var_en_comp.png', dpi = 300)\n",
    "plt.show()"
   ]
  },
  {
   "cell_type": "code",
   "execution_count": 286,
   "metadata": {},
   "outputs": [
    {
     "data": {
      "text/plain": [
       "array([0.36958164, 0.22200708, 0.17167457, 0.14797832, 0.08875839])"
      ]
     },
     "execution_count": 286,
     "metadata": {},
     "output_type": "execute_result"
    }
   ],
   "source": [
    "Var_C"
   ]
  },
  {
   "cell_type": "code",
   "execution_count": 331,
   "metadata": {},
   "outputs": [
    {
     "data": {
      "image/png": "[encoded data removed]",
      "text/plain": [
       "<Figure size 432x288 with 1 Axes>"
      ]
     },
     "metadata": {},
     "output_type": "display_data"
    }
   ],
   "source": [
    "ax = plt.subplot()\n",
    "plt.hlines(0, -3.5, 3.5, zorder = -1, alpha = 0.3)\n",
    "plt.vlines(0, -3, 4, zorder = -1, alpha = 0.3)\n",
    "plt.axis([-3.5, 3.5, -3, 4])\n",
    "sns.scatterplot(x = \"c1\", y = \"c2\", data = pca_df_train, hue = \"diagnosis\")\n",
    "ax.spines['right'].set_visible(False)\n",
    "ax.spines['top'].set_visible(False)\n",
    "plt.xlabel(\"PC1 (36.96%)\")\n",
    "plt.ylabel(\"PC2 (22.20%)\")\n",
    "plt.savefig(\"img/componentes.png\", dpi = 700)"
   ]
  },
  {
   "cell_type": "code",
   "execution_count": 259,
   "metadata": {},
   "outputs": [],
   "source": [
    "Var_C = pca.explained_variance_ratio_\n",
    "var_acum = [Var_C[0]]\n",
    "for i in range(1,len(Var_C)):\n",
    "    var_acum.append(var_acum[i-1] + Var_C[i])"
   ]
  },
  {
   "cell_type": "code",
   "execution_count": 330,
   "metadata": {},
   "outputs": [
    {
     "data": {
      "image/png": "[encoded data removed]",
      "text/plain": [
       "<Figure size 432x288 with 1 Axes>"
      ]
     },
     "metadata": {},
     "output_type": "display_data"
    }
   ],
   "source": [
    "#plt.title(\"Varianza por Componente\")\n",
    "plt.xlabel(\"Componente\")\n",
    "plt.ylabel(\"Varianza\")\n",
    "plt.ylim([0, 1.1])\n",
    "plt.plot(range(len(var_acum)), var_acum, \"-o\", label = \"varianza acumulada\")\n",
    "plt.plot(range(len(Var_C)), Var_C, \"-o\", label = \"varianza del componente\")\n",
    "plt.xticks(range(0,5),list(range(1,6)))\n",
    "plt.legend()\n",
    "plt.savefig('img/varianza.png', dpi = 300)\n",
    "plt.show()"
   ]
  },
  {
   "cell_type": "code",
   "execution_count": 348,
   "metadata": {},
   "outputs": [],
   "source": [
    "cmap = sns.color_palette(\"cubehelix\", 8)"
   ]
  },
  {
   "cell_type": "code",
   "execution_count": 359,
   "metadata": {},
   "outputs": [
    {
     "data": {
      "image/png": "[encoded data removed]",
      "text/plain": [
       "<Figure size 432x288 with 1 Axes>"
      ]
     },
     "metadata": {},
     "output_type": "display_data"
    }
   ],
   "source": [
    "xvector = C[0]\n",
    "yvector = C[1]\n",
    "\n",
    "xs = pca_df_train[\"c1\"]\n",
    "ys = pca_df_train[\"c2\"]\n",
    "\n",
    "ax = plt.subplot()\n",
    "for i in range(len(xvector)):\n",
    "# arrows project features (ie columns from csv) as vectors onto PC axes\n",
    "    ax.arrow(0, 0, xvector[i], yvector[i],\n",
    "              color=cmap[i], width=0.0005, head_width=0.0025)\n",
    "    ax.text(xvector[i]*1.2, yvector[i]*1.2,\n",
    "             list(X_numerical_train.columns.values)[i], color=cmap[i])\n",
    "    \n",
    "plt.xlim((-1,1))\n",
    "plt.ylim((-1,1))\n",
    "plt.hlines(0, -1,1,zorder = -1, alpha = 0.3)\n",
    "plt.vlines(0,-1,1, zorder = -1, alpha = 0.3)\n",
    "ax.spines['right'].set_visible(False)\n",
    "ax.spines['top'].set_visible(False)\n",
    "plt.savefig('img/biplot.png', dpi = 300)\n",
    "plt.show()"
   ]
  },
  {
   "cell_type": "code",
   "execution_count": 358,
   "metadata": {},
   "outputs": [
    {
     "data": {
      "image/png": "[encoded data removed]",
      "text/plain": [
       "<Figure size 432x288 with 1 Axes>"
      ]
     },
     "metadata": {},
     "output_type": "display_data"
    }
   ],
   "source": [
    "xvector = C[0]\n",
    "yvector = C[1]\n",
    "\n",
    "\n",
    "\n",
    "xs = max(pca_df_train[\"c1\"])\n",
    "ys = max(pca_df_train[\"c2\"])\n",
    "\n",
    "ax = plt.subplot()\n",
    "for i in range(len(xvector)):\n",
    "# arrows project features (ie columns from csv) as vectors onto PC axes\n",
    "    ax.arrow(0, 0, xvector[i]*xs, yvector[i]*ys,\n",
    "              color=cmap[i], width=0.0005, head_width=0.0025)\n",
    "    ax.text(xvector[i]*1.2*xs, yvector[i]*1.2*ys,\n",
    "             list(X_numerical_train.columns.values)[i], color=cmap[i])\n",
    "    \n",
    "sns.scatterplot(x = \"c1\", y = \"c2\", data = pca_df_train, hue = \"diagnosis\", alpha = 0.25, zorder = -1)\n",
    "    \n",
    "plt.hlines(0, -3.5, 3.5, zorder = -1, alpha = 0.3)\n",
    "plt.vlines(0, -3, 4, zorder = -1, alpha = 0.3)\n",
    "plt.axis([-3.5, 3.5, -3, 4])\n",
    "plt.legend(loc = 4)\n",
    "ax.spines['right'].set_visible(False)\n",
    "ax.spines['top'].set_visible(False)\n",
    "plt.savefig('img/biplot_scatter.png', dpi = 300)\n",
    "plt.show()"
   ]
  },
  {
   "cell_type": "markdown",
   "metadata": {},
   "source": [
    "## Logit utilizando pca"
   ]
  },
  {
   "cell_type": "code",
   "execution_count": 261,
   "metadata": {},
   "outputs": [],
   "source": [
    "log_df_train = X_train.iloc[:, 5:].join(pca_df_train)\n",
    "log_df_test = X_test.iloc[:, 5:].join(pca_df_test)"
   ]
  },
  {
   "cell_type": "code",
   "execution_count": 262,
   "metadata": {},
   "outputs": [
    {
     "data": {
      "text/plain": [
       "242"
      ]
     },
     "execution_count": 262,
     "metadata": {},
     "output_type": "execute_result"
    }
   ],
   "source": [
    "len(log_df_train)"
   ]
  },
  {
   "cell_type": "code",
   "execution_count": 263,
   "metadata": {},
   "outputs": [
    {
     "data": {
      "text/plain": [
       "242"
      ]
     },
     "execution_count": 263,
     "metadata": {},
     "output_type": "execute_result"
    }
   ],
   "source": [
    "len(y_train)"
   ]
  },
  {
   "cell_type": "code",
   "execution_count": 264,
   "metadata": {},
   "outputs": [],
   "source": [
    "# quitamos las variables categóricas que no eran significativas en el logit normal\n",
    "log_df_train = log_df_train.drop(columns = ['thal_normal','thal_reversable defect','slope_flat','slope_upsloping'])\n",
    "log_df_test = log_df_test.drop(columns = ['thal_normal','thal_reversable defect','slope_flat','slope_upsloping'])"
   ]
  },
  {
   "cell_type": "code",
   "execution_count": 265,
   "metadata": {},
   "outputs": [
    {
     "data": {
      "text/html": [
       "<div>\n",
       "<style scoped>\n",
       "    .dataframe tbody tr th:only-of-type {\n",
       "        vertical-align: middle;\n",
       "    }\n",
       "\n",
       "    .dataframe tbody tr th {\n",
       "        vertical-align: top;\n",
       "    }\n",
       "\n",
       "    .dataframe thead th {\n",
       "        text-align: right;\n",
       "    }\n",
       "</style>\n",
       "<table border=\"1\" class=\"dataframe\">\n",
       "  <thead>\n",
       "    <tr style=\"text-align: right;\">\n",
       "      <th></th>\n",
       "      <th>is_male</th>\n",
       "      <th>has_atypical angina</th>\n",
       "      <th>has_non-anginal pain</th>\n",
       "      <th>has_typical angina</th>\n",
       "      <th>ecg_normal</th>\n",
       "      <th>ecg_probable left ventricular hypertrophy</th>\n",
       "      <th>exang_yes</th>\n",
       "      <th>ca_1.0</th>\n",
       "      <th>ca_2.0</th>\n",
       "      <th>ca_3.0</th>\n",
       "      <th>c1</th>\n",
       "      <th>c2</th>\n",
       "      <th>c3</th>\n",
       "      <th>c4</th>\n",
       "      <th>c5</th>\n",
       "      <th>diagnosis</th>\n",
       "    </tr>\n",
       "  </thead>\n",
       "  <tbody>\n",
       "    <tr>\n",
       "      <th>44</th>\n",
       "      <td>0</td>\n",
       "      <td>0</td>\n",
       "      <td>0</td>\n",
       "      <td>0</td>\n",
       "      <td>0</td>\n",
       "      <td>1</td>\n",
       "      <td>0</td>\n",
       "      <td>0</td>\n",
       "      <td>0</td>\n",
       "      <td>0</td>\n",
       "      <td>0.050722</td>\n",
       "      <td>2.025640</td>\n",
       "      <td>0.598633</td>\n",
       "      <td>-0.266100</td>\n",
       "      <td>-0.515623</td>\n",
       "      <td>1</td>\n",
       "    </tr>\n",
       "    <tr>\n",
       "      <th>91</th>\n",
       "      <td>0</td>\n",
       "      <td>0</td>\n",
       "      <td>0</td>\n",
       "      <td>0</td>\n",
       "      <td>0</td>\n",
       "      <td>1</td>\n",
       "      <td>0</td>\n",
       "      <td>0</td>\n",
       "      <td>0</td>\n",
       "      <td>1</td>\n",
       "      <td>-2.778952</td>\n",
       "      <td>-2.355824</td>\n",
       "      <td>-2.260099</td>\n",
       "      <td>2.380803</td>\n",
       "      <td>-1.271097</td>\n",
       "      <td>1</td>\n",
       "    </tr>\n",
       "    <tr>\n",
       "      <th>162</th>\n",
       "      <td>0</td>\n",
       "      <td>0</td>\n",
       "      <td>1</td>\n",
       "      <td>0</td>\n",
       "      <td>1</td>\n",
       "      <td>0</td>\n",
       "      <td>0</td>\n",
       "      <td>0</td>\n",
       "      <td>0</td>\n",
       "      <td>0</td>\n",
       "      <td>0.519381</td>\n",
       "      <td>-0.890033</td>\n",
       "      <td>0.519522</td>\n",
       "      <td>0.138508</td>\n",
       "      <td>-0.939691</td>\n",
       "      <td>0</td>\n",
       "    </tr>\n",
       "    <tr>\n",
       "      <th>110</th>\n",
       "      <td>0</td>\n",
       "      <td>0</td>\n",
       "      <td>0</td>\n",
       "      <td>0</td>\n",
       "      <td>0</td>\n",
       "      <td>1</td>\n",
       "      <td>1</td>\n",
       "      <td>0</td>\n",
       "      <td>0</td>\n",
       "      <td>0</td>\n",
       "      <td>-1.042003</td>\n",
       "      <td>1.229377</td>\n",
       "      <td>0.017819</td>\n",
       "      <td>0.040312</td>\n",
       "      <td>0.137070</td>\n",
       "      <td>1</td>\n",
       "    </tr>\n",
       "    <tr>\n",
       "      <th>21</th>\n",
       "      <td>0</td>\n",
       "      <td>0</td>\n",
       "      <td>0</td>\n",
       "      <td>1</td>\n",
       "      <td>0</td>\n",
       "      <td>1</td>\n",
       "      <td>0</td>\n",
       "      <td>0</td>\n",
       "      <td>0</td>\n",
       "      <td>0</td>\n",
       "      <td>-0.458262</td>\n",
       "      <td>1.175942</td>\n",
       "      <td>-0.678821</td>\n",
       "      <td>0.224961</td>\n",
       "      <td>-0.049794</td>\n",
       "      <td>0</td>\n",
       "    </tr>\n",
       "  </tbody>\n",
       "</table>\n",
       "</div>"
      ],
      "text/plain": [
       "     is_male  has_atypical angina  has_non-anginal pain  has_typical angina  \\\n",
       "44         0                    0                     0                   0   \n",
       "91         0                    0                     0                   0   \n",
       "162        0                    0                     1                   0   \n",
       "110        0                    0                     0                   0   \n",
       "21         0                    0                     0                   1   \n",
       "\n",
       "     ecg_normal  ecg_probable left ventricular hypertrophy  exang_yes  ca_1.0  \\\n",
       "44            0                                          1          0       0   \n",
       "91            0                                          1          0       0   \n",
       "162           1                                          0          0       0   \n",
       "110           0                                          1          1       0   \n",
       "21            0                                          1          0       0   \n",
       "\n",
       "     ca_2.0  ca_3.0        c1        c2        c3        c4        c5  \\\n",
       "44        0       0  0.050722  2.025640  0.598633 -0.266100 -0.515623   \n",
       "91        0       1 -2.778952 -2.355824 -2.260099  2.380803 -1.271097   \n",
       "162       0       0  0.519381 -0.890033  0.519522  0.138508 -0.939691   \n",
       "110       0       0 -1.042003  1.229377  0.017819  0.040312  0.137070   \n",
       "21        0       0 -0.458262  1.175942 -0.678821  0.224961 -0.049794   \n",
       "\n",
       "     diagnosis  \n",
       "44           1  \n",
       "91           1  \n",
       "162          0  \n",
       "110          1  \n",
       "21           0  "
      ]
     },
     "execution_count": 265,
     "metadata": {},
     "output_type": "execute_result"
    }
   ],
   "source": [
    "log_df_train.head()"
   ]
  },
  {
   "cell_type": "code",
   "execution_count": 266,
   "metadata": {
    "scrolled": true
   },
   "outputs": [
    {
     "data": {
      "text/html": [
       "<div>\n",
       "<style scoped>\n",
       "    .dataframe tbody tr th:only-of-type {\n",
       "        vertical-align: middle;\n",
       "    }\n",
       "\n",
       "    .dataframe tbody tr th {\n",
       "        vertical-align: top;\n",
       "    }\n",
       "\n",
       "    .dataframe thead th {\n",
       "        text-align: right;\n",
       "    }\n",
       "</style>\n",
       "<table border=\"1\" class=\"dataframe\">\n",
       "  <thead>\n",
       "    <tr style=\"text-align: right;\">\n",
       "      <th></th>\n",
       "      <th>is_male</th>\n",
       "      <th>has_atypical angina</th>\n",
       "      <th>has_non-anginal pain</th>\n",
       "      <th>has_typical angina</th>\n",
       "      <th>ecg_normal</th>\n",
       "      <th>ecg_probable left ventricular hypertrophy</th>\n",
       "      <th>exang_yes</th>\n",
       "      <th>ca_1.0</th>\n",
       "      <th>ca_2.0</th>\n",
       "      <th>ca_3.0</th>\n",
       "      <th>c1</th>\n",
       "      <th>c2</th>\n",
       "      <th>c3</th>\n",
       "      <th>c4</th>\n",
       "      <th>c5</th>\n",
       "      <th>diagnosis</th>\n",
       "    </tr>\n",
       "  </thead>\n",
       "  <tbody>\n",
       "    <tr>\n",
       "      <th>8</th>\n",
       "      <td>1</td>\n",
       "      <td>0</td>\n",
       "      <td>0</td>\n",
       "      <td>0</td>\n",
       "      <td>0</td>\n",
       "      <td>1</td>\n",
       "      <td>0</td>\n",
       "      <td>1</td>\n",
       "      <td>0</td>\n",
       "      <td>0</td>\n",
       "      <td>-0.806422</td>\n",
       "      <td>0.113623</td>\n",
       "      <td>0.153834</td>\n",
       "      <td>-0.237795</td>\n",
       "      <td>-0.607200</td>\n",
       "      <td>1</td>\n",
       "    </tr>\n",
       "    <tr>\n",
       "      <th>81</th>\n",
       "      <td>0</td>\n",
       "      <td>0</td>\n",
       "      <td>0</td>\n",
       "      <td>0</td>\n",
       "      <td>0</td>\n",
       "      <td>1</td>\n",
       "      <td>0</td>\n",
       "      <td>0</td>\n",
       "      <td>0</td>\n",
       "      <td>0</td>\n",
       "      <td>0.114953</td>\n",
       "      <td>0.328775</td>\n",
       "      <td>0.389832</td>\n",
       "      <td>-0.299220</td>\n",
       "      <td>0.434788</td>\n",
       "      <td>0</td>\n",
       "    </tr>\n",
       "    <tr>\n",
       "      <th>157</th>\n",
       "      <td>1</td>\n",
       "      <td>0</td>\n",
       "      <td>0</td>\n",
       "      <td>0</td>\n",
       "      <td>0</td>\n",
       "      <td>1</td>\n",
       "      <td>0</td>\n",
       "      <td>0</td>\n",
       "      <td>1</td>\n",
       "      <td>0</td>\n",
       "      <td>0.518759</td>\n",
       "      <td>1.472777</td>\n",
       "      <td>0.518269</td>\n",
       "      <td>-0.310960</td>\n",
       "      <td>-0.568664</td>\n",
       "      <td>1</td>\n",
       "    </tr>\n",
       "    <tr>\n",
       "      <th>205</th>\n",
       "      <td>1</td>\n",
       "      <td>0</td>\n",
       "      <td>0</td>\n",
       "      <td>0</td>\n",
       "      <td>0</td>\n",
       "      <td>1</td>\n",
       "      <td>1</td>\n",
       "      <td>0</td>\n",
       "      <td>0</td>\n",
       "      <td>1</td>\n",
       "      <td>0.490705</td>\n",
       "      <td>1.236374</td>\n",
       "      <td>0.250914</td>\n",
       "      <td>0.294205</td>\n",
       "      <td>1.342335</td>\n",
       "      <td>1</td>\n",
       "    </tr>\n",
       "    <tr>\n",
       "      <th>18</th>\n",
       "      <td>0</td>\n",
       "      <td>0</td>\n",
       "      <td>1</td>\n",
       "      <td>0</td>\n",
       "      <td>1</td>\n",
       "      <td>0</td>\n",
       "      <td>0</td>\n",
       "      <td>0</td>\n",
       "      <td>0</td>\n",
       "      <td>0</td>\n",
       "      <td>0.390135</td>\n",
       "      <td>0.387805</td>\n",
       "      <td>0.580488</td>\n",
       "      <td>-0.115418</td>\n",
       "      <td>0.948023</td>\n",
       "      <td>0</td>\n",
       "    </tr>\n",
       "  </tbody>\n",
       "</table>\n",
       "</div>"
      ],
      "text/plain": [
       "     is_male  has_atypical angina  has_non-anginal pain  has_typical angina  \\\n",
       "8          1                    0                     0                   0   \n",
       "81         0                    0                     0                   0   \n",
       "157        1                    0                     0                   0   \n",
       "205        1                    0                     0                   0   \n",
       "18         0                    0                     1                   0   \n",
       "\n",
       "     ecg_normal  ecg_probable left ventricular hypertrophy  exang_yes  ca_1.0  \\\n",
       "8             0                                          1          0       1   \n",
       "81            0                                          1          0       0   \n",
       "157           0                                          1          0       0   \n",
       "205           0                                          1          1       0   \n",
       "18            1                                          0          0       0   \n",
       "\n",
       "     ca_2.0  ca_3.0        c1        c2        c3        c4        c5  \\\n",
       "8         0       0 -0.806422  0.113623  0.153834 -0.237795 -0.607200   \n",
       "81        0       0  0.114953  0.328775  0.389832 -0.299220  0.434788   \n",
       "157       1       0  0.518759  1.472777  0.518269 -0.310960 -0.568664   \n",
       "205       0       1  0.490705  1.236374  0.250914  0.294205  1.342335   \n",
       "18        0       0  0.390135  0.387805  0.580488 -0.115418  0.948023   \n",
       "\n",
       "     diagnosis  \n",
       "8            1  \n",
       "81           0  \n",
       "157          1  \n",
       "205          1  \n",
       "18           0  "
      ]
     },
     "execution_count": 266,
     "metadata": {},
     "output_type": "execute_result"
    }
   ],
   "source": [
    "log_df_test.head()"
   ]
  },
  {
   "cell_type": "code",
   "execution_count": 267,
   "metadata": {},
   "outputs": [
    {
     "name": "stdout",
     "output_type": "stream",
     "text": [
      "Optimization terminated successfully.\n",
      "         Current function value: 0.368281\n",
      "         Iterations 7\n",
      "                           Logit Regression Results                           \n",
      "==============================================================================\n",
      "Dep. Variable:              diagnosis   No. Observations:                  242\n",
      "Model:                          Logit   Df Residuals:                      231\n",
      "Method:                           MLE   Df Model:                           10\n",
      "Date:                Wed, 08 May 2019   Pseudo R-squ.:                  0.4600\n",
      "Time:                        13:10:32   Log-Likelihood:                -89.124\n",
      "converged:                       True   LL-Null:                       -165.05\n",
      "                                        LLR p-value:                 1.544e-27\n",
      "=============================================================================================================\n",
      "                                                coef    std err          z      P>|z|      [0.025      0.975]\n",
      "-------------------------------------------------------------------------------------------------------------\n",
      "is_male                                       2.0635      0.486      4.242      0.000       1.110       3.017\n",
      "has_atypical angina                          -1.6085      0.600     -2.679      0.007      -2.785      -0.432\n",
      "has_non-anginal pain                         -1.7713      0.471     -3.761      0.000      -2.694      -0.848\n",
      "has_typical angina                           -2.2889      0.694     -3.297      0.001      -3.650      -0.928\n",
      "ecg_normal                                   -2.1822      0.541     -4.032      0.000      -3.243      -1.121\n",
      "ecg_probable left ventricular hypertrophy    -1.4938      0.520     -2.875      0.004      -2.512      -0.475\n",
      "exang_yes                                     1.0931      0.455      2.404      0.016       0.202       1.984\n",
      "ca_1.0                                        1.4025      0.478      2.936      0.003       0.466       2.339\n",
      "ca_2.0                                        2.2405      0.664      3.372      0.001       0.938       3.543\n",
      "ca_3.0                                        2.1152      0.914      2.315      0.021       0.324       3.906\n",
      "c1                                           -0.6303      0.188     -3.354      0.001      -0.999      -0.262\n",
      "=============================================================================================================\n",
      "Optimization terminated successfully.\n",
      "         Current function value: 0.367506\n",
      "         Iterations 7\n",
      "                           Logit Regression Results                           \n",
      "==============================================================================\n",
      "Dep. Variable:              diagnosis   No. Observations:                  242\n",
      "Model:                          Logit   Df Residuals:                      230\n",
      "Method:                           MLE   Df Model:                           11\n",
      "Date:                Wed, 08 May 2019   Pseudo R-squ.:                  0.4612\n",
      "Time:                        13:10:32   Log-Likelihood:                -88.936\n",
      "converged:                       True   LL-Null:                       -165.05\n",
      "                                        LLR p-value:                 5.206e-27\n",
      "=============================================================================================================\n",
      "                                                coef    std err          z      P>|z|      [0.025      0.975]\n",
      "-------------------------------------------------------------------------------------------------------------\n",
      "is_male                                       1.9792      0.501      3.954      0.000       0.998       2.960\n",
      "has_atypical angina                          -1.5574      0.606     -2.569      0.010      -2.745      -0.369\n",
      "has_non-anginal pain                         -1.7552      0.471     -3.724      0.000      -2.679      -0.831\n",
      "has_typical angina                           -2.2747      0.697     -3.265      0.001      -3.640      -0.909\n",
      "ecg_normal                                   -2.1209      0.544     -3.897      0.000      -3.188      -1.054\n",
      "ecg_probable left ventricular hypertrophy    -1.3990      0.538     -2.602      0.009      -2.453      -0.345\n",
      "exang_yes                                     1.0597      0.458      2.314      0.021       0.162       1.957\n",
      "ca_1.0                                        1.3992      0.479      2.920      0.004       0.460       2.338\n",
      "ca_2.0                                        2.2363      0.667      3.355      0.001       0.930       3.543\n",
      "ca_3.0                                        1.9884      0.930      2.138      0.033       0.165       3.811\n",
      "c1                                           -0.6329      0.188     -3.365      0.001      -1.002      -0.264\n",
      "c2                                           -0.1231      0.202     -0.609      0.543      -0.519       0.273\n",
      "=============================================================================================================\n",
      "Optimization terminated successfully.\n",
      "         Current function value: 0.367215\n",
      "         Iterations 7\n",
      "                           Logit Regression Results                           \n",
      "==============================================================================\n",
      "Dep. Variable:              diagnosis   No. Observations:                  242\n",
      "Model:                          Logit   Df Residuals:                      229\n",
      "Method:                           MLE   Df Model:                           12\n",
      "Date:                Wed, 08 May 2019   Pseudo R-squ.:                  0.4616\n",
      "Time:                        13:10:32   Log-Likelihood:                -88.866\n",
      "converged:                       True   LL-Null:                       -165.05\n",
      "                                        LLR p-value:                 1.868e-26\n",
      "=============================================================================================================\n",
      "                                                coef    std err          z      P>|z|      [0.025      0.975]\n",
      "-------------------------------------------------------------------------------------------------------------\n",
      "is_male                                       1.9446      0.508      3.829      0.000       0.949       2.940\n",
      "has_atypical angina                          -1.5719      0.608     -2.587      0.010      -2.763      -0.381\n",
      "has_non-anginal pain                         -1.7681      0.473     -3.738      0.000      -2.695      -0.841\n",
      "has_typical angina                           -2.3232      0.709     -3.275      0.001      -3.713      -0.933\n",
      "ecg_normal                                   -2.1084      0.545     -3.866      0.000      -3.177      -1.040\n",
      "ecg_probable left ventricular hypertrophy    -1.3755      0.544     -2.530      0.011      -2.441      -0.310\n",
      "exang_yes                                     1.0793      0.462      2.337      0.019       0.174       1.984\n",
      "ca_1.0                                        1.4291      0.486      2.940      0.003       0.476       2.382\n",
      "ca_2.0                                        2.2378      0.667      3.354      0.001       0.930       3.545\n",
      "ca_3.0                                        2.0110      0.933      2.156      0.031       0.183       3.839\n",
      "c1                                           -0.6241      0.189     -3.300      0.001      -0.995      -0.253\n",
      "c2                                           -0.1334      0.206     -0.647      0.517      -0.537       0.271\n",
      "c3                                           -0.0830      0.222     -0.374      0.709      -0.518       0.352\n",
      "=============================================================================================================\n",
      "Optimization terminated successfully.\n",
      "         Current function value: 0.351575\n",
      "         Iterations 7\n",
      "                           Logit Regression Results                           \n",
      "==============================================================================\n",
      "Dep. Variable:              diagnosis   No. Observations:                  242\n",
      "Model:                          Logit   Df Residuals:                      228\n",
      "Method:                           MLE   Df Model:                           13\n",
      "Date:                Wed, 08 May 2019   Pseudo R-squ.:                  0.4845\n",
      "Time:                        13:10:32   Log-Likelihood:                -85.081\n",
      "converged:                       True   LL-Null:                       -165.05\n",
      "                                        LLR p-value:                 2.022e-27\n",
      "=============================================================================================================\n",
      "                                                coef    std err          z      P>|z|      [0.025      0.975]\n",
      "-------------------------------------------------------------------------------------------------------------\n",
      "is_male                                       1.8481      0.526      3.512      0.000       0.817       2.879\n",
      "has_atypical angina                          -1.3333      0.611     -2.182      0.029      -2.531      -0.136\n",
      "has_non-anginal pain                         -1.8997      0.498     -3.813      0.000      -2.876      -0.923\n",
      "has_typical angina                           -2.4581      0.735     -3.345      0.001      -3.898      -1.018\n",
      "ecg_normal                                   -2.0152      0.575     -3.506      0.000      -3.142      -0.889\n",
      "ecg_probable left ventricular hypertrophy    -1.2790      0.581     -2.202      0.028      -2.417      -0.141\n",
      "exang_yes                                     0.9772      0.478      2.044      0.041       0.040       1.914\n",
      "ca_1.0                                        1.7208      0.504      3.416      0.001       0.733       2.708\n",
      "ca_2.0                                        2.2579      0.706      3.199      0.001       0.874       3.641\n",
      "ca_3.0                                        2.1576      0.955      2.260      0.024       0.286       4.029\n",
      "c1                                           -0.6961      0.201     -3.470      0.001      -1.089      -0.303\n",
      "c2                                           -0.1838      0.212     -0.866      0.387      -0.600       0.232\n",
      "c3                                           -0.1088      0.224     -0.486      0.627      -0.548       0.330\n",
      "c4                                            0.6484      0.244      2.658      0.008       0.170       1.127\n",
      "=============================================================================================================\n",
      "Optimization terminated successfully.\n",
      "         Current function value: 0.344462\n",
      "         Iterations 7\n",
      "                           Logit Regression Results                           \n",
      "==============================================================================\n",
      "Dep. Variable:              diagnosis   No. Observations:                  242\n",
      "Model:                          Logit   Df Residuals:                      227\n",
      "Method:                           MLE   Df Model:                           14\n",
      "Date:                Wed, 08 May 2019   Pseudo R-squ.:                  0.4950\n",
      "Time:                        13:10:32   Log-Likelihood:                -83.360\n",
      "converged:                       True   LL-Null:                       -165.05\n",
      "                                        LLR p-value:                 1.476e-27\n",
      "=============================================================================================================\n",
      "                                                coef    std err          z      P>|z|      [0.025      0.975]\n",
      "-------------------------------------------------------------------------------------------------------------\n",
      "is_male                                       1.9604      0.540      3.627      0.000       0.901       3.020\n",
      "has_atypical angina                          -1.2643      0.622     -2.033      0.042      -2.483      -0.045\n",
      "has_non-anginal pain                         -1.7741      0.504     -3.523      0.000      -2.761      -0.787\n",
      "has_typical angina                           -2.4047      0.747     -3.218      0.001      -3.869      -0.940\n",
      "ecg_normal                                   -2.0874      0.586     -3.563      0.000      -3.236      -0.939\n",
      "ecg_probable left ventricular hypertrophy    -1.4102      0.595     -2.372      0.018      -2.576      -0.245\n",
      "exang_yes                                     0.8331      0.499      1.669      0.095      -0.145       1.811\n",
      "ca_1.0                                        1.7238      0.507      3.397      0.001       0.729       2.718\n",
      "ca_2.0                                        2.5495      0.719      3.545      0.000       1.140       3.959\n",
      "ca_3.0                                        2.0626      0.958      2.153      0.031       0.185       3.940\n",
      "c1                                           -0.7316      0.207     -3.542      0.000      -1.136      -0.327\n",
      "c2                                           -0.1783      0.217     -0.824      0.410      -0.603       0.246\n",
      "c3                                           -0.0661      0.227     -0.290      0.772      -0.512       0.380\n",
      "c4                                            0.5924      0.248      2.387      0.017       0.106       1.079\n",
      "c5                                            0.6337      0.347      1.824      0.068      -0.047       1.315\n",
      "=============================================================================================================\n"
     ]
    }
   ],
   "source": [
    "# Guardar los modelos del logit en un arreglo, dependiendo de componentes utilizados\n",
    "logit_array = []\n",
    "for i in range(5):\n",
    "    logit = LogisticRegression(solver = \"liblinear\", random_state = 155766)\n",
    "    logit.fit(log_df_train.iloc[:, :(-5+i)], log_df_train[\"diagnosis\"])\n",
    "    \n",
    "    # Info de proba usando el logit de statsmodels\n",
    "    logit_m = sm.Logit(y_train, log_df_train.iloc[:, :(-5+i)], solver = \"liblinear\")\n",
    "    logit_m = logit_m.fit()\n",
    "    print(logit_m.summary())\n",
    "    \n",
    "    logit_array.append(logit)"
   ]
  },
  {
   "cell_type": "code",
   "execution_count": 268,
   "metadata": {
    "scrolled": true
   },
   "outputs": [
    {
     "name": "stdout",
     "output_type": "stream",
     "text": [
      "Logit con 1 componentes\n",
      "Info de train\n",
      "Score: \n",
      "0.8305785123966942\n",
      "Matriz de Confusion\n",
      "\\begin{blockarray}{ccc}\n",
      " & 0 & 1\\\\\n",
      "\\begin{block}{c(cc)}\n",
      "0 & 124 & 26 \\\\ \n",
      "1 & 15 & 77 \\\\ \n",
      "\\end{block}\n",
      "\\end{blockarray}\n",
      "Info de test\n",
      "Score: \n",
      "0.8360655737704918\n",
      "\\begin{blockarray}{ccc}\n",
      " & 0 & 1\\\\\n",
      "\\begin{block}{c(cc)}\n",
      "0 & 22 & 7 \\\\ \n",
      "1 & 3 & 29 \\\\ \n",
      "\\end{block}\n",
      "\\end{blockarray}\n",
      "\n",
      "\n",
      "Logit con 2 componentes\n",
      "Info de train\n",
      "Score: \n",
      "0.8305785123966942\n",
      "Matriz de Confusion\n",
      "\\begin{blockarray}{ccc}\n",
      " & 0 & 1\\\\\n",
      "\\begin{block}{c(cc)}\n",
      "0 & 124 & 26 \\\\ \n",
      "1 & 15 & 77 \\\\ \n",
      "\\end{block}\n",
      "\\end{blockarray}\n",
      "Info de test\n",
      "Score: \n",
      "0.819672131147541\n",
      "\\begin{blockarray}{ccc}\n",
      " & 0 & 1\\\\\n",
      "\\begin{block}{c(cc)}\n",
      "0 & 22 & 8 \\\\ \n",
      "1 & 3 & 28 \\\\ \n",
      "\\end{block}\n",
      "\\end{blockarray}\n",
      "\n",
      "\n",
      "Logit con 3 componentes\n",
      "Info de train\n",
      "Score: \n",
      "0.8305785123966942\n",
      "Matriz de Confusion\n",
      "\\begin{blockarray}{ccc}\n",
      " & 0 & 1\\\\\n",
      "\\begin{block}{c(cc)}\n",
      "0 & 124 & 26 \\\\ \n",
      "1 & 15 & 77 \\\\ \n",
      "\\end{block}\n",
      "\\end{blockarray}\n",
      "Info de test\n",
      "Score: \n",
      "0.8032786885245902\n",
      "\\begin{blockarray}{ccc}\n",
      " & 0 & 1\\\\\n",
      "\\begin{block}{c(cc)}\n",
      "0 & 22 & 9 \\\\ \n",
      "1 & 3 & 27 \\\\ \n",
      "\\end{block}\n",
      "\\end{blockarray}\n",
      "\n",
      "\n",
      "Logit con 4 componentes\n",
      "Info de train\n",
      "Score: \n",
      "0.8429752066115702\n",
      "Matriz de Confusion\n",
      "\\begin{blockarray}{ccc}\n",
      " & 0 & 1\\\\\n",
      "\\begin{block}{c(cc)}\n",
      "0 & 125 & 24 \\\\ \n",
      "1 & 14 & 79 \\\\ \n",
      "\\end{block}\n",
      "\\end{blockarray}\n",
      "Info de test\n",
      "Score: \n",
      "0.8688524590163934\n",
      "\\begin{blockarray}{ccc}\n",
      " & 0 & 1\\\\\n",
      "\\begin{block}{c(cc)}\n",
      "0 & 24 & 7 \\\\ \n",
      "1 & 1 & 29 \\\\ \n",
      "\\end{block}\n",
      "\\end{blockarray}\n",
      "\n",
      "\n",
      "Logit con 5 componentes\n",
      "Info de train\n",
      "Score: \n",
      "0.859504132231405\n",
      "Matriz de Confusion\n",
      "\\begin{blockarray}{ccc}\n",
      " & 0 & 1\\\\\n",
      "\\begin{block}{c(cc)}\n",
      "0 & 128 & 23 \\\\ \n",
      "1 & 11 & 80 \\\\ \n",
      "\\end{block}\n",
      "\\end{blockarray}\n",
      "Info de test\n",
      "Score: \n",
      "0.8524590163934426\n",
      "\\begin{blockarray}{ccc}\n",
      " & 0 & 1\\\\\n",
      "\\begin{block}{c(cc)}\n",
      "0 & 24 & 8 \\\\ \n",
      "1 & 1 & 28 \\\\ \n",
      "\\end{block}\n",
      "\\end{blockarray}\n",
      "\n",
      "\n"
     ]
    }
   ],
   "source": [
    "# Informacion de todos los logit\n",
    "for l in range(5):\n",
    "    print(\"Logit con \"+ str(l+1) + \" componentes\")\n",
    "    \n",
    "    print(\"Info de train\")\n",
    "    print(\"Score: \")\n",
    "    print(logit_array[l].score(log_df_train.iloc[:, :(-5+l)], y_train))\n",
    "\n",
    "    # Matriz de confusion de train (prediccion en renglones, diagnosis en cols)\n",
    "    M = np.zeros((2,2), dtype=int)\n",
    "    pred = logit_array[l].predict(log_df_train.iloc[:, :(-5+l)])\n",
    "    for i, j in zip(pred, y_train):\n",
    "        M[i, j] += 1\n",
    "    print(\"Matriz de Confusion\")\n",
    "    print(ls.indexedMatrix(M, [0, 1], [0, 1]))\n",
    "    \n",
    "    print(\"Info de test\")\n",
    "    # Aciertos sobre errores de test\n",
    "    print(\"Score: \")\n",
    "    print(logit_array[l].score(log_df_test.iloc[:, :(-5+l)], y_test))\n",
    "\n",
    "    # Matriz de confusion de test\n",
    "    M = np.zeros((2,2), dtype=int)\n",
    "    pred = logit_array[l].predict(log_df_test.iloc[:, :(-5+l)])\n",
    "    for i, j in zip(pred, y_test):\n",
    "        M[i, j] += 1\n",
    "    print(ls.indexedMatrix(M, [0, 1], [0, 1]))\n",
    "    print(\"\\n\")"
   ]
  },
  {
   "cell_type": "code",
   "execution_count": 269,
   "metadata": {},
   "outputs": [
    {
     "name": "stdout",
     "output_type": "stream",
     "text": [
      "Optimization terminated successfully.\n",
      "         Current function value: 0.345995\n",
      "         Iterations 7\n"
     ]
    }
   ],
   "source": [
    "log_train = log_df_train.drop(columns = ['c2','c3','diagnosis'])\n",
    "log_test = log_df_test.drop(columns = ['c2','c3','diagnosis'])\n",
    "\n",
    "logit_m = sm.Logit(y_train, log_train, solver = \"liblinear\")\n",
    "logit_m = logit_m.fit()"
   ]
  },
  {
   "cell_type": "code",
   "execution_count": 270,
   "metadata": {},
   "outputs": [
    {
     "data": {
      "text/html": [
       "<table class=\"simpletable\">\n",
       "<caption>Logit Regression Results</caption>\n",
       "<tr>\n",
       "  <th>Dep. Variable:</th>     <td>diagnosis</td>    <th>  No. Observations:  </th>  <td>   242</td>  \n",
       "</tr>\n",
       "<tr>\n",
       "  <th>Model:</th>               <td>Logit</td>      <th>  Df Residuals:      </th>  <td>   229</td>  \n",
       "</tr>\n",
       "<tr>\n",
       "  <th>Method:</th>               <td>MLE</td>       <th>  Df Model:          </th>  <td>    12</td>  \n",
       "</tr>\n",
       "<tr>\n",
       "  <th>Date:</th>          <td>Wed, 08 May 2019</td> <th>  Pseudo R-squ.:     </th>  <td>0.4927</td>  \n",
       "</tr>\n",
       "<tr>\n",
       "  <th>Time:</th>              <td>13:10:34</td>     <th>  Log-Likelihood:    </th> <td> -83.731</td> \n",
       "</tr>\n",
       "<tr>\n",
       "  <th>converged:</th>           <td>True</td>       <th>  LL-Null:           </th> <td> -165.05</td> \n",
       "</tr>\n",
       "<tr>\n",
       "  <th> </th>                      <td> </td>        <th>  LLR p-value:       </th> <td>1.517e-28</td>\n",
       "</tr>\n",
       "</table>\n",
       "<table class=\"simpletable\">\n",
       "<tr>\n",
       "                      <td></td>                         <th>coef</th>     <th>std err</th>      <th>z</th>      <th>P>|z|</th>  <th>[0.025</th>    <th>0.975]</th>  \n",
       "</tr>\n",
       "<tr>\n",
       "  <th>is_male</th>                                   <td>    2.1121</td> <td>    0.518</td> <td>    4.077</td> <td> 0.000</td> <td>    1.097</td> <td>    3.127</td>\n",
       "</tr>\n",
       "<tr>\n",
       "  <th>has_atypical angina</th>                       <td>   -1.3194</td> <td>    0.616</td> <td>   -2.141</td> <td> 0.032</td> <td>   -2.527</td> <td>   -0.112</td>\n",
       "</tr>\n",
       "<tr>\n",
       "  <th>has_non-anginal pain</th>                      <td>   -1.7751</td> <td>    0.500</td> <td>   -3.549</td> <td> 0.000</td> <td>   -2.755</td> <td>   -0.795</td>\n",
       "</tr>\n",
       "<tr>\n",
       "  <th>has_typical angina</th>                        <td>   -2.3780</td> <td>    0.731</td> <td>   -3.252</td> <td> 0.001</td> <td>   -3.811</td> <td>   -0.945</td>\n",
       "</tr>\n",
       "<tr>\n",
       "  <th>ecg_normal</th>                                <td>   -2.2096</td> <td>    0.578</td> <td>   -3.822</td> <td> 0.000</td> <td>   -3.343</td> <td>   -1.076</td>\n",
       "</tr>\n",
       "<tr>\n",
       "  <th>ecg_probable left ventricular hypertrophy</th> <td>   -1.5953</td> <td>    0.560</td> <td>   -2.849</td> <td> 0.004</td> <td>   -2.693</td> <td>   -0.498</td>\n",
       "</tr>\n",
       "<tr>\n",
       "  <th>exang_yes</th>                                 <td>    0.8816</td> <td>    0.492</td> <td>    1.792</td> <td> 0.073</td> <td>   -0.083</td> <td>    1.846</td>\n",
       "</tr>\n",
       "<tr>\n",
       "  <th>ca_1.0</th>                                    <td>    1.7161</td> <td>    0.502</td> <td>    3.421</td> <td> 0.001</td> <td>    0.733</td> <td>    2.699</td>\n",
       "</tr>\n",
       "<tr>\n",
       "  <th>ca_2.0</th>                                    <td>    2.5723</td> <td>    0.715</td> <td>    3.597</td> <td> 0.000</td> <td>    1.171</td> <td>    3.974</td>\n",
       "</tr>\n",
       "<tr>\n",
       "  <th>ca_3.0</th>                                    <td>    2.2257</td> <td>    0.933</td> <td>    2.386</td> <td> 0.017</td> <td>    0.397</td> <td>    4.054</td>\n",
       "</tr>\n",
       "<tr>\n",
       "  <th>c1</th>                                        <td>   -0.7236</td> <td>    0.204</td> <td>   -3.544</td> <td> 0.000</td> <td>   -1.124</td> <td>   -0.323</td>\n",
       "</tr>\n",
       "<tr>\n",
       "  <th>c4</th>                                        <td>    0.5788</td> <td>    0.245</td> <td>    2.365</td> <td> 0.018</td> <td>    0.099</td> <td>    1.058</td>\n",
       "</tr>\n",
       "<tr>\n",
       "  <th>c5</th>                                        <td>    0.6464</td> <td>    0.345</td> <td>    1.876</td> <td> 0.061</td> <td>   -0.029</td> <td>    1.322</td>\n",
       "</tr>\n",
       "</table>"
      ],
      "text/plain": [
       "<class 'statsmodels.iolib.summary.Summary'>\n",
       "\"\"\"\n",
       "                           Logit Regression Results                           \n",
       "==============================================================================\n",
       "Dep. Variable:              diagnosis   No. Observations:                  242\n",
       "Model:                          Logit   Df Residuals:                      229\n",
       "Method:                           MLE   Df Model:                           12\n",
       "Date:                Wed, 08 May 2019   Pseudo R-squ.:                  0.4927\n",
       "Time:                        13:10:34   Log-Likelihood:                -83.731\n",
       "converged:                       True   LL-Null:                       -165.05\n",
       "                                        LLR p-value:                 1.517e-28\n",
       "=============================================================================================================\n",
       "                                                coef    std err          z      P>|z|      [0.025      0.975]\n",
       "-------------------------------------------------------------------------------------------------------------\n",
       "is_male                                       2.1121      0.518      4.077      0.000       1.097       3.127\n",
       "has_atypical angina                          -1.3194      0.616     -2.141      0.032      -2.527      -0.112\n",
       "has_non-anginal pain                         -1.7751      0.500     -3.549      0.000      -2.755      -0.795\n",
       "has_typical angina                           -2.3780      0.731     -3.252      0.001      -3.811      -0.945\n",
       "ecg_normal                                   -2.2096      0.578     -3.822      0.000      -3.343      -1.076\n",
       "ecg_probable left ventricular hypertrophy    -1.5953      0.560     -2.849      0.004      -2.693      -0.498\n",
       "exang_yes                                     0.8816      0.492      1.792      0.073      -0.083       1.846\n",
       "ca_1.0                                        1.7161      0.502      3.421      0.001       0.733       2.699\n",
       "ca_2.0                                        2.5723      0.715      3.597      0.000       1.171       3.974\n",
       "ca_3.0                                        2.2257      0.933      2.386      0.017       0.397       4.054\n",
       "c1                                           -0.7236      0.204     -3.544      0.000      -1.124      -0.323\n",
       "c4                                            0.5788      0.245      2.365      0.018       0.099       1.058\n",
       "c5                                            0.6464      0.345      1.876      0.061      -0.029       1.322\n",
       "=============================================================================================================\n",
       "\"\"\""
      ]
     },
     "execution_count": 270,
     "metadata": {},
     "output_type": "execute_result"
    }
   ],
   "source": [
    "logit_m.summary()"
   ]
  },
  {
   "cell_type": "code",
   "execution_count": 271,
   "metadata": {},
   "outputs": [
    {
     "data": {
      "text/plain": [
       "LogisticRegression(C=1.0, class_weight=None, dual=False, fit_intercept=True,\n",
       "          intercept_scaling=1, max_iter=100, multi_class='ovr', n_jobs=1,\n",
       "          penalty='l2', random_state=158999, solver='liblinear',\n",
       "          tol=0.0001, verbose=0, warm_start=False)"
      ]
     },
     "execution_count": 271,
     "metadata": {},
     "output_type": "execute_result"
    }
   ],
   "source": [
    "logit = LogisticRegression(solver = \"liblinear\", random_state = 158999)\n",
    "logit.fit(log_train, y_train)"
   ]
  },
  {
   "cell_type": "code",
   "execution_count": 272,
   "metadata": {},
   "outputs": [
    {
     "name": "stdout",
     "output_type": "stream",
     "text": [
      "Info de train\n",
      "Score: \n",
      "0.8347107438016529\n",
      "[[125  14]\n",
      " [ 26  77]]\n",
      "Info de test\n",
      "Score: \n",
      "0.819672131147541\n",
      "[[23  2]\n",
      " [ 9 27]]\n"
     ]
    }
   ],
   "source": [
    "print(\"Info de train\")\n",
    "print(\"Score: \")\n",
    "print(logit.score(log_train, y_train))\n",
    "\n",
    "# Matriz de confusion de train (prediccion en renglones, diagnosis en cols)\n",
    "train_pred = logit.predict(log_train)\n",
    "print(confusion_matrix(y_train,train_pred))\n",
    "\n",
    "print(\"Info de test\")\n",
    "# Aciertos sobre errores de test\n",
    "print(\"Score: \")\n",
    "print(logit.score(log_test, y_test))\n",
    "\n",
    "# Matriz de confusion de test\n",
    "test_pred = logit.predict(log_test)\n",
    "print(confusion_matrix(y_test,test_pred))"
   ]
  }
 ],
 "metadata": {
  "kernelspec": {
   "display_name": "Python 3",
   "language": "python",
   "name": "python3"
  },
  "language_info": {
   "codemirror_mode": {
    "name": "ipython",
    "version": 3
   },
   "file_extension": ".py",
   "mimetype": "text/x-python",
   "name": "python",
   "nbconvert_exporter": "python",
   "pygments_lexer": "ipython3",
   "version": "3.6.8"
  }
 },
 "nbformat": 4,
 "nbformat_minor": 2
}
