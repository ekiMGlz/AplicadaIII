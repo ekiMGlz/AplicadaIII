{
 "cells": [
  {
   "cell_type": "code",
   "execution_count": 1,
   "metadata": {},
   "outputs": [],
   "source": [
    "import numpy as np\n",
    "import pandas as pd\n",
    "import matplotlib.pyplot as plt\n",
    "import seaborn as sns\n",
    "from sklearn import preprocessing\n",
    "import latexStrings as ls\n",
    "import mca\n",
    "\n",
    "from sklearn.model_selection import train_test_split\n",
    "from sklearn.linear_model import LogisticRegression\n",
    "from sklearn.metrics import confusion_matrix\n",
    "from sklearn.decomposition import PCA\n",
    "from sklearn.discriminant_analysis import LinearDiscriminantAnalysis\n",
    "from sklearn.metrics import classification_report, confusion_matrix, precision_recall_fscore_support\n",
    "import statsmodels.api as sm"
   ]
  },
  {
   "cell_type": "markdown",
   "metadata": {},
   "source": [
    "%matplotlib qt5"
   ]
  },
  {
   "cell_type": "code",
   "execution_count": 2,
   "metadata": {
    "scrolled": true
   },
   "outputs": [],
   "source": [
    "data = pd.read_csv(\"data/heart.data\").dropna()\n",
    "data.index = range(data.shape[0])\n",
    "# 297 observaciones despues de quitar nan"
   ]
  },
  {
   "cell_type": "code",
   "execution_count": 3,
   "metadata": {},
   "outputs": [],
   "source": [
    "data.rename(columns = {\"target\":\"diagnosis\", \"cp\": \"chest_pain\", \"trestbps\": \"rest_bp\",\n",
    "                      \"restecg\":\"rest_ecg\"}, inplace = True)"
   ]
  },
  {
   "cell_type": "code",
   "execution_count": 4,
   "metadata": {},
   "outputs": [
    {
     "data": {
      "text/html": [
       "<div>\n",
       "<style scoped>\n",
       "    .dataframe tbody tr th:only-of-type {\n",
       "        vertical-align: middle;\n",
       "    }\n",
       "\n",
       "    .dataframe tbody tr th {\n",
       "        vertical-align: top;\n",
       "    }\n",
       "\n",
       "    .dataframe thead th {\n",
       "        text-align: right;\n",
       "    }\n",
       "</style>\n",
       "<table border=\"1\" class=\"dataframe\">\n",
       "  <thead>\n",
       "    <tr style=\"text-align: right;\">\n",
       "      <th></th>\n",
       "      <th>age</th>\n",
       "      <th>sex</th>\n",
       "      <th>chest_pain</th>\n",
       "      <th>rest_bp</th>\n",
       "      <th>chol</th>\n",
       "      <th>fbs</th>\n",
       "      <th>rest_ecg</th>\n",
       "      <th>thalach</th>\n",
       "      <th>exang</th>\n",
       "      <th>oldpeak</th>\n",
       "      <th>slope</th>\n",
       "      <th>ca</th>\n",
       "      <th>thal</th>\n",
       "      <th>diagnosis</th>\n",
       "    </tr>\n",
       "  </thead>\n",
       "  <tbody>\n",
       "    <tr>\n",
       "      <th>0</th>\n",
       "      <td>63.0</td>\n",
       "      <td>1.0</td>\n",
       "      <td>1.0</td>\n",
       "      <td>145.0</td>\n",
       "      <td>233.0</td>\n",
       "      <td>1.0</td>\n",
       "      <td>2.0</td>\n",
       "      <td>150.0</td>\n",
       "      <td>0.0</td>\n",
       "      <td>2.3</td>\n",
       "      <td>3.0</td>\n",
       "      <td>0.0</td>\n",
       "      <td>6.0</td>\n",
       "      <td>0</td>\n",
       "    </tr>\n",
       "    <tr>\n",
       "      <th>1</th>\n",
       "      <td>67.0</td>\n",
       "      <td>1.0</td>\n",
       "      <td>4.0</td>\n",
       "      <td>160.0</td>\n",
       "      <td>286.0</td>\n",
       "      <td>0.0</td>\n",
       "      <td>2.0</td>\n",
       "      <td>108.0</td>\n",
       "      <td>1.0</td>\n",
       "      <td>1.5</td>\n",
       "      <td>2.0</td>\n",
       "      <td>3.0</td>\n",
       "      <td>3.0</td>\n",
       "      <td>2</td>\n",
       "    </tr>\n",
       "    <tr>\n",
       "      <th>2</th>\n",
       "      <td>67.0</td>\n",
       "      <td>1.0</td>\n",
       "      <td>4.0</td>\n",
       "      <td>120.0</td>\n",
       "      <td>229.0</td>\n",
       "      <td>0.0</td>\n",
       "      <td>2.0</td>\n",
       "      <td>129.0</td>\n",
       "      <td>1.0</td>\n",
       "      <td>2.6</td>\n",
       "      <td>2.0</td>\n",
       "      <td>2.0</td>\n",
       "      <td>7.0</td>\n",
       "      <td>1</td>\n",
       "    </tr>\n",
       "    <tr>\n",
       "      <th>3</th>\n",
       "      <td>37.0</td>\n",
       "      <td>1.0</td>\n",
       "      <td>3.0</td>\n",
       "      <td>130.0</td>\n",
       "      <td>250.0</td>\n",
       "      <td>0.0</td>\n",
       "      <td>0.0</td>\n",
       "      <td>187.0</td>\n",
       "      <td>0.0</td>\n",
       "      <td>3.5</td>\n",
       "      <td>3.0</td>\n",
       "      <td>0.0</td>\n",
       "      <td>3.0</td>\n",
       "      <td>0</td>\n",
       "    </tr>\n",
       "    <tr>\n",
       "      <th>4</th>\n",
       "      <td>41.0</td>\n",
       "      <td>0.0</td>\n",
       "      <td>2.0</td>\n",
       "      <td>130.0</td>\n",
       "      <td>204.0</td>\n",
       "      <td>0.0</td>\n",
       "      <td>2.0</td>\n",
       "      <td>172.0</td>\n",
       "      <td>0.0</td>\n",
       "      <td>1.4</td>\n",
       "      <td>1.0</td>\n",
       "      <td>0.0</td>\n",
       "      <td>3.0</td>\n",
       "      <td>0</td>\n",
       "    </tr>\n",
       "  </tbody>\n",
       "</table>\n",
       "</div>"
      ],
      "text/plain": [
       "    age  sex  chest_pain  rest_bp   chol  fbs  rest_ecg  thalach  exang  \\\n",
       "0  63.0  1.0         1.0    145.0  233.0  1.0       2.0    150.0    0.0   \n",
       "1  67.0  1.0         4.0    160.0  286.0  0.0       2.0    108.0    1.0   \n",
       "2  67.0  1.0         4.0    120.0  229.0  0.0       2.0    129.0    1.0   \n",
       "3  37.0  1.0         3.0    130.0  250.0  0.0       0.0    187.0    0.0   \n",
       "4  41.0  0.0         2.0    130.0  204.0  0.0       2.0    172.0    0.0   \n",
       "\n",
       "   oldpeak  slope   ca  thal  diagnosis  \n",
       "0      2.3    3.0  0.0   6.0          0  \n",
       "1      1.5    2.0  3.0   3.0          2  \n",
       "2      2.6    2.0  2.0   7.0          1  \n",
       "3      3.5    3.0  0.0   3.0          0  \n",
       "4      1.4    1.0  0.0   3.0          0  "
      ]
     },
     "execution_count": 4,
     "metadata": {},
     "output_type": "execute_result"
    }
   ],
   "source": [
    "data.head()"
   ]
  },
  {
   "cell_type": "code",
   "execution_count": 5,
   "metadata": {},
   "outputs": [
    {
     "name": "stdout",
     "output_type": "stream",
     "text": [
      "<class 'pandas.core.frame.DataFrame'>\n",
      "RangeIndex: 297 entries, 0 to 296\n",
      "Data columns (total 14 columns):\n",
      "age           297 non-null float64\n",
      "sex           297 non-null float64\n",
      "chest_pain    297 non-null float64\n",
      "rest_bp       297 non-null float64\n",
      "chol          297 non-null float64\n",
      "fbs           297 non-null float64\n",
      "rest_ecg      297 non-null float64\n",
      "thalach       297 non-null float64\n",
      "exang         297 non-null float64\n",
      "oldpeak       297 non-null float64\n",
      "slope         297 non-null float64\n",
      "ca            297 non-null float64\n",
      "thal          297 non-null float64\n",
      "diagnosis     297 non-null int64\n",
      "dtypes: float64(13), int64(1)\n",
      "memory usage: 32.6 KB\n"
     ]
    }
   ],
   "source": [
    "data.info()"
   ]
  },
  {
   "cell_type": "code",
   "execution_count": 6,
   "metadata": {},
   "outputs": [
    {
     "data": {
      "text/plain": [
       "<matplotlib.axes._subplots.AxesSubplot at 0x28b143cce10>"
      ]
     },
     "execution_count": 6,
     "metadata": {},
     "output_type": "execute_result"
    },
    {
     "data": {
      "image/png": "[encoded data removed]",
      "text/plain": [
       "<Figure size 432x288 with 1 Axes>"
      ]
     },
     "metadata": {
      "needs_background": "light"
     },
     "output_type": "display_data"
    }
   ],
   "source": [
    "sns.countplot(x = \"diagnosis\", data = data)"
   ]
  },
  {
   "cell_type": "code",
   "execution_count": 7,
   "metadata": {},
   "outputs": [],
   "source": [
    "# Diccionarios con los nombres de categorias\n",
    "sex_cat = {0 : \"female\", \n",
    "           1 : \"male\"}\n",
    "\n",
    "chest_pain_cat = {1 : \"typical angina\", \n",
    "                  2 : \"atypical angina\",\n",
    "                  3 : \"non-anginal pain\",\n",
    "                  4 : \"asymptomatic\"}\n",
    "\n",
    "# Fasting blood sugar\n",
    "fbs_cat = {0 : \"<= 120mg/dl\",\n",
    "       1 : \"> 120mg/dl\"}\n",
    "\n",
    "# Rersting ECG\n",
    "rest_ecg = {0 : \"normal\",\n",
    "            1 : \"ST-T wave abnormality\",\n",
    "            2 : \"probable left ventricular hypertrophy\"}\n",
    "\n",
    "# Excercise induced angina\n",
    "exang = {0 : \"no\",\n",
    "         1 : \"yes\"}\n",
    "\n",
    "# slope of peak excersice ST segment\n",
    "slope = {1 : \"upsloping\",\n",
    "         2 : \"flat\",\n",
    "         3 : \"downsloping\"}\n",
    "\n",
    "# https://www.medilexicon.com/dictionary/72223\n",
    "thal = {3 : \"normal\",\n",
    "        6 : \"fixed defect\",\n",
    "        7 : \"reversable defect\"}"
   ]
  },
  {
   "cell_type": "code",
   "execution_count": 8,
   "metadata": {},
   "outputs": [
    {
     "data": {
      "text/html": [
       "<div>\n",
       "<style scoped>\n",
       "    .dataframe tbody tr th:only-of-type {\n",
       "        vertical-align: middle;\n",
       "    }\n",
       "\n",
       "    .dataframe tbody tr th {\n",
       "        vertical-align: top;\n",
       "    }\n",
       "\n",
       "    .dataframe thead th {\n",
       "        text-align: right;\n",
       "    }\n",
       "</style>\n",
       "<table border=\"1\" class=\"dataframe\">\n",
       "  <thead>\n",
       "    <tr style=\"text-align: right;\">\n",
       "      <th></th>\n",
       "      <th>age</th>\n",
       "      <th>sex</th>\n",
       "      <th>chest_pain</th>\n",
       "      <th>rest_bp</th>\n",
       "      <th>chol</th>\n",
       "      <th>fbs</th>\n",
       "      <th>rest_ecg</th>\n",
       "      <th>thalach</th>\n",
       "      <th>exang</th>\n",
       "      <th>oldpeak</th>\n",
       "      <th>slope</th>\n",
       "      <th>ca</th>\n",
       "      <th>thal</th>\n",
       "      <th>diagnosis</th>\n",
       "    </tr>\n",
       "  </thead>\n",
       "  <tbody>\n",
       "    <tr>\n",
       "      <th>0</th>\n",
       "      <td>63.0</td>\n",
       "      <td>1.0</td>\n",
       "      <td>1.0</td>\n",
       "      <td>145.0</td>\n",
       "      <td>233.0</td>\n",
       "      <td>1.0</td>\n",
       "      <td>2.0</td>\n",
       "      <td>150.0</td>\n",
       "      <td>0.0</td>\n",
       "      <td>2.3</td>\n",
       "      <td>3.0</td>\n",
       "      <td>0.0</td>\n",
       "      <td>6.0</td>\n",
       "      <td>0</td>\n",
       "    </tr>\n",
       "    <tr>\n",
       "      <th>1</th>\n",
       "      <td>67.0</td>\n",
       "      <td>1.0</td>\n",
       "      <td>4.0</td>\n",
       "      <td>160.0</td>\n",
       "      <td>286.0</td>\n",
       "      <td>0.0</td>\n",
       "      <td>2.0</td>\n",
       "      <td>108.0</td>\n",
       "      <td>1.0</td>\n",
       "      <td>1.5</td>\n",
       "      <td>2.0</td>\n",
       "      <td>3.0</td>\n",
       "      <td>3.0</td>\n",
       "      <td>1</td>\n",
       "    </tr>\n",
       "    <tr>\n",
       "      <th>2</th>\n",
       "      <td>67.0</td>\n",
       "      <td>1.0</td>\n",
       "      <td>4.0</td>\n",
       "      <td>120.0</td>\n",
       "      <td>229.0</td>\n",
       "      <td>0.0</td>\n",
       "      <td>2.0</td>\n",
       "      <td>129.0</td>\n",
       "      <td>1.0</td>\n",
       "      <td>2.6</td>\n",
       "      <td>2.0</td>\n",
       "      <td>2.0</td>\n",
       "      <td>7.0</td>\n",
       "      <td>1</td>\n",
       "    </tr>\n",
       "    <tr>\n",
       "      <th>3</th>\n",
       "      <td>37.0</td>\n",
       "      <td>1.0</td>\n",
       "      <td>3.0</td>\n",
       "      <td>130.0</td>\n",
       "      <td>250.0</td>\n",
       "      <td>0.0</td>\n",
       "      <td>0.0</td>\n",
       "      <td>187.0</td>\n",
       "      <td>0.0</td>\n",
       "      <td>3.5</td>\n",
       "      <td>3.0</td>\n",
       "      <td>0.0</td>\n",
       "      <td>3.0</td>\n",
       "      <td>0</td>\n",
       "    </tr>\n",
       "    <tr>\n",
       "      <th>4</th>\n",
       "      <td>41.0</td>\n",
       "      <td>0.0</td>\n",
       "      <td>2.0</td>\n",
       "      <td>130.0</td>\n",
       "      <td>204.0</td>\n",
       "      <td>0.0</td>\n",
       "      <td>2.0</td>\n",
       "      <td>172.0</td>\n",
       "      <td>0.0</td>\n",
       "      <td>1.4</td>\n",
       "      <td>1.0</td>\n",
       "      <td>0.0</td>\n",
       "      <td>3.0</td>\n",
       "      <td>0</td>\n",
       "    </tr>\n",
       "  </tbody>\n",
       "</table>\n",
       "</div>"
      ],
      "text/plain": [
       "    age  sex  chest_pain  rest_bp   chol  fbs  rest_ecg  thalach  exang  \\\n",
       "0  63.0  1.0         1.0    145.0  233.0  1.0       2.0    150.0    0.0   \n",
       "1  67.0  1.0         4.0    160.0  286.0  0.0       2.0    108.0    1.0   \n",
       "2  67.0  1.0         4.0    120.0  229.0  0.0       2.0    129.0    1.0   \n",
       "3  37.0  1.0         3.0    130.0  250.0  0.0       0.0    187.0    0.0   \n",
       "4  41.0  0.0         2.0    130.0  204.0  0.0       2.0    172.0    0.0   \n",
       "\n",
       "   oldpeak  slope   ca  thal  diagnosis  \n",
       "0      2.3    3.0  0.0   6.0          0  \n",
       "1      1.5    2.0  3.0   3.0          1  \n",
       "2      2.6    2.0  2.0   7.0          1  \n",
       "3      3.5    3.0  0.0   3.0          0  \n",
       "4      1.4    1.0  0.0   3.0          0  "
      ]
     },
     "execution_count": 8,
     "metadata": {},
     "output_type": "execute_result"
    }
   ],
   "source": [
    "# Juntar los valores 1, 2, 3, 4 de diagnosis al nuevo valor 1 (para q diagnosis sea v o f)\n",
    "data[\"diagnosis\"] = np.where(data[\"diagnosis\"] > 0, 1, 0)\n",
    "data.head()"
   ]
  },
  {
   "cell_type": "code",
   "execution_count": 9,
   "metadata": {},
   "outputs": [
    {
     "data": {
      "text/html": [
       "<div>\n",
       "<style scoped>\n",
       "    .dataframe tbody tr th:only-of-type {\n",
       "        vertical-align: middle;\n",
       "    }\n",
       "\n",
       "    .dataframe tbody tr th {\n",
       "        vertical-align: top;\n",
       "    }\n",
       "\n",
       "    .dataframe thead th {\n",
       "        text-align: right;\n",
       "    }\n",
       "</style>\n",
       "<table border=\"1\" class=\"dataframe\">\n",
       "  <thead>\n",
       "    <tr style=\"text-align: right;\">\n",
       "      <th></th>\n",
       "      <th>sex</th>\n",
       "      <th>chest_pain</th>\n",
       "      <th>fbs</th>\n",
       "      <th>rest_ecg</th>\n",
       "      <th>exang</th>\n",
       "      <th>slope</th>\n",
       "      <th>ca</th>\n",
       "      <th>thal</th>\n",
       "    </tr>\n",
       "  </thead>\n",
       "  <tbody>\n",
       "    <tr>\n",
       "      <th>0</th>\n",
       "      <td>1.0</td>\n",
       "      <td>1.0</td>\n",
       "      <td>1.0</td>\n",
       "      <td>2.0</td>\n",
       "      <td>0.0</td>\n",
       "      <td>3.0</td>\n",
       "      <td>0.0</td>\n",
       "      <td>6.0</td>\n",
       "    </tr>\n",
       "    <tr>\n",
       "      <th>1</th>\n",
       "      <td>1.0</td>\n",
       "      <td>4.0</td>\n",
       "      <td>0.0</td>\n",
       "      <td>2.0</td>\n",
       "      <td>1.0</td>\n",
       "      <td>2.0</td>\n",
       "      <td>3.0</td>\n",
       "      <td>3.0</td>\n",
       "    </tr>\n",
       "    <tr>\n",
       "      <th>2</th>\n",
       "      <td>1.0</td>\n",
       "      <td>4.0</td>\n",
       "      <td>0.0</td>\n",
       "      <td>2.0</td>\n",
       "      <td>1.0</td>\n",
       "      <td>2.0</td>\n",
       "      <td>2.0</td>\n",
       "      <td>7.0</td>\n",
       "    </tr>\n",
       "    <tr>\n",
       "      <th>3</th>\n",
       "      <td>1.0</td>\n",
       "      <td>3.0</td>\n",
       "      <td>0.0</td>\n",
       "      <td>0.0</td>\n",
       "      <td>0.0</td>\n",
       "      <td>3.0</td>\n",
       "      <td>0.0</td>\n",
       "      <td>3.0</td>\n",
       "    </tr>\n",
       "    <tr>\n",
       "      <th>4</th>\n",
       "      <td>0.0</td>\n",
       "      <td>2.0</td>\n",
       "      <td>0.0</td>\n",
       "      <td>2.0</td>\n",
       "      <td>0.0</td>\n",
       "      <td>1.0</td>\n",
       "      <td>0.0</td>\n",
       "      <td>3.0</td>\n",
       "    </tr>\n",
       "  </tbody>\n",
       "</table>\n",
       "</div>"
      ],
      "text/plain": [
       "   sex  chest_pain  fbs  rest_ecg  exang  slope   ca  thal\n",
       "0  1.0         1.0  1.0       2.0    0.0    3.0  0.0   6.0\n",
       "1  1.0         4.0  0.0       2.0    1.0    2.0  3.0   3.0\n",
       "2  1.0         4.0  0.0       2.0    1.0    2.0  2.0   7.0\n",
       "3  1.0         3.0  0.0       0.0    0.0    3.0  0.0   3.0\n",
       "4  0.0         2.0  0.0       2.0    0.0    1.0  0.0   3.0"
      ]
     },
     "execution_count": 9,
     "metadata": {},
     "output_type": "execute_result"
    }
   ],
   "source": [
    "# Indices de vars categoricas y vars de razon\n",
    "# ca (11) es categorica? numero de vessels iluminados en fluroscopia\n",
    "cat_index = [1, 2, 5, 6, 8, 10, 11, 12]\n",
    "num_index = [0, 3, 4, 7, 9]\n",
    "data.iloc[:, cat_index].head()"
   ]
  },
  {
   "cell_type": "code",
   "execution_count": 10,
   "metadata": {},
   "outputs": [
    {
     "data": {
      "text/html": [
       "<div>\n",
       "<style scoped>\n",
       "    .dataframe tbody tr th:only-of-type {\n",
       "        vertical-align: middle;\n",
       "    }\n",
       "\n",
       "    .dataframe tbody tr th {\n",
       "        vertical-align: top;\n",
       "    }\n",
       "\n",
       "    .dataframe thead th {\n",
       "        text-align: right;\n",
       "    }\n",
       "</style>\n",
       "<table border=\"1\" class=\"dataframe\">\n",
       "  <thead>\n",
       "    <tr style=\"text-align: right;\">\n",
       "      <th></th>\n",
       "      <th>age</th>\n",
       "      <th>rest_bp</th>\n",
       "      <th>chol</th>\n",
       "      <th>thalach</th>\n",
       "      <th>oldpeak</th>\n",
       "    </tr>\n",
       "  </thead>\n",
       "  <tbody>\n",
       "    <tr>\n",
       "      <th>0</th>\n",
       "      <td>63.0</td>\n",
       "      <td>145.0</td>\n",
       "      <td>233.0</td>\n",
       "      <td>150.0</td>\n",
       "      <td>2.3</td>\n",
       "    </tr>\n",
       "    <tr>\n",
       "      <th>1</th>\n",
       "      <td>67.0</td>\n",
       "      <td>160.0</td>\n",
       "      <td>286.0</td>\n",
       "      <td>108.0</td>\n",
       "      <td>1.5</td>\n",
       "    </tr>\n",
       "    <tr>\n",
       "      <th>2</th>\n",
       "      <td>67.0</td>\n",
       "      <td>120.0</td>\n",
       "      <td>229.0</td>\n",
       "      <td>129.0</td>\n",
       "      <td>2.6</td>\n",
       "    </tr>\n",
       "    <tr>\n",
       "      <th>3</th>\n",
       "      <td>37.0</td>\n",
       "      <td>130.0</td>\n",
       "      <td>250.0</td>\n",
       "      <td>187.0</td>\n",
       "      <td>3.5</td>\n",
       "    </tr>\n",
       "    <tr>\n",
       "      <th>4</th>\n",
       "      <td>41.0</td>\n",
       "      <td>130.0</td>\n",
       "      <td>204.0</td>\n",
       "      <td>172.0</td>\n",
       "      <td>1.4</td>\n",
       "    </tr>\n",
       "  </tbody>\n",
       "</table>\n",
       "</div>"
      ],
      "text/plain": [
       "    age  rest_bp   chol  thalach  oldpeak\n",
       "0  63.0    145.0  233.0    150.0      2.3\n",
       "1  67.0    160.0  286.0    108.0      1.5\n",
       "2  67.0    120.0  229.0    129.0      2.6\n",
       "3  37.0    130.0  250.0    187.0      3.5\n",
       "4  41.0    130.0  204.0    172.0      1.4"
      ]
     },
     "execution_count": 10,
     "metadata": {},
     "output_type": "execute_result"
    }
   ],
   "source": [
    "data.iloc[:, num_index].head()"
   ]
  },
  {
   "cell_type": "code",
   "execution_count": 11,
   "metadata": {},
   "outputs": [
    {
     "data": {
      "text/plain": [
       "<matplotlib.axes._subplots.AxesSubplot at 0x28b164a3cc0>"
      ]
     },
     "execution_count": 11,
     "metadata": {},
     "output_type": "execute_result"
    },
    {
     "data": {
      "image/png": "[encoded data removed]",
      "text/plain": [
       "<Figure size 432x288 with 1 Axes>"
      ]
     },
     "metadata": {
      "needs_background": "light"
     },
     "output_type": "display_data"
    }
   ],
   "source": [
    "sns.boxplot(x = 'rest_bp', data = data)"
   ]
  },
  {
   "cell_type": "code",
   "execution_count": 12,
   "metadata": {},
   "outputs": [
    {
     "data": {
      "text/plain": [
       "<matplotlib.axes._subplots.AxesSubplot at 0x28b165154a8>"
      ]
     },
     "execution_count": 12,
     "metadata": {},
     "output_type": "execute_result"
    },
    {
     "data": {
      "image/png": "[encoded data removed]",
      "text/plain": [
       "<Figure size 432x288 with 1 Axes>"
      ]
     },
     "metadata": {
      "needs_background": "light"
     },
     "output_type": "display_data"
    }
   ],
   "source": [
    "sns.boxplot(x = 'chol', data = data)"
   ]
  },
  {
   "cell_type": "code",
   "execution_count": 13,
   "metadata": {},
   "outputs": [
    {
     "data": {
      "text/plain": [
       "564.0"
      ]
     },
     "execution_count": 13,
     "metadata": {},
     "output_type": "execute_result"
    }
   ],
   "source": [
    "max(data['chol'])"
   ]
  },
  {
   "cell_type": "code",
   "execution_count": 14,
   "metadata": {},
   "outputs": [
    {
     "data": {
      "text/plain": [
       "<matplotlib.axes._subplots.AxesSubplot at 0x28b16569518>"
      ]
     },
     "execution_count": 14,
     "metadata": {},
     "output_type": "execute_result"
    },
    {
     "data": {
      "image/png": "[encoded data removed]",
      "text/plain": [
       "<Figure size 432x288 with 1 Axes>"
      ]
     },
     "metadata": {
      "needs_background": "light"
     },
     "output_type": "display_data"
    }
   ],
   "source": [
    "sns.boxplot(x = 'thalach', data = data)"
   ]
  },
  {
   "cell_type": "code",
   "execution_count": 15,
   "metadata": {},
   "outputs": [
    {
     "data": {
      "text/plain": [
       "<matplotlib.axes._subplots.AxesSubplot at 0x28b165c1b70>"
      ]
     },
     "execution_count": 15,
     "metadata": {},
     "output_type": "execute_result"
    },
    {
     "data": {
      "image/png": "[encoded data removed]",
      "text/plain": [
       "<Figure size 432x288 with 1 Axes>"
      ]
     },
     "metadata": {
      "needs_background": "light"
     },
     "output_type": "display_data"
    }
   ],
   "source": [
    "sns.boxplot(x = 'oldpeak', data = data)"
   ]
  },
  {
   "cell_type": "code",
   "execution_count": 16,
   "metadata": {},
   "outputs": [
    {
     "data": {
      "text/plain": [
       "6.2"
      ]
     },
     "execution_count": 16,
     "metadata": {},
     "output_type": "execute_result"
    }
   ],
   "source": [
    "max(data['oldpeak'])"
   ]
  },
  {
   "cell_type": "code",
   "execution_count": 17,
   "metadata": {},
   "outputs": [],
   "source": [
    "X_num = data.iloc[:, num_index]\n",
    "X_num_std = pd.DataFrame()"
   ]
  },
  {
   "cell_type": "code",
   "execution_count": 18,
   "metadata": {},
   "outputs": [],
   "source": [
    "for col in X_num.columns:\n",
    "    X_num_std[col] = preprocessing.scale(X_num[col])"
   ]
  },
  {
   "cell_type": "code",
   "execution_count": 19,
   "metadata": {},
   "outputs": [
    {
     "data": {
      "text/html": [
       "<div>\n",
       "<style scoped>\n",
       "    .dataframe tbody tr th:only-of-type {\n",
       "        vertical-align: middle;\n",
       "    }\n",
       "\n",
       "    .dataframe tbody tr th {\n",
       "        vertical-align: top;\n",
       "    }\n",
       "\n",
       "    .dataframe thead th {\n",
       "        text-align: right;\n",
       "    }\n",
       "</style>\n",
       "<table border=\"1\" class=\"dataframe\">\n",
       "  <thead>\n",
       "    <tr style=\"text-align: right;\">\n",
       "      <th></th>\n",
       "      <th>age</th>\n",
       "      <th>rest_bp</th>\n",
       "      <th>chol</th>\n",
       "      <th>thalach</th>\n",
       "      <th>oldpeak</th>\n",
       "    </tr>\n",
       "  </thead>\n",
       "  <tbody>\n",
       "    <tr>\n",
       "      <th>0</th>\n",
       "      <td>0.936181</td>\n",
       "      <td>0.750380</td>\n",
       "      <td>-0.276443</td>\n",
       "      <td>0.017494</td>\n",
       "      <td>1.068965</td>\n",
       "    </tr>\n",
       "    <tr>\n",
       "      <th>1</th>\n",
       "      <td>1.378929</td>\n",
       "      <td>1.596266</td>\n",
       "      <td>0.744555</td>\n",
       "      <td>-1.816334</td>\n",
       "      <td>0.381773</td>\n",
       "    </tr>\n",
       "    <tr>\n",
       "      <th>2</th>\n",
       "      <td>1.378929</td>\n",
       "      <td>-0.659431</td>\n",
       "      <td>-0.353500</td>\n",
       "      <td>-0.899420</td>\n",
       "      <td>1.326662</td>\n",
       "    </tr>\n",
       "    <tr>\n",
       "      <th>3</th>\n",
       "      <td>-1.941680</td>\n",
       "      <td>-0.095506</td>\n",
       "      <td>0.051047</td>\n",
       "      <td>1.633010</td>\n",
       "      <td>2.099753</td>\n",
       "    </tr>\n",
       "    <tr>\n",
       "      <th>4</th>\n",
       "      <td>-1.498933</td>\n",
       "      <td>-0.095506</td>\n",
       "      <td>-0.835103</td>\n",
       "      <td>0.978071</td>\n",
       "      <td>0.295874</td>\n",
       "    </tr>\n",
       "  </tbody>\n",
       "</table>\n",
       "</div>"
      ],
      "text/plain": [
       "        age   rest_bp      chol   thalach   oldpeak\n",
       "0  0.936181  0.750380 -0.276443  0.017494  1.068965\n",
       "1  1.378929  1.596266  0.744555 -1.816334  0.381773\n",
       "2  1.378929 -0.659431 -0.353500 -0.899420  1.326662\n",
       "3 -1.941680 -0.095506  0.051047  1.633010  2.099753\n",
       "4 -1.498933 -0.095506 -0.835103  0.978071  0.295874"
      ]
     },
     "execution_count": 19,
     "metadata": {},
     "output_type": "execute_result"
    }
   ],
   "source": [
    "X_num_std.head()"
   ]
  },
  {
   "cell_type": "code",
   "execution_count": 20,
   "metadata": {},
   "outputs": [],
   "source": [
    "processed_data = X_num_std.join(data.iloc[:, cat_index])"
   ]
  },
  {
   "cell_type": "markdown",
   "metadata": {},
   "source": [
    "### Analisis Exploratorio"
   ]
  },
  {
   "cell_type": "markdown",
   "metadata": {},
   "source": [
    "### Tablas de contingencia con pvals de relacion"
   ]
  },
  {
   "cell_type": "code",
   "execution_count": 21,
   "metadata": {
    "scrolled": true
   },
   "outputs": [
    {
     "name": "stdout",
     "output_type": "stream",
     "text": [
      "Var = sex\n",
      "Matriz de Contingencia: \n",
      "\\begin{blockarray}{ccc}\n",
      " & 0 & 1\\\\\n",
      "\\begin{block}{c(cc)}\n",
      "0 & 71 & 89 \\\\ \n",
      "1 & 25 & 112 \\\\ \n",
      "\\end{block}\n",
      "\\end{blockarray}\n",
      "p-val: 1.5945330533728708e-06\n",
      "\n",
      "Var = chest_pain\n",
      "Matriz de Contingencia: \n",
      "\\begin{blockarray}{ccccc}\n",
      " & 1 & 2 & 3 & 4\\\\\n",
      "\\begin{block}{c(cccc)}\n",
      "0 & 16 & 40 & 65 & 39 \\\\ \n",
      "1 & 7 & 9 & 18 & 103 \\\\ \n",
      "\\end{block}\n",
      "\\end{blockarray}\n",
      "p-val: 1.1102230246251565e-16\n",
      "\n",
      "Var = fbs\n",
      "Matriz de Contingencia: \n",
      "\\begin{blockarray}{ccc}\n",
      " & 0 & 1\\\\\n",
      "\\begin{block}{c(cc)}\n",
      "0 & 137 & 23 \\\\ \n",
      "1 & 117 & 20 \\\\ \n",
      "\\end{block}\n",
      "\\end{blockarray}\n",
      "p-val: 0.9564761351720444\n",
      "\n",
      "Var = rest_ecg\n",
      "Matriz de Contingencia: \n",
      "\\begin{blockarray}{cccc}\n",
      " & 0 & 1 & 2\\\\\n",
      "\\begin{block}{c(ccc)}\n",
      "0 & 92 & 1 & 67 \\\\ \n",
      "1 & 55 & 3 & 79 \\\\ \n",
      "\\end{block}\n",
      "\\end{blockarray}\n",
      "p-val: 0.008331151353680788\n",
      "\n",
      "Var = exang\n",
      "Matriz de Contingencia: \n",
      "\\begin{blockarray}{ccc}\n",
      " & 0 & 1\\\\\n",
      "\\begin{block}{c(cc)}\n",
      "0 & 137 & 23 \\\\ \n",
      "1 & 63 & 74 \\\\ \n",
      "\\end{block}\n",
      "\\end{blockarray}\n",
      "p-val: 3.82804898890754e-13\n",
      "\n",
      "Var = slope\n",
      "Matriz de Contingencia: \n",
      "\\begin{blockarray}{cccc}\n",
      " & 1 & 2 & 3\\\\\n",
      "\\begin{block}{c(ccc)}\n",
      "0 & 103 & 48 & 9 \\\\ \n",
      "1 & 36 & 89 & 12 \\\\ \n",
      "\\end{block}\n",
      "\\end{blockarray}\n",
      "p-val: 3.6301073258471206e-10\n",
      "\n",
      "Var = ca\n",
      "Matriz de Contingencia: \n",
      "\\begin{blockarray}{ccccc}\n",
      " & 0 & 1 & 2 & 3\\\\\n",
      "\\begin{block}{c(cccc)}\n",
      "0 & 129 & 21 & 7 & 3 \\\\ \n",
      "1 & 45 & 44 & 31 & 17 \\\\ \n",
      "\\end{block}\n",
      "\\end{blockarray}\n",
      "p-val: 1.3322676295501878e-15\n",
      "\n",
      "Var = thal\n",
      "Matriz de Contingencia: \n",
      "\\begin{blockarray}{cccc}\n",
      " & 3 & 6 & 7\\\\\n",
      "\\begin{block}{c(ccc)}\n",
      "0 & 127 & 6 & 27 \\\\ \n",
      "1 & 37 & 12 & 88 \\\\ \n",
      "\\end{block}\n",
      "\\end{blockarray}\n",
      "p-val: 0.0\n",
      "\n"
     ]
    }
   ],
   "source": [
    "# Tablas de contingencia de diagnosis vs vars categoricas\n",
    "for att in data.columns[cat_index]:\n",
    "    M = []\n",
    "    print(\"Var = \" + att )\n",
    "    vals = np.unique(data[att]).astype(int)\n",
    "    for val in vals:\n",
    "        M.append([data.query(att + \" == \" + str(val) + \" and diagnosis == 0\").shape[0], \n",
    "                  data.query(att + \" == \" + str(val) + \" and diagnosis == 1\").shape[0]])\n",
    "    M = np.array(M, dtype = int).T\n",
    "    print(\"Matriz de Contingencia: \")\n",
    "    print(ls.indexedMatrix(M, ['0', '1'], vals))\n",
    "    pval = sm.stats.Table(M).test_nominal_association().pvalue\n",
    "    print(\"p-val: \" + str(pval) + \"\\n\")"
   ]
  },
  {
   "cell_type": "code",
   "execution_count": 22,
   "metadata": {},
   "outputs": [],
   "source": [
    "# Pval de fbs salio 0.95, se quita de las vars de processed data\n",
    "processed_data = processed_data.drop(columns=[\"fbs\"])"
   ]
  },
  {
   "cell_type": "code",
   "execution_count": 23,
   "metadata": {},
   "outputs": [],
   "source": [
    "index = num_index.copy()\n",
    "index.append(0)"
   ]
  },
  {
   "cell_type": "code",
   "execution_count": 24,
   "metadata": {
    "scrolled": false
   },
   "outputs": [
    {
     "data": {
      "image/png": "[encoded data removed]",
      "text/plain": [
       "<Figure size 955.5x900 with 30 Axes>"
      ]
     },
     "metadata": {
      "needs_background": "light"
     },
     "output_type": "display_data"
    }
   ],
   "source": [
    "# histogramas para vars \n",
    "sns.pairplot(data, vars = data.columns[num_index], hue = \"diagnosis\")\n",
    "plt.show()"
   ]
  },
  {
   "cell_type": "code",
   "execution_count": 25,
   "metadata": {},
   "outputs": [],
   "source": [
    "processed_data['diagnosis'] = data['diagnosis']"
   ]
  },
  {
   "cell_type": "code",
   "execution_count": 26,
   "metadata": {},
   "outputs": [
    {
     "data": {
      "text/plain": [
       "<matplotlib.axes._subplots.AxesSubplot at 0x28b18558e80>"
      ]
     },
     "execution_count": 26,
     "metadata": {},
     "output_type": "execute_result"
    },
    {
     "data": {
      "image/png": "[encoded data removed]",
      "text/plain": [
       "<Figure size 432x288 with 2 Axes>"
      ]
     },
     "metadata": {
      "needs_background": "light"
     },
     "output_type": "display_data"
    }
   ],
   "source": [
    "sns.heatmap(data=data.isnull(),yticklabels=False)"
   ]
  },
  {
   "cell_type": "code",
   "execution_count": 27,
   "metadata": {},
   "outputs": [
    {
     "data": {
      "text/plain": [
       "<matplotlib.axes._subplots.AxesSubplot at 0x28b18a0ce80>"
      ]
     },
     "execution_count": 27,
     "metadata": {},
     "output_type": "execute_result"
    },
    {
     "data": {
      "image/png": "[encoded data removed]",
      "text/plain": [
       "<Figure size 792x648 with 2 Axes>"
      ]
     },
     "metadata": {
      "needs_background": "light"
     },
     "output_type": "display_data"
    }
   ],
   "source": [
    "# Correlaciones\n",
    "corr = processed_data.corr()\n",
    "\n",
    "# plot correlation matrix\n",
    "fig = plt.figure(figsize=(11, 9))\n",
    "mask = np.zeros_like(corr, dtype=np.bool) # create mask to cover the upper triangle\n",
    "mask[np.triu_indices_from(mask)] = True\n",
    "cmap = sns.diverging_palette(10, 240, as_cmap=True)\n",
    "sns.heatmap(corr, mask=mask, cmap=cmap, vmin = -1, vmax = 1, center=0,\n",
    "            square=True, linewidths=.5, cbar_kws={\"shrink\": .5}, annot=True)\n",
    "#plt.savefig('graphs/correlaciones.png', dpi = 300)"
   ]
  },
  {
   "cell_type": "code",
   "execution_count": 28,
   "metadata": {},
   "outputs": [
    {
     "data": {
      "text/plain": [
       "<matplotlib.axes._subplots.AxesSubplot at 0x28b18d33fd0>"
      ]
     },
     "execution_count": 28,
     "metadata": {},
     "output_type": "execute_result"
    },
    {
     "data": {
      "image/png": "[encoded data removed]",
      "text/plain": [
       "<Figure size 432x288 with 1 Axes>"
      ]
     },
     "metadata": {
      "needs_background": "light"
     },
     "output_type": "display_data"
    }
   ],
   "source": [
    "sns.countplot(x=\"diagnosis\", data=processed_data, hue='sex')"
   ]
  },
  {
   "cell_type": "code",
   "execution_count": 29,
   "metadata": {},
   "outputs": [
    {
     "data": {
      "text/plain": [
       "<matplotlib.axes._subplots.AxesSubplot at 0x28b18da1550>"
      ]
     },
     "execution_count": 29,
     "metadata": {},
     "output_type": "execute_result"
    },
    {
     "data": {
      "image/png": "[encoded data removed]",
      "text/plain": [
       "<Figure size 432x288 with 1 Axes>"
      ]
     },
     "metadata": {
      "needs_background": "light"
     },
     "output_type": "display_data"
    }
   ],
   "source": [
    "sns.countplot(x=\"diagnosis\", data=processed_data, hue='ca')"
   ]
  },
  {
   "cell_type": "code",
   "execution_count": 30,
   "metadata": {},
   "outputs": [
    {
     "data": {
      "text/plain": [
       "<matplotlib.axes._subplots.AxesSubplot at 0x28b18b48cf8>"
      ]
     },
     "execution_count": 30,
     "metadata": {},
     "output_type": "execute_result"
    },
    {
     "data": {
      "image/png": "[encoded data removed]",
      "text/plain": [
       "<Figure size 432x288 with 1 Axes>"
      ]
     },
     "metadata": {
      "needs_background": "light"
     },
     "output_type": "display_data"
    }
   ],
   "source": [
    "sns.countplot(x=\"diagnosis\", data=processed_data, hue='thal')"
   ]
  },
  {
   "cell_type": "code",
   "execution_count": 31,
   "metadata": {},
   "outputs": [
    {
     "data": {
      "text/plain": [
       "<matplotlib.axes._subplots.AxesSubplot at 0x28b18bbc4a8>"
      ]
     },
     "execution_count": 31,
     "metadata": {},
     "output_type": "execute_result"
    },
    {
     "data": {
      "image/png": "[encoded data removed]",
      "text/plain": [
       "<Figure size 432x288 with 1 Axes>"
      ]
     },
     "metadata": {
      "needs_background": "light"
     },
     "output_type": "display_data"
    }
   ],
   "source": [
    "sns.countplot(x=\"diagnosis\", data=processed_data, hue='chest_pain')"
   ]
  },
  {
   "cell_type": "code",
   "execution_count": 32,
   "metadata": {},
   "outputs": [
    {
     "data": {
      "text/plain": [
       "<matplotlib.legend.Legend at 0x28b1856dcc0>"
      ]
     },
     "execution_count": 32,
     "metadata": {},
     "output_type": "execute_result"
    },
    {
     "data": {
      "image/png": "[encoded data removed]",
      "text/plain": [
       "<Figure size 432x288 with 1 Axes>"
      ]
     },
     "metadata": {
      "needs_background": "light"
     },
     "output_type": "display_data"
    }
   ],
   "source": [
    "swarmPlot = sns.swarmplot(x = 'age', y = 'chol', data=processed_data, hue='diagnosis', palette='Set2')\n",
    "swarmPlot.set(xticklabels=[])\n",
    "swarmPlot.legend(loc='upper right')"
   ]
  },
  {
   "cell_type": "code",
   "execution_count": 33,
   "metadata": {},
   "outputs": [
    {
     "data": {
      "text/plain": [
       "<matplotlib.legend.Legend at 0x28b17083390>"
      ]
     },
     "execution_count": 33,
     "metadata": {},
     "output_type": "execute_result"
    },
    {
     "data": {
      "image/png": "[encoded data removed]",
      "text/plain": [
       "<Figure size 432x288 with 1 Axes>"
      ]
     },
     "metadata": {
      "needs_background": "light"
     },
     "output_type": "display_data"
    }
   ],
   "source": [
    "swarmPlot = sns.stripplot(x = 'sex', y = 'rest_bp', data=processed_data, hue='diagnosis', palette='Set2')\n",
    "swarmPlot.set(xticklabels=[])\n",
    "swarmPlot.legend(loc='upper right')"
   ]
  },
  {
   "cell_type": "code",
   "execution_count": 34,
   "metadata": {},
   "outputs": [
    {
     "data": {
      "text/plain": [
       "<matplotlib.legend.Legend at 0x28b185c59e8>"
      ]
     },
     "execution_count": 34,
     "metadata": {},
     "output_type": "execute_result"
    },
    {
     "data": {
      "image/png": "[encoded data removed]",
      "text/plain": [
       "<Figure size 432x288 with 1 Axes>"
      ]
     },
     "metadata": {
      "needs_background": "light"
     },
     "output_type": "display_data"
    }
   ],
   "source": [
    "swarmPlot = sns.stripplot(x = 'ca', y = 'oldpeak', data=processed_data, hue='diagnosis', palette='Set2')\n",
    "swarmPlot.set(xticklabels=[])\n",
    "swarmPlot.legend(loc='upper right')"
   ]
  },
  {
   "cell_type": "code",
   "execution_count": 35,
   "metadata": {},
   "outputs": [
    {
     "data": {
      "text/plain": [
       "<matplotlib.legend.Legend at 0x28b18157a20>"
      ]
     },
     "execution_count": 35,
     "metadata": {},
     "output_type": "execute_result"
    },
    {
     "data": {
      "image/png": "[encoded data removed]",
      "text/plain": [
       "<Figure size 432x288 with 1 Axes>"
      ]
     },
     "metadata": {
      "needs_background": "light"
     },
     "output_type": "display_data"
    }
   ],
   "source": [
    "swarmPlot = sns.swarmplot(x = 'oldpeak', y = 'age', data=processed_data, hue='diagnosis', palette='Set2')\n",
    "swarmPlot.set(xticklabels=[])\n",
    "swarmPlot.legend(loc='upper right')"
   ]
  },
  {
   "cell_type": "code",
   "execution_count": 36,
   "metadata": {},
   "outputs": [
    {
     "data": {
      "text/plain": [
       "<matplotlib.axes._subplots.AxesSubplot at 0x28b170a26d8>"
      ]
     },
     "execution_count": 36,
     "metadata": {},
     "output_type": "execute_result"
    },
    {
     "data": {
      "image/png": "[encoded data removed]",
      "text/plain": [
       "<Figure size 432x288 with 1 Axes>"
      ]
     },
     "metadata": {
      "needs_background": "light"
     },
     "output_type": "display_data"
    }
   ],
   "source": [
    "sns.scatterplot(x = 'age', y = 'chol', data = processed_data, hue = 'diagnosis')"
   ]
  },
  {
   "cell_type": "code",
   "execution_count": 37,
   "metadata": {},
   "outputs": [
    {
     "data": {
      "text/plain": [
       "<matplotlib.axes._subplots.AxesSubplot at 0x28b16f0a9b0>"
      ]
     },
     "execution_count": 37,
     "metadata": {},
     "output_type": "execute_result"
    },
    {
     "data": {
      "image/png": "[encoded data removed]",
      "text/plain": [
       "<Figure size 432x288 with 1 Axes>"
      ]
     },
     "metadata": {
      "needs_background": "light"
     },
     "output_type": "display_data"
    }
   ],
   "source": [
    "sns.scatterplot(x = 'chol', y = 'thalach', data = processed_data, hue = 'diagnosis')"
   ]
  },
  {
   "cell_type": "code",
   "execution_count": 38,
   "metadata": {},
   "outputs": [
    {
     "data": {
      "text/plain": [
       "<matplotlib.axes._subplots.AxesSubplot at 0x28b16e05390>"
      ]
     },
     "execution_count": 38,
     "metadata": {},
     "output_type": "execute_result"
    },
    {
     "data": {
      "image/png": "[encoded data removed]",
      "text/plain": [
       "<Figure size 432x288 with 1 Axes>"
      ]
     },
     "metadata": {
      "needs_background": "light"
     },
     "output_type": "display_data"
    }
   ],
   "source": [
    "sns.scatterplot(x = 'age', y = 'chol', data = processed_data, hue = 'diagnosis')"
   ]
  },
  {
   "cell_type": "markdown",
   "metadata": {},
   "source": [
    "### Clusters"
   ]
  },
  {
   "cell_type": "code",
   "execution_count": 39,
   "metadata": {},
   "outputs": [],
   "source": [
    "from sklearn.cluster import KMeans\n"
   ]
  },
  {
   "cell_type": "code",
   "execution_count": 40,
   "metadata": {},
   "outputs": [],
   "source": [
    "kmeans = KMeans(n_clusters=3)\n"
   ]
  },
  {
   "cell_type": "code",
   "execution_count": 41,
   "metadata": {},
   "outputs": [],
   "source": [
    "cluster_data = data[data['diagnosis']==1][['sex','chol']]"
   ]
  },
  {
   "cell_type": "code",
   "execution_count": 42,
   "metadata": {},
   "outputs": [
    {
     "data": {
      "text/html": [
       "<div>\n",
       "<style scoped>\n",
       "    .dataframe tbody tr th:only-of-type {\n",
       "        vertical-align: middle;\n",
       "    }\n",
       "\n",
       "    .dataframe tbody tr th {\n",
       "        vertical-align: top;\n",
       "    }\n",
       "\n",
       "    .dataframe thead th {\n",
       "        text-align: right;\n",
       "    }\n",
       "</style>\n",
       "<table border=\"1\" class=\"dataframe\">\n",
       "  <thead>\n",
       "    <tr style=\"text-align: right;\">\n",
       "      <th></th>\n",
       "      <th>sex</th>\n",
       "      <th>chol</th>\n",
       "      <th>labels</th>\n",
       "    </tr>\n",
       "  </thead>\n",
       "  <tbody>\n",
       "    <tr>\n",
       "      <th>1</th>\n",
       "      <td>1.0</td>\n",
       "      <td>286.0</td>\n",
       "      <td>0</td>\n",
       "    </tr>\n",
       "    <tr>\n",
       "      <th>2</th>\n",
       "      <td>1.0</td>\n",
       "      <td>229.0</td>\n",
       "      <td>2</td>\n",
       "    </tr>\n",
       "    <tr>\n",
       "      <th>6</th>\n",
       "      <td>0.0</td>\n",
       "      <td>268.0</td>\n",
       "      <td>2</td>\n",
       "    </tr>\n",
       "    <tr>\n",
       "      <th>8</th>\n",
       "      <td>1.0</td>\n",
       "      <td>254.0</td>\n",
       "      <td>2</td>\n",
       "    </tr>\n",
       "    <tr>\n",
       "      <th>9</th>\n",
       "      <td>1.0</td>\n",
       "      <td>203.0</td>\n",
       "      <td>1</td>\n",
       "    </tr>\n",
       "  </tbody>\n",
       "</table>\n",
       "</div>"
      ],
      "text/plain": [
       "   sex   chol  labels\n",
       "1  1.0  286.0       0\n",
       "2  1.0  229.0       2\n",
       "6  0.0  268.0       2\n",
       "8  1.0  254.0       2\n",
       "9  1.0  203.0       1"
      ]
     },
     "execution_count": 42,
     "metadata": {},
     "output_type": "execute_result"
    }
   ],
   "source": [
    "kmeans.fit(cluster_data)\n",
    "cluster_data['labels'] = kmeans.labels_\n",
    "cluster_data.head()"
   ]
  },
  {
   "cell_type": "code",
   "execution_count": 43,
   "metadata": {},
   "outputs": [
    {
     "data": {
      "text/plain": [
       "[[]]"
      ]
     },
     "execution_count": 43,
     "metadata": {},
     "output_type": "execute_result"
    },
    {
     "data": {
      "image/png": "[encoded data removed]",
      "text/plain": [
       "<Figure size 432x288 with 1 Axes>"
      ]
     },
     "metadata": {
      "needs_background": "light"
     },
     "output_type": "display_data"
    }
   ],
   "source": [
    "swarmPlot =  sns.swarmplot(x=\"sex\", y=\"chol\", data=cluster_data, hue='labels')\n",
    "swarmPlot.set(xticklabels=[])"
   ]
  },
  {
   "cell_type": "markdown",
   "metadata": {},
   "source": [
    "### Dummy var"
   ]
  },
  {
   "cell_type": "code",
   "execution_count": 44,
   "metadata": {},
   "outputs": [],
   "source": [
    "X = processed_data.drop(columns = ['diagnosis'])\n",
    "y = processed_data['diagnosis']"
   ]
  },
  {
   "cell_type": "code",
   "execution_count": 45,
   "metadata": {},
   "outputs": [],
   "source": [
    "X['sex'] = processed_data['sex'].map(sex_cat)\n",
    "X['chest_pain'] = processed_data['chest_pain'].map(chest_pain_cat)\n",
    "X['rest_ecg'] = processed_data['rest_ecg'].map(rest_ecg)\n",
    "#X['fbs'] = data['fbs'].map(fbs_cat)\n",
    "X['exang'] = processed_data['exang'].map(exang)\n",
    "X['slope'] = processed_data['slope'].map(slope)\n",
    "X['thal'] = processed_data['thal'].map(thal)"
   ]
  },
  {
   "cell_type": "code",
   "execution_count": 46,
   "metadata": {},
   "outputs": [
    {
     "data": {
      "text/plain": [
       "age           0\n",
       "rest_bp       0\n",
       "chol          0\n",
       "thalach       0\n",
       "oldpeak       0\n",
       "sex           0\n",
       "chest_pain    0\n",
       "rest_ecg      0\n",
       "exang         0\n",
       "slope         0\n",
       "ca            0\n",
       "thal          0\n",
       "dtype: int64"
      ]
     },
     "execution_count": 46,
     "metadata": {},
     "output_type": "execute_result"
    }
   ],
   "source": [
    "X.isnull().sum()"
   ]
  },
  {
   "cell_type": "code",
   "execution_count": 47,
   "metadata": {},
   "outputs": [],
   "source": [
    "X = pd.get_dummies(X, columns =['sex', 'chest_pain','rest_ecg','exang','slope','thal','ca'], \n",
    "                   prefix = ['is','has','ecg','exang','slope','thal','ca'],drop_first = True)\n",
    "\n"
   ]
  },
  {
   "cell_type": "code",
   "execution_count": 48,
   "metadata": {},
   "outputs": [
    {
     "data": {
      "text/html": [
       "<div>\n",
       "<style scoped>\n",
       "    .dataframe tbody tr th:only-of-type {\n",
       "        vertical-align: middle;\n",
       "    }\n",
       "\n",
       "    .dataframe tbody tr th {\n",
       "        vertical-align: top;\n",
       "    }\n",
       "\n",
       "    .dataframe thead th {\n",
       "        text-align: right;\n",
       "    }\n",
       "</style>\n",
       "<table border=\"1\" class=\"dataframe\">\n",
       "  <thead>\n",
       "    <tr style=\"text-align: right;\">\n",
       "      <th></th>\n",
       "      <th>age</th>\n",
       "      <th>rest_bp</th>\n",
       "      <th>chol</th>\n",
       "      <th>thalach</th>\n",
       "      <th>oldpeak</th>\n",
       "      <th>is_male</th>\n",
       "      <th>has_atypical angina</th>\n",
       "      <th>has_non-anginal pain</th>\n",
       "      <th>has_typical angina</th>\n",
       "      <th>ecg_normal</th>\n",
       "      <th>ecg_probable left ventricular hypertrophy</th>\n",
       "      <th>exang_yes</th>\n",
       "      <th>slope_flat</th>\n",
       "      <th>slope_upsloping</th>\n",
       "      <th>thal_normal</th>\n",
       "      <th>thal_reversable defect</th>\n",
       "      <th>ca_1.0</th>\n",
       "      <th>ca_2.0</th>\n",
       "      <th>ca_3.0</th>\n",
       "    </tr>\n",
       "  </thead>\n",
       "  <tbody>\n",
       "    <tr>\n",
       "      <th>0</th>\n",
       "      <td>0.936181</td>\n",
       "      <td>0.750380</td>\n",
       "      <td>-0.276443</td>\n",
       "      <td>0.017494</td>\n",
       "      <td>1.068965</td>\n",
       "      <td>1</td>\n",
       "      <td>0</td>\n",
       "      <td>0</td>\n",
       "      <td>1</td>\n",
       "      <td>0</td>\n",
       "      <td>1</td>\n",
       "      <td>0</td>\n",
       "      <td>0</td>\n",
       "      <td>0</td>\n",
       "      <td>0</td>\n",
       "      <td>0</td>\n",
       "      <td>0</td>\n",
       "      <td>0</td>\n",
       "      <td>0</td>\n",
       "    </tr>\n",
       "    <tr>\n",
       "      <th>1</th>\n",
       "      <td>1.378929</td>\n",
       "      <td>1.596266</td>\n",
       "      <td>0.744555</td>\n",
       "      <td>-1.816334</td>\n",
       "      <td>0.381773</td>\n",
       "      <td>1</td>\n",
       "      <td>0</td>\n",
       "      <td>0</td>\n",
       "      <td>0</td>\n",
       "      <td>0</td>\n",
       "      <td>1</td>\n",
       "      <td>1</td>\n",
       "      <td>1</td>\n",
       "      <td>0</td>\n",
       "      <td>1</td>\n",
       "      <td>0</td>\n",
       "      <td>0</td>\n",
       "      <td>0</td>\n",
       "      <td>1</td>\n",
       "    </tr>\n",
       "    <tr>\n",
       "      <th>2</th>\n",
       "      <td>1.378929</td>\n",
       "      <td>-0.659431</td>\n",
       "      <td>-0.353500</td>\n",
       "      <td>-0.899420</td>\n",
       "      <td>1.326662</td>\n",
       "      <td>1</td>\n",
       "      <td>0</td>\n",
       "      <td>0</td>\n",
       "      <td>0</td>\n",
       "      <td>0</td>\n",
       "      <td>1</td>\n",
       "      <td>1</td>\n",
       "      <td>1</td>\n",
       "      <td>0</td>\n",
       "      <td>0</td>\n",
       "      <td>1</td>\n",
       "      <td>0</td>\n",
       "      <td>1</td>\n",
       "      <td>0</td>\n",
       "    </tr>\n",
       "    <tr>\n",
       "      <th>3</th>\n",
       "      <td>-1.941680</td>\n",
       "      <td>-0.095506</td>\n",
       "      <td>0.051047</td>\n",
       "      <td>1.633010</td>\n",
       "      <td>2.099753</td>\n",
       "      <td>1</td>\n",
       "      <td>0</td>\n",
       "      <td>1</td>\n",
       "      <td>0</td>\n",
       "      <td>1</td>\n",
       "      <td>0</td>\n",
       "      <td>0</td>\n",
       "      <td>0</td>\n",
       "      <td>0</td>\n",
       "      <td>1</td>\n",
       "      <td>0</td>\n",
       "      <td>0</td>\n",
       "      <td>0</td>\n",
       "      <td>0</td>\n",
       "    </tr>\n",
       "    <tr>\n",
       "      <th>4</th>\n",
       "      <td>-1.498933</td>\n",
       "      <td>-0.095506</td>\n",
       "      <td>-0.835103</td>\n",
       "      <td>0.978071</td>\n",
       "      <td>0.295874</td>\n",
       "      <td>0</td>\n",
       "      <td>1</td>\n",
       "      <td>0</td>\n",
       "      <td>0</td>\n",
       "      <td>0</td>\n",
       "      <td>1</td>\n",
       "      <td>0</td>\n",
       "      <td>0</td>\n",
       "      <td>1</td>\n",
       "      <td>1</td>\n",
       "      <td>0</td>\n",
       "      <td>0</td>\n",
       "      <td>0</td>\n",
       "      <td>0</td>\n",
       "    </tr>\n",
       "  </tbody>\n",
       "</table>\n",
       "</div>"
      ],
      "text/plain": [
       "        age   rest_bp      chol   thalach   oldpeak  is_male  \\\n",
       "0  0.936181  0.750380 -0.276443  0.017494  1.068965        1   \n",
       "1  1.378929  1.596266  0.744555 -1.816334  0.381773        1   \n",
       "2  1.378929 -0.659431 -0.353500 -0.899420  1.326662        1   \n",
       "3 -1.941680 -0.095506  0.051047  1.633010  2.099753        1   \n",
       "4 -1.498933 -0.095506 -0.835103  0.978071  0.295874        0   \n",
       "\n",
       "   has_atypical angina  has_non-anginal pain  has_typical angina  ecg_normal  \\\n",
       "0                    0                     0                   1           0   \n",
       "1                    0                     0                   0           0   \n",
       "2                    0                     0                   0           0   \n",
       "3                    0                     1                   0           1   \n",
       "4                    1                     0                   0           0   \n",
       "\n",
       "   ecg_probable left ventricular hypertrophy  exang_yes  slope_flat  \\\n",
       "0                                          1          0           0   \n",
       "1                                          1          1           1   \n",
       "2                                          1          1           1   \n",
       "3                                          0          0           0   \n",
       "4                                          1          0           0   \n",
       "\n",
       "   slope_upsloping  thal_normal  thal_reversable defect  ca_1.0  ca_2.0  \\\n",
       "0                0            0                       0       0       0   \n",
       "1                0            1                       0       0       0   \n",
       "2                0            0                       1       0       1   \n",
       "3                0            1                       0       0       0   \n",
       "4                1            1                       0       0       0   \n",
       "\n",
       "   ca_3.0  \n",
       "0       0  \n",
       "1       1  \n",
       "2       0  \n",
       "3       0  \n",
       "4       0  "
      ]
     },
     "execution_count": 48,
     "metadata": {},
     "output_type": "execute_result"
    }
   ],
   "source": [
    "X.head()"
   ]
  },
  {
   "cell_type": "markdown",
   "metadata": {},
   "source": [
    "### Logit simple"
   ]
  },
  {
   "cell_type": "code",
   "execution_count": 49,
   "metadata": {},
   "outputs": [],
   "source": [
    "X_train1, X_test1, y_train, y_test = train_test_split(X, y, test_size = 0.2, random_state = 158999)"
   ]
  },
  {
   "cell_type": "code",
   "execution_count": 50,
   "metadata": {},
   "outputs": [
    {
     "data": {
      "text/plain": [
       "237"
      ]
     },
     "execution_count": 50,
     "metadata": {},
     "output_type": "execute_result"
    }
   ],
   "source": [
    "len(y_train)"
   ]
  },
  {
   "cell_type": "code",
   "execution_count": 51,
   "metadata": {},
   "outputs": [
    {
     "data": {
      "text/plain": [
       "60"
      ]
     },
     "execution_count": 51,
     "metadata": {},
     "output_type": "execute_result"
    }
   ],
   "source": [
    "len(y_test)"
   ]
  },
  {
   "cell_type": "code",
   "execution_count": 52,
   "metadata": {},
   "outputs": [
    {
     "name": "stdout",
     "output_type": "stream",
     "text": [
      "Optimization terminated successfully.\n",
      "         Current function value: 0.308976\n",
      "         Iterations 8\n"
     ]
    }
   ],
   "source": [
    "logit = sm.Logit(y_train,X_train1)\n",
    "logit_model = logit.fit()"
   ]
  },
  {
   "cell_type": "code",
   "execution_count": 53,
   "metadata": {},
   "outputs": [
    {
     "data": {
      "text/html": [
       "<table class=\"simpletable\">\n",
       "<caption>Logit Regression Results</caption>\n",
       "<tr>\n",
       "  <th>Dep. Variable:</th>     <td>diagnosis</td>    <th>  No. Observations:  </th>  <td>   237</td>  \n",
       "</tr>\n",
       "<tr>\n",
       "  <th>Model:</th>               <td>Logit</td>      <th>  Df Residuals:      </th>  <td>   218</td>  \n",
       "</tr>\n",
       "<tr>\n",
       "  <th>Method:</th>               <td>MLE</td>       <th>  Df Model:          </th>  <td>    18</td>  \n",
       "</tr>\n",
       "<tr>\n",
       "  <th>Date:</th>          <td>Tue, 07 May 2019</td> <th>  Pseudo R-squ.:     </th>  <td>0.5494</td>  \n",
       "</tr>\n",
       "<tr>\n",
       "  <th>Time:</th>              <td>20:51:24</td>     <th>  Log-Likelihood:    </th> <td> -73.227</td> \n",
       "</tr>\n",
       "<tr>\n",
       "  <th>converged:</th>           <td>True</td>       <th>  LL-Null:           </th> <td> -162.50</td> \n",
       "</tr>\n",
       "<tr>\n",
       "  <th> </th>                      <td> </td>        <th>  LLR p-value:       </th> <td>1.866e-28</td>\n",
       "</tr>\n",
       "</table>\n",
       "<table class=\"simpletable\">\n",
       "<tr>\n",
       "                      <td></td>                         <th>coef</th>     <th>std err</th>      <th>z</th>      <th>P>|z|</th>  <th>[0.025</th>    <th>0.975]</th>  \n",
       "</tr>\n",
       "<tr>\n",
       "  <th>age</th>                                       <td>   -0.1818</td> <td>    0.251</td> <td>   -0.726</td> <td> 0.468</td> <td>   -0.673</td> <td>    0.309</td>\n",
       "</tr>\n",
       "<tr>\n",
       "  <th>rest_bp</th>                                   <td>    0.5574</td> <td>    0.240</td> <td>    2.323</td> <td> 0.020</td> <td>    0.087</td> <td>    1.028</td>\n",
       "</tr>\n",
       "<tr>\n",
       "  <th>chol</th>                                      <td>    0.0993</td> <td>    0.245</td> <td>    0.406</td> <td> 0.685</td> <td>   -0.381</td> <td>    0.579</td>\n",
       "</tr>\n",
       "<tr>\n",
       "  <th>thalach</th>                                   <td>   -0.5522</td> <td>    0.316</td> <td>   -1.747</td> <td> 0.081</td> <td>   -1.172</td> <td>    0.067</td>\n",
       "</tr>\n",
       "<tr>\n",
       "  <th>oldpeak</th>                                   <td>    0.5908</td> <td>    0.322</td> <td>    1.835</td> <td> 0.066</td> <td>   -0.040</td> <td>    1.222</td>\n",
       "</tr>\n",
       "<tr>\n",
       "  <th>is_male</th>                                   <td>    1.9621</td> <td>    0.656</td> <td>    2.989</td> <td> 0.003</td> <td>    0.676</td> <td>    3.249</td>\n",
       "</tr>\n",
       "<tr>\n",
       "  <th>has_atypical angina</th>                       <td>   -0.6782</td> <td>    0.636</td> <td>   -1.067</td> <td> 0.286</td> <td>   -1.924</td> <td>    0.568</td>\n",
       "</tr>\n",
       "<tr>\n",
       "  <th>has_non-anginal pain</th>                      <td>   -1.8394</td> <td>    0.569</td> <td>   -3.232</td> <td> 0.001</td> <td>   -2.955</td> <td>   -0.724</td>\n",
       "</tr>\n",
       "<tr>\n",
       "  <th>has_typical angina</th>                        <td>   -2.6529</td> <td>    0.824</td> <td>   -3.219</td> <td> 0.001</td> <td>   -4.268</td> <td>   -1.038</td>\n",
       "</tr>\n",
       "<tr>\n",
       "  <th>ecg_normal</th>                                <td>   -2.7480</td> <td>    1.191</td> <td>   -2.308</td> <td> 0.021</td> <td>   -5.082</td> <td>   -0.414</td>\n",
       "</tr>\n",
       "<tr>\n",
       "  <th>ecg_probable left ventricular hypertrophy</th> <td>   -2.1204</td> <td>    1.210</td> <td>   -1.752</td> <td> 0.080</td> <td>   -4.493</td> <td>    0.252</td>\n",
       "</tr>\n",
       "<tr>\n",
       "  <th>exang_yes</th>                                 <td>    0.7125</td> <td>    0.514</td> <td>    1.387</td> <td> 0.165</td> <td>   -0.294</td> <td>    1.719</td>\n",
       "</tr>\n",
       "<tr>\n",
       "  <th>slope_flat</th>                                <td>    0.6553</td> <td>    0.881</td> <td>    0.744</td> <td> 0.457</td> <td>   -1.071</td> <td>    2.382</td>\n",
       "</tr>\n",
       "<tr>\n",
       "  <th>slope_upsloping</th>                           <td>   -0.3738</td> <td>    0.990</td> <td>   -0.378</td> <td> 0.706</td> <td>   -2.314</td> <td>    1.566</td>\n",
       "</tr>\n",
       "<tr>\n",
       "  <th>thal_normal</th>                               <td>   -0.0206</td> <td>    0.896</td> <td>   -0.023</td> <td> 0.982</td> <td>   -1.776</td> <td>    1.735</td>\n",
       "</tr>\n",
       "<tr>\n",
       "  <th>thal_reversable defect</th>                    <td>    1.0438</td> <td>    0.864</td> <td>    1.208</td> <td> 0.227</td> <td>   -0.649</td> <td>    2.737</td>\n",
       "</tr>\n",
       "<tr>\n",
       "  <th>ca_1.0</th>                                    <td>    2.3302</td> <td>    0.594</td> <td>    3.925</td> <td> 0.000</td> <td>    1.167</td> <td>    3.494</td>\n",
       "</tr>\n",
       "<tr>\n",
       "  <th>ca_2.0</th>                                    <td>    3.2776</td> <td>    0.811</td> <td>    4.041</td> <td> 0.000</td> <td>    1.688</td> <td>    4.867</td>\n",
       "</tr>\n",
       "<tr>\n",
       "  <th>ca_3.0</th>                                    <td>    1.8197</td> <td>    0.936</td> <td>    1.945</td> <td> 0.052</td> <td>   -0.014</td> <td>    3.654</td>\n",
       "</tr>\n",
       "</table>"
      ],
      "text/plain": [
       "<class 'statsmodels.iolib.summary.Summary'>\n",
       "\"\"\"\n",
       "                           Logit Regression Results                           \n",
       "==============================================================================\n",
       "Dep. Variable:              diagnosis   No. Observations:                  237\n",
       "Model:                          Logit   Df Residuals:                      218\n",
       "Method:                           MLE   Df Model:                           18\n",
       "Date:                Tue, 07 May 2019   Pseudo R-squ.:                  0.5494\n",
       "Time:                        20:51:24   Log-Likelihood:                -73.227\n",
       "converged:                       True   LL-Null:                       -162.50\n",
       "                                        LLR p-value:                 1.866e-28\n",
       "=============================================================================================================\n",
       "                                                coef    std err          z      P>|z|      [0.025      0.975]\n",
       "-------------------------------------------------------------------------------------------------------------\n",
       "age                                          -0.1818      0.251     -0.726      0.468      -0.673       0.309\n",
       "rest_bp                                       0.5574      0.240      2.323      0.020       0.087       1.028\n",
       "chol                                          0.0993      0.245      0.406      0.685      -0.381       0.579\n",
       "thalach                                      -0.5522      0.316     -1.747      0.081      -1.172       0.067\n",
       "oldpeak                                       0.5908      0.322      1.835      0.066      -0.040       1.222\n",
       "is_male                                       1.9621      0.656      2.989      0.003       0.676       3.249\n",
       "has_atypical angina                          -0.6782      0.636     -1.067      0.286      -1.924       0.568\n",
       "has_non-anginal pain                         -1.8394      0.569     -3.232      0.001      -2.955      -0.724\n",
       "has_typical angina                           -2.6529      0.824     -3.219      0.001      -4.268      -1.038\n",
       "ecg_normal                                   -2.7480      1.191     -2.308      0.021      -5.082      -0.414\n",
       "ecg_probable left ventricular hypertrophy    -2.1204      1.210     -1.752      0.080      -4.493       0.252\n",
       "exang_yes                                     0.7125      0.514      1.387      0.165      -0.294       1.719\n",
       "slope_flat                                    0.6553      0.881      0.744      0.457      -1.071       2.382\n",
       "slope_upsloping                              -0.3738      0.990     -0.378      0.706      -2.314       1.566\n",
       "thal_normal                                  -0.0206      0.896     -0.023      0.982      -1.776       1.735\n",
       "thal_reversable defect                        1.0438      0.864      1.208      0.227      -0.649       2.737\n",
       "ca_1.0                                        2.3302      0.594      3.925      0.000       1.167       3.494\n",
       "ca_2.0                                        3.2776      0.811      4.041      0.000       1.688       4.867\n",
       "ca_3.0                                        1.8197      0.936      1.945      0.052      -0.014       3.654\n",
       "=============================================================================================================\n",
       "\"\"\""
      ]
     },
     "execution_count": 53,
     "metadata": {},
     "output_type": "execute_result"
    }
   ],
   "source": [
    "logit_model.summary()"
   ]
  },
  {
   "cell_type": "code",
   "execution_count": 54,
   "metadata": {
    "scrolled": false
   },
   "outputs": [],
   "source": [
    "X_train2 = X_train1.drop(columns = ['age','chol', 'slope_flat', 'slope_upsloping',\n",
    "                                     'ecg_normal','ecg_probable left ventricular hypertrophy','exang_yes'])"
   ]
  },
  {
   "cell_type": "code",
   "execution_count": 55,
   "metadata": {},
   "outputs": [
    {
     "data": {
      "text/html": [
       "<div>\n",
       "<style scoped>\n",
       "    .dataframe tbody tr th:only-of-type {\n",
       "        vertical-align: middle;\n",
       "    }\n",
       "\n",
       "    .dataframe tbody tr th {\n",
       "        vertical-align: top;\n",
       "    }\n",
       "\n",
       "    .dataframe thead th {\n",
       "        text-align: right;\n",
       "    }\n",
       "</style>\n",
       "<table border=\"1\" class=\"dataframe\">\n",
       "  <thead>\n",
       "    <tr style=\"text-align: right;\">\n",
       "      <th></th>\n",
       "      <th>rest_bp</th>\n",
       "      <th>thalach</th>\n",
       "      <th>oldpeak</th>\n",
       "      <th>is_male</th>\n",
       "      <th>has_atypical angina</th>\n",
       "      <th>has_non-anginal pain</th>\n",
       "      <th>has_typical angina</th>\n",
       "      <th>thal_normal</th>\n",
       "      <th>thal_reversable defect</th>\n",
       "      <th>ca_1.0</th>\n",
       "      <th>ca_2.0</th>\n",
       "      <th>ca_3.0</th>\n",
       "    </tr>\n",
       "  </thead>\n",
       "  <tbody>\n",
       "    <tr>\n",
       "      <th>159</th>\n",
       "      <td>-1.730887</td>\n",
       "      <td>0.279470</td>\n",
       "      <td>-0.906712</td>\n",
       "      <td>1</td>\n",
       "      <td>1</td>\n",
       "      <td>0</td>\n",
       "      <td>0</td>\n",
       "      <td>0</td>\n",
       "      <td>1</td>\n",
       "      <td>0</td>\n",
       "      <td>0</td>\n",
       "      <td>0</td>\n",
       "    </tr>\n",
       "    <tr>\n",
       "      <th>200</th>\n",
       "      <td>0.468418</td>\n",
       "      <td>-0.724769</td>\n",
       "      <td>-0.734914</td>\n",
       "      <td>0</td>\n",
       "      <td>0</td>\n",
       "      <td>1</td>\n",
       "      <td>0</td>\n",
       "      <td>0</td>\n",
       "      <td>1</td>\n",
       "      <td>0</td>\n",
       "      <td>0</td>\n",
       "      <td>0</td>\n",
       "    </tr>\n",
       "    <tr>\n",
       "      <th>115</th>\n",
       "      <td>0.468418</td>\n",
       "      <td>0.672433</td>\n",
       "      <td>-0.906712</td>\n",
       "      <td>1</td>\n",
       "      <td>0</td>\n",
       "      <td>1</td>\n",
       "      <td>0</td>\n",
       "      <td>1</td>\n",
       "      <td>0</td>\n",
       "      <td>0</td>\n",
       "      <td>0</td>\n",
       "      <td>0</td>\n",
       "    </tr>\n",
       "    <tr>\n",
       "      <th>21</th>\n",
       "      <td>1.032342</td>\n",
       "      <td>0.541445</td>\n",
       "      <td>-0.047722</td>\n",
       "      <td>0</td>\n",
       "      <td>0</td>\n",
       "      <td>0</td>\n",
       "      <td>1</td>\n",
       "      <td>1</td>\n",
       "      <td>0</td>\n",
       "      <td>0</td>\n",
       "      <td>0</td>\n",
       "      <td>0</td>\n",
       "    </tr>\n",
       "    <tr>\n",
       "      <th>145</th>\n",
       "      <td>1.878229</td>\n",
       "      <td>-1.117733</td>\n",
       "      <td>-0.047722</td>\n",
       "      <td>1</td>\n",
       "      <td>0</td>\n",
       "      <td>0</td>\n",
       "      <td>0</td>\n",
       "      <td>0</td>\n",
       "      <td>1</td>\n",
       "      <td>0</td>\n",
       "      <td>0</td>\n",
       "      <td>1</td>\n",
       "    </tr>\n",
       "  </tbody>\n",
       "</table>\n",
       "</div>"
      ],
      "text/plain": [
       "      rest_bp   thalach   oldpeak  is_male  has_atypical angina  \\\n",
       "159 -1.730887  0.279470 -0.906712        1                    1   \n",
       "200  0.468418 -0.724769 -0.734914        0                    0   \n",
       "115  0.468418  0.672433 -0.906712        1                    0   \n",
       "21   1.032342  0.541445 -0.047722        0                    0   \n",
       "145  1.878229 -1.117733 -0.047722        1                    0   \n",
       "\n",
       "     has_non-anginal pain  has_typical angina  thal_normal  \\\n",
       "159                     0                   0            0   \n",
       "200                     1                   0            0   \n",
       "115                     1                   0            1   \n",
       "21                      0                   1            1   \n",
       "145                     0                   0            0   \n",
       "\n",
       "     thal_reversable defect  ca_1.0  ca_2.0  ca_3.0  \n",
       "159                       1       0       0       0  \n",
       "200                       1       0       0       0  \n",
       "115                       0       0       0       0  \n",
       "21                        0       0       0       0  \n",
       "145                       1       0       0       1  "
      ]
     },
     "execution_count": 55,
     "metadata": {},
     "output_type": "execute_result"
    }
   ],
   "source": [
    "X_train2.head()"
   ]
  },
  {
   "cell_type": "code",
   "execution_count": 56,
   "metadata": {},
   "outputs": [
    {
     "name": "stdout",
     "output_type": "stream",
     "text": [
      "Optimization terminated successfully.\n",
      "         Current function value: 0.333898\n",
      "         Iterations 7\n"
     ]
    }
   ],
   "source": [
    "logit2 = sm.Logit(y_train,X_train2)\n",
    "logit_model2 = logit2.fit()"
   ]
  },
  {
   "cell_type": "code",
   "execution_count": 57,
   "metadata": {},
   "outputs": [
    {
     "data": {
      "text/html": [
       "<table class=\"simpletable\">\n",
       "<caption>Logit Regression Results</caption>\n",
       "<tr>\n",
       "  <th>Dep. Variable:</th>     <td>diagnosis</td>    <th>  No. Observations:  </th>  <td>   237</td>  \n",
       "</tr>\n",
       "<tr>\n",
       "  <th>Model:</th>               <td>Logit</td>      <th>  Df Residuals:      </th>  <td>   225</td>  \n",
       "</tr>\n",
       "<tr>\n",
       "  <th>Method:</th>               <td>MLE</td>       <th>  Df Model:          </th>  <td>    11</td>  \n",
       "</tr>\n",
       "<tr>\n",
       "  <th>Date:</th>          <td>Tue, 07 May 2019</td> <th>  Pseudo R-squ.:     </th>  <td>0.5130</td>  \n",
       "</tr>\n",
       "<tr>\n",
       "  <th>Time:</th>              <td>20:51:24</td>     <th>  Log-Likelihood:    </th> <td> -79.134</td> \n",
       "</tr>\n",
       "<tr>\n",
       "  <th>converged:</th>           <td>True</td>       <th>  LL-Null:           </th> <td> -162.50</td> \n",
       "</tr>\n",
       "<tr>\n",
       "  <th> </th>                      <td> </td>        <th>  LLR p-value:       </th> <td>5.560e-30</td>\n",
       "</tr>\n",
       "</table>\n",
       "<table class=\"simpletable\">\n",
       "<tr>\n",
       "             <td></td>               <th>coef</th>     <th>std err</th>      <th>z</th>      <th>P>|z|</th>  <th>[0.025</th>    <th>0.975]</th>  \n",
       "</tr>\n",
       "<tr>\n",
       "  <th>rest_bp</th>                <td>    0.4852</td> <td>    0.214</td> <td>    2.263</td> <td> 0.024</td> <td>    0.065</td> <td>    0.905</td>\n",
       "</tr>\n",
       "<tr>\n",
       "  <th>thalach</th>                <td>   -0.6004</td> <td>    0.256</td> <td>   -2.349</td> <td> 0.019</td> <td>   -1.101</td> <td>   -0.100</td>\n",
       "</tr>\n",
       "<tr>\n",
       "  <th>oldpeak</th>                <td>    0.7549</td> <td>    0.276</td> <td>    2.735</td> <td> 0.006</td> <td>    0.214</td> <td>    1.296</td>\n",
       "</tr>\n",
       "<tr>\n",
       "  <th>is_male</th>                <td>    1.2101</td> <td>    0.460</td> <td>    2.632</td> <td> 0.008</td> <td>    0.309</td> <td>    2.111</td>\n",
       "</tr>\n",
       "<tr>\n",
       "  <th>has_atypical angina</th>    <td>   -1.1584</td> <td>    0.587</td> <td>   -1.972</td> <td> 0.049</td> <td>   -2.310</td> <td>   -0.007</td>\n",
       "</tr>\n",
       "<tr>\n",
       "  <th>has_non-anginal pain</th>   <td>   -1.9556</td> <td>    0.524</td> <td>   -3.735</td> <td> 0.000</td> <td>   -2.982</td> <td>   -0.929</td>\n",
       "</tr>\n",
       "<tr>\n",
       "  <th>has_typical angina</th>     <td>   -2.6056</td> <td>    0.757</td> <td>   -3.441</td> <td> 0.001</td> <td>   -4.090</td> <td>   -1.121</td>\n",
       "</tr>\n",
       "<tr>\n",
       "  <th>thal_normal</th>            <td>   -1.4145</td> <td>    0.453</td> <td>   -3.124</td> <td> 0.002</td> <td>   -2.302</td> <td>   -0.527</td>\n",
       "</tr>\n",
       "<tr>\n",
       "  <th>thal_reversable defect</th> <td>   -0.1574</td> <td>    0.546</td> <td>   -0.289</td> <td> 0.773</td> <td>   -1.227</td> <td>    0.912</td>\n",
       "</tr>\n",
       "<tr>\n",
       "  <th>ca_1.0</th>                 <td>    2.0202</td> <td>    0.535</td> <td>    3.773</td> <td> 0.000</td> <td>    0.971</td> <td>    3.070</td>\n",
       "</tr>\n",
       "<tr>\n",
       "  <th>ca_2.0</th>                 <td>    2.4579</td> <td>    0.671</td> <td>    3.665</td> <td> 0.000</td> <td>    1.143</td> <td>    3.772</td>\n",
       "</tr>\n",
       "<tr>\n",
       "  <th>ca_3.0</th>                 <td>    1.5081</td> <td>    0.909</td> <td>    1.659</td> <td> 0.097</td> <td>   -0.273</td> <td>    3.290</td>\n",
       "</tr>\n",
       "</table>"
      ],
      "text/plain": [
       "<class 'statsmodels.iolib.summary.Summary'>\n",
       "\"\"\"\n",
       "                           Logit Regression Results                           \n",
       "==============================================================================\n",
       "Dep. Variable:              diagnosis   No. Observations:                  237\n",
       "Model:                          Logit   Df Residuals:                      225\n",
       "Method:                           MLE   Df Model:                           11\n",
       "Date:                Tue, 07 May 2019   Pseudo R-squ.:                  0.5130\n",
       "Time:                        20:51:24   Log-Likelihood:                -79.134\n",
       "converged:                       True   LL-Null:                       -162.50\n",
       "                                        LLR p-value:                 5.560e-30\n",
       "==========================================================================================\n",
       "                             coef    std err          z      P>|z|      [0.025      0.975]\n",
       "------------------------------------------------------------------------------------------\n",
       "rest_bp                    0.4852      0.214      2.263      0.024       0.065       0.905\n",
       "thalach                   -0.6004      0.256     -2.349      0.019      -1.101      -0.100\n",
       "oldpeak                    0.7549      0.276      2.735      0.006       0.214       1.296\n",
       "is_male                    1.2101      0.460      2.632      0.008       0.309       2.111\n",
       "has_atypical angina       -1.1584      0.587     -1.972      0.049      -2.310      -0.007\n",
       "has_non-anginal pain      -1.9556      0.524     -3.735      0.000      -2.982      -0.929\n",
       "has_typical angina        -2.6056      0.757     -3.441      0.001      -4.090      -1.121\n",
       "thal_normal               -1.4145      0.453     -3.124      0.002      -2.302      -0.527\n",
       "thal_reversable defect    -0.1574      0.546     -0.289      0.773      -1.227       0.912\n",
       "ca_1.0                     2.0202      0.535      3.773      0.000       0.971       3.070\n",
       "ca_2.0                     2.4579      0.671      3.665      0.000       1.143       3.772\n",
       "ca_3.0                     1.5081      0.909      1.659      0.097      -0.273       3.290\n",
       "==========================================================================================\n",
       "\"\"\""
      ]
     },
     "execution_count": 57,
     "metadata": {},
     "output_type": "execute_result"
    }
   ],
   "source": [
    "logit_model2.summary()"
   ]
  },
  {
   "cell_type": "code",
   "execution_count": 58,
   "metadata": {},
   "outputs": [
    {
     "data": {
      "text/plain": [
       "LogisticRegression(C=1.0, class_weight='balanced', dual=False,\n",
       "          fit_intercept=True, intercept_scaling=1, max_iter=100,\n",
       "          multi_class='warn', n_jobs=None, penalty='l2', random_state=None,\n",
       "          solver='liblinear', tol=0.0001, verbose=0, warm_start=False)"
      ]
     },
     "execution_count": 58,
     "metadata": {},
     "output_type": "execute_result"
    }
   ],
   "source": [
    "logmodel = LogisticRegression(class_weight = \"balanced\", solver = \"liblinear\")\n",
    "logmodel.fit(X_train1,y_train)"
   ]
  },
  {
   "cell_type": "markdown",
   "metadata": {},
   "source": [
    "### LDA"
   ]
  },
  {
   "cell_type": "code",
   "execution_count": 59,
   "metadata": {},
   "outputs": [],
   "source": [
    "X_train, X_test, y_train, y_test = train_test_split(X, y, test_size = 0.2, random_state = 158999)"
   ]
  },
  {
   "cell_type": "code",
   "execution_count": null,
   "metadata": {},
   "outputs": [],
   "source": []
  },
  {
   "cell_type": "code",
   "execution_count": 60,
   "metadata": {},
   "outputs": [],
   "source": [
    "lda_test = LinearDiscriminantAnalysis(n_components=4)"
   ]
  },
  {
   "cell_type": "code",
   "execution_count": 61,
   "metadata": {},
   "outputs": [],
   "source": [
    "X_lda_train = lda_test.fit_transform(X_train, y_train)\n",
    "X_lda_test = lda_test.transform(X_test)"
   ]
  },
  {
   "cell_type": "code",
   "execution_count": 62,
   "metadata": {},
   "outputs": [
    {
     "name": "stdout",
     "output_type": "stream",
     "text": [
      "Optimization terminated successfully.\n",
      "         Current function value: 0.316801\n",
      "         Iterations 7\n"
     ]
    },
    {
     "data": {
      "text/html": [
       "<table class=\"simpletable\">\n",
       "<caption>Logit Regression Results</caption>\n",
       "<tr>\n",
       "  <th>Dep. Variable:</th>     <td>diagnosis</td>    <th>  No. Observations:  </th>  <td>   237</td> \n",
       "</tr>\n",
       "<tr>\n",
       "  <th>Model:</th>               <td>Logit</td>      <th>  Df Residuals:      </th>  <td>   236</td> \n",
       "</tr>\n",
       "<tr>\n",
       "  <th>Method:</th>               <td>MLE</td>       <th>  Df Model:          </th>  <td>     0</td> \n",
       "</tr>\n",
       "<tr>\n",
       "  <th>Date:</th>          <td>Tue, 07 May 2019</td> <th>  Pseudo R-squ.:     </th>  <td>0.5379</td> \n",
       "</tr>\n",
       "<tr>\n",
       "  <th>Time:</th>              <td>20:51:24</td>     <th>  Log-Likelihood:    </th> <td> -75.082</td>\n",
       "</tr>\n",
       "<tr>\n",
       "  <th>converged:</th>           <td>True</td>       <th>  LL-Null:           </th> <td> -162.50</td>\n",
       "</tr>\n",
       "<tr>\n",
       "  <th> </th>                      <td> </td>        <th>  LLR p-value:       </th>  <td>   nan</td> \n",
       "</tr>\n",
       "</table>\n",
       "<table class=\"simpletable\">\n",
       "<tr>\n",
       "   <td></td>     <th>coef</th>     <th>std err</th>      <th>z</th>      <th>P>|z|</th>  <th>[0.025</th>    <th>0.975]</th>  \n",
       "</tr>\n",
       "<tr>\n",
       "  <th>x1</th> <td>    2.0396</td> <td>    0.256</td> <td>    7.982</td> <td> 0.000</td> <td>    1.539</td> <td>    2.540</td>\n",
       "</tr>\n",
       "</table>"
      ],
      "text/plain": [
       "<class 'statsmodels.iolib.summary.Summary'>\n",
       "\"\"\"\n",
       "                           Logit Regression Results                           \n",
       "==============================================================================\n",
       "Dep. Variable:              diagnosis   No. Observations:                  237\n",
       "Model:                          Logit   Df Residuals:                      236\n",
       "Method:                           MLE   Df Model:                            0\n",
       "Date:                Tue, 07 May 2019   Pseudo R-squ.:                  0.5379\n",
       "Time:                        20:51:24   Log-Likelihood:                -75.082\n",
       "converged:                       True   LL-Null:                       -162.50\n",
       "                                        LLR p-value:                       nan\n",
       "==============================================================================\n",
       "                 coef    std err          z      P>|z|      [0.025      0.975]\n",
       "------------------------------------------------------------------------------\n",
       "x1             2.0396      0.256      7.982      0.000       1.539       2.540\n",
       "==============================================================================\n",
       "\"\"\""
      ]
     },
     "execution_count": 62,
     "metadata": {},
     "output_type": "execute_result"
    }
   ],
   "source": [
    "lda_logit = sm.Logit(y_train,X_lda_train)\n",
    "lda_logit_model = lda_logit.fit()\n",
    "\n",
    "lda_logit_model.summary()"
   ]
  },
  {
   "cell_type": "code",
   "execution_count": 63,
   "metadata": {
    "scrolled": true
   },
   "outputs": [
    {
     "name": "stdout",
     "output_type": "stream",
     "text": [
      "LDA with Components = 2\n",
      "              precision    recall  f1-score   support\n",
      "\n",
      "           0       0.77      0.85      0.81        27\n",
      "           1       0.87      0.79      0.83        33\n",
      "\n",
      "   micro avg       0.82      0.82      0.82        60\n",
      "   macro avg       0.82      0.82      0.82        60\n",
      "weighted avg       0.82      0.82      0.82        60\n",
      "\n"
     ]
    }
   ],
   "source": [
    "log_lda_model = LogisticRegression(class_weight = \"balanced\", solver = \"liblinear\")\n",
    "log_lda_model.fit(X_lda_train,y_train)\n",
    "predictions_lda = log_lda_model.predict(X_lda_test)\n",
    "print('LDA with Components =', 2)\n",
    "print(classification_report(y_test,predictions_lda))"
   ]
  },
  {
   "cell_type": "code",
   "execution_count": null,
   "metadata": {},
   "outputs": [],
   "source": []
  },
  {
   "cell_type": "markdown",
   "metadata": {},
   "source": [
    "### MCA"
   ]
  },
  {
   "cell_type": "code",
   "execution_count": 64,
   "metadata": {},
   "outputs": [],
   "source": [
    "# MCA\n",
    "labels = ['sex', 'chest_pain', 'fbs', 'rest_ecg', 'exang', 'slope', 'ca', 'thal']\n",
    "mca_ben = mca.MCA(data, cols = labels)"
   ]
  },
  {
   "cell_type": "code",
   "execution_count": 65,
   "metadata": {},
   "outputs": [
    {
     "data": {
      "text/plain": [
       "array([0.03560743, 0.00199655, 0.00141772, 0.00046124, 0.00023844])"
      ]
     },
     "execution_count": 65,
     "metadata": {},
     "output_type": "execute_result"
    }
   ],
   "source": [
    "mca_ben.L"
   ]
  },
  {
   "cell_type": "code",
   "execution_count": 66,
   "metadata": {},
   "outputs": [
    {
     "data": {
      "text/plain": [
       "0.039721378509345255"
      ]
     },
     "execution_count": 66,
     "metadata": {},
     "output_type": "execute_result"
    }
   ],
   "source": [
    "np.sum(mca_ben.L)"
   ]
  },
  {
   "cell_type": "code",
   "execution_count": 67,
   "metadata": {},
   "outputs": [
    {
     "data": {
      "text/plain": [
       "array([0.70934877, 0.03977402, 0.02824292, 0.00918853, 0.00474995])"
      ]
     },
     "execution_count": 67,
     "metadata": {},
     "output_type": "execute_result"
    }
   ],
   "source": [
    "exp_var = mca_ben.expl_var(greenacre=True, N=5)\n",
    "exp_var"
   ]
  },
  {
   "cell_type": "code",
   "execution_count": 68,
   "metadata": {},
   "outputs": [
    {
     "data": {
      "text/plain": [
       "0.7913041987732712"
      ]
     },
     "execution_count": 68,
     "metadata": {},
     "output_type": "execute_result"
    }
   ],
   "source": [
    "np.sum(exp_var)"
   ]
  },
  {
   "cell_type": "code",
   "execution_count": 69,
   "metadata": {},
   "outputs": [
    {
     "data": {
      "text/html": [
       "<div>\n",
       "<style scoped>\n",
       "    .dataframe tbody tr th:only-of-type {\n",
       "        vertical-align: middle;\n",
       "    }\n",
       "\n",
       "    .dataframe tbody tr th {\n",
       "        vertical-align: top;\n",
       "    }\n",
       "\n",
       "    .dataframe thead th {\n",
       "        text-align: right;\n",
       "    }\n",
       "</style>\n",
       "<table border=\"1\" class=\"dataframe\">\n",
       "  <thead>\n",
       "    <tr style=\"text-align: right;\">\n",
       "      <th></th>\n",
       "      <th></th>\n",
       "      <th>Factor 1</th>\n",
       "      <th>Factor 2</th>\n",
       "      <th>Factor 3</th>\n",
       "      <th>Factor 4</th>\n",
       "      <th>Factor 5</th>\n",
       "    </tr>\n",
       "  </thead>\n",
       "  <tbody>\n",
       "    <tr>\n",
       "      <th rowspan=\"2\" valign=\"top\">sex</th>\n",
       "      <th>0</th>\n",
       "      <td>-0.201002</td>\n",
       "      <td>0.030414</td>\n",
       "      <td>0.078426</td>\n",
       "      <td>-0.021534</td>\n",
       "      <td>-0.022564</td>\n",
       "    </tr>\n",
       "    <tr>\n",
       "      <th>1</th>\n",
       "      <td>0.096001</td>\n",
       "      <td>-0.014526</td>\n",
       "      <td>-0.037457</td>\n",
       "      <td>0.010285</td>\n",
       "      <td>0.010777</td>\n",
       "    </tr>\n",
       "    <tr>\n",
       "      <th rowspan=\"4\" valign=\"top\">chest_pain</th>\n",
       "      <th>1</th>\n",
       "      <td>-0.017422</td>\n",
       "      <td>-0.182367</td>\n",
       "      <td>-0.068036</td>\n",
       "      <td>-0.043623</td>\n",
       "      <td>0.003457</td>\n",
       "    </tr>\n",
       "    <tr>\n",
       "      <th>2</th>\n",
       "      <td>-0.347495</td>\n",
       "      <td>0.014910</td>\n",
       "      <td>-0.048723</td>\n",
       "      <td>-0.033033</td>\n",
       "      <td>0.027892</td>\n",
       "    </tr>\n",
       "    <tr>\n",
       "      <th>3</th>\n",
       "      <td>-0.214006</td>\n",
       "      <td>-0.013944</td>\n",
       "      <td>0.030260</td>\n",
       "      <td>0.057883</td>\n",
       "      <td>-0.016284</td>\n",
       "    </tr>\n",
       "    <tr>\n",
       "      <th>4</th>\n",
       "      <td>0.247820</td>\n",
       "      <td>0.032543</td>\n",
       "      <td>0.010146</td>\n",
       "      <td>-0.015369</td>\n",
       "      <td>-0.000667</td>\n",
       "    </tr>\n",
       "    <tr>\n",
       "      <th rowspan=\"2\" valign=\"top\">fbs</th>\n",
       "      <th>0</th>\n",
       "      <td>-0.012846</td>\n",
       "      <td>0.027544</td>\n",
       "      <td>0.002278</td>\n",
       "      <td>-0.005175</td>\n",
       "      <td>0.006918</td>\n",
       "    </tr>\n",
       "    <tr>\n",
       "      <th>1</th>\n",
       "      <td>0.075880</td>\n",
       "      <td>-0.162704</td>\n",
       "      <td>-0.013458</td>\n",
       "      <td>0.030570</td>\n",
       "      <td>-0.040866</td>\n",
       "    </tr>\n",
       "    <tr>\n",
       "      <th rowspan=\"3\" valign=\"top\">rest_ecg</th>\n",
       "      <th>0</th>\n",
       "      <td>-0.094105</td>\n",
       "      <td>0.026514</td>\n",
       "      <td>-0.024055</td>\n",
       "      <td>0.001851</td>\n",
       "      <td>0.010439</td>\n",
       "    </tr>\n",
       "    <tr>\n",
       "      <th>1</th>\n",
       "      <td>0.262997</td>\n",
       "      <td>0.018675</td>\n",
       "      <td>0.530828</td>\n",
       "      <td>-0.010281</td>\n",
       "      <td>0.114168</td>\n",
       "    </tr>\n",
       "    <tr>\n",
       "      <th>2</th>\n",
       "      <td>0.087544</td>\n",
       "      <td>-0.027208</td>\n",
       "      <td>0.009677</td>\n",
       "      <td>-0.001582</td>\n",
       "      <td>-0.013639</td>\n",
       "    </tr>\n",
       "    <tr>\n",
       "      <th rowspan=\"2\" valign=\"top\">exang</th>\n",
       "      <th>0</th>\n",
       "      <td>-0.164206</td>\n",
       "      <td>-0.019440</td>\n",
       "      <td>-0.000668</td>\n",
       "      <td>0.003749</td>\n",
       "      <td>-0.000972</td>\n",
       "    </tr>\n",
       "    <tr>\n",
       "      <th>1</th>\n",
       "      <td>0.338568</td>\n",
       "      <td>0.040083</td>\n",
       "      <td>0.001376</td>\n",
       "      <td>-0.007730</td>\n",
       "      <td>0.002003</td>\n",
       "    </tr>\n",
       "    <tr>\n",
       "      <th rowspan=\"3\" valign=\"top\">slope</th>\n",
       "      <th>1</th>\n",
       "      <td>-0.210826</td>\n",
       "      <td>0.007602</td>\n",
       "      <td>-0.036985</td>\n",
       "      <td>0.001844</td>\n",
       "      <td>-0.001525</td>\n",
       "    </tr>\n",
       "    <tr>\n",
       "      <th>2</th>\n",
       "      <td>0.188908</td>\n",
       "      <td>0.022850</td>\n",
       "      <td>0.029409</td>\n",
       "      <td>-0.001903</td>\n",
       "      <td>-0.007310</td>\n",
       "    </tr>\n",
       "    <tr>\n",
       "      <th>3</th>\n",
       "      <td>0.163072</td>\n",
       "      <td>-0.199383</td>\n",
       "      <td>0.052944</td>\n",
       "      <td>0.000208</td>\n",
       "      <td>0.057778</td>\n",
       "    </tr>\n",
       "    <tr>\n",
       "      <th rowspan=\"4\" valign=\"top\">ca</th>\n",
       "      <th>0</th>\n",
       "      <td>-0.148325</td>\n",
       "      <td>-0.007602</td>\n",
       "      <td>0.004356</td>\n",
       "      <td>-0.007694</td>\n",
       "      <td>0.012810</td>\n",
       "    </tr>\n",
       "    <tr>\n",
       "      <th>1</th>\n",
       "      <td>0.146306</td>\n",
       "      <td>0.062595</td>\n",
       "      <td>-0.025086</td>\n",
       "      <td>0.044939</td>\n",
       "      <td>-0.006077</td>\n",
       "    </tr>\n",
       "    <tr>\n",
       "      <th>2</th>\n",
       "      <td>0.262203</td>\n",
       "      <td>-0.038950</td>\n",
       "      <td>-0.030460</td>\n",
       "      <td>-0.081223</td>\n",
       "      <td>-0.051627</td>\n",
       "    </tr>\n",
       "    <tr>\n",
       "      <th>3</th>\n",
       "      <td>0.316745</td>\n",
       "      <td>-0.063290</td>\n",
       "      <td>0.101502</td>\n",
       "      <td>0.075206</td>\n",
       "      <td>0.006392</td>\n",
       "    </tr>\n",
       "    <tr>\n",
       "      <th rowspan=\"3\" valign=\"top\">thal</th>\n",
       "      <th>3</th>\n",
       "      <td>-0.229768</td>\n",
       "      <td>0.004765</td>\n",
       "      <td>0.019351</td>\n",
       "      <td>-0.006825</td>\n",
       "      <td>-0.006832</td>\n",
       "    </tr>\n",
       "    <tr>\n",
       "      <th>6</th>\n",
       "      <td>0.362124</td>\n",
       "      <td>-0.171315</td>\n",
       "      <td>0.063052</td>\n",
       "      <td>-0.035949</td>\n",
       "      <td>0.043818</td>\n",
       "    </tr>\n",
       "    <tr>\n",
       "      <th>7</th>\n",
       "      <td>0.270988</td>\n",
       "      <td>0.020020</td>\n",
       "      <td>-0.037465</td>\n",
       "      <td>0.015360</td>\n",
       "      <td>0.002885</td>\n",
       "    </tr>\n",
       "  </tbody>\n",
       "</table>\n",
       "</div>"
      ],
      "text/plain": [
       "              Factor 1  Factor 2  Factor 3  Factor 4  Factor 5\n",
       "sex        0 -0.201002  0.030414  0.078426 -0.021534 -0.022564\n",
       "           1  0.096001 -0.014526 -0.037457  0.010285  0.010777\n",
       "chest_pain 1 -0.017422 -0.182367 -0.068036 -0.043623  0.003457\n",
       "           2 -0.347495  0.014910 -0.048723 -0.033033  0.027892\n",
       "           3 -0.214006 -0.013944  0.030260  0.057883 -0.016284\n",
       "           4  0.247820  0.032543  0.010146 -0.015369 -0.000667\n",
       "fbs        0 -0.012846  0.027544  0.002278 -0.005175  0.006918\n",
       "           1  0.075880 -0.162704 -0.013458  0.030570 -0.040866\n",
       "rest_ecg   0 -0.094105  0.026514 -0.024055  0.001851  0.010439\n",
       "           1  0.262997  0.018675  0.530828 -0.010281  0.114168\n",
       "           2  0.087544 -0.027208  0.009677 -0.001582 -0.013639\n",
       "exang      0 -0.164206 -0.019440 -0.000668  0.003749 -0.000972\n",
       "           1  0.338568  0.040083  0.001376 -0.007730  0.002003\n",
       "slope      1 -0.210826  0.007602 -0.036985  0.001844 -0.001525\n",
       "           2  0.188908  0.022850  0.029409 -0.001903 -0.007310\n",
       "           3  0.163072 -0.199383  0.052944  0.000208  0.057778\n",
       "ca         0 -0.148325 -0.007602  0.004356 -0.007694  0.012810\n",
       "           1  0.146306  0.062595 -0.025086  0.044939 -0.006077\n",
       "           2  0.262203 -0.038950 -0.030460 -0.081223 -0.051627\n",
       "           3  0.316745 -0.063290  0.101502  0.075206  0.006392\n",
       "thal       3 -0.229768  0.004765  0.019351 -0.006825 -0.006832\n",
       "           6  0.362124 -0.171315  0.063052 -0.035949  0.043818\n",
       "           7  0.270988  0.020020 -0.037465  0.015360  0.002885"
      ]
     },
     "execution_count": 69,
     "metadata": {},
     "output_type": "execute_result"
    }
   ],
   "source": [
    "multi = [[], []]\n",
    "for l in labels:\n",
    "    for val in np.unique(data[l]).astype(int):\n",
    "        multi[0] += [l]\n",
    "        multi[1] += [str(val)]\n",
    "\n",
    "mca_c_df = pd.DataFrame(data = mca_ben.fs_c(N=5), columns = [\"Factor 1\", \"Factor 2\", \"Factor 3\", \"Factor 4\", \"Factor 5\"],\n",
    "                        index = multi)\n",
    "mca_c_df"
   ]
  },
  {
   "cell_type": "code",
   "execution_count": 70,
   "metadata": {},
   "outputs": [
    {
     "data": {
      "image/png": "[encoded data removed]",
      "text/plain": [
       "<Figure size 432x288 with 1 Axes>"
      ]
     },
     "metadata": {
      "needs_background": "light"
     },
     "output_type": "display_data"
    }
   ],
   "source": [
    "# plot columnas\n",
    "# mayb hacer un mejor plot, dando figura a cada atributo y diferentes colores por valor\n",
    "sns.scatterplot(x = \"Factor 1\", y = \"Factor 2\", data = mca_c_df)\n",
    "plt.show()"
   ]
  },
  {
   "cell_type": "code",
   "execution_count": 71,
   "metadata": {},
   "outputs": [
    {
     "data": {
      "image/png": "[encoded data removed]",
      "text/plain": [
       "<Figure size 432x288 with 1 Axes>"
      ]
     },
     "metadata": {
      "needs_background": "light"
     },
     "output_type": "display_data"
    }
   ],
   "source": [
    "mca_r_df = pd.DataFrame(data = mca_ben.fs_r(N=5), columns = [\"Factor 1\", \"Factor 2\", \"Factor 3\", \"Factor 4\", \"Factor 5\"])\n",
    "\n",
    "mca_r_df[\"diagnosis\"] = data[\"diagnosis\"]\n",
    "mca_r_df\n",
    "\n",
    "# plot de renglones\n",
    "sns.scatterplot(x = \"Factor 1\", y = \"Factor 2\", data = mca_r_df, hue = \"diagnosis\")\n",
    "plt.show()"
   ]
  },
  {
   "cell_type": "markdown",
   "metadata": {},
   "source": [
    "## Sets de entrenamiento"
   ]
  },
  {
   "cell_type": "code",
   "execution_count": 72,
   "metadata": {
    "scrolled": true
   },
   "outputs": [],
   "source": [
    "# Escoger 238 (80 %) de las observaciones para el conjunto de entrenamiento\n",
    "np.random.seed(155766)\n",
    "train_rows = np.sort(np.random.choice(X.index, 238, replace = False))\n",
    "X_train = X.iloc[train_rows, :]\n",
    "train_diagnosis = data.iloc[train_rows, 13].values\n",
    "X_test = X.drop(train_rows)\n",
    "test_diagnosis = data.drop(train_rows)[\"diagnosis\"].values"
   ]
  },
  {
   "cell_type": "code",
   "execution_count": 73,
   "metadata": {
    "scrolled": true
   },
   "outputs": [
    {
     "data": {
      "text/html": [
       "<div>\n",
       "<style scoped>\n",
       "    .dataframe tbody tr th:only-of-type {\n",
       "        vertical-align: middle;\n",
       "    }\n",
       "\n",
       "    .dataframe tbody tr th {\n",
       "        vertical-align: top;\n",
       "    }\n",
       "\n",
       "    .dataframe thead th {\n",
       "        text-align: right;\n",
       "    }\n",
       "</style>\n",
       "<table border=\"1\" class=\"dataframe\">\n",
       "  <thead>\n",
       "    <tr style=\"text-align: right;\">\n",
       "      <th></th>\n",
       "      <th>age</th>\n",
       "      <th>rest_bp</th>\n",
       "      <th>chol</th>\n",
       "      <th>thalach</th>\n",
       "      <th>oldpeak</th>\n",
       "      <th>is_male</th>\n",
       "      <th>has_atypical angina</th>\n",
       "      <th>has_non-anginal pain</th>\n",
       "      <th>has_typical angina</th>\n",
       "      <th>ecg_normal</th>\n",
       "      <th>ecg_probable left ventricular hypertrophy</th>\n",
       "      <th>exang_yes</th>\n",
       "      <th>slope_flat</th>\n",
       "      <th>slope_upsloping</th>\n",
       "      <th>thal_normal</th>\n",
       "      <th>thal_reversable defect</th>\n",
       "      <th>ca_1.0</th>\n",
       "      <th>ca_2.0</th>\n",
       "      <th>ca_3.0</th>\n",
       "    </tr>\n",
       "  </thead>\n",
       "  <tbody>\n",
       "    <tr>\n",
       "      <th>0</th>\n",
       "      <td>0.936181</td>\n",
       "      <td>0.750380</td>\n",
       "      <td>-0.276443</td>\n",
       "      <td>0.017494</td>\n",
       "      <td>1.068965</td>\n",
       "      <td>1</td>\n",
       "      <td>0</td>\n",
       "      <td>0</td>\n",
       "      <td>1</td>\n",
       "      <td>0</td>\n",
       "      <td>1</td>\n",
       "      <td>0</td>\n",
       "      <td>0</td>\n",
       "      <td>0</td>\n",
       "      <td>0</td>\n",
       "      <td>0</td>\n",
       "      <td>0</td>\n",
       "      <td>0</td>\n",
       "      <td>0</td>\n",
       "    </tr>\n",
       "    <tr>\n",
       "      <th>1</th>\n",
       "      <td>1.378929</td>\n",
       "      <td>1.596266</td>\n",
       "      <td>0.744555</td>\n",
       "      <td>-1.816334</td>\n",
       "      <td>0.381773</td>\n",
       "      <td>1</td>\n",
       "      <td>0</td>\n",
       "      <td>0</td>\n",
       "      <td>0</td>\n",
       "      <td>0</td>\n",
       "      <td>1</td>\n",
       "      <td>1</td>\n",
       "      <td>1</td>\n",
       "      <td>0</td>\n",
       "      <td>1</td>\n",
       "      <td>0</td>\n",
       "      <td>0</td>\n",
       "      <td>0</td>\n",
       "      <td>1</td>\n",
       "    </tr>\n",
       "    <tr>\n",
       "      <th>2</th>\n",
       "      <td>1.378929</td>\n",
       "      <td>-0.659431</td>\n",
       "      <td>-0.353500</td>\n",
       "      <td>-0.899420</td>\n",
       "      <td>1.326662</td>\n",
       "      <td>1</td>\n",
       "      <td>0</td>\n",
       "      <td>0</td>\n",
       "      <td>0</td>\n",
       "      <td>0</td>\n",
       "      <td>1</td>\n",
       "      <td>1</td>\n",
       "      <td>1</td>\n",
       "      <td>0</td>\n",
       "      <td>0</td>\n",
       "      <td>1</td>\n",
       "      <td>0</td>\n",
       "      <td>1</td>\n",
       "      <td>0</td>\n",
       "    </tr>\n",
       "    <tr>\n",
       "      <th>3</th>\n",
       "      <td>-1.941680</td>\n",
       "      <td>-0.095506</td>\n",
       "      <td>0.051047</td>\n",
       "      <td>1.633010</td>\n",
       "      <td>2.099753</td>\n",
       "      <td>1</td>\n",
       "      <td>0</td>\n",
       "      <td>1</td>\n",
       "      <td>0</td>\n",
       "      <td>1</td>\n",
       "      <td>0</td>\n",
       "      <td>0</td>\n",
       "      <td>0</td>\n",
       "      <td>0</td>\n",
       "      <td>1</td>\n",
       "      <td>0</td>\n",
       "      <td>0</td>\n",
       "      <td>0</td>\n",
       "      <td>0</td>\n",
       "    </tr>\n",
       "    <tr>\n",
       "      <th>4</th>\n",
       "      <td>-1.498933</td>\n",
       "      <td>-0.095506</td>\n",
       "      <td>-0.835103</td>\n",
       "      <td>0.978071</td>\n",
       "      <td>0.295874</td>\n",
       "      <td>0</td>\n",
       "      <td>1</td>\n",
       "      <td>0</td>\n",
       "      <td>0</td>\n",
       "      <td>0</td>\n",
       "      <td>1</td>\n",
       "      <td>0</td>\n",
       "      <td>0</td>\n",
       "      <td>1</td>\n",
       "      <td>1</td>\n",
       "      <td>0</td>\n",
       "      <td>0</td>\n",
       "      <td>0</td>\n",
       "      <td>0</td>\n",
       "    </tr>\n",
       "  </tbody>\n",
       "</table>\n",
       "</div>"
      ],
      "text/plain": [
       "        age   rest_bp      chol   thalach   oldpeak  is_male  \\\n",
       "0  0.936181  0.750380 -0.276443  0.017494  1.068965        1   \n",
       "1  1.378929  1.596266  0.744555 -1.816334  0.381773        1   \n",
       "2  1.378929 -0.659431 -0.353500 -0.899420  1.326662        1   \n",
       "3 -1.941680 -0.095506  0.051047  1.633010  2.099753        1   \n",
       "4 -1.498933 -0.095506 -0.835103  0.978071  0.295874        0   \n",
       "\n",
       "   has_atypical angina  has_non-anginal pain  has_typical angina  ecg_normal  \\\n",
       "0                    0                     0                   1           0   \n",
       "1                    0                     0                   0           0   \n",
       "2                    0                     0                   0           0   \n",
       "3                    0                     1                   0           1   \n",
       "4                    1                     0                   0           0   \n",
       "\n",
       "   ecg_probable left ventricular hypertrophy  exang_yes  slope_flat  \\\n",
       "0                                          1          0           0   \n",
       "1                                          1          1           1   \n",
       "2                                          1          1           1   \n",
       "3                                          0          0           0   \n",
       "4                                          1          0           0   \n",
       "\n",
       "   slope_upsloping  thal_normal  thal_reversable defect  ca_1.0  ca_2.0  \\\n",
       "0                0            0                       0       0       0   \n",
       "1                0            1                       0       0       0   \n",
       "2                0            0                       1       0       1   \n",
       "3                0            1                       0       0       0   \n",
       "4                1            1                       0       0       0   \n",
       "\n",
       "   ca_3.0  \n",
       "0       0  \n",
       "1       1  \n",
       "2       0  \n",
       "3       0  \n",
       "4       0  "
      ]
     },
     "execution_count": 73,
     "metadata": {},
     "output_type": "execute_result"
    }
   ],
   "source": [
    "X_train.head()"
   ]
  },
  {
   "cell_type": "code",
   "execution_count": 74,
   "metadata": {
    "scrolled": true
   },
   "outputs": [
    {
     "data": {
      "text/html": [
       "<div>\n",
       "<style scoped>\n",
       "    .dataframe tbody tr th:only-of-type {\n",
       "        vertical-align: middle;\n",
       "    }\n",
       "\n",
       "    .dataframe tbody tr th {\n",
       "        vertical-align: top;\n",
       "    }\n",
       "\n",
       "    .dataframe thead th {\n",
       "        text-align: right;\n",
       "    }\n",
       "</style>\n",
       "<table border=\"1\" class=\"dataframe\">\n",
       "  <thead>\n",
       "    <tr style=\"text-align: right;\">\n",
       "      <th></th>\n",
       "      <th>age</th>\n",
       "      <th>rest_bp</th>\n",
       "      <th>chol</th>\n",
       "      <th>thalach</th>\n",
       "      <th>oldpeak</th>\n",
       "      <th>is_male</th>\n",
       "      <th>has_atypical angina</th>\n",
       "      <th>has_non-anginal pain</th>\n",
       "      <th>has_typical angina</th>\n",
       "      <th>ecg_normal</th>\n",
       "      <th>ecg_probable left ventricular hypertrophy</th>\n",
       "      <th>exang_yes</th>\n",
       "      <th>slope_flat</th>\n",
       "      <th>slope_upsloping</th>\n",
       "      <th>thal_normal</th>\n",
       "      <th>thal_reversable defect</th>\n",
       "      <th>ca_1.0</th>\n",
       "      <th>ca_2.0</th>\n",
       "      <th>ca_3.0</th>\n",
       "    </tr>\n",
       "  </thead>\n",
       "  <tbody>\n",
       "    <tr>\n",
       "      <th>8</th>\n",
       "      <td>0.936181</td>\n",
       "      <td>-0.095506</td>\n",
       "      <td>0.128103</td>\n",
       "      <td>-0.113493</td>\n",
       "      <td>0.295874</td>\n",
       "      <td>1</td>\n",
       "      <td>0</td>\n",
       "      <td>0</td>\n",
       "      <td>0</td>\n",
       "      <td>0</td>\n",
       "      <td>1</td>\n",
       "      <td>0</td>\n",
       "      <td>1</td>\n",
       "      <td>0</td>\n",
       "      <td>0</td>\n",
       "      <td>1</td>\n",
       "      <td>1</td>\n",
       "      <td>0</td>\n",
       "      <td>0</td>\n",
       "    </tr>\n",
       "    <tr>\n",
       "      <th>9</th>\n",
       "      <td>-0.170689</td>\n",
       "      <td>0.468418</td>\n",
       "      <td>-0.854367</td>\n",
       "      <td>0.235807</td>\n",
       "      <td>1.756157</td>\n",
       "      <td>1</td>\n",
       "      <td>0</td>\n",
       "      <td>0</td>\n",
       "      <td>0</td>\n",
       "      <td>0</td>\n",
       "      <td>1</td>\n",
       "      <td>1</td>\n",
       "      <td>0</td>\n",
       "      <td>0</td>\n",
       "      <td>0</td>\n",
       "      <td>1</td>\n",
       "      <td>0</td>\n",
       "      <td>0</td>\n",
       "      <td>0</td>\n",
       "    </tr>\n",
       "    <tr>\n",
       "      <th>14</th>\n",
       "      <td>-0.281376</td>\n",
       "      <td>2.272976</td>\n",
       "      <td>-0.931424</td>\n",
       "      <td>0.541445</td>\n",
       "      <td>-0.477217</td>\n",
       "      <td>1</td>\n",
       "      <td>0</td>\n",
       "      <td>1</td>\n",
       "      <td>0</td>\n",
       "      <td>1</td>\n",
       "      <td>0</td>\n",
       "      <td>0</td>\n",
       "      <td>0</td>\n",
       "      <td>1</td>\n",
       "      <td>0</td>\n",
       "      <td>1</td>\n",
       "      <td>0</td>\n",
       "      <td>0</td>\n",
       "      <td>0</td>\n",
       "    </tr>\n",
       "    <tr>\n",
       "      <th>18</th>\n",
       "      <td>-0.724124</td>\n",
       "      <td>-0.095506</td>\n",
       "      <td>0.532650</td>\n",
       "      <td>-0.462794</td>\n",
       "      <td>-0.734914</td>\n",
       "      <td>0</td>\n",
       "      <td>0</td>\n",
       "      <td>1</td>\n",
       "      <td>0</td>\n",
       "      <td>1</td>\n",
       "      <td>0</td>\n",
       "      <td>0</td>\n",
       "      <td>0</td>\n",
       "      <td>1</td>\n",
       "      <td>1</td>\n",
       "      <td>0</td>\n",
       "      <td>0</td>\n",
       "      <td>0</td>\n",
       "      <td>0</td>\n",
       "    </tr>\n",
       "    <tr>\n",
       "      <th>23</th>\n",
       "      <td>0.382746</td>\n",
       "      <td>0.017278</td>\n",
       "      <td>-0.449820</td>\n",
       "      <td>1.021734</td>\n",
       "      <td>1.842056</td>\n",
       "      <td>1</td>\n",
       "      <td>0</td>\n",
       "      <td>1</td>\n",
       "      <td>0</td>\n",
       "      <td>0</td>\n",
       "      <td>1</td>\n",
       "      <td>0</td>\n",
       "      <td>0</td>\n",
       "      <td>1</td>\n",
       "      <td>0</td>\n",
       "      <td>1</td>\n",
       "      <td>0</td>\n",
       "      <td>1</td>\n",
       "      <td>0</td>\n",
       "    </tr>\n",
       "  </tbody>\n",
       "</table>\n",
       "</div>"
      ],
      "text/plain": [
       "         age   rest_bp      chol   thalach   oldpeak  is_male  \\\n",
       "8   0.936181 -0.095506  0.128103 -0.113493  0.295874        1   \n",
       "9  -0.170689  0.468418 -0.854367  0.235807  1.756157        1   \n",
       "14 -0.281376  2.272976 -0.931424  0.541445 -0.477217        1   \n",
       "18 -0.724124 -0.095506  0.532650 -0.462794 -0.734914        0   \n",
       "23  0.382746  0.017278 -0.449820  1.021734  1.842056        1   \n",
       "\n",
       "    has_atypical angina  has_non-anginal pain  has_typical angina  ecg_normal  \\\n",
       "8                     0                     0                   0           0   \n",
       "9                     0                     0                   0           0   \n",
       "14                    0                     1                   0           1   \n",
       "18                    0                     1                   0           1   \n",
       "23                    0                     1                   0           0   \n",
       "\n",
       "    ecg_probable left ventricular hypertrophy  exang_yes  slope_flat  \\\n",
       "8                                           1          0           1   \n",
       "9                                           1          1           0   \n",
       "14                                          0          0           0   \n",
       "18                                          0          0           0   \n",
       "23                                          1          0           0   \n",
       "\n",
       "    slope_upsloping  thal_normal  thal_reversable defect  ca_1.0  ca_2.0  \\\n",
       "8                 0            0                       1       1       0   \n",
       "9                 0            0                       1       0       0   \n",
       "14                1            0                       1       0       0   \n",
       "18                1            1                       0       0       0   \n",
       "23                1            0                       1       0       1   \n",
       "\n",
       "    ca_3.0  \n",
       "8        0  \n",
       "9        0  \n",
       "14       0  \n",
       "18       0  \n",
       "23       0  "
      ]
     },
     "execution_count": 74,
     "metadata": {},
     "output_type": "execute_result"
    }
   ],
   "source": [
    "X_test.head()"
   ]
  },
  {
   "cell_type": "markdown",
   "metadata": {},
   "source": [
    "## PCA"
   ]
  },
  {
   "cell_type": "code",
   "execution_count": 75,
   "metadata": {
    "scrolled": true
   },
   "outputs": [
    {
     "data": {
      "text/html": [
       "<div>\n",
       "<style scoped>\n",
       "    .dataframe tbody tr th:only-of-type {\n",
       "        vertical-align: middle;\n",
       "    }\n",
       "\n",
       "    .dataframe tbody tr th {\n",
       "        vertical-align: top;\n",
       "    }\n",
       "\n",
       "    .dataframe thead th {\n",
       "        text-align: right;\n",
       "    }\n",
       "</style>\n",
       "<table border=\"1\" class=\"dataframe\">\n",
       "  <thead>\n",
       "    <tr style=\"text-align: right;\">\n",
       "      <th></th>\n",
       "      <th>age</th>\n",
       "      <th>rest_bp</th>\n",
       "      <th>chol</th>\n",
       "      <th>thalach</th>\n",
       "      <th>oldpeak</th>\n",
       "    </tr>\n",
       "  </thead>\n",
       "  <tbody>\n",
       "    <tr>\n",
       "      <th>0</th>\n",
       "      <td>0.936181</td>\n",
       "      <td>0.750380</td>\n",
       "      <td>-0.276443</td>\n",
       "      <td>0.017494</td>\n",
       "      <td>1.068965</td>\n",
       "    </tr>\n",
       "    <tr>\n",
       "      <th>1</th>\n",
       "      <td>1.378929</td>\n",
       "      <td>1.596266</td>\n",
       "      <td>0.744555</td>\n",
       "      <td>-1.816334</td>\n",
       "      <td>0.381773</td>\n",
       "    </tr>\n",
       "    <tr>\n",
       "      <th>2</th>\n",
       "      <td>1.378929</td>\n",
       "      <td>-0.659431</td>\n",
       "      <td>-0.353500</td>\n",
       "      <td>-0.899420</td>\n",
       "      <td>1.326662</td>\n",
       "    </tr>\n",
       "    <tr>\n",
       "      <th>3</th>\n",
       "      <td>-1.941680</td>\n",
       "      <td>-0.095506</td>\n",
       "      <td>0.051047</td>\n",
       "      <td>1.633010</td>\n",
       "      <td>2.099753</td>\n",
       "    </tr>\n",
       "    <tr>\n",
       "      <th>4</th>\n",
       "      <td>-1.498933</td>\n",
       "      <td>-0.095506</td>\n",
       "      <td>-0.835103</td>\n",
       "      <td>0.978071</td>\n",
       "      <td>0.295874</td>\n",
       "    </tr>\n",
       "  </tbody>\n",
       "</table>\n",
       "</div>"
      ],
      "text/plain": [
       "        age   rest_bp      chol   thalach   oldpeak\n",
       "0  0.936181  0.750380 -0.276443  0.017494  1.068965\n",
       "1  1.378929  1.596266  0.744555 -1.816334  0.381773\n",
       "2  1.378929 -0.659431 -0.353500 -0.899420  1.326662\n",
       "3 -1.941680 -0.095506  0.051047  1.633010  2.099753\n",
       "4 -1.498933 -0.095506 -0.835103  0.978071  0.295874"
      ]
     },
     "execution_count": 75,
     "metadata": {},
     "output_type": "execute_result"
    }
   ],
   "source": [
    "# Reducir el dataset a las columnas numericas\n",
    "X_numerical_train = X_train.iloc[:, 0:5]\n",
    "X_numerical_test = X_test.iloc[:, 0:5]\n",
    "X_numerical_train.head()"
   ]
  },
  {
   "cell_type": "code",
   "execution_count": 76,
   "metadata": {},
   "outputs": [
    {
     "data": {
      "text/html": [
       "<div>\n",
       "<style scoped>\n",
       "    .dataframe tbody tr th:only-of-type {\n",
       "        vertical-align: middle;\n",
       "    }\n",
       "\n",
       "    .dataframe tbody tr th {\n",
       "        vertical-align: top;\n",
       "    }\n",
       "\n",
       "    .dataframe thead th {\n",
       "        text-align: right;\n",
       "    }\n",
       "</style>\n",
       "<table border=\"1\" class=\"dataframe\">\n",
       "  <thead>\n",
       "    <tr style=\"text-align: right;\">\n",
       "      <th></th>\n",
       "      <th>age</th>\n",
       "      <th>rest_bp</th>\n",
       "      <th>chol</th>\n",
       "      <th>thalach</th>\n",
       "      <th>oldpeak</th>\n",
       "    </tr>\n",
       "  </thead>\n",
       "  <tbody>\n",
       "    <tr>\n",
       "      <th>8</th>\n",
       "      <td>0.936181</td>\n",
       "      <td>-0.095506</td>\n",
       "      <td>0.128103</td>\n",
       "      <td>-0.113493</td>\n",
       "      <td>0.295874</td>\n",
       "    </tr>\n",
       "    <tr>\n",
       "      <th>9</th>\n",
       "      <td>-0.170689</td>\n",
       "      <td>0.468418</td>\n",
       "      <td>-0.854367</td>\n",
       "      <td>0.235807</td>\n",
       "      <td>1.756157</td>\n",
       "    </tr>\n",
       "    <tr>\n",
       "      <th>14</th>\n",
       "      <td>-0.281376</td>\n",
       "      <td>2.272976</td>\n",
       "      <td>-0.931424</td>\n",
       "      <td>0.541445</td>\n",
       "      <td>-0.477217</td>\n",
       "    </tr>\n",
       "    <tr>\n",
       "      <th>18</th>\n",
       "      <td>-0.724124</td>\n",
       "      <td>-0.095506</td>\n",
       "      <td>0.532650</td>\n",
       "      <td>-0.462794</td>\n",
       "      <td>-0.734914</td>\n",
       "    </tr>\n",
       "    <tr>\n",
       "      <th>23</th>\n",
       "      <td>0.382746</td>\n",
       "      <td>0.017278</td>\n",
       "      <td>-0.449820</td>\n",
       "      <td>1.021734</td>\n",
       "      <td>1.842056</td>\n",
       "    </tr>\n",
       "  </tbody>\n",
       "</table>\n",
       "</div>"
      ],
      "text/plain": [
       "         age   rest_bp      chol   thalach   oldpeak\n",
       "8   0.936181 -0.095506  0.128103 -0.113493  0.295874\n",
       "9  -0.170689  0.468418 -0.854367  0.235807  1.756157\n",
       "14 -0.281376  2.272976 -0.931424  0.541445 -0.477217\n",
       "18 -0.724124 -0.095506  0.532650 -0.462794 -0.734914\n",
       "23  0.382746  0.017278 -0.449820  1.021734  1.842056"
      ]
     },
     "execution_count": 76,
     "metadata": {},
     "output_type": "execute_result"
    }
   ],
   "source": [
    "X_numerical_test.head()"
   ]
  },
  {
   "cell_type": "code",
   "execution_count": 77,
   "metadata": {},
   "outputs": [],
   "source": [
    "# PCA\n",
    "pca = PCA(n_components=5, random_state=155766)\n",
    "pca.fit(X_numerical_train)\n",
    "cols = [\"c1\", \"c2\", \"c3\", \"c4\", \"c5\"]\n",
    "\n",
    "pca_df_train = pd.DataFrame(pca.transform(X_numerical_train), columns = cols, index = X_numerical_train.index)\n",
    "pca_df_train[\"diagnosis\"] = train_diagnosis\n",
    "\n",
    "pca_df_test = pd.DataFrame(pca.transform(X_numerical_test), columns = cols, index = X_numerical_test.index)\n",
    "pca_df_test[\"diagnosis\"] = test_diagnosis"
   ]
  },
  {
   "cell_type": "code",
   "execution_count": 78,
   "metadata": {
    "scrolled": false
   },
   "outputs": [
    {
     "data": {
      "text/html": [
       "<div>\n",
       "<style scoped>\n",
       "    .dataframe tbody tr th:only-of-type {\n",
       "        vertical-align: middle;\n",
       "    }\n",
       "\n",
       "    .dataframe tbody tr th {\n",
       "        vertical-align: top;\n",
       "    }\n",
       "\n",
       "    .dataframe thead th {\n",
       "        text-align: right;\n",
       "    }\n",
       "</style>\n",
       "<table border=\"1\" class=\"dataframe\">\n",
       "  <thead>\n",
       "    <tr style=\"text-align: right;\">\n",
       "      <th></th>\n",
       "      <th>c1</th>\n",
       "      <th>c2</th>\n",
       "      <th>c3</th>\n",
       "      <th>c4</th>\n",
       "      <th>c5</th>\n",
       "      <th>diagnosis</th>\n",
       "    </tr>\n",
       "  </thead>\n",
       "  <tbody>\n",
       "    <tr>\n",
       "      <th>0</th>\n",
       "      <td>1.167109</td>\n",
       "      <td>0.030140</td>\n",
       "      <td>-0.795210</td>\n",
       "      <td>0.078391</td>\n",
       "      <td>-0.689399</td>\n",
       "      <td>0</td>\n",
       "    </tr>\n",
       "    <tr>\n",
       "      <th>1</th>\n",
       "      <td>2.554142</td>\n",
       "      <td>0.539770</td>\n",
       "      <td>0.037864</td>\n",
       "      <td>-0.683931</td>\n",
       "      <td>0.837171</td>\n",
       "      <td>1</td>\n",
       "    </tr>\n",
       "    <tr>\n",
       "      <th>2</th>\n",
       "      <td>1.478901</td>\n",
       "      <td>-1.158254</td>\n",
       "      <td>0.414328</td>\n",
       "      <td>-0.048415</td>\n",
       "      <td>-1.018201</td>\n",
       "      <td>1</td>\n",
       "    </tr>\n",
       "    <tr>\n",
       "      <th>3</th>\n",
       "      <td>-1.030767</td>\n",
       "      <td>-0.249900</td>\n",
       "      <td>-1.246585</td>\n",
       "      <td>2.837654</td>\n",
       "      <td>-0.463751</td>\n",
       "      <td>0</td>\n",
       "    </tr>\n",
       "    <tr>\n",
       "      <th>4</th>\n",
       "      <td>-1.494417</td>\n",
       "      <td>-0.454286</td>\n",
       "      <td>-1.069753</td>\n",
       "      <td>0.810109</td>\n",
       "      <td>0.051277</td>\n",
       "      <td>0</td>\n",
       "    </tr>\n",
       "  </tbody>\n",
       "</table>\n",
       "</div>"
      ],
      "text/plain": [
       "         c1        c2        c3        c4        c5  diagnosis\n",
       "0  1.167109  0.030140 -0.795210  0.078391 -0.689399          0\n",
       "1  2.554142  0.539770  0.037864 -0.683931  0.837171          1\n",
       "2  1.478901 -1.158254  0.414328 -0.048415 -1.018201          1\n",
       "3 -1.030767 -0.249900 -1.246585  2.837654 -0.463751          0\n",
       "4 -1.494417 -0.454286 -1.069753  0.810109  0.051277          0"
      ]
     },
     "execution_count": 78,
     "metadata": {},
     "output_type": "execute_result"
    }
   ],
   "source": [
    "pca_df_train.head()"
   ]
  },
  {
   "cell_type": "code",
   "execution_count": 79,
   "metadata": {
    "scrolled": true
   },
   "outputs": [
    {
     "data": {
      "text/html": [
       "<div>\n",
       "<style scoped>\n",
       "    .dataframe tbody tr th:only-of-type {\n",
       "        vertical-align: middle;\n",
       "    }\n",
       "\n",
       "    .dataframe tbody tr th {\n",
       "        vertical-align: top;\n",
       "    }\n",
       "\n",
       "    .dataframe thead th {\n",
       "        text-align: right;\n",
       "    }\n",
       "</style>\n",
       "<table border=\"1\" class=\"dataframe\">\n",
       "  <thead>\n",
       "    <tr style=\"text-align: right;\">\n",
       "      <th></th>\n",
       "      <th>c1</th>\n",
       "      <th>c2</th>\n",
       "      <th>c3</th>\n",
       "      <th>c4</th>\n",
       "      <th>c5</th>\n",
       "      <th>diagnosis</th>\n",
       "    </tr>\n",
       "  </thead>\n",
       "  <tbody>\n",
       "    <tr>\n",
       "      <th>8</th>\n",
       "      <td>0.622213</td>\n",
       "      <td>0.054979</td>\n",
       "      <td>0.247559</td>\n",
       "      <td>-0.245862</td>\n",
       "      <td>-0.626363</td>\n",
       "      <td>1</td>\n",
       "    </tr>\n",
       "    <tr>\n",
       "      <th>9</th>\n",
       "      <td>0.553241</td>\n",
       "      <td>-0.783714</td>\n",
       "      <td>-1.363911</td>\n",
       "      <td>0.958832</td>\n",
       "      <td>-0.545313</td>\n",
       "      <td>1</td>\n",
       "    </tr>\n",
       "    <tr>\n",
       "      <th>14</th>\n",
       "      <td>-0.100174</td>\n",
       "      <td>0.917559</td>\n",
       "      <td>-2.220107</td>\n",
       "      <td>-0.729810</td>\n",
       "      <td>0.658897</td>\n",
       "      <td>0</td>\n",
       "    </tr>\n",
       "    <tr>\n",
       "      <th>18</th>\n",
       "      <td>-0.543503</td>\n",
       "      <td>0.204138</td>\n",
       "      <td>0.563956</td>\n",
       "      <td>-0.048892</td>\n",
       "      <td>0.981354</td>\n",
       "      <td>0</td>\n",
       "    </tr>\n",
       "    <tr>\n",
       "      <th>23</th>\n",
       "      <td>0.402666</td>\n",
       "      <td>-0.320911</td>\n",
       "      <td>-0.983989</td>\n",
       "      <td>1.126464</td>\n",
       "      <td>-1.488305</td>\n",
       "      <td>1</td>\n",
       "    </tr>\n",
       "  </tbody>\n",
       "</table>\n",
       "</div>"
      ],
      "text/plain": [
       "          c1        c2        c3        c4        c5  diagnosis\n",
       "8   0.622213  0.054979  0.247559 -0.245862 -0.626363          1\n",
       "9   0.553241 -0.783714 -1.363911  0.958832 -0.545313          1\n",
       "14 -0.100174  0.917559 -2.220107 -0.729810  0.658897          0\n",
       "18 -0.543503  0.204138  0.563956 -0.048892  0.981354          0\n",
       "23  0.402666 -0.320911 -0.983989  1.126464 -1.488305          1"
      ]
     },
     "execution_count": 79,
     "metadata": {},
     "output_type": "execute_result"
    }
   ],
   "source": [
    "#Dataframe con vars de prueba, para uso futuro\n",
    "pca_df_test.head()"
   ]
  },
  {
   "cell_type": "code",
   "execution_count": 105,
   "metadata": {},
   "outputs": [
    {
     "data": {
      "image/png": "[encoded data removed]",
      "text/plain": [
       "<Figure size 432x288 with 1 Axes>"
      ]
     },
     "metadata": {
      "needs_background": "light"
     },
     "output_type": "display_data"
    }
   ],
   "source": [
    "plt.hlines(0, -3.5, 3.5, zorder = -1)\n",
    "plt.vlines(0, -3, 4, zorder = -1)\n",
    "plt.axis([-3.5, 3.5, -3, 4])\n",
    "sns.scatterplot(x = \"c1\", y = \"c2\", data = pca_df_train, hue = \"diagnosis\")\n",
    "plt.savefig(\"img/componentes.png\", dpi = 700)\n",
    "#plt.show()"
   ]
  },
  {
   "cell_type": "code",
   "execution_count": 81,
   "metadata": {},
   "outputs": [
    {
     "data": {
      "text/plain": [
       "array([0.35381261, 0.21536782, 0.18011913, 0.1553517 , 0.09534874])"
      ]
     },
     "execution_count": 81,
     "metadata": {},
     "output_type": "execute_result"
    }
   ],
   "source": [
    "pca.explained_variance_ratio_"
   ]
  },
  {
   "cell_type": "markdown",
   "metadata": {},
   "source": [
    "## Logit"
   ]
  },
  {
   "cell_type": "code",
   "execution_count": 82,
   "metadata": {},
   "outputs": [
    {
     "name": "stdout",
     "output_type": "stream",
     "text": [
      "Optimization terminated successfully.\n",
      "         Current function value: 0.297090\n",
      "         Iterations 8\n"
     ]
    }
   ],
   "source": [
    "logit = sm.Logit(train_diagnosis, X_train)\n",
    "logit_model = logit.fit()"
   ]
  },
  {
   "cell_type": "code",
   "execution_count": 83,
   "metadata": {},
   "outputs": [
    {
     "data": {
      "text/html": [
       "<table class=\"simpletable\">\n",
       "<caption>Logit Regression Results</caption>\n",
       "<tr>\n",
       "  <th>Dep. Variable:</th>         <td>y</td>        <th>  No. Observations:  </th>  <td>   238</td>  \n",
       "</tr>\n",
       "<tr>\n",
       "  <th>Model:</th>               <td>Logit</td>      <th>  Df Residuals:      </th>  <td>   219</td>  \n",
       "</tr>\n",
       "<tr>\n",
       "  <th>Method:</th>               <td>MLE</td>       <th>  Df Model:          </th>  <td>    18</td>  \n",
       "</tr>\n",
       "<tr>\n",
       "  <th>Date:</th>          <td>Tue, 07 May 2019</td> <th>  Pseudo R-squ.:     </th>  <td>0.5714</td>  \n",
       "</tr>\n",
       "<tr>\n",
       "  <th>Time:</th>              <td>20:51:25</td>     <th>  Log-Likelihood:    </th> <td> -70.707</td> \n",
       "</tr>\n",
       "<tr>\n",
       "  <th>converged:</th>           <td>True</td>       <th>  LL-Null:           </th> <td> -164.97</td> \n",
       "</tr>\n",
       "<tr>\n",
       "  <th> </th>                      <td> </td>        <th>  LLR p-value:       </th> <td>1.949e-30</td>\n",
       "</tr>\n",
       "</table>\n",
       "<table class=\"simpletable\">\n",
       "<tr>\n",
       "                      <td></td>                         <th>coef</th>     <th>std err</th>      <th>z</th>      <th>P>|z|</th>  <th>[0.025</th>    <th>0.975]</th>  \n",
       "</tr>\n",
       "<tr>\n",
       "  <th>age</th>                                       <td>   -0.1956</td> <td>    0.255</td> <td>   -0.768</td> <td> 0.442</td> <td>   -0.695</td> <td>    0.304</td>\n",
       "</tr>\n",
       "<tr>\n",
       "  <th>rest_bp</th>                                   <td>    0.5909</td> <td>    0.245</td> <td>    2.412</td> <td> 0.016</td> <td>    0.111</td> <td>    1.071</td>\n",
       "</tr>\n",
       "<tr>\n",
       "  <th>chol</th>                                      <td>    0.3512</td> <td>    0.237</td> <td>    1.484</td> <td> 0.138</td> <td>   -0.113</td> <td>    0.815</td>\n",
       "</tr>\n",
       "<tr>\n",
       "  <th>thalach</th>                                   <td>   -0.6209</td> <td>    0.309</td> <td>   -2.007</td> <td> 0.045</td> <td>   -1.227</td> <td>   -0.015</td>\n",
       "</tr>\n",
       "<tr>\n",
       "  <th>oldpeak</th>                                   <td>    0.4246</td> <td>    0.316</td> <td>    1.343</td> <td> 0.179</td> <td>   -0.195</td> <td>    1.044</td>\n",
       "</tr>\n",
       "<tr>\n",
       "  <th>is_male</th>                                   <td>    1.5248</td> <td>    0.608</td> <td>    2.508</td> <td> 0.012</td> <td>    0.333</td> <td>    2.716</td>\n",
       "</tr>\n",
       "<tr>\n",
       "  <th>has_atypical angina</th>                       <td>   -0.2588</td> <td>    0.640</td> <td>   -0.404</td> <td> 0.686</td> <td>   -1.513</td> <td>    0.996</td>\n",
       "</tr>\n",
       "<tr>\n",
       "  <th>has_non-anginal pain</th>                      <td>   -2.2580</td> <td>    0.623</td> <td>   -3.625</td> <td> 0.000</td> <td>   -3.479</td> <td>   -1.037</td>\n",
       "</tr>\n",
       "<tr>\n",
       "  <th>has_typical angina</th>                        <td>   -2.2821</td> <td>    0.816</td> <td>   -2.797</td> <td> 0.005</td> <td>   -3.881</td> <td>   -0.683</td>\n",
       "</tr>\n",
       "<tr>\n",
       "  <th>ecg_normal</th>                                <td>   -3.1987</td> <td>    1.631</td> <td>   -1.961</td> <td> 0.050</td> <td>   -6.395</td> <td>   -0.002</td>\n",
       "</tr>\n",
       "<tr>\n",
       "  <th>ecg_probable left ventricular hypertrophy</th> <td>   -2.7147</td> <td>    1.622</td> <td>   -1.673</td> <td> 0.094</td> <td>   -5.895</td> <td>    0.465</td>\n",
       "</tr>\n",
       "<tr>\n",
       "  <th>exang_yes</th>                                 <td>    0.9183</td> <td>    0.498</td> <td>    1.843</td> <td> 0.065</td> <td>   -0.058</td> <td>    1.895</td>\n",
       "</tr>\n",
       "<tr>\n",
       "  <th>slope_flat</th>                                <td>    1.0099</td> <td>    1.181</td> <td>    0.855</td> <td> 0.392</td> <td>   -1.304</td> <td>    3.324</td>\n",
       "</tr>\n",
       "<tr>\n",
       "  <th>slope_upsloping</th>                           <td>   -0.2450</td> <td>    1.262</td> <td>   -0.194</td> <td> 0.846</td> <td>   -2.719</td> <td>    2.229</td>\n",
       "</tr>\n",
       "<tr>\n",
       "  <th>thal_normal</th>                               <td>    0.3979</td> <td>    1.001</td> <td>    0.398</td> <td> 0.691</td> <td>   -1.564</td> <td>    2.359</td>\n",
       "</tr>\n",
       "<tr>\n",
       "  <th>thal_reversable defect</th>                    <td>    2.1294</td> <td>    0.992</td> <td>    2.147</td> <td> 0.032</td> <td>    0.186</td> <td>    4.073</td>\n",
       "</tr>\n",
       "<tr>\n",
       "  <th>ca_1.0</th>                                    <td>    2.3063</td> <td>    0.610</td> <td>    3.780</td> <td> 0.000</td> <td>    1.111</td> <td>    3.502</td>\n",
       "</tr>\n",
       "<tr>\n",
       "  <th>ca_2.0</th>                                    <td>    3.3164</td> <td>    0.903</td> <td>    3.672</td> <td> 0.000</td> <td>    1.546</td> <td>    5.086</td>\n",
       "</tr>\n",
       "<tr>\n",
       "  <th>ca_3.0</th>                                    <td>    1.4687</td> <td>    0.918</td> <td>    1.600</td> <td> 0.110</td> <td>   -0.331</td> <td>    3.268</td>\n",
       "</tr>\n",
       "</table>"
      ],
      "text/plain": [
       "<class 'statsmodels.iolib.summary.Summary'>\n",
       "\"\"\"\n",
       "                           Logit Regression Results                           \n",
       "==============================================================================\n",
       "Dep. Variable:                      y   No. Observations:                  238\n",
       "Model:                          Logit   Df Residuals:                      219\n",
       "Method:                           MLE   Df Model:                           18\n",
       "Date:                Tue, 07 May 2019   Pseudo R-squ.:                  0.5714\n",
       "Time:                        20:51:25   Log-Likelihood:                -70.707\n",
       "converged:                       True   LL-Null:                       -164.97\n",
       "                                        LLR p-value:                 1.949e-30\n",
       "=============================================================================================================\n",
       "                                                coef    std err          z      P>|z|      [0.025      0.975]\n",
       "-------------------------------------------------------------------------------------------------------------\n",
       "age                                          -0.1956      0.255     -0.768      0.442      -0.695       0.304\n",
       "rest_bp                                       0.5909      0.245      2.412      0.016       0.111       1.071\n",
       "chol                                          0.3512      0.237      1.484      0.138      -0.113       0.815\n",
       "thalach                                      -0.6209      0.309     -2.007      0.045      -1.227      -0.015\n",
       "oldpeak                                       0.4246      0.316      1.343      0.179      -0.195       1.044\n",
       "is_male                                       1.5248      0.608      2.508      0.012       0.333       2.716\n",
       "has_atypical angina                          -0.2588      0.640     -0.404      0.686      -1.513       0.996\n",
       "has_non-anginal pain                         -2.2580      0.623     -3.625      0.000      -3.479      -1.037\n",
       "has_typical angina                           -2.2821      0.816     -2.797      0.005      -3.881      -0.683\n",
       "ecg_normal                                   -3.1987      1.631     -1.961      0.050      -6.395      -0.002\n",
       "ecg_probable left ventricular hypertrophy    -2.7147      1.622     -1.673      0.094      -5.895       0.465\n",
       "exang_yes                                     0.9183      0.498      1.843      0.065      -0.058       1.895\n",
       "slope_flat                                    1.0099      1.181      0.855      0.392      -1.304       3.324\n",
       "slope_upsloping                              -0.2450      1.262     -0.194      0.846      -2.719       2.229\n",
       "thal_normal                                   0.3979      1.001      0.398      0.691      -1.564       2.359\n",
       "thal_reversable defect                        2.1294      0.992      2.147      0.032       0.186       4.073\n",
       "ca_1.0                                        2.3063      0.610      3.780      0.000       1.111       3.502\n",
       "ca_2.0                                        3.3164      0.903      3.672      0.000       1.546       5.086\n",
       "ca_3.0                                        1.4687      0.918      1.600      0.110      -0.331       3.268\n",
       "=============================================================================================================\n",
       "\"\"\""
      ]
     },
     "execution_count": 83,
     "metadata": {},
     "output_type": "execute_result"
    }
   ],
   "source": [
    "logit_model.summary()"
   ]
  },
  {
   "cell_type": "code",
   "execution_count": 84,
   "metadata": {},
   "outputs": [],
   "source": [
    "X_train2 = X_train.drop(columns = ['age','chol', 'slope_flat', 'slope_upsloping',\n",
    "                                     'ecg_normal','ecg_probable left ventricular hypertrophy','exang_yes'])"
   ]
  },
  {
   "cell_type": "code",
   "execution_count": 85,
   "metadata": {},
   "outputs": [
    {
     "data": {
      "text/html": [
       "<div>\n",
       "<style scoped>\n",
       "    .dataframe tbody tr th:only-of-type {\n",
       "        vertical-align: middle;\n",
       "    }\n",
       "\n",
       "    .dataframe tbody tr th {\n",
       "        vertical-align: top;\n",
       "    }\n",
       "\n",
       "    .dataframe thead th {\n",
       "        text-align: right;\n",
       "    }\n",
       "</style>\n",
       "<table border=\"1\" class=\"dataframe\">\n",
       "  <thead>\n",
       "    <tr style=\"text-align: right;\">\n",
       "      <th></th>\n",
       "      <th>rest_bp</th>\n",
       "      <th>thalach</th>\n",
       "      <th>oldpeak</th>\n",
       "      <th>is_male</th>\n",
       "      <th>has_atypical angina</th>\n",
       "      <th>has_non-anginal pain</th>\n",
       "      <th>has_typical angina</th>\n",
       "      <th>thal_normal</th>\n",
       "      <th>thal_reversable defect</th>\n",
       "      <th>ca_1.0</th>\n",
       "      <th>ca_2.0</th>\n",
       "      <th>ca_3.0</th>\n",
       "    </tr>\n",
       "  </thead>\n",
       "  <tbody>\n",
       "    <tr>\n",
       "      <th>0</th>\n",
       "      <td>0.750380</td>\n",
       "      <td>0.017494</td>\n",
       "      <td>1.068965</td>\n",
       "      <td>1</td>\n",
       "      <td>0</td>\n",
       "      <td>0</td>\n",
       "      <td>1</td>\n",
       "      <td>0</td>\n",
       "      <td>0</td>\n",
       "      <td>0</td>\n",
       "      <td>0</td>\n",
       "      <td>0</td>\n",
       "    </tr>\n",
       "    <tr>\n",
       "      <th>1</th>\n",
       "      <td>1.596266</td>\n",
       "      <td>-1.816334</td>\n",
       "      <td>0.381773</td>\n",
       "      <td>1</td>\n",
       "      <td>0</td>\n",
       "      <td>0</td>\n",
       "      <td>0</td>\n",
       "      <td>1</td>\n",
       "      <td>0</td>\n",
       "      <td>0</td>\n",
       "      <td>0</td>\n",
       "      <td>1</td>\n",
       "    </tr>\n",
       "    <tr>\n",
       "      <th>2</th>\n",
       "      <td>-0.659431</td>\n",
       "      <td>-0.899420</td>\n",
       "      <td>1.326662</td>\n",
       "      <td>1</td>\n",
       "      <td>0</td>\n",
       "      <td>0</td>\n",
       "      <td>0</td>\n",
       "      <td>0</td>\n",
       "      <td>1</td>\n",
       "      <td>0</td>\n",
       "      <td>1</td>\n",
       "      <td>0</td>\n",
       "    </tr>\n",
       "    <tr>\n",
       "      <th>3</th>\n",
       "      <td>-0.095506</td>\n",
       "      <td>1.633010</td>\n",
       "      <td>2.099753</td>\n",
       "      <td>1</td>\n",
       "      <td>0</td>\n",
       "      <td>1</td>\n",
       "      <td>0</td>\n",
       "      <td>1</td>\n",
       "      <td>0</td>\n",
       "      <td>0</td>\n",
       "      <td>0</td>\n",
       "      <td>0</td>\n",
       "    </tr>\n",
       "    <tr>\n",
       "      <th>4</th>\n",
       "      <td>-0.095506</td>\n",
       "      <td>0.978071</td>\n",
       "      <td>0.295874</td>\n",
       "      <td>0</td>\n",
       "      <td>1</td>\n",
       "      <td>0</td>\n",
       "      <td>0</td>\n",
       "      <td>1</td>\n",
       "      <td>0</td>\n",
       "      <td>0</td>\n",
       "      <td>0</td>\n",
       "      <td>0</td>\n",
       "    </tr>\n",
       "  </tbody>\n",
       "</table>\n",
       "</div>"
      ],
      "text/plain": [
       "    rest_bp   thalach   oldpeak  is_male  has_atypical angina  \\\n",
       "0  0.750380  0.017494  1.068965        1                    0   \n",
       "1  1.596266 -1.816334  0.381773        1                    0   \n",
       "2 -0.659431 -0.899420  1.326662        1                    0   \n",
       "3 -0.095506  1.633010  2.099753        1                    0   \n",
       "4 -0.095506  0.978071  0.295874        0                    1   \n",
       "\n",
       "   has_non-anginal pain  has_typical angina  thal_normal  \\\n",
       "0                     0                   1            0   \n",
       "1                     0                   0            1   \n",
       "2                     0                   0            0   \n",
       "3                     1                   0            1   \n",
       "4                     0                   0            1   \n",
       "\n",
       "   thal_reversable defect  ca_1.0  ca_2.0  ca_3.0  \n",
       "0                       0       0       0       0  \n",
       "1                       0       0       0       1  \n",
       "2                       1       0       1       0  \n",
       "3                       0       0       0       0  \n",
       "4                       0       0       0       0  "
      ]
     },
     "execution_count": 85,
     "metadata": {},
     "output_type": "execute_result"
    }
   ],
   "source": [
    "X_train2.head()"
   ]
  },
  {
   "cell_type": "code",
   "execution_count": 86,
   "metadata": {},
   "outputs": [
    {
     "name": "stdout",
     "output_type": "stream",
     "text": [
      "Optimization terminated successfully.\n",
      "         Current function value: 0.334545\n",
      "         Iterations 7\n"
     ]
    }
   ],
   "source": [
    "logit2 = sm.Logit(train_diagnosis,X_train2)\n",
    "logit_model2 = logit2.fit()"
   ]
  },
  {
   "cell_type": "code",
   "execution_count": 87,
   "metadata": {},
   "outputs": [
    {
     "data": {
      "text/html": [
       "<table class=\"simpletable\">\n",
       "<caption>Logit Regression Results</caption>\n",
       "<tr>\n",
       "  <th>Dep. Variable:</th>         <td>y</td>        <th>  No. Observations:  </th>  <td>   238</td>  \n",
       "</tr>\n",
       "<tr>\n",
       "  <th>Model:</th>               <td>Logit</td>      <th>  Df Residuals:      </th>  <td>   226</td>  \n",
       "</tr>\n",
       "<tr>\n",
       "  <th>Method:</th>               <td>MLE</td>       <th>  Df Model:          </th>  <td>    11</td>  \n",
       "</tr>\n",
       "<tr>\n",
       "  <th>Date:</th>          <td>Tue, 07 May 2019</td> <th>  Pseudo R-squ.:     </th>  <td>0.5174</td>  \n",
       "</tr>\n",
       "<tr>\n",
       "  <th>Time:</th>              <td>20:51:25</td>     <th>  Log-Likelihood:    </th> <td> -79.622</td> \n",
       "</tr>\n",
       "<tr>\n",
       "  <th>converged:</th>           <td>True</td>       <th>  LL-Null:           </th> <td> -164.97</td> \n",
       "</tr>\n",
       "<tr>\n",
       "  <th> </th>                      <td> </td>        <th>  LLR p-value:       </th> <td>8.489e-31</td>\n",
       "</tr>\n",
       "</table>\n",
       "<table class=\"simpletable\">\n",
       "<tr>\n",
       "             <td></td>               <th>coef</th>     <th>std err</th>      <th>z</th>      <th>P>|z|</th>  <th>[0.025</th>    <th>0.975]</th>  \n",
       "</tr>\n",
       "<tr>\n",
       "  <th>rest_bp</th>                <td>    0.4749</td> <td>    0.213</td> <td>    2.226</td> <td> 0.026</td> <td>    0.057</td> <td>    0.893</td>\n",
       "</tr>\n",
       "<tr>\n",
       "  <th>thalach</th>                <td>   -0.6225</td> <td>    0.246</td> <td>   -2.533</td> <td> 0.011</td> <td>   -1.104</td> <td>   -0.141</td>\n",
       "</tr>\n",
       "<tr>\n",
       "  <th>oldpeak</th>                <td>    0.6901</td> <td>    0.279</td> <td>    2.473</td> <td> 0.013</td> <td>    0.143</td> <td>    1.237</td>\n",
       "</tr>\n",
       "<tr>\n",
       "  <th>is_male</th>                <td>    0.6667</td> <td>    0.442</td> <td>    1.509</td> <td> 0.131</td> <td>   -0.199</td> <td>    1.533</td>\n",
       "</tr>\n",
       "<tr>\n",
       "  <th>has_atypical angina</th>    <td>   -0.7966</td> <td>    0.576</td> <td>   -1.383</td> <td> 0.167</td> <td>   -1.926</td> <td>    0.332</td>\n",
       "</tr>\n",
       "<tr>\n",
       "  <th>has_non-anginal pain</th>   <td>   -2.4158</td> <td>    0.563</td> <td>   -4.294</td> <td> 0.000</td> <td>   -3.519</td> <td>   -1.313</td>\n",
       "</tr>\n",
       "<tr>\n",
       "  <th>has_typical angina</th>     <td>   -2.3303</td> <td>    0.730</td> <td>   -3.194</td> <td> 0.001</td> <td>   -3.760</td> <td>   -0.900</td>\n",
       "</tr>\n",
       "<tr>\n",
       "  <th>thal_normal</th>            <td>   -1.1034</td> <td>    0.405</td> <td>   -2.727</td> <td> 0.006</td> <td>   -1.896</td> <td>   -0.310</td>\n",
       "</tr>\n",
       "<tr>\n",
       "  <th>thal_reversable defect</th> <td>    0.7714</td> <td>    0.517</td> <td>    1.493</td> <td> 0.135</td> <td>   -0.241</td> <td>    1.784</td>\n",
       "</tr>\n",
       "<tr>\n",
       "  <th>ca_1.0</th>                 <td>    2.0827</td> <td>    0.539</td> <td>    3.866</td> <td> 0.000</td> <td>    1.027</td> <td>    3.138</td>\n",
       "</tr>\n",
       "<tr>\n",
       "  <th>ca_2.0</th>                 <td>    2.5819</td> <td>    0.759</td> <td>    3.401</td> <td> 0.001</td> <td>    1.094</td> <td>    4.070</td>\n",
       "</tr>\n",
       "<tr>\n",
       "  <th>ca_3.0</th>                 <td>    1.3313</td> <td>    0.884</td> <td>    1.505</td> <td> 0.132</td> <td>   -0.402</td> <td>    3.065</td>\n",
       "</tr>\n",
       "</table>"
      ],
      "text/plain": [
       "<class 'statsmodels.iolib.summary.Summary'>\n",
       "\"\"\"\n",
       "                           Logit Regression Results                           \n",
       "==============================================================================\n",
       "Dep. Variable:                      y   No. Observations:                  238\n",
       "Model:                          Logit   Df Residuals:                      226\n",
       "Method:                           MLE   Df Model:                           11\n",
       "Date:                Tue, 07 May 2019   Pseudo R-squ.:                  0.5174\n",
       "Time:                        20:51:25   Log-Likelihood:                -79.622\n",
       "converged:                       True   LL-Null:                       -164.97\n",
       "                                        LLR p-value:                 8.489e-31\n",
       "==========================================================================================\n",
       "                             coef    std err          z      P>|z|      [0.025      0.975]\n",
       "------------------------------------------------------------------------------------------\n",
       "rest_bp                    0.4749      0.213      2.226      0.026       0.057       0.893\n",
       "thalach                   -0.6225      0.246     -2.533      0.011      -1.104      -0.141\n",
       "oldpeak                    0.6901      0.279      2.473      0.013       0.143       1.237\n",
       "is_male                    0.6667      0.442      1.509      0.131      -0.199       1.533\n",
       "has_atypical angina       -0.7966      0.576     -1.383      0.167      -1.926       0.332\n",
       "has_non-anginal pain      -2.4158      0.563     -4.294      0.000      -3.519      -1.313\n",
       "has_typical angina        -2.3303      0.730     -3.194      0.001      -3.760      -0.900\n",
       "thal_normal               -1.1034      0.405     -2.727      0.006      -1.896      -0.310\n",
       "thal_reversable defect     0.7714      0.517      1.493      0.135      -0.241       1.784\n",
       "ca_1.0                     2.0827      0.539      3.866      0.000       1.027       3.138\n",
       "ca_2.0                     2.5819      0.759      3.401      0.001       1.094       4.070\n",
       "ca_3.0                     1.3313      0.884      1.505      0.132      -0.402       3.065\n",
       "==========================================================================================\n",
       "\"\"\""
      ]
     },
     "execution_count": 87,
     "metadata": {},
     "output_type": "execute_result"
    }
   ],
   "source": [
    "logit_model2.summary()"
   ]
  },
  {
   "cell_type": "code",
   "execution_count": 88,
   "metadata": {},
   "outputs": [
    {
     "data": {
      "text/plain": [
       "LogisticRegression(C=1.0, class_weight='balanced', dual=False,\n",
       "          fit_intercept=True, intercept_scaling=1, max_iter=100,\n",
       "          multi_class='warn', n_jobs=None, penalty='l2', random_state=None,\n",
       "          solver='liblinear', tol=0.0001, verbose=0, warm_start=False)"
      ]
     },
     "execution_count": 88,
     "metadata": {},
     "output_type": "execute_result"
    }
   ],
   "source": [
    "logmodel = LogisticRegression(solver = \"liblinear\", class_weight = \"balanced\")\n",
    "logmodel.fit(X_train1,y_train)"
   ]
  },
  {
   "cell_type": "markdown",
   "metadata": {},
   "source": [
    "## Logit utilizando pca"
   ]
  },
  {
   "cell_type": "code",
   "execution_count": 89,
   "metadata": {},
   "outputs": [],
   "source": [
    "log_df_train = X_train.iloc[:, 5:].join(pca_df_train)\n",
    "log_df_test = X_test.iloc[:, 5:].join(pca_df_test)"
   ]
  },
  {
   "cell_type": "code",
   "execution_count": 90,
   "metadata": {},
   "outputs": [
    {
     "data": {
      "text/html": [
       "<div>\n",
       "<style scoped>\n",
       "    .dataframe tbody tr th:only-of-type {\n",
       "        vertical-align: middle;\n",
       "    }\n",
       "\n",
       "    .dataframe tbody tr th {\n",
       "        vertical-align: top;\n",
       "    }\n",
       "\n",
       "    .dataframe thead th {\n",
       "        text-align: right;\n",
       "    }\n",
       "</style>\n",
       "<table border=\"1\" class=\"dataframe\">\n",
       "  <thead>\n",
       "    <tr style=\"text-align: right;\">\n",
       "      <th></th>\n",
       "      <th>is_male</th>\n",
       "      <th>has_atypical angina</th>\n",
       "      <th>has_non-anginal pain</th>\n",
       "      <th>has_typical angina</th>\n",
       "      <th>ecg_normal</th>\n",
       "      <th>ecg_probable left ventricular hypertrophy</th>\n",
       "      <th>exang_yes</th>\n",
       "      <th>slope_flat</th>\n",
       "      <th>slope_upsloping</th>\n",
       "      <th>thal_normal</th>\n",
       "      <th>thal_reversable defect</th>\n",
       "      <th>ca_1.0</th>\n",
       "      <th>ca_2.0</th>\n",
       "      <th>ca_3.0</th>\n",
       "      <th>c1</th>\n",
       "      <th>c2</th>\n",
       "      <th>c3</th>\n",
       "      <th>c4</th>\n",
       "      <th>c5</th>\n",
       "      <th>diagnosis</th>\n",
       "    </tr>\n",
       "  </thead>\n",
       "  <tbody>\n",
       "    <tr>\n",
       "      <th>0</th>\n",
       "      <td>1</td>\n",
       "      <td>0</td>\n",
       "      <td>0</td>\n",
       "      <td>1</td>\n",
       "      <td>0</td>\n",
       "      <td>1</td>\n",
       "      <td>0</td>\n",
       "      <td>0</td>\n",
       "      <td>0</td>\n",
       "      <td>0</td>\n",
       "      <td>0</td>\n",
       "      <td>0</td>\n",
       "      <td>0</td>\n",
       "      <td>0</td>\n",
       "      <td>1.167109</td>\n",
       "      <td>0.030140</td>\n",
       "      <td>-0.795210</td>\n",
       "      <td>0.078391</td>\n",
       "      <td>-0.689399</td>\n",
       "      <td>0</td>\n",
       "    </tr>\n",
       "    <tr>\n",
       "      <th>1</th>\n",
       "      <td>1</td>\n",
       "      <td>0</td>\n",
       "      <td>0</td>\n",
       "      <td>0</td>\n",
       "      <td>0</td>\n",
       "      <td>1</td>\n",
       "      <td>1</td>\n",
       "      <td>1</td>\n",
       "      <td>0</td>\n",
       "      <td>1</td>\n",
       "      <td>0</td>\n",
       "      <td>0</td>\n",
       "      <td>0</td>\n",
       "      <td>1</td>\n",
       "      <td>2.554142</td>\n",
       "      <td>0.539770</td>\n",
       "      <td>0.037864</td>\n",
       "      <td>-0.683931</td>\n",
       "      <td>0.837171</td>\n",
       "      <td>1</td>\n",
       "    </tr>\n",
       "    <tr>\n",
       "      <th>2</th>\n",
       "      <td>1</td>\n",
       "      <td>0</td>\n",
       "      <td>0</td>\n",
       "      <td>0</td>\n",
       "      <td>0</td>\n",
       "      <td>1</td>\n",
       "      <td>1</td>\n",
       "      <td>1</td>\n",
       "      <td>0</td>\n",
       "      <td>0</td>\n",
       "      <td>1</td>\n",
       "      <td>0</td>\n",
       "      <td>1</td>\n",
       "      <td>0</td>\n",
       "      <td>1.478901</td>\n",
       "      <td>-1.158254</td>\n",
       "      <td>0.414328</td>\n",
       "      <td>-0.048415</td>\n",
       "      <td>-1.018201</td>\n",
       "      <td>1</td>\n",
       "    </tr>\n",
       "    <tr>\n",
       "      <th>3</th>\n",
       "      <td>1</td>\n",
       "      <td>0</td>\n",
       "      <td>1</td>\n",
       "      <td>0</td>\n",
       "      <td>1</td>\n",
       "      <td>0</td>\n",
       "      <td>0</td>\n",
       "      <td>0</td>\n",
       "      <td>0</td>\n",
       "      <td>1</td>\n",
       "      <td>0</td>\n",
       "      <td>0</td>\n",
       "      <td>0</td>\n",
       "      <td>0</td>\n",
       "      <td>-1.030767</td>\n",
       "      <td>-0.249900</td>\n",
       "      <td>-1.246585</td>\n",
       "      <td>2.837654</td>\n",
       "      <td>-0.463751</td>\n",
       "      <td>0</td>\n",
       "    </tr>\n",
       "    <tr>\n",
       "      <th>4</th>\n",
       "      <td>0</td>\n",
       "      <td>1</td>\n",
       "      <td>0</td>\n",
       "      <td>0</td>\n",
       "      <td>0</td>\n",
       "      <td>1</td>\n",
       "      <td>0</td>\n",
       "      <td>0</td>\n",
       "      <td>1</td>\n",
       "      <td>1</td>\n",
       "      <td>0</td>\n",
       "      <td>0</td>\n",
       "      <td>0</td>\n",
       "      <td>0</td>\n",
       "      <td>-1.494417</td>\n",
       "      <td>-0.454286</td>\n",
       "      <td>-1.069753</td>\n",
       "      <td>0.810109</td>\n",
       "      <td>0.051277</td>\n",
       "      <td>0</td>\n",
       "    </tr>\n",
       "  </tbody>\n",
       "</table>\n",
       "</div>"
      ],
      "text/plain": [
       "   is_male  has_atypical angina  has_non-anginal pain  has_typical angina  \\\n",
       "0        1                    0                     0                   1   \n",
       "1        1                    0                     0                   0   \n",
       "2        1                    0                     0                   0   \n",
       "3        1                    0                     1                   0   \n",
       "4        0                    1                     0                   0   \n",
       "\n",
       "   ecg_normal  ecg_probable left ventricular hypertrophy  exang_yes  \\\n",
       "0           0                                          1          0   \n",
       "1           0                                          1          1   \n",
       "2           0                                          1          1   \n",
       "3           1                                          0          0   \n",
       "4           0                                          1          0   \n",
       "\n",
       "   slope_flat  slope_upsloping  thal_normal  thal_reversable defect  ca_1.0  \\\n",
       "0           0                0            0                       0       0   \n",
       "1           1                0            1                       0       0   \n",
       "2           1                0            0                       1       0   \n",
       "3           0                0            1                       0       0   \n",
       "4           0                1            1                       0       0   \n",
       "\n",
       "   ca_2.0  ca_3.0        c1        c2        c3        c4        c5  diagnosis  \n",
       "0       0       0  1.167109  0.030140 -0.795210  0.078391 -0.689399          0  \n",
       "1       0       1  2.554142  0.539770  0.037864 -0.683931  0.837171          1  \n",
       "2       1       0  1.478901 -1.158254  0.414328 -0.048415 -1.018201          1  \n",
       "3       0       0 -1.030767 -0.249900 -1.246585  2.837654 -0.463751          0  \n",
       "4       0       0 -1.494417 -0.454286 -1.069753  0.810109  0.051277          0  "
      ]
     },
     "execution_count": 90,
     "metadata": {},
     "output_type": "execute_result"
    }
   ],
   "source": [
    "log_df_train.head()"
   ]
  },
  {
   "cell_type": "code",
   "execution_count": 91,
   "metadata": {
    "scrolled": true
   },
   "outputs": [
    {
     "data": {
      "text/html": [
       "<div>\n",
       "<style scoped>\n",
       "    .dataframe tbody tr th:only-of-type {\n",
       "        vertical-align: middle;\n",
       "    }\n",
       "\n",
       "    .dataframe tbody tr th {\n",
       "        vertical-align: top;\n",
       "    }\n",
       "\n",
       "    .dataframe thead th {\n",
       "        text-align: right;\n",
       "    }\n",
       "</style>\n",
       "<table border=\"1\" class=\"dataframe\">\n",
       "  <thead>\n",
       "    <tr style=\"text-align: right;\">\n",
       "      <th></th>\n",
       "      <th>is_male</th>\n",
       "      <th>has_atypical angina</th>\n",
       "      <th>has_non-anginal pain</th>\n",
       "      <th>has_typical angina</th>\n",
       "      <th>ecg_normal</th>\n",
       "      <th>ecg_probable left ventricular hypertrophy</th>\n",
       "      <th>exang_yes</th>\n",
       "      <th>slope_flat</th>\n",
       "      <th>slope_upsloping</th>\n",
       "      <th>thal_normal</th>\n",
       "      <th>thal_reversable defect</th>\n",
       "      <th>ca_1.0</th>\n",
       "      <th>ca_2.0</th>\n",
       "      <th>ca_3.0</th>\n",
       "      <th>c1</th>\n",
       "      <th>c2</th>\n",
       "      <th>c3</th>\n",
       "      <th>c4</th>\n",
       "      <th>c5</th>\n",
       "      <th>diagnosis</th>\n",
       "    </tr>\n",
       "  </thead>\n",
       "  <tbody>\n",
       "    <tr>\n",
       "      <th>8</th>\n",
       "      <td>1</td>\n",
       "      <td>0</td>\n",
       "      <td>0</td>\n",
       "      <td>0</td>\n",
       "      <td>0</td>\n",
       "      <td>1</td>\n",
       "      <td>0</td>\n",
       "      <td>1</td>\n",
       "      <td>0</td>\n",
       "      <td>0</td>\n",
       "      <td>1</td>\n",
       "      <td>1</td>\n",
       "      <td>0</td>\n",
       "      <td>0</td>\n",
       "      <td>0.622213</td>\n",
       "      <td>0.054979</td>\n",
       "      <td>0.247559</td>\n",
       "      <td>-0.245862</td>\n",
       "      <td>-0.626363</td>\n",
       "      <td>1</td>\n",
       "    </tr>\n",
       "    <tr>\n",
       "      <th>9</th>\n",
       "      <td>1</td>\n",
       "      <td>0</td>\n",
       "      <td>0</td>\n",
       "      <td>0</td>\n",
       "      <td>0</td>\n",
       "      <td>1</td>\n",
       "      <td>1</td>\n",
       "      <td>0</td>\n",
       "      <td>0</td>\n",
       "      <td>0</td>\n",
       "      <td>1</td>\n",
       "      <td>0</td>\n",
       "      <td>0</td>\n",
       "      <td>0</td>\n",
       "      <td>0.553241</td>\n",
       "      <td>-0.783714</td>\n",
       "      <td>-1.363911</td>\n",
       "      <td>0.958832</td>\n",
       "      <td>-0.545313</td>\n",
       "      <td>1</td>\n",
       "    </tr>\n",
       "    <tr>\n",
       "      <th>14</th>\n",
       "      <td>1</td>\n",
       "      <td>0</td>\n",
       "      <td>1</td>\n",
       "      <td>0</td>\n",
       "      <td>1</td>\n",
       "      <td>0</td>\n",
       "      <td>0</td>\n",
       "      <td>0</td>\n",
       "      <td>1</td>\n",
       "      <td>0</td>\n",
       "      <td>1</td>\n",
       "      <td>0</td>\n",
       "      <td>0</td>\n",
       "      <td>0</td>\n",
       "      <td>-0.100174</td>\n",
       "      <td>0.917559</td>\n",
       "      <td>-2.220107</td>\n",
       "      <td>-0.729810</td>\n",
       "      <td>0.658897</td>\n",
       "      <td>0</td>\n",
       "    </tr>\n",
       "    <tr>\n",
       "      <th>18</th>\n",
       "      <td>0</td>\n",
       "      <td>0</td>\n",
       "      <td>1</td>\n",
       "      <td>0</td>\n",
       "      <td>1</td>\n",
       "      <td>0</td>\n",
       "      <td>0</td>\n",
       "      <td>0</td>\n",
       "      <td>1</td>\n",
       "      <td>1</td>\n",
       "      <td>0</td>\n",
       "      <td>0</td>\n",
       "      <td>0</td>\n",
       "      <td>0</td>\n",
       "      <td>-0.543503</td>\n",
       "      <td>0.204138</td>\n",
       "      <td>0.563956</td>\n",
       "      <td>-0.048892</td>\n",
       "      <td>0.981354</td>\n",
       "      <td>0</td>\n",
       "    </tr>\n",
       "    <tr>\n",
       "      <th>23</th>\n",
       "      <td>1</td>\n",
       "      <td>0</td>\n",
       "      <td>1</td>\n",
       "      <td>0</td>\n",
       "      <td>0</td>\n",
       "      <td>1</td>\n",
       "      <td>0</td>\n",
       "      <td>0</td>\n",
       "      <td>1</td>\n",
       "      <td>0</td>\n",
       "      <td>1</td>\n",
       "      <td>0</td>\n",
       "      <td>1</td>\n",
       "      <td>0</td>\n",
       "      <td>0.402666</td>\n",
       "      <td>-0.320911</td>\n",
       "      <td>-0.983989</td>\n",
       "      <td>1.126464</td>\n",
       "      <td>-1.488305</td>\n",
       "      <td>1</td>\n",
       "    </tr>\n",
       "  </tbody>\n",
       "</table>\n",
       "</div>"
      ],
      "text/plain": [
       "    is_male  has_atypical angina  has_non-anginal pain  has_typical angina  \\\n",
       "8         1                    0                     0                   0   \n",
       "9         1                    0                     0                   0   \n",
       "14        1                    0                     1                   0   \n",
       "18        0                    0                     1                   0   \n",
       "23        1                    0                     1                   0   \n",
       "\n",
       "    ecg_normal  ecg_probable left ventricular hypertrophy  exang_yes  \\\n",
       "8            0                                          1          0   \n",
       "9            0                                          1          1   \n",
       "14           1                                          0          0   \n",
       "18           1                                          0          0   \n",
       "23           0                                          1          0   \n",
       "\n",
       "    slope_flat  slope_upsloping  thal_normal  thal_reversable defect  ca_1.0  \\\n",
       "8            1                0            0                       1       1   \n",
       "9            0                0            0                       1       0   \n",
       "14           0                1            0                       1       0   \n",
       "18           0                1            1                       0       0   \n",
       "23           0                1            0                       1       0   \n",
       "\n",
       "    ca_2.0  ca_3.0        c1        c2        c3        c4        c5  \\\n",
       "8        0       0  0.622213  0.054979  0.247559 -0.245862 -0.626363   \n",
       "9        0       0  0.553241 -0.783714 -1.363911  0.958832 -0.545313   \n",
       "14       0       0 -0.100174  0.917559 -2.220107 -0.729810  0.658897   \n",
       "18       0       0 -0.543503  0.204138  0.563956 -0.048892  0.981354   \n",
       "23       1       0  0.402666 -0.320911 -0.983989  1.126464 -1.488305   \n",
       "\n",
       "    diagnosis  \n",
       "8           1  \n",
       "9           1  \n",
       "14          0  \n",
       "18          0  \n",
       "23          1  "
      ]
     },
     "execution_count": 91,
     "metadata": {},
     "output_type": "execute_result"
    }
   ],
   "source": [
    "log_df_test.head()"
   ]
  },
  {
   "cell_type": "code",
   "execution_count": 92,
   "metadata": {},
   "outputs": [
    {
     "name": "stdout",
     "output_type": "stream",
     "text": [
      "Optimization terminated successfully.\n",
      "         Current function value: 0.310367\n",
      "         Iterations 8\n",
      "                           Logit Regression Results                           \n",
      "==============================================================================\n",
      "Dep. Variable:                      y   No. Observations:                  238\n",
      "Model:                          Logit   Df Residuals:                      223\n",
      "Method:                           MLE   Df Model:                           14\n",
      "Date:                Tue, 07 May 2019   Pseudo R-squ.:                  0.5522\n",
      "Time:                        20:51:25   Log-Likelihood:                -73.867\n",
      "converged:                       True   LL-Null:                       -164.97\n",
      "                                        LLR p-value:                 2.312e-31\n",
      "=============================================================================================================\n",
      "                                                coef    std err          z      P>|z|      [0.025      0.975]\n",
      "-------------------------------------------------------------------------------------------------------------\n",
      "is_male                                       1.3159      0.560      2.348      0.019       0.218       2.414\n",
      "has_atypical angina                          -0.4453      0.617     -0.722      0.470      -1.654       0.764\n",
      "has_non-anginal pain                         -2.2736      0.601     -3.783      0.000      -3.452      -1.096\n",
      "has_typical angina                           -2.0660      0.753     -2.743      0.006      -3.542      -0.590\n",
      "ecg_normal                                   -2.3955      1.415     -1.693      0.090      -5.169       0.378\n",
      "ecg_probable left ventricular hypertrophy    -1.8922      1.426     -1.327      0.184      -4.686       0.902\n",
      "exang_yes                                     0.8882      0.480      1.852      0.064      -0.052       1.828\n",
      "slope_flat                                    0.8696      1.004      0.866      0.386      -1.098       2.837\n",
      "slope_upsloping                              -0.4534      1.051     -0.432      0.666      -2.513       1.606\n",
      "thal_normal                                  -0.0524      0.923     -0.057      0.955      -1.861       1.756\n",
      "thal_reversable defect                        1.7606      0.895      1.966      0.049       0.006       3.515\n",
      "ca_1.0                                        1.9750      0.574      3.442      0.001       0.851       3.099\n",
      "ca_2.0                                        2.9820      0.867      3.440      0.001       1.283       4.681\n",
      "ca_3.0                                        1.2086      0.884      1.367      0.172      -0.525       2.942\n",
      "c1                                            0.5850      0.221      2.649      0.008       0.152       1.018\n",
      "=============================================================================================================\n",
      "Optimization terminated successfully.\n",
      "         Current function value: 0.309854\n",
      "         Iterations 8\n",
      "                           Logit Regression Results                           \n",
      "==============================================================================\n",
      "Dep. Variable:                      y   No. Observations:                  238\n",
      "Model:                          Logit   Df Residuals:                      222\n",
      "Method:                           MLE   Df Model:                           15\n",
      "Date:                Tue, 07 May 2019   Pseudo R-squ.:                  0.5530\n",
      "Time:                        20:51:25   Log-Likelihood:                -73.745\n",
      "converged:                       True   LL-Null:                       -164.97\n",
      "                                        LLR p-value:                 7.625e-31\n",
      "=============================================================================================================\n",
      "                                                coef    std err          z      P>|z|      [0.025      0.975]\n",
      "-------------------------------------------------------------------------------------------------------------\n",
      "is_male                                       1.3747      0.572      2.401      0.016       0.253       2.497\n",
      "has_atypical angina                          -0.4941      0.627     -0.789      0.430      -1.722       0.734\n",
      "has_non-anginal pain                         -2.3216      0.610     -3.806      0.000      -3.517      -1.126\n",
      "has_typical angina                           -2.1267      0.769     -2.767      0.006      -3.633      -0.620\n",
      "ecg_normal                                   -2.3306      1.417     -1.645      0.100      -5.108       0.447\n",
      "ecg_probable left ventricular hypertrophy    -1.8795      1.422     -1.322      0.186      -4.667       0.908\n",
      "exang_yes                                     0.8882      0.480      1.850      0.064      -0.053       1.829\n",
      "slope_flat                                    0.8282      0.996      0.831      0.406      -1.124       2.781\n",
      "slope_upsloping                              -0.5830      1.072     -0.544      0.586      -2.683       1.517\n",
      "thal_normal                                  -0.0591      0.925     -0.064      0.949      -1.871       1.753\n",
      "thal_reversable defect                        1.7504      0.899      1.947      0.052      -0.012       3.512\n",
      "ca_1.0                                        2.0118      0.580      3.471      0.001       0.876       3.148\n",
      "ca_2.0                                        3.0107      0.872      3.451      0.001       1.301       4.721\n",
      "ca_3.0                                        1.2565      0.894      1.406      0.160      -0.495       3.008\n",
      "c1                                            0.5636      0.224      2.515      0.012       0.124       1.003\n",
      "c2                                            0.1153      0.233      0.494      0.621      -0.342       0.573\n",
      "=============================================================================================================\n",
      "Optimization terminated successfully.\n",
      "         Current function value: 0.309254\n",
      "         Iterations 8\n",
      "                           Logit Regression Results                           \n",
      "==============================================================================\n",
      "Dep. Variable:                      y   No. Observations:                  238\n",
      "Model:                          Logit   Df Residuals:                      221\n",
      "Method:                           MLE   Df Model:                           16\n",
      "Date:                Tue, 07 May 2019   Pseudo R-squ.:                  0.5538\n",
      "Time:                        20:51:25   Log-Likelihood:                -73.602\n",
      "converged:                       True   LL-Null:                       -164.97\n",
      "                                        LLR p-value:                 2.384e-30\n",
      "=============================================================================================================\n",
      "                                                coef    std err          z      P>|z|      [0.025      0.975]\n",
      "-------------------------------------------------------------------------------------------------------------\n",
      "is_male                                       1.3460      0.574      2.343      0.019       0.220       2.472\n",
      "has_atypical angina                          -0.4840      0.626     -0.773      0.439      -1.711       0.743\n",
      "has_non-anginal pain                         -2.3171      0.609     -3.804      0.000      -3.511      -1.123\n",
      "has_typical angina                           -2.2115      0.790     -2.799      0.005      -3.760      -0.663\n",
      "ecg_normal                                   -2.4487      1.452     -1.686      0.092      -5.295       0.398\n",
      "ecg_probable left ventricular hypertrophy    -1.9770      1.452     -1.362      0.173      -4.823       0.869\n",
      "exang_yes                                     0.8873      0.479      1.852      0.064      -0.052       1.826\n",
      "slope_flat                                    0.9183      1.027      0.894      0.371      -1.095       2.931\n",
      "slope_upsloping                              -0.5045      1.096     -0.460      0.645      -2.652       1.643\n",
      "thal_normal                                  -0.0011      0.931     -0.001      0.999      -1.825       1.823\n",
      "thal_reversable defect                        1.8170      0.910      1.996      0.046       0.033       3.601\n",
      "ca_1.0                                        2.0402      0.583      3.498      0.000       0.897       3.183\n",
      "ca_2.0                                        3.0060      0.871      3.452      0.001       1.299       4.713\n",
      "ca_3.0                                        1.2674      0.892      1.421      0.155      -0.481       3.016\n",
      "c1                                            0.5713      0.224      2.546      0.011       0.132       1.011\n",
      "c2                                            0.1089      0.237      0.460      0.646      -0.356       0.573\n",
      "c3                                           -0.1221      0.230     -0.531      0.596      -0.573       0.329\n",
      "=============================================================================================================\n",
      "Optimization terminated successfully.\n",
      "         Current function value: 0.304231\n",
      "         Iterations 8\n",
      "                           Logit Regression Results                           \n",
      "==============================================================================\n",
      "Dep. Variable:                      y   No. Observations:                  238\n",
      "Model:                          Logit   Df Residuals:                      220\n",
      "Method:                           MLE   Df Model:                           17\n",
      "Date:                Tue, 07 May 2019   Pseudo R-squ.:                  0.5611\n",
      "Time:                        20:51:25   Log-Likelihood:                -72.407\n",
      "converged:                       True   LL-Null:                       -164.97\n",
      "                                        LLR p-value:                 2.742e-30\n",
      "=============================================================================================================\n",
      "                                                coef    std err          z      P>|z|      [0.025      0.975]\n",
      "-------------------------------------------------------------------------------------------------------------\n",
      "is_male                                       1.3225      0.579      2.286      0.022       0.189       2.456\n",
      "has_atypical angina                          -0.3739      0.627     -0.597      0.551      -1.602       0.854\n",
      "has_non-anginal pain                         -2.4273      0.619     -3.922      0.000      -3.640      -1.214\n",
      "has_typical angina                           -2.3959      0.815     -2.941      0.003      -3.993      -0.799\n",
      "ecg_normal                                   -2.8170      1.567     -1.798      0.072      -5.888       0.254\n",
      "ecg_probable left ventricular hypertrophy    -2.3606      1.567     -1.507      0.132      -5.431       0.710\n",
      "exang_yes                                     0.8917      0.485      1.839      0.066      -0.059       1.842\n",
      "slope_flat                                    1.2834      1.137      1.129      0.259      -0.945       3.512\n",
      "slope_upsloping                               0.0176      1.222      0.014      0.988      -2.378       2.413\n",
      "thal_normal                                   0.0580      0.949      0.061      0.951      -1.803       1.919\n",
      "thal_reversable defect                        1.8347      0.939      1.954      0.051      -0.005       3.675\n",
      "ca_1.0                                        2.2154      0.598      3.707      0.000       1.044       3.387\n",
      "ca_2.0                                        2.9909      0.897      3.333      0.001       1.232       4.750\n",
      "ca_3.0                                        1.3136      0.895      1.468      0.142      -0.440       3.067\n",
      "c1                                            0.6794      0.241      2.813      0.005       0.206       1.153\n",
      "c2                                            0.0485      0.244      0.199      0.842      -0.430       0.527\n",
      "c3                                           -0.1913      0.233     -0.819      0.413      -0.649       0.266\n",
      "c4                                            0.4025      0.264      1.526      0.127      -0.114       0.919\n",
      "=============================================================================================================\n",
      "Optimization terminated successfully.\n",
      "         Current function value: 0.297095\n",
      "         Iterations 8\n"
     ]
    },
    {
     "name": "stdout",
     "output_type": "stream",
     "text": [
      "                           Logit Regression Results                           \n",
      "==============================================================================\n",
      "Dep. Variable:                      y   No. Observations:                  238\n",
      "Model:                          Logit   Df Residuals:                      219\n",
      "Method:                           MLE   Df Model:                           18\n",
      "Date:                Tue, 07 May 2019   Pseudo R-squ.:                  0.5714\n",
      "Time:                        20:51:25   Log-Likelihood:                -70.709\n",
      "converged:                       True   LL-Null:                       -164.97\n",
      "                                        LLR p-value:                 1.952e-30\n",
      "=============================================================================================================\n",
      "                                                coef    std err          z      P>|z|      [0.025      0.975]\n",
      "-------------------------------------------------------------------------------------------------------------\n",
      "is_male                                       1.5251      0.608      2.509      0.012       0.334       2.717\n",
      "has_atypical angina                          -0.2587      0.640     -0.404      0.686      -1.513       0.996\n",
      "has_non-anginal pain                         -2.2582      0.623     -3.626      0.000      -3.479      -1.037\n",
      "has_typical angina                           -2.2822      0.816     -2.797      0.005      -3.881      -0.683\n",
      "ecg_normal                                   -3.1166      1.622     -1.921      0.055      -6.296       0.062\n",
      "ecg_probable left ventricular hypertrophy    -2.6326      1.614     -1.631      0.103      -5.795       0.530\n",
      "exang_yes                                     0.9183      0.498      1.844      0.065      -0.058       1.895\n",
      "slope_flat                                    1.0100      1.181      0.855      0.392      -1.304       3.324\n",
      "slope_upsloping                              -0.2448      1.262     -0.194      0.846      -2.719       2.229\n",
      "thal_normal                                   0.3980      1.001      0.398      0.691      -1.564       2.360\n",
      "thal_reversable defect                        2.1294      0.992      2.147      0.032       0.186       4.073\n",
      "ca_1.0                                        2.3065      0.610      3.781      0.000       1.111       3.502\n",
      "ca_2.0                                        3.3165      0.903      3.672      0.000       1.546       5.087\n",
      "ca_3.0                                        1.4695      0.918      1.601      0.109      -0.330       3.269\n",
      "c1                                            0.7125      0.246      2.893      0.004       0.230       1.195\n",
      "c2                                            0.0558      0.250      0.224      0.823      -0.433       0.545\n",
      "c3                                           -0.1369      0.238     -0.575      0.565      -0.604       0.330\n",
      "c4                                            0.3576      0.264      1.356      0.175      -0.159       0.875\n",
      "c5                                            0.6475      0.357      1.815      0.070      -0.052       1.347\n",
      "=============================================================================================================\n"
     ]
    }
   ],
   "source": [
    "# Guardar los modelos del logit en un arreglo, dependiendo de componentes utilizados\n",
    "logit_array = []\n",
    "for i in range(5):\n",
    "    logit = LogisticRegression(solver = \"liblinear\", random_state = 155766)\n",
    "    logit.fit(log_df_train.iloc[:, :(-5+i)], log_df_train[\"diagnosis\"])\n",
    "    \n",
    "    # Info de proba usando el logit de statsmodels\n",
    "    logit_m = sm.Logit(train_diagnosis, log_df_train.iloc[:, :(-5+i)], solver = \"liblinear\")\n",
    "    logit_m = logit_m.fit()\n",
    "    print(logit_m.summary())\n",
    "    \n",
    "    logit_array.append(logit)"
   ]
  },
  {
   "cell_type": "code",
   "execution_count": 93,
   "metadata": {
    "scrolled": true
   },
   "outputs": [
    {
     "name": "stdout",
     "output_type": "stream",
     "text": [
      "Logit con 1 componentes\n",
      "Info de train\n",
      "Score: \n",
      "0.8445378151260504\n",
      "Matriz de Confusion\n",
      "\\begin{blockarray}{ccc}\n",
      " & 0 & 1\\\\\n",
      "\\begin{block}{c(cc)}\n",
      "0 & 101 & 19 \\\\ \n",
      "1 & 18 & 100 \\\\ \n",
      "\\end{block}\n",
      "\\end{blockarray}\n",
      "Info de test\n",
      "Score: \n",
      "0.864406779661017\n",
      "\\begin{blockarray}{ccc}\n",
      " & 0 & 1\\\\\n",
      "\\begin{block}{c(cc)}\n",
      "0 & 38 & 5 \\\\ \n",
      "1 & 3 & 13 \\\\ \n",
      "\\end{block}\n",
      "\\end{blockarray}\n",
      "\n",
      "\n",
      "Logit con 2 componentes\n",
      "Info de train\n",
      "Score: \n",
      "0.8445378151260504\n",
      "Matriz de Confusion\n",
      "\\begin{blockarray}{ccc}\n",
      " & 0 & 1\\\\\n",
      "\\begin{block}{c(cc)}\n",
      "0 & 101 & 19 \\\\ \n",
      "1 & 18 & 100 \\\\ \n",
      "\\end{block}\n",
      "\\end{blockarray}\n",
      "Info de test\n",
      "Score: \n",
      "0.847457627118644\n",
      "\\begin{blockarray}{ccc}\n",
      " & 0 & 1\\\\\n",
      "\\begin{block}{c(cc)}\n",
      "0 & 37 & 5 \\\\ \n",
      "1 & 4 & 13 \\\\ \n",
      "\\end{block}\n",
      "\\end{blockarray}\n",
      "\n",
      "\n",
      "Logit con 3 componentes\n",
      "Info de train\n",
      "Score: \n",
      "0.8487394957983193\n",
      "Matriz de Confusion\n",
      "\\begin{blockarray}{ccc}\n",
      " & 0 & 1\\\\\n",
      "\\begin{block}{c(cc)}\n",
      "0 & 102 & 19 \\\\ \n",
      "1 & 17 & 100 \\\\ \n",
      "\\end{block}\n",
      "\\end{blockarray}\n",
      "Info de test\n",
      "Score: \n",
      "0.864406779661017\n",
      "\\begin{blockarray}{ccc}\n",
      " & 0 & 1\\\\\n",
      "\\begin{block}{c(cc)}\n",
      "0 & 38 & 5 \\\\ \n",
      "1 & 3 & 13 \\\\ \n",
      "\\end{block}\n",
      "\\end{blockarray}\n",
      "\n",
      "\n",
      "Logit con 4 componentes\n",
      "Info de train\n",
      "Score: \n",
      "0.8571428571428571\n",
      "Matriz de Confusion\n",
      "\\begin{blockarray}{ccc}\n",
      " & 0 & 1\\\\\n",
      "\\begin{block}{c(cc)}\n",
      "0 & 104 & 19 \\\\ \n",
      "1 & 15 & 100 \\\\ \n",
      "\\end{block}\n",
      "\\end{blockarray}\n",
      "Info de test\n",
      "Score: \n",
      "0.847457627118644\n",
      "\\begin{blockarray}{ccc}\n",
      " & 0 & 1\\\\\n",
      "\\begin{block}{c(cc)}\n",
      "0 & 37 & 5 \\\\ \n",
      "1 & 4 & 13 \\\\ \n",
      "\\end{block}\n",
      "\\end{blockarray}\n",
      "\n",
      "\n",
      "Logit con 5 componentes\n",
      "Info de train\n",
      "Score: \n",
      "0.8697478991596639\n",
      "Matriz de Confusion\n",
      "\\begin{blockarray}{ccc}\n",
      " & 0 & 1\\\\\n",
      "\\begin{block}{c(cc)}\n",
      "0 & 107 & 19 \\\\ \n",
      "1 & 12 & 100 \\\\ \n",
      "\\end{block}\n",
      "\\end{blockarray}\n",
      "Info de test\n",
      "Score: \n",
      "0.864406779661017\n",
      "\\begin{blockarray}{ccc}\n",
      " & 0 & 1\\\\\n",
      "\\begin{block}{c(cc)}\n",
      "0 & 38 & 5 \\\\ \n",
      "1 & 3 & 13 \\\\ \n",
      "\\end{block}\n",
      "\\end{blockarray}\n",
      "\n",
      "\n"
     ]
    }
   ],
   "source": [
    "# Informacion de todos los logit\n",
    "for l in range(5):\n",
    "    print(\"Logit con \"+ str(l+1) + \" componentes\")\n",
    "    \n",
    "    print(\"Info de train\")\n",
    "    print(\"Score: \")\n",
    "    print(logit_array[l].score(log_df_train.iloc[:, :(-5+l)], train_diagnosis))\n",
    "\n",
    "    # Matriz de confusion de train (prediccion en renglones, diagnosis en cols)\n",
    "    M = np.zeros((2,2), dtype=int)\n",
    "    pred = logit_array[l].predict(log_df_train.iloc[:, :(-5+l)])\n",
    "    for i, j in zip(pred, train_diagnosis):\n",
    "        M[i, j] += 1\n",
    "    print(\"Matriz de Confusion\")\n",
    "    print(ls.indexedMatrix(M, [0, 1], [0, 1]))\n",
    "    \n",
    "    print(\"Info de test\")\n",
    "    # Aciertos sobre errores de test\n",
    "    print(\"Score: \")\n",
    "    print(logit_array[l].score(log_df_test.iloc[:, :(-5+l)], test_diagnosis))\n",
    "\n",
    "    # Matriz de confusion de test\n",
    "    M = np.zeros((2,2), dtype=int)\n",
    "    pred = logit_array[l].predict(log_df_test.iloc[:, :(-5+l)])\n",
    "    for i, j in zip(pred, test_diagnosis):\n",
    "        M[i, j] += 1\n",
    "    print(ls.indexedMatrix(M, [0, 1], [0, 1]))\n",
    "    print(\"\\n\")"
   ]
  }
 ],
 "metadata": {
  "kernelspec": {
   "display_name": "Python 3",
   "language": "python",
   "name": "python3"
  },
  "language_info": {
   "codemirror_mode": {
    "name": "ipython",
    "version": 3
   },
   "file_extension": ".py",
   "mimetype": "text/x-python",
   "name": "python",
   "nbconvert_exporter": "python",
   "pygments_lexer": "ipython3",
   "version": "3.7.1"
  }
 },
 "nbformat": 4,
 "nbformat_minor": 2
}
