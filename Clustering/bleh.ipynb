{
 "cells": [
  {
   "cell_type": "code",
   "execution_count": 1,
   "metadata": {},
   "outputs": [],
   "source": [
    "import numpy as np\n",
    "import scipy as sp\n",
    "import pandas as pd\n",
    "import matplotlib.pyplot as plt\n",
    "import seaborn as sns\n",
    "import latexStrings as ls\n",
    "from sklearn.decomposition import PCA\n",
    "from sklearn.cluster import KMeans"
   ]
  },
  {
   "cell_type": "markdown",
   "metadata": {},
   "source": [
    "Funciones Auxiliares"
   ]
  },
  {
   "cell_type": "code",
   "execution_count": 50,
   "metadata": {},
   "outputs": [],
   "source": [
    "df = pd.read_csv(\"Data/wine.csv\")"
   ]
  },
  {
   "cell_type": "markdown",
   "metadata": {},
   "source": [
    "## Analisis exploratorio inicial (medias, varianzas, correlaciones)"
   ]
  },
  {
   "cell_type": "markdown",
   "metadata": {},
   "source": [
    "Analisis exploratorio"
   ]
  },
  {
   "cell_type": "code",
   "execution_count": 3,
   "metadata": {},
   "outputs": [],
   "source": [
    "# Hacer graficas"
   ]
  },
  {
   "cell_type": "markdown",
   "metadata": {},
   "source": [
    "Estandarizamos los datos"
   ]
  },
  {
   "cell_type": "code",
   "execution_count": 51,
   "metadata": {},
   "outputs": [],
   "source": [
    "for col in df.columns[1:]:\n",
    "    mu = np.mean(df[col])\n",
    "    sigma = np.std(df[col])\n",
    "    df[col] = df[col].apply(lambda x: (x-mu)/sigma)"
   ]
  },
  {
   "cell_type": "markdown",
   "metadata": {},
   "source": [
    "Tomamos una muestra de aproximadamente el 80% para hacer nuestro PCA. El resto se utilizara para probar la prediccion del modelo generado."
   ]
  },
  {
   "cell_type": "code",
   "execution_count": 25,
   "metadata": {},
   "outputs": [
    {
     "data": {
      "text/plain": [
       "149"
      ]
     },
     "execution_count": 25,
     "metadata": {},
     "output_type": "execute_result"
    }
   ],
   "source": [
    "#pon tu cu si quieres, o quita la semilla\n",
    "np.random.seed(155766)\n",
    "mask = np.random.uniform(0, 1, len(df)) < 0.8\n",
    "train = df[mask]\n",
    "test = df[~mask]\n",
    "len(train)"
   ]
  },
  {
   "cell_type": "markdown",
   "metadata": {},
   "source": [
    "Hacemos un PCA hasta 90% de la varianza con los datos de entrenamiento estandarizados"
   ]
  },
  {
   "cell_type": "code",
   "execution_count": 26,
   "metadata": {},
   "outputs": [
    {
     "data": {
      "text/plain": [
       "0.9215145208064034"
      ]
     },
     "execution_count": 26,
     "metadata": {},
     "output_type": "execute_result"
    }
   ],
   "source": [
    "# Analisis en componentes principales\n",
    "pca = PCA(0.90)\n",
    "X_train = pca.fit_transform(train.iloc[:, 1:].values)\n",
    "#-1 para que sean 0, 1, 2\n",
    "train_labels = train.iloc[:,0].values-1\n",
    "Var_C = pca.explained_variance_ratio_\n",
    "C = pca.components_\n",
    "sum(Var_C)"
   ]
  },
  {
   "cell_type": "code",
   "execution_count": 27,
   "metadata": {
    "scrolled": true
   },
   "outputs": [
    {
     "data": {
      "image/png": "[encoded data removed]",
      "text/plain": [
       "<Figure size 432x288 with 2 Axes>"
      ]
     },
     "metadata": {
      "needs_background": "light"
     },
     "output_type": "display_data"
    }
   ],
   "source": [
    "# Grafica departicipacion de variables en componentes\n",
    "plt.title(\"Participación de Variables en Componentes\")\n",
    "cmap = sns.diverging_palette(10, 240, as_cmap=True)\n",
    "sns.heatmap(C, cmap=cmap, vmin=-1, vmax=1,\n",
    "            linewidths=.5, cbar_kws={\"shrink\": .6},\n",
    "            xticklabels=2, yticklabels=2,\n",
    "            square=True)\n",
    "plt.xlabel(\"Variables\")\n",
    "plt.ylabel(\"Componentes\")\n",
    "plt.show()"
   ]
  },
  {
   "cell_type": "code",
   "execution_count": 28,
   "metadata": {
    "scrolled": false
   },
   "outputs": [
    {
     "data": {
      "image/png": "[encoded data removed]",
      "text/plain": [
       "<Figure size 432x288 with 1 Axes>"
      ]
     },
     "metadata": {
      "needs_background": "light"
     },
     "output_type": "display_data"
    }
   ],
   "source": [
    "# Grafica de varianza acumulada\n",
    "plt.title(\"Varianza por Componente\")\n",
    "plt.xlabel(\"Componente\")\n",
    "plt.ylabel(\"Varianza\")\n",
    "plt.ylim([0, 0.5])\n",
    "plt.plot(range(len(Var_C)), Var_C, \"-o\")\n",
    "plt.vlines(range(len(Var_C)), 0, Var_C, \"tab:orange\")\n",
    "plt.show()"
   ]
  },
  {
   "cell_type": "markdown",
   "metadata": {},
   "source": [
    "Grafica de Regiones a 2 componentes"
   ]
  },
  {
   "cell_type": "code",
   "execution_count": null,
   "metadata": {},
   "outputs": [],
   "source": []
  },
  {
   "cell_type": "markdown",
   "metadata": {},
   "source": [
    "Trasmformacion aplicada a datos de Test"
   ]
  },
  {
   "cell_type": "code",
   "execution_count": 29,
   "metadata": {
    "scrolled": true
   },
   "outputs": [],
   "source": [
    "X_test = pca.transform(test.iloc[:,1:].values)\n",
    "test_labels = test.iloc[:,0].values-1"
   ]
  },
  {
   "cell_type": "markdown",
   "metadata": {},
   "source": [
    "Grafica de regiones a 2 componentes de datos en test"
   ]
  },
  {
   "cell_type": "code",
   "execution_count": null,
   "metadata": {},
   "outputs": [],
   "source": []
  },
  {
   "cell_type": "markdown",
   "metadata": {},
   "source": [
    "## Clustering por K-Means a 3 clusters"
   ]
  },
  {
   "cell_type": "code",
   "execution_count": 45,
   "metadata": {},
   "outputs": [],
   "source": [
    "# 3 grupos, centros iniciales aleatorios, tomando el mejor de 10 corridas con semilla 155766 (sklearn tiene un \n",
    "# modo que se llama k-means++ que se supone converge mas rapido)\n",
    "kmeans = KMeans(3, 'random', 10, random_state=155766).fit(X_train)\n",
    "#kmeans = KMeans(3, 'random', 10).fit(X_train)\n"
   ]
  },
  {
   "cell_type": "markdown",
   "metadata": {},
   "source": [
    "Grafica de regiones a 2 componentes con nueva claisficacion"
   ]
  },
  {
   "cell_type": "code",
   "execution_count": null,
   "metadata": {},
   "outputs": [],
   "source": []
  },
  {
   "cell_type": "markdown",
   "metadata": {},
   "source": [
    "Matriz de \"matches\" entre grupos (i.e. cada renglon representa una region nueva, y cada columna una region vieja. La entrada i,j significa el numero de observaciones en la nueva region i que originalmente eran de la region j)"
   ]
  },
  {
   "cell_type": "code",
   "execution_count": 46,
   "metadata": {
    "scrolled": true
   },
   "outputs": [
    {
     "data": {
      "text/plain": [
       "array([[ 0., 51.,  0.],\n",
       "       [50.,  3.,  0.],\n",
       "       [ 0.,  5., 40.]])"
      ]
     },
     "execution_count": 46,
     "metadata": {},
     "output_type": "execute_result"
    }
   ],
   "source": [
    "M = np.zeros((3,3))\n",
    "\n",
    "for i,j in zip(kmeans.labels_,train_labels):\n",
    "    M[i, j] += 1\n",
    "M"
   ]
  },
  {
   "cell_type": "code",
   "execution_count": 47,
   "metadata": {
    "scrolled": false
   },
   "outputs": [
    {
     "name": "stdout",
     "output_type": "stream",
     "text": [
      "\\begin{pmatrix} \n",
      "50 & 3 & 0 \\\\ \n",
      "0 & 51 & 0 \\\\ \n",
      "0 & 5 & 40 \\\\ \n",
      "\\end{pmatrix}\n"
     ]
    }
   ],
   "source": [
    "# Reordenando para que quede diagonal\n",
    "print(ls.latexMatrix(M[[1,0,2], :], \"\",eq=False))"
   ]
  },
  {
   "cell_type": "markdown",
   "metadata": {},
   "source": [
    "Prediccion de Datos en Test (Diagonal = correcto)"
   ]
  },
  {
   "cell_type": "code",
   "execution_count": 48,
   "metadata": {},
   "outputs": [
    {
     "name": "stdout",
     "output_type": "stream",
     "text": [
      "\\begin{pmatrix} \n",
      "9 & 0 & 0 \\\\ \n",
      "0 & 11 & 0 \\\\ \n",
      "0 & 1 & 8 \\\\ \n",
      "\\end{pmatrix}\n"
     ]
    }
   ],
   "source": [
    "kmeans_test_labels = kmeans.predict(X_test)\n",
    "M = np.zeros((3,3))\n",
    "\n",
    "for i,j in zip(kmeans_test_labels,test_labels):\n",
    "    M[i, j] += 1\n",
    "print(ls.latexMatrix(M[[1,0,2], :], \"\",eq=False))"
   ]
  },
  {
   "cell_type": "markdown",
   "metadata": {},
   "source": [
    "## Clustering Jerarquico utilizando la regla de minima distancia maxima"
   ]
  },
  {
   "cell_type": "code",
   "execution_count": 49,
   "metadata": {
    "scrolled": true
   },
   "outputs": [
    {
     "data": {
      "image/png": "[encoded data removed]",
      "text/plain": [
       "<Figure size 432x288 with 1 Axes>"
      ]
     },
     "metadata": {
      "needs_background": "light"
     },
     "output_type": "display_data"
    }
   ],
   "source": [
    "# Z es una estructura de como se van juntando las cosas a cada etapa del proceso\n",
    "Z = sp.cluster.hierarchy.complete(X_train)\n",
    "# Los numeros en parentesis son el numero de nodos chiquitos que se comio esa linea\n",
    "sp.cluster.hierarchy.dendrogram(Z, 25, \"lastp\")\n",
    "plt.show()"
   ]
  },
  {
   "cell_type": "markdown",
   "metadata": {},
   "source": [
    "Grafica de regiones a 2 componentes con nueva claisficacion"
   ]
  },
  {
   "cell_type": "code",
   "execution_count": 35,
   "metadata": {},
   "outputs": [],
   "source": [
    "complete_labels = sp.cluster.hierarchy.cut_tree(Z, 3).flatten()\n"
   ]
  },
  {
   "cell_type": "markdown",
   "metadata": {},
   "source": [
    "Matriz de \"matches\" entre grupos"
   ]
  },
  {
   "cell_type": "code",
   "execution_count": 36,
   "metadata": {
    "scrolled": true
   },
   "outputs": [
    {
     "data": {
      "text/plain": [
       "array([[48., 48.,  0.],\n",
       "       [ 2.,  2., 37.],\n",
       "       [ 0.,  9.,  3.]])"
      ]
     },
     "execution_count": 36,
     "metadata": {},
     "output_type": "execute_result"
    }
   ],
   "source": [
    "M = np.zeros((3,3))\n",
    "\n",
    "for i,j in zip(complete_labels,train_labels):\n",
    "    M[i, j] += 1\n",
    "M"
   ]
  },
  {
   "cell_type": "code",
   "execution_count": 37,
   "metadata": {},
   "outputs": [
    {
     "name": "stdout",
     "output_type": "stream",
     "text": [
      "\\begin{pmatrix} \n",
      "48 & 48 & 0 \\\\ \n",
      "0 & 9 & 3 \\\\ \n",
      "2 & 2 & 37 \\\\ \n",
      "\\end{pmatrix}\n"
     ]
    }
   ],
   "source": [
    "print(ls.latexMatrix(M[[0,2,1], :], \"\",eq=False))"
   ]
  },
  {
   "cell_type": "markdown",
   "metadata": {},
   "source": [
    "Prediccion"
   ]
  },
  {
   "cell_type": "code",
   "execution_count": 38,
   "metadata": {},
   "outputs": [
    {
     "name": "stdout",
     "output_type": "stream",
     "text": [
      "\\begin{pmatrix} \n",
      "5 & 1 & 0 \\\\ \n",
      "1 & 10 & 5 \\\\ \n",
      "3 & 1 & 3 \\\\ \n",
      "\\end{pmatrix}\n"
     ]
    }
   ],
   "source": [
    "complete_test_labels = np.array([np.argmin(\n",
    "                                [max(\n",
    "                                        np.linalg.norm(x-y) for y in X_train[complete_labels == i]\n",
    "                                    ) for i in range(3)]\n",
    "                                ) \n",
    "                                for x in X_test])\n",
    "M = np.zeros((3,3))\n",
    "\n",
    "for i,j in zip(complete_test_labels, test_labels):\n",
    "    M[i, j] += 1\n",
    "print(ls.latexMatrix(M[[0,2,1], :], \"\",eq=False))"
   ]
  },
  {
   "cell_type": "markdown",
   "metadata": {},
   "source": [
    "## Clustering Jerarquico utilizando la regla de Ward (min distancia cuadrada entre clusters)"
   ]
  },
  {
   "cell_type": "markdown",
   "metadata": {},
   "source": [
    "https://www.stat.cmu.edu/~cshalizi/350/lectures/08/lecture-08.pdf"
   ]
  },
  {
   "cell_type": "code",
   "execution_count": 39,
   "metadata": {
    "scrolled": true
   },
   "outputs": [
    {
     "data": {
      "image/png": "[encoded data removed]",
      "text/plain": [
       "<Figure size 432x288 with 1 Axes>"
      ]
     },
     "metadata": {
      "needs_background": "light"
     },
     "output_type": "display_data"
    }
   ],
   "source": [
    "# Z es una estructura de como se van juntando las cosas a cada etapa del proceso\n",
    "Z = sp.cluster.hierarchy.ward(X_train)\n",
    "# Los numeros en parentesis son el numero de nodos chiquitos que se comio esa linea\n",
    "sp.cluster.hierarchy.dendrogram(Z, 25, \"lastp\")\n",
    "plt.show()"
   ]
  },
  {
   "cell_type": "markdown",
   "metadata": {},
   "source": [
    "Grafica de regiones a 2 componentes con nueva claisficacion"
   ]
  },
  {
   "cell_type": "code",
   "execution_count": 40,
   "metadata": {},
   "outputs": [],
   "source": [
    "ward_labels = sp.cluster.hierarchy.cut_tree(Z, 3).flatten()"
   ]
  },
  {
   "cell_type": "markdown",
   "metadata": {},
   "source": [
    "Matriz de \"matches\" entre grupos"
   ]
  },
  {
   "cell_type": "code",
   "execution_count": 41,
   "metadata": {
    "scrolled": true
   },
   "outputs": [
    {
     "data": {
      "text/plain": [
       "array([[50.,  7.,  0.],\n",
       "       [ 0., 44.,  0.],\n",
       "       [ 0.,  8., 40.]])"
      ]
     },
     "execution_count": 41,
     "metadata": {},
     "output_type": "execute_result"
    }
   ],
   "source": [
    "M = np.zeros((3,3))\n",
    "\n",
    "for i,j in zip(ward_labels,train_labels):\n",
    "    M[i, j] += 1\n",
    "M"
   ]
  },
  {
   "cell_type": "code",
   "execution_count": 42,
   "metadata": {},
   "outputs": [
    {
     "name": "stdout",
     "output_type": "stream",
     "text": [
      "\\begin{pmatrix} \n",
      "50 & 7 & 0 \\\\ \n",
      "0 & 44 & 0 \\\\ \n",
      "0 & 8 & 40 \\\\ \n",
      "\\end{pmatrix}\n"
     ]
    }
   ],
   "source": [
    "print(ls.latexMatrix(M, \"\",eq=False))"
   ]
  },
  {
   "cell_type": "markdown",
   "metadata": {},
   "source": [
    "Prediccion"
   ]
  },
  {
   "cell_type": "code",
   "execution_count": 43,
   "metadata": {},
   "outputs": [],
   "source": [
    "def ward_test(X, y):\n",
    "    # Hay q minimizar la varianza que se genera cuando se agrega y a algun cluster\n",
    "    X_center = sum(X)/len(X)\n",
    "    diff = (len(X)/(len(X) + 1)) * (np.linalg.norm(X_center - y))\n",
    "    return diff"
   ]
  },
  {
   "cell_type": "code",
   "execution_count": 44,
   "metadata": {
    "scrolled": true
   },
   "outputs": [
    {
     "name": "stdout",
     "output_type": "stream",
     "text": [
      "\\begin{pmatrix} \n",
      "9 & 0 & 0 \\\\ \n",
      "0 & 11 & 0 \\\\ \n",
      "0 & 1 & 8 \\\\ \n",
      "\\end{pmatrix}\n"
     ]
    }
   ],
   "source": [
    "ward_test_labels = np.array([np.argmin([ward_test(X_train[ward_labels == i], x)\n",
    "                                for i in range(3)])\n",
    "                            for x in X_test])\n",
    "M = np.zeros((3,3))\n",
    "\n",
    "for i,j in zip(ward_test_labels, test_labels):\n",
    "    M[i, j] += 1\n",
    "print(ls.latexMatrix(M, \"\",eq=False))"
   ]
  }
 ],
 "metadata": {
  "kernelspec": {
   "display_name": "Python 3",
   "language": "python",
   "name": "python3"
  },
  "language_info": {
   "codemirror_mode": {
    "name": "ipython",
    "version": 3
   },
   "file_extension": ".py",
   "mimetype": "text/x-python",
   "name": "python",
   "nbconvert_exporter": "python",
   "pygments_lexer": "ipython3",
   "version": "3.7.1"
  }
 },
 "nbformat": 4,
 "nbformat_minor": 2
}
